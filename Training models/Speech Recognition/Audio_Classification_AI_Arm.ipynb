{
  "cells": [
    {
      "cell_type": "markdown",
      "metadata": {
        "id": "qi3AUm1pldIj"
      },
      "source": [
        "# Audio Classification AI-ARM"
      ]
    },
    {
      "cell_type": "code",
      "execution_count": null,
      "metadata": {
        "id": "NclSJSl6mP6j"
      },
      "outputs": [],
      "source": [
        "!pip install tensorflow-io"
      ]
    },
    {
      "cell_type": "markdown",
      "metadata": {
        "id": "Gbd4ejyWl9sh"
      },
      "source": [
        "## Import libraries"
      ]
    },
    {
      "cell_type": "code",
      "execution_count": null,
      "metadata": {
        "id": "uw1kQsEUmAST"
      },
      "outputs": [],
      "source": [
        "import numpy as np\n",
        "import matplotlib.pyplot as plt\n",
        "import tensorflow as tf\n",
        "import tensorflow_io as tfio\n",
        "import os"
      ]
    },
    {
      "cell_type": "code",
      "execution_count": null,
      "metadata": {
        "id": "obWqwhX5mzI8"
      },
      "outputs": [],
      "source": [
        "\n",
        "## Get helper functions\n",
        "!wget https://raw.githubusercontent.com/mrdbourke/tensorflow-deep-learning/main/extras/helper_functions.py\n",
        "from helper_functions import unzip_data, calculate_results,walk_through_dir"
      ]
    },
    {
      "cell_type": "markdown",
      "metadata": {
        "id": "kzGas9hnmHXt"
      },
      "source": [
        "## Download dataset"
      ]
    },
    {
      "cell_type": "code",
      "execution_count": null,
      "metadata": {
        "id": "2BP5GNGkmeRq"
      },
      "outputs": [],
      "source": [
        "# Setup enviroment variables for kaggle\n",
        "from google.colab import drive\n",
        "drive.mount('/content/drive')"
      ]
    },
    {
      "cell_type": "code",
      "execution_count": null,
      "metadata": {
        "id": "26bk52vImjSP"
      },
      "outputs": [],
      "source": [
        "# Download dataset\n"
      ]
    },
    {
      "cell_type": "code",
      "execution_count": null,
      "metadata": {
        "id": "thrQXrBYmoF2"
      },
      "outputs": [],
      "source": [
        "# Unzip data\n",
        "#unzip_data(\"/content/drive/MyDrive/audio.rar\")"
      ]
    },
    {
      "cell_type": "code",
      "execution_count": null,
      "metadata": {
        "id": "6hcgAiIj8TAU"
      },
      "outputs": [],
      "source": [
        "#!pip install unrar\n",
        "!unrar x \"/content/drive/MyDrive/audio.rar\""
      ]
    },
    {
      "cell_type": "code",
      "execution_count": null,
      "metadata": {
        "id": "VN58aEC3bzfF"
      },
      "outputs": [],
      "source": [
        "walk_through_dir(\"audio\")"
      ]
    },
    {
      "cell_type": "code",
      "execution_count": null,
      "metadata": {
        "id": "ngaiyKusb53c"
      },
      "outputs": [],
      "source": [
        "import shutil\n",
        "for folders in os.listdir('audio'):\n",
        "  for fol in os.listdir(f\"audio/{folders}\"):\n",
        "    for file in os.listdir(f\"audio/{folders}/{fol}\"):\n",
        "      shutil.move(f\"audio/{folders}/{fol}/{file}\", f\"audio/{folders}/{file}\")\n"
      ]
    },
    {
      "cell_type": "markdown",
      "metadata": {
        "id": "5M4LS2w1m5cO"
      },
      "source": [
        "## Create Tensorflow Dataset"
      ]
    },
    {
      "cell_type": "code",
      "execution_count": null,
      "metadata": {
        "id": "x4W7IlNmnAmh"
      },
      "outputs": [],
      "source": [
        "train_ds, val_ds = tf.keras.utils.audio_dataset_from_directory(\n",
        "    directory=\"audio\",\n",
        "    batch_size=32,\n",
        "    validation_split=0.2,\n",
        "    seed=0,\n",
        "    sampling_rate=48000,\n",
        "    output_sequence_length=None,\n",
        "    subset='both')"
      ]
    },
    {
      "cell_type": "code",
      "execution_count": null,
      "metadata": {
        "id": "o9aEVd0An0N8"
      },
      "outputs": [],
      "source": [
        "label_names = np.array(train_ds.class_names)"
      ]
    },
    {
      "cell_type": "code",
      "execution_count": null,
      "metadata": {
        "id": "kx5HsPaFqQaJ"
      },
      "outputs": [],
      "source": [
        "def squeeze(audio, labels):\n",
        "  audio = tf.squeeze(audio, axis=-1)\n",
        "  #audio=audio[16000:]\n",
        "  return audio, labels\n",
        "\n",
        "train_ds = train_ds.map(squeeze, tf.data.AUTOTUNE)\n",
        "val_ds = val_ds.map(squeeze, tf.data.AUTOTUNE)"
      ]
    },
    {
      "cell_type": "code",
      "execution_count": null,
      "metadata": {
        "id": "74iggymbqSE1"
      },
      "outputs": [],
      "source": []
    },
    {
      "cell_type": "code",
      "execution_count": null,
      "metadata": {
        "id": "zwXcVb3FrQOk"
      },
      "outputs": [],
      "source": [
        "def get_spectograms(wav,label):\n",
        "    #print(wav.shape)\n",
        "    #wav = wav[16000:]\n",
        "    #zero_padding = tf.zeros([16000] - tf.shape(wav), dtype=tf.float32)\n",
        "    #wav = tf.concat([zero_padding, wav],0)\n",
        "    spectrogram = tf.signal.stft(wav, frame_length=320, frame_step=32)\n",
        "    spectrogram = tf.abs(spectrogram)\n",
        "    spectrogram = tf.expand_dims(spectrogram, axis=-1)\n",
        "    #spectrogram = spectrogram[..., tf.newaxis]\n",
        "\n",
        "    #print(\"shape\")\n",
        "    #print(spectrogram.shape)\n",
        "    return spectrogram,label"
      ]
    },
    {
      "cell_type": "code",
      "execution_count": null,
      "metadata": {
        "id": "-qU_tQ6Drzvu"
      },
      "outputs": [],
      "source": [
        "train = train_ds.map(map_func=get_spectograms,num_parallel_calls=tf.data.AUTOTUNE)\n",
        "val = val_ds.map(map_func=get_spectograms,num_parallel_calls=tf.data.AUTOTUNE)"
      ]
    },
    {
      "cell_type": "code",
      "execution_count": null,
      "metadata": {
        "id": "zv_Mu6RHs8oA"
      },
      "outputs": [],
      "source": [
        "for sample,label in train.take(1):\n",
        "    print(sample.shape)\n",
        "    print(label.shape)"
      ]
    },
    {
      "cell_type": "markdown",
      "metadata": {
        "id": "6uDzfh_2uBYP"
      },
      "source": [
        "## Preprocess dataset"
      ]
    },
    {
      "cell_type": "code",
      "execution_count": null,
      "metadata": {
        "id": "4etLWjsw8R9o"
      },
      "outputs": [],
      "source": [
        "#lengths = []\n",
        "#for folders in os.listdir('audio'):\n",
        "#  for fol in os.listdir(f\"audio/{folders}\"):\n",
        "#    for file in os.listdir(f\"audio/{folders}/{fol}\"):\n",
        "#      tensor_wave = load_wav_16k_mono(f\"audio/{folders}/{fol}/{file}\")\n",
        "#      lengths.append(len(tensor_wave))"
      ]
    },
    {
      "cell_type": "code",
      "execution_count": null,
      "metadata": {
        "id": "OD0nIPJE8TdO"
      },
      "outputs": [],
      "source": [
        "#tf.math.reduce_mean(lengths)"
      ]
    },
    {
      "cell_type": "code",
      "execution_count": null,
      "metadata": {
        "id": "sqONIS5d8r7C"
      },
      "outputs": [],
      "source": [
        "#tf.math.reduce_min(lengths)"
      ]
    },
    {
      "cell_type": "code",
      "execution_count": null,
      "metadata": {
        "id": "8XGaLpZ78sw2"
      },
      "outputs": [],
      "source": [
        "#tf.math.reduce_max(lengths)"
      ]
    },
    {
      "cell_type": "markdown",
      "metadata": {
        "id": "3v-sUDZF8t5t"
      },
      "source": [
        "### Building preprocessing Function"
      ]
    },
    {
      "cell_type": "markdown",
      "metadata": {
        "id": "cBjJw6r79Evl"
      },
      "source": [
        "### Test Out the Function and Viz the Spectrogram\n"
      ]
    },
    {
      "cell_type": "markdown",
      "metadata": {
        "id": "sW8l1Pfj9JTu"
      },
      "source": []
    },
    {
      "cell_type": "markdown",
      "metadata": {
        "id": "FSN2C7NE9955"
      },
      "source": [
        "## Build Deep Learning Model"
      ]
    },
    {
      "cell_type": "code",
      "execution_count": null,
      "metadata": {
        "id": "lkSvrte0-GOD"
      },
      "outputs": [],
      "source": [
        "from tensorflow.keras.models import Sequential\n",
        "from tensorflow.keras.layers import Conv2D, Dense, Flatten\n",
        "from tensorflow.keras import layers"
      ]
    },
    {
      "cell_type": "code",
      "execution_count": null,
      "metadata": {
        "id": "kYr5rF2j-H0I"
      },
      "outputs": [],
      "source": [
        "norm_layer = layers.Normalization()\n",
        "# Fit the state of the layer to the spectrograms\n",
        "# with `Normalization.adapt`.\n",
        "num_labels = len(label_names)\n",
        "\n",
        "norm_layer.adapt(data=train.map(map_func=lambda spec, label: spec))\n",
        "\n",
        "model = Sequential([\n",
        "    layers.Input(shape=(4264,257,1)),\n",
        "    # Downsample the input.\n",
        "    layers.Resizing(64, 64),\n",
        "    # Normalize.\n",
        "    norm_layer,\n",
        "    layers.Conv2D(32, 3, activation='relu'),\n",
        "    layers.Conv2D(64, 3, activation='relu'),\n",
        "    layers.Conv2D(64, 3, activation='relu'),\n",
        "\n",
        "    layers.MaxPooling2D(),\n",
        "    layers.Dropout(0.25),\n",
        "    layers.Flatten(),\n",
        "    layers.Dense(128, activation='relu'),\n",
        "    layers.Dense(64, activation='relu'),\n",
        "\n",
        "    layers.Dropout(0.5),\n",
        "    layers.Dense(num_labels),\n",
        "])"
      ]
    },
    {
      "cell_type": "code",
      "execution_count": null,
      "metadata": {
        "id": "e81gP1OI-JLe"
      },
      "outputs": [],
      "source": [
        "model.compile(\n",
        "    optimizer=tf.keras.optimizers.Adam(),\n",
        "    loss=tf.keras.losses.SparseCategoricalCrossentropy(from_logits=True),\n",
        "    metrics=['accuracy'],\n",
        ")"
      ]
    },
    {
      "cell_type": "code",
      "execution_count": null,
      "metadata": {
        "id": "sVd-cpk5-UyS"
      },
      "outputs": [],
      "source": [
        "model.summary()"
      ]
    },
    {
      "cell_type": "code",
      "execution_count": null,
      "metadata": {
        "id": "Zqq_9W50-WAB"
      },
      "outputs": [],
      "source": [
        "# Fit model\n",
        "earlyStopping = tf.keras.callbacks.EarlyStopping(monitor=\"loss\",patience=20,restore_best_weights=True)\n",
        "hist = model.fit(train, epochs=150,validation_data=val,callbacks=[earlyStopping])"
      ]
    },
    {
      "cell_type": "code",
      "execution_count": null,
      "metadata": {
        "id": "C3e2Y0eLio_8"
      },
      "outputs": [],
      "source": [
        "model.save('/content/drive/MyDrive/savedmodel')"
      ]
    },
    {
      "cell_type": "code",
      "execution_count": null,
      "metadata": {
        "id": "FbXxPg6EVrug"
      },
      "outputs": [],
      "source": [
        "model.save('/content/drive/MyDrive/model.keras')"
      ]
    },
    {
      "cell_type": "code",
      "execution_count": null,
      "metadata": {
        "id": "Qzc-GoiNftbo"
      },
      "outputs": [],
      "source": []
    }
  ],
  "metadata": {
    "accelerator": "GPU",
    "colab": {
      "gpuType": "T4",
      "provenance": []
    },
    "kernelspec": {
      "display_name": "Python 3",
      "name": "python3"
    },
    "language_info": {
      "name": "python"
    }
  },
  "nbformat": 4,
  "nbformat_minor": 0
}
