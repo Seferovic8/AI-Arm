{
  "cells": [
    {
      "cell_type": "code",
      "execution_count": null,
      "metadata": {
        "id": "PhCcDgDqe-mP"
      },
      "outputs": [],
      "source": [
        "import torchaudio\n",
        "import torch\n",
        "import torch.nn as nn\n",
        "import torch.nn.functional as F\n",
        "import torchaudio.transforms as transforms\n",
        "from torch.utils.data import DataLoader\n",
        "from torch.utils.data import Dataset\n",
        "import pandas as pd\n",
        "import numpy as np\n",
        "import matplotlib.pyplot as plt\n",
        "from datetime import datetime\n",
        "\n",
        "from sklearn.model_selection import train_test_split\n",
        "from sklearn.utils import shuffle"
      ]
    },
    {
      "cell_type": "code",
      "execution_count": null,
      "metadata": {
        "id": "UweV10aPhQJB"
      },
      "outputs": [],
      "source": [
        "def plot_mfcc(mfcc):\n",
        "    # Convert MFCC tensor to numpy array and squeeze extra dimensions\n",
        "    mfcc_np = mfcc.squeeze().numpy()\n",
        "\n",
        "    # Create a figure and axes\n",
        "    fig, ax = plt.subplots(figsize=(12, 4))\n",
        "\n",
        "    # Display the MFCC spectrogram\n",
        "    img = ax.imshow(mfcc_np, aspect='auto', origin='lower', interpolation='nearest')\n",
        "\n",
        "    # Add a colorbar\n",
        "    cbar = fig.colorbar(img, ax=ax)\n",
        "    cbar.set_label('Magnitude')\n",
        "\n",
        "    # Set the title and labels\n",
        "    ax.set_title('MFCC Spectrogram')\n",
        "    ax.set_xlabel('Time')\n",
        "    ax.set_ylabel('MFCC Coefficients')\n",
        "\n",
        "    # Show the plot\n",
        "    plt.tight_layout()\n",
        "    plt.show()"
      ]
    },
    {
      "cell_type": "markdown",
      "metadata": {
        "id": "3mEOXGb700Z_"
      },
      "source": [
        "# Download dataset"
      ]
    },
    {
      "cell_type": "code",
      "execution_count": null,
      "metadata": {
        "colab": {
          "base_uri": "https://localhost:8080/"
        },
        "id": "ch90ya58f59O",
        "outputId": "d640b4b0-5f6f-48a4-e82e-38c535d2e133"
      },
      "outputs": [
        {
          "output_type": "stream",
          "name": "stdout",
          "text": [
            "Downloading...\n",
            "From (original): https://drive.google.com/uc?id=1cS110V7NiHxmNDyCG5wfkKS5Bk9A1IEW\n",
            "From (redirected): https://drive.google.com/uc?id=1cS110V7NiHxmNDyCG5wfkKS5Bk9A1IEW&confirm=t&uuid=bcf7fae5-2785-499d-9b1b-87c42184f096\n",
            "To: /content/audio.rar\n",
            "100% 188M/188M [00:10<00:00, 18.1MB/s]\n"
          ]
        }
      ],
      "source": [
        "!gdown 1cS110V7NiHxmNDyCG5wfkKS5Bk9A1IEW"
      ]
    },
    {
      "cell_type": "code",
      "execution_count": null,
      "metadata": {
        "colab": {
          "base_uri": "https://localhost:8080/"
        },
        "collapsed": true,
        "id": "AaS9iZZMgAZZ",
        "outputId": "658f833c-6803-4268-da01-c159768cb938"
      },
      "outputs": [
        {
          "output_type": "stream",
          "name": "stdout",
          "text": [
            "\n",
            "UNRAR 6.11 beta 1 freeware      Copyright (c) 1993-2022 Alexander Roshal\n",
            "\n",
            "\n",
            "Extracting from audio.rar\n",
            "\n",
            "\n",
            "Would you like to replace the existing file audio/battery/dodaj/ahxwfmvc.wav\n",
            "128692 bytes, modified on 2024-03-01 17:29\n",
            "with a new one\n",
            "128692 bytes, modified on 2024-03-01 17:29\n",
            "\n",
            "[Y]es, [N]o, [A]ll, n[E]ver, [R]ename, [Q]uit \n",
            "User break\n",
            "\n",
            "User break\n"
          ]
        }
      ],
      "source": [
        "!unrar x audio.rar"
      ]
    },
    {
      "cell_type": "code",
      "execution_count": null,
      "metadata": {
        "id": "Bt-7KRQimvOh"
      },
      "outputs": [],
      "source": [
        "!rm -r audio/crema"
      ]
    },
    {
      "cell_type": "code",
      "execution_count": null,
      "metadata": {
        "id": "bx1UyWUrmd6O",
        "colab": {
          "base_uri": "https://localhost:8080/"
        },
        "outputId": "5321260d-b0e7-4230-adea-21e1eec0eaa9"
      },
      "outputs": [
        {
          "output_type": "execute_result",
          "data": {
            "text/plain": [
              "2"
            ]
          },
          "metadata": {},
          "execution_count": 6
        }
      ],
      "source": [
        "class_names = np.array(['premjesti', 'dodaj'])\n",
        "number_of_classes = len(class_names)\n",
        "number_of_classes"
      ]
    },
    {
      "cell_type": "markdown",
      "metadata": {
        "id": "6dAIWUk7rBWg"
      },
      "source": [
        "# Create dataset"
      ]
    },
    {
      "cell_type": "markdown",
      "metadata": {
        "id": "Bjsli6Oq1B2B"
      },
      "source": [
        "## Create dataframe"
      ]
    },
    {
      "cell_type": "code",
      "execution_count": null,
      "metadata": {
        "id": "ZXGruADmmP6D"
      },
      "outputs": [],
      "source": [
        "data = {'path':[], 'label':[]}\n",
        "import shutil\n",
        "import os\n",
        "for folders in os.listdir('audio'):\n",
        "  for fol in os.listdir(f\"audio/{folders}\"):\n",
        "    for file in os.listdir(f\"audio/{folders}/{fol}\"):\n",
        "      data['path'].append(f'audio/{folders}/{fol}/{file}')\n",
        "      data['label'].append(0. if fol=='premjesti' else 1.)"
      ]
    },
    {
      "cell_type": "code",
      "execution_count": null,
      "metadata": {
        "id": "BzwBIc2SoYrb"
      },
      "outputs": [],
      "source": [
        "df = pd.DataFrame(data)"
      ]
    },
    {
      "cell_type": "code",
      "execution_count": null,
      "metadata": {
        "id": "VeYkQR20pEYJ"
      },
      "outputs": [],
      "source": [
        "df_train, df_test = train_test_split(df, test_size=0.2)"
      ]
    },
    {
      "cell_type": "markdown",
      "metadata": {
        "id": "tiRT12kc1Gf-"
      },
      "source": [
        "## Create Custom dataset object"
      ]
    },
    {
      "cell_type": "code",
      "execution_count": null,
      "metadata": {
        "id": "zFy__59FiNSL"
      },
      "outputs": [],
      "source": [
        "class AudioDataset(Dataset):\n",
        "  def __init__(self, dataset, transform, label_transform = None, squeeze = True, shrink_data=None):\n",
        "    super(AudioDataset,self).__init__()\n",
        "    self.dataset = dataset\n",
        "    self.transform = transform\n",
        "    self.label_transform = label_transform\n",
        "    self.squeeze = squeeze\n",
        "    self.shrink_data = shrink_data\n",
        "\n",
        "  def __len__(self):\n",
        "      return len(self.dataset)\n",
        "\n",
        "  def __getitem__(self, idx):\n",
        "    # get audio data\n",
        "    x, sample_rate = torchaudio.load(self.dataset.iloc[idx].path, normalize=True)\n",
        "    data = self.transform(x)\n",
        "\n",
        "    # get label\n",
        "    label = self.dataset.iloc[idx].label\n",
        "    # transfrom data\n",
        "    if self.squeeze:\n",
        "      data = data.squeeze()\n",
        "\n",
        "    if self.label_transform:\n",
        "      label = self.label_transform(label)\n",
        "\n",
        "    if self.shrink_data:\n",
        "      data = data[:,:int(data.size(1)*self.shrink_data)]\n",
        "\n",
        "    return data, label"
      ]
    },
    {
      "cell_type": "code",
      "execution_count": null,
      "metadata": {
        "id": "yrSrhGUEsSwX",
        "colab": {
          "base_uri": "https://localhost:8080/"
        },
        "outputId": "ee9b0ed9-f2d3-4ae2-8152-1179f753a09b"
      },
      "outputs": [
        {
          "output_type": "stream",
          "name": "stderr",
          "text": [
            "/usr/local/lib/python3.10/dist-packages/torchaudio/functional/functional.py:584: UserWarning: At least one mel filterbank has all zero values. The value for `n_mels` (53) may be set too high. Or, the value for `n_freqs` (201) may be set too low.\n",
            "  warnings.warn(\n"
          ]
        }
      ],
      "source": [
        "transformer = transforms.MFCC(\n",
        "    sample_rate=48000,\n",
        "    n_mfcc = 40,\n",
        "    melkwargs={\"n_fft\": 400, \"hop_length\": 160, \"n_mels\": 53, \"center\": False},\n",
        ")"
      ]
    },
    {
      "cell_type": "markdown",
      "metadata": {
        "id": "N6XaTXE11U8n"
      },
      "source": [
        "## Load datasets"
      ]
    },
    {
      "cell_type": "code",
      "execution_count": null,
      "metadata": {
        "id": "gI3owyBAiqkT"
      },
      "outputs": [],
      "source": [
        "train_dataset = AudioDataset(df_train,transformer,shrink_data=0.7)\n",
        "test_dataset = AudioDataset(df_test,transformer,shrink_data=0.7)"
      ]
    },
    {
      "cell_type": "code",
      "execution_count": null,
      "metadata": {
        "id": "sTFNr-k9tGQh",
        "colab": {
          "base_uri": "https://localhost:8080/"
        },
        "outputId": "f511d00e-7129-43f6-e2ec-3f7317850a7e"
      },
      "outputs": [
        {
          "output_type": "execute_result",
          "data": {
            "text/plain": [
              "(1624, 406)"
            ]
          },
          "metadata": {},
          "execution_count": 55
        }
      ],
      "source": [
        "len(train_dataset), len(test_dataset)"
      ]
    },
    {
      "cell_type": "markdown",
      "metadata": {
        "id": "M1gffkok1gzY"
      },
      "source": [
        "## Initilize DataLoaders"
      ]
    },
    {
      "cell_type": "code",
      "execution_count": null,
      "metadata": {
        "id": "ugR8V_g9tb8D"
      },
      "outputs": [],
      "source": [
        "def collate_pad_sequences(batch):\n",
        "    # Assuming each item in batch is a tuple (data, label)\n",
        "    # Sort the batch in descending order of length\n",
        "    #sorted_batch = sorted(batch, key=lambda x: x[0].shape[0], reverse=True)\n",
        "\n",
        "    # Separate data and labels\n",
        "    data = []\n",
        "    labels = [x[1] for x in batch]\n",
        "\n",
        "    # Pad mfcc with pre-padding 0\n",
        "    max_len= np.max([x[0].size(1) for x in batch])\n",
        "    for x in batch:\n",
        "      mfcc = torch.cat((torch.zeros(x[0].size(0),max_len-x[0].size(1)), x[0]),1)\n",
        "      data.append(mfcc)\n",
        "\n",
        "    labels = torch.tensor(labels)\n",
        "    data = torch.tensor(np.array(data))\n",
        "    return data, labels\n"
      ]
    },
    {
      "cell_type": "code",
      "execution_count": null,
      "metadata": {
        "id": "RKTpt-Jdj8xP"
      },
      "outputs": [],
      "source": [
        "train_loader = DataLoader(train_dataset, batch_size=32, shuffle=True, collate_fn=collate_pad_sequences)\n",
        "test_loader = DataLoader(test_dataset, batch_size=32, shuffle=True, collate_fn=collate_pad_sequences)"
      ]
    },
    {
      "cell_type": "code",
      "execution_count": null,
      "metadata": {
        "collapsed": true,
        "id": "caPwx_UE98kd",
        "colab": {
          "base_uri": "https://localhost:8080/"
        },
        "outputId": "a10986a3-ebe6-4dae-855b-ca94c5ea0ea2"
      },
      "outputs": [
        {
          "output_type": "stream",
          "name": "stdout",
          "text": [
            "torch.Size([32, 40, 534])\n"
          ]
        }
      ],
      "source": [
        "for i, _ in train_loader:\n",
        "  print(i.shape)\n",
        "  break"
      ]
    },
    {
      "cell_type": "markdown",
      "metadata": {
        "id": "t9HzFnnrzIod"
      },
      "source": [
        "# Create Model"
      ]
    },
    {
      "cell_type": "code",
      "execution_count": null,
      "metadata": {
        "colab": {
          "base_uri": "https://localhost:8080/"
        },
        "id": "m2YUACYG1w43",
        "outputId": "4d15ccad-abd8-41a9-9865-d8ad00bd5ef8"
      },
      "outputs": [
        {
          "output_type": "stream",
          "name": "stdout",
          "text": [
            "cuda:0\n"
          ]
        }
      ],
      "source": [
        "device = torch.device('cuda:0' if torch.cuda.is_available() else 'cpu')\n",
        "print(device)"
      ]
    },
    {
      "cell_type": "code",
      "execution_count": null,
      "metadata": {
        "id": "J8rr6GqH1z3F"
      },
      "outputs": [],
      "source": [
        "class RNN(nn.Module):\n",
        "  def __init__(self, n_inputs,n_hidden,n_layers,n_outputs):\n",
        "    super(RNN,self).__init__()\n",
        "    self.D=n_inputs\n",
        "    self.M=n_hidden\n",
        "    self.L=n_layers\n",
        "    self.K=n_outputs\n",
        "\n",
        "    self.rnn = nn.LSTM(input_size=self.D,\n",
        "                       hidden_size=self.M,\n",
        "                       num_layers=self.L,\n",
        "                       batch_first=True)\n",
        "\n",
        "    self.fc = nn.Sequential(\n",
        "          nn.Linear(self.M,1024),\n",
        "          nn.ReLU(),\n",
        "          nn.Linear(1024, self.K),\n",
        "          nn.ReLU()\n",
        "      )\n",
        "\n",
        "  def forward(self,X):\n",
        "    X = X.permute(0,2,1)\n",
        "\n",
        "    h0= torch.zeros(self.L,X.size(0),self.M).to(device)\n",
        "    c0= torch.zeros(self.L,X.size(0),self.M).to(device)\n",
        "\n",
        "    # pass through rnn\n",
        "    out,_=self.rnn(X,(h0,c0))\n",
        "\n",
        "    out = self.fc(out[:,-1,:])\n",
        "    out = F.relu(out)\n",
        "    return out\n"
      ]
    },
    {
      "cell_type": "code",
      "execution_count": null,
      "metadata": {
        "id": "oope7FiqPjXN"
      },
      "outputs": [],
      "source": [
        "class CNN(nn.Module):\n",
        "  def __init__(self, n_inputs, n_outputs):\n",
        "    super(CNN,self).__init__()\n",
        "    self.D = n_inputs\n",
        "    self.K = n_outputs\n",
        "    self.conv1 = nn.Sequential(\n",
        "      nn.Conv2d(self.D, 32, kernel_size=7, padding=2),\n",
        "      #nn.ReLU(),\n",
        "      #nn.Conv2d(32, 64, kernel_size=5),\n",
        "     # nn.BatchNorm2d(32),\n",
        "      nn.ReLU(),\n",
        "      nn.MaxPool2d(2,stride=2)\n",
        "    )\n",
        "\n",
        "    self.conv2 = nn.Sequential(\n",
        "      nn.Conv2d(32, 128, kernel_size=2),\n",
        "      nn.BatchNorm2d(128),\n",
        "      nn.ReLU(),\n",
        "      nn.MaxPool2d(2)\n",
        "    )\n",
        "    self.conv3 = nn.Sequential(\n",
        "      nn.Conv2d(128, 384, kernel_size=2),\n",
        "     # nn.BatchNorm2d(384),\n",
        "      nn.ReLU(),\n",
        "     # nn.MaxPool2d(2)\n",
        "    )\n",
        "    self.conv4 = nn.Sequential(\n",
        "      nn.Conv2d(384, 384, kernel_size=2),\n",
        "      nn.BatchNorm2d(384),\n",
        "      nn.ReLU(),\n",
        "      #nn.MaxPool2d(2)\n",
        "    )\n",
        "    self.fc = nn.Sequential(\n",
        "      nn.Dropout(0.5),\n",
        "      nn.Linear(384*7,1024),\n",
        "      nn.ReLU(),\n",
        "      #nn.Linear(1024, 512),\n",
        "      #nn.ReLU(),\n",
        "      nn.Linear(1024, self.K),\n",
        "      nn.ReLU()\n",
        "    )\n",
        "\n",
        "  def forward(self,X):\n",
        "    X = torch.unsqueeze(X,1)\n",
        "\n",
        "    out = self.conv1(X)\n",
        "\n",
        "    out = self.conv2(out)\n",
        "\n",
        "    out = self.conv3(out)\n",
        "\n",
        "    out = self.conv4(out)\n",
        "\n",
        "    out, _  = torch.max(out, -1)\n",
        "    out = out.view(out.size(0), -1)\n",
        "    out = self.fc(out)\n",
        "    return out\n",
        "\n"
      ]
    },
    {
      "cell_type": "code",
      "execution_count": null,
      "metadata": {
        "id": "ZUSi97pt4U_H"
      },
      "outputs": [],
      "source": [
        "class ComposedModel(nn.Module):\n",
        "  def __init__(self, rnn_inputs,rnn_hidden,rnn_layers,hidden_outputs, n_outputs):\n",
        "    super(ComposedModel,self).__init__()\n",
        "    self.D=rnn_inputs\n",
        "    self.M=rnn_hidden\n",
        "    self.L=rnn_layers\n",
        "    self.HO=hidden_outputs\n",
        "    self.K = n_outputs\n",
        "\n",
        "    self.rnn = RNN(n_inputs=self.D,\n",
        "                   n_hidden=self.M,\n",
        "                   n_layers=self.L,\n",
        "                   n_outputs=self.HO)\n",
        "    self.cnn = CNN(n_inputs=1, n_outputs=self.HO)\n",
        "\n",
        "    self.fc = nn.Sequential(\n",
        "        nn.Linear(self.HO*2,2048),\n",
        "        nn.ReLU(),\n",
        "        nn.Linear(2048,1024),\n",
        "        nn.ReLU(),\n",
        "        nn.Linear(1024,self.K))\n",
        "\n",
        "  def forward(self,X):\n",
        "    rnn_outputs = self.rnn(X)\n",
        "    cnn_outputs = self.cnn(X)\n",
        "\n",
        "    out = torch.cat((rnn_outputs,cnn_outputs),1)\n",
        "    out = self.fc(out)\n",
        "    return out"
      ]
    },
    {
      "cell_type": "code",
      "execution_count": null,
      "metadata": {
        "colab": {
          "base_uri": "https://localhost:8080/"
        },
        "id": "OqfPbqVI6fRk",
        "outputId": "5d890970-8096-45b7-f1c3-0735bb46f40a"
      },
      "outputs": [
        {
          "output_type": "execute_result",
          "data": {
            "text/plain": [
              "ComposedModel(\n",
              "  (rnn): RNN(\n",
              "    (rnn): LSTM(40, 128, num_layers=3, batch_first=True)\n",
              "    (fc): Sequential(\n",
              "      (0): Linear(in_features=128, out_features=1024, bias=True)\n",
              "      (1): ReLU()\n",
              "      (2): Linear(in_features=1024, out_features=512, bias=True)\n",
              "      (3): ReLU()\n",
              "    )\n",
              "  )\n",
              "  (cnn): CNN(\n",
              "    (conv1): Sequential(\n",
              "      (0): Conv2d(1, 32, kernel_size=(7, 7), stride=(1, 1), padding=(2, 2))\n",
              "      (1): ReLU()\n",
              "      (2): MaxPool2d(kernel_size=2, stride=2, padding=0, dilation=1, ceil_mode=False)\n",
              "    )\n",
              "    (conv2): Sequential(\n",
              "      (0): Conv2d(32, 64, kernel_size=(2, 2), stride=(1, 1))\n",
              "      (1): BatchNorm2d(64, eps=1e-05, momentum=0.1, affine=True, track_running_stats=True)\n",
              "      (2): ReLU()\n",
              "      (3): MaxPool2d(kernel_size=2, stride=2, padding=0, dilation=1, ceil_mode=False)\n",
              "    )\n",
              "    (conv3): Sequential(\n",
              "      (0): Conv2d(64, 128, kernel_size=(2, 2), stride=(1, 1))\n",
              "      (1): ReLU()\n",
              "    )\n",
              "    (conv4): Sequential(\n",
              "      (0): Conv2d(128, 128, kernel_size=(2, 2), stride=(1, 1))\n",
              "      (1): BatchNorm2d(128, eps=1e-05, momentum=0.1, affine=True, track_running_stats=True)\n",
              "      (2): ReLU()\n",
              "    )\n",
              "    (fc): Sequential(\n",
              "      (0): Dropout(p=0.5, inplace=False)\n",
              "      (1): Linear(in_features=896, out_features=1024, bias=True)\n",
              "      (2): ReLU()\n",
              "      (3): Linear(in_features=1024, out_features=512, bias=True)\n",
              "      (4): ReLU()\n",
              "    )\n",
              "  )\n",
              "  (fc): Sequential(\n",
              "    (0): Linear(in_features=1024, out_features=2048, bias=True)\n",
              "    (1): ReLU()\n",
              "    (2): Linear(in_features=2048, out_features=1024, bias=True)\n",
              "    (3): ReLU()\n",
              "    (4): Linear(in_features=1024, out_features=1, bias=True)\n",
              "  )\n",
              ")"
            ]
          },
          "metadata": {},
          "execution_count": 62
        }
      ],
      "source": [
        "model = ComposedModel(\n",
        "            rnn_inputs=transformer.n_mfcc,\n",
        "            rnn_hidden=128,\n",
        "            rnn_layers=3,\n",
        "            hidden_outputs = 512,\n",
        "            n_outputs=1)\n",
        "model.to(device)"
      ]
    },
    {
      "cell_type": "code",
      "execution_count": null,
      "metadata": {
        "id": "FybCfNR7OK86"
      },
      "outputs": [],
      "source": [
        "#model = RNN(n_inputs=transformer.n_mfcc,\n",
        "#            n_hidden=128,\n",
        "#            n_layers=5,\n",
        "#            n_outputs=number_of_classes)\n",
        "#model.to(device)"
      ]
    },
    {
      "cell_type": "code",
      "execution_count": null,
      "metadata": {
        "id": "LR7M_yWX14lR"
      },
      "outputs": [],
      "source": [
        "#model = CNN(n_inputs=1, n_outputs=number_of_classes)\n",
        "#model.to(device)"
      ]
    },
    {
      "cell_type": "code",
      "execution_count": null,
      "metadata": {
        "colab": {
          "base_uri": "https://localhost:8080/"
        },
        "id": "g06VSuwmUiaG",
        "outputId": "6f543e69-706e-471f-e707-1b8076aedc45"
      },
      "outputs": [
        {
          "output_type": "stream",
          "name": "stdout",
          "text": [
            "torch.Size([32, 1])\n"
          ]
        }
      ],
      "source": [
        "for i, k in train_loader:\n",
        "  #print(i.shape)\n",
        " # i = i.view(i.size(0),1,i.size(1),i.size(2))\n",
        "\n",
        "\n",
        "  lak = model(i.to(device))\n",
        "  print(lak.size())\n",
        "  break"
      ]
    },
    {
      "cell_type": "markdown",
      "metadata": {
        "id": "YPO_41ww2PNk"
      },
      "source": [
        "# Train model"
      ]
    },
    {
      "cell_type": "code",
      "execution_count": null,
      "metadata": {
        "id": "k-KFkJOg2QoP"
      },
      "outputs": [],
      "source": [
        "criterion = nn.BCEWithLogitsLoss()\n",
        "optimizer = torch.optim.Adam(model.parameters(),lr=0.0001)"
      ]
    },
    {
      "cell_type": "code",
      "execution_count": null,
      "metadata": {
        "id": "Ylgt4c6jJuUM"
      },
      "outputs": [],
      "source": [
        "def save_model_checkpoint(val_loss, best_val_loss, train_loss, it, model=model, optimizer=optimizer,path='model_checkpoint.pt'):\n",
        "    torch.save({\n",
        "            'epoch': it,\n",
        "            'model_state_dict': model.state_dict(),\n",
        "            'optimizer_state_dict': optimizer.state_dict(),\n",
        "            'train_loss': train_loss,\n",
        "            'val_loss': val_loss,\n",
        "            }, path)\n",
        "    print(f'Model saved at epoch: {it+1}, val_loss improved from: {best_val_loss:.4f} to: {val_loss:.4f}')"
      ]
    },
    {
      "cell_type": "code",
      "execution_count": null,
      "metadata": {
        "id": "Lv_VZleNOGYK"
      },
      "outputs": [],
      "source": [
        "def plot_loss_curves(train_losses,val_losses,train_losses2=None,val_losses2=None):\n",
        "  if(train_losses2 is not None):\n",
        "    train_losses = np.concatenate((train_losses,train_losses2))\n",
        "    val_losses = np.concatenate((val_losses,val_losses2))\n",
        "  plt.plot(train_losses,label='Train loss')\n",
        "  plt.plot(val_losses,label='Val loss')\n",
        "  plt.legend(); plt.show\n",
        "best_val_loss=10**5"
      ]
    },
    {
      "cell_type": "code",
      "execution_count": null,
      "metadata": {
        "colab": {
          "base_uri": "https://localhost:8080/"
        },
        "id": "kTaUjLim2RL1",
        "outputId": "c5cb28ae-018a-4e74-81a6-ea49a3856293"
      },
      "outputs": [
        {
          "output_type": "stream",
          "name": "stdout",
          "text": [
            "Epoch 1/3, Train loss: 0.0740, Val loss: 0.2536, Duration: 0:00:33.070888\n",
            "-------------------------------------------------------------\n",
            "Epoch 2/3, Train loss: 0.0837, Val loss: 0.3037, Duration: 0:00:31.317785\n",
            "-------------------------------------------------------------\n",
            "Epoch 3/3, Train loss: 0.0621, Val loss: 0.3137, Duration: 0:00:32.299557\n",
            "-------------------------------------------------------------\n"
          ]
        }
      ],
      "source": [
        "epoches=3\n",
        "train_losses = np.zeros(epoches)\n",
        "val_losses = np.zeros(epoches)\n",
        "\n",
        "for it in range(epoches):\n",
        "  t0 = datetime.now()\n",
        "  model.train() # set model to train mode\n",
        "  train_loss=[]\n",
        "  val_loss=[]\n",
        "\n",
        "  # train\n",
        "  for inputs,targets in train_loader:\n",
        "    # move data to gpu\n",
        "    targets = targets.view(-1,1)\n",
        "    inputs,targets = inputs.to(device),targets.to(device)\n",
        "    #inputs = inputs.permute(0,2,1)\n",
        "    # zero gradients\n",
        "    optimizer.zero_grad()\n",
        "\n",
        "    # forward pass\n",
        "    outputs = model(inputs)\n",
        "    loss = criterion(outputs,targets)\n",
        "\n",
        "    # backward\n",
        "    loss.backward()\n",
        "    optimizer.step()\n",
        "\n",
        "    train_loss.append(loss.item())\n",
        "\n",
        "  model.eval() # set model to eval mode\n",
        "  for inputs,targets in test_loader:\n",
        "    # move data to gpu\n",
        "    targets = targets.view(-1,1)\n",
        "    inputs,targets = inputs.to(device),targets.to(device)\n",
        "   # inputs = inputs.permute(0,2,1)\n",
        "\n",
        "\n",
        "    # forward pass\n",
        "    outputs = model(inputs)\n",
        "    loss = criterion(outputs,targets)\n",
        "\n",
        "    val_loss.append(loss.item())\n",
        "\n",
        "  # calculate loss\n",
        "  train_loss = np.mean(train_loss)\n",
        "  val_loss = np.mean(val_loss)\n",
        "  if (val_loss<best_val_loss):\n",
        "    save_model_checkpoint(val_loss,best_val_loss,train_loss,it, path='model_checkpoint.pt')\n",
        "    best_val_loss=val_loss\n",
        "  # append loss\n",
        "  train_losses[it]=train_loss\n",
        "  val_losses[it]=val_loss\n",
        "  dt = datetime.now() - t0\n",
        "  print(f\"Epoch {it+1}/{epoches}, Train loss: {train_loss:.4f}, Val loss: {val_loss:.4f}, Duration: {dt}\")\n",
        "  print('-------------------------------------------------------------')"
      ]
    },
    {
      "cell_type": "code",
      "execution_count": null,
      "metadata": {
        "colab": {
          "base_uri": "https://localhost:8080/",
          "height": 430
        },
        "id": "NJJPf6Xa2hEL",
        "outputId": "6b1d1342-cb75-452e-bb56-e71db9c16a3b"
      },
      "outputs": [
        {
          "output_type": "display_data",
          "data": {
            "text/plain": [
              "<Figure size 640x480 with 1 Axes>"
            ],
            "image/png": "[encoded data removed]"
          },
          "metadata": {}
        }
      ],
      "source": [
        "print_second = False\n",
        "if print_second:\n",
        "  plot_loss_curves(train_losses2,val_losses2,train_losses,val_losses,)\n",
        "else:\n",
        "  plot_loss_curves(train_losses,val_losses)\n",
        "  train_losses2,val_losses2 = train_losses,val_losses"
      ]
    },
    {
      "cell_type": "code",
      "execution_count": null,
      "metadata": {
        "colab": {
          "base_uri": "https://localhost:8080/"
        },
        "id": "0BceT4Gl6USb",
        "outputId": "7e4d1e28-d525-4856-93da-f1756b8a4299"
      },
      "outputs": [
        {
          "output_type": "stream",
          "name": "stdout",
          "text": [
            "Train accuracy: 0.9797, Test accuracy: 0.9212\n"
          ]
        }
      ],
      "source": [
        "model.eval()\n",
        "# train accuracy\n",
        "n_correct=0\n",
        "n_total=0\n",
        "for inputs,targets in train_loader:\n",
        "  # move data to gpu\n",
        "  targets = targets.view(-1,1)\n",
        "  inputs,targets = inputs.to(device),targets.to(device)\n",
        "  #inputs = inputs.permute(0,2,1)\n",
        "\n",
        "  # make prediction\n",
        "  outputs = model(inputs)\n",
        "  outputs = F.sigmoid(outputs)\n",
        "  predictions = outputs>0.5\n",
        "\n",
        "  # update counts\n",
        "  n_correct+=(predictions==targets).sum().item()\n",
        "  n_total+=targets.shape[0]\n",
        "train_acc = n_correct/n_total\n",
        "\n",
        "# test accuracy\n",
        "n_correct=0\n",
        "n_total=0\n",
        "for inputs,targets in test_loader:\n",
        "  # move data to gpu\n",
        "  targets = targets.view(-1,1)\n",
        "  inputs,targets = inputs.to(device),targets.to(device)\n",
        "  #inputs = inputs.permute(0,2,1)\n",
        "\n",
        "  # make prediction\n",
        "  outputs = model(inputs)\n",
        "  predictions = outputs>0.5\n",
        "\n",
        "  # update counts\n",
        "  n_correct+=(predictions==targets).sum().item()\n",
        "  n_total+=targets.shape[0]\n",
        "test_acc = n_correct/n_total\n",
        "\n",
        "print(f\"Train accuracy: {train_acc:.4f}, Test accuracy: {test_acc:.4f}\")"
      ]
    },
    {
      "cell_type": "code",
      "execution_count": null,
      "metadata": {
        "id": "c4jlbou0N4Yp"
      },
      "outputs": [],
      "source": [
        "train_losses2=train_losses\n",
        "val_losses2=val_losses"
      ]
    },
    {
      "cell_type": "code",
      "execution_count": null,
      "metadata": {
        "colab": {
          "base_uri": "https://localhost:8080/"
        },
        "id": "sidFewMaObKS",
        "outputId": "393d9037-4e13-4212-a638-31448958dac5"
      },
      "outputs": [
        {
          "data": {
            "text/plain": [
              "(array([0.30328385, 0.22913785, 0.19899785, 0.22594978, 0.20306482,\n",
              "        0.20859716, 0.18143668, 0.16264521, 0.16369132, 0.12313485,\n",
              "        0.10760708, 0.13728693, 0.18853074, 0.15131345, 0.11418174]),\n",
              " (15,))"
            ]
          },
          "execution_count": 50,
          "metadata": {},
          "output_type": "execute_result"
        }
      ],
      "source": [
        "train_losses,train_losses.shape"
      ]
    },
    {
      "cell_type": "code",
      "execution_count": null,
      "metadata": {
        "colab": {
          "base_uri": "https://localhost:8080/",
          "height": 519
        },
        "id": "ExDZv2xnOZq9",
        "outputId": "0a1a0ceb-b5fd-460a-a601-9b6980486391"
      },
      "outputs": [
        {
          "name": "stdout",
          "output_type": "stream",
          "text": [
            "[0.30328385 0.22913785 0.19899785 0.22594978 0.20306482 0.20859716\n",
            " 0.18143668 0.16264521 0.16369132 0.12313485 0.10760708 0.13728693\n",
            " 0.18853074 0.15131345 0.11418174 0.30328385 0.22913785 0.19899785\n",
            " 0.22594978 0.20306482 0.20859716 0.18143668 0.16264521 0.16369132\n",
            " 0.12313485 0.10760708 0.13728693 0.18853074 0.15131345 0.11418174]\n"
          ]
        },
        {
          "data": {
            "image/png": "[encoded data removed]",
            "text/plain": [
              "<Figure size 640x480 with 1 Axes>"
            ]
          },
          "metadata": {},
          "output_type": "display_data"
        }
      ],
      "source": [
        "plot_loss_curves(train_losses,val_losses,train_losses2,val_losses2)"
      ]
    },
    {
      "cell_type": "markdown",
      "metadata": {
        "id": "5PcAaD-lDkwH"
      },
      "source": [
        "# Save the model"
      ]
    },
    {
      "cell_type": "code",
      "execution_count": null,
      "metadata": {
        "id": "wx6VrcKLElZN"
      },
      "outputs": [],
      "source": [
        "torch.save(model.state_dict(), 'mysecondmodel.pt')"
      ]
    },
    {
      "cell_type": "code",
      "execution_count": null,
      "metadata": {
        "colab": {
          "base_uri": "https://localhost:8080/",
          "height": 108
        },
        "id": "SXSQ4Mp0MR6h",
        "outputId": "896bf840-8d93-44c5-e183-9701c58711a8"
      },
      "outputs": [
        {
          "ename": "SyntaxError",
          "evalue": "invalid syntax (<ipython-input-94-5a82377ac920>, line 1)",
          "output_type": "error",
          "traceback": [
            "\u001b[0;36m  File \u001b[0;32m\"<ipython-input-94-5a82377ac920>\"\u001b[0;36m, line \u001b[0;32m1\u001b[0m\n\u001b[0;31m    Train accuracy: 0.8651, Test accuracy: 0.7956\u001b[0m\n\u001b[0m          ^\u001b[0m\n\u001b[0;31mSyntaxError\u001b[0m\u001b[0;31m:\u001b[0m invalid syntax\n"
          ]
        }
      ],
      "source": [
        "Train accuracy: 0.8651, Test accuracy: 0.7956\n"
      ]
    },
    {
      "cell_type": "code",
      "execution_count": null,
      "metadata": {
        "id": "t4PE8aYKJqWJ"
      },
      "outputs": [],
      "source": [
        "optimizer.param_groups[0]['lr'] =0.00005"
      ]
    },
    {
      "cell_type": "code",
      "execution_count": null,
      "metadata": {
        "id": "f6ubK1zky480"
      },
      "outputs": [],
      "source": [
        "optimizer.param_groups[0]['lr']"
      ]
    },
    {
      "cell_type": "code",
      "execution_count": null,
      "metadata": {
        "id": "EgXI2Oe3WAwu"
      },
      "outputs": [],
      "source": [
        "np.zeros(10)+np.zeros(10)"
      ]
    },
    {
      "cell_type": "code",
      "execution_count": null,
      "metadata": {
        "id": "OUYUm3tXVbRq"
      },
      "outputs": [],
      "source": [
        "for param in model.rnn.parameters():\n",
        "  param.requires_grad=False"
      ]
    },
    {
      "cell_type": "markdown",
      "metadata": {
        "id": "kIZbMdsHmrBj"
      },
      "source": [
        "# Load model and make predictions"
      ]
    },
    {
      "cell_type": "code",
      "execution_count": null,
      "metadata": {
        "colab": {
          "base_uri": "https://localhost:8080/"
        },
        "id": "uvDrY8kqNMYd",
        "outputId": "259cefc8-3d40-40df-d408-b1b0acd4a055"
      },
      "outputs": [
        {
          "output_type": "execute_result",
          "data": {
            "text/plain": [
              "ComposedModel(\n",
              "  (rnn): RNN(\n",
              "    (rnn): LSTM(40, 128, num_layers=3, batch_first=True)\n",
              "    (fc): Sequential(\n",
              "      (0): Linear(in_features=128, out_features=1024, bias=True)\n",
              "      (1): ReLU()\n",
              "      (2): Linear(in_features=1024, out_features=512, bias=True)\n",
              "      (3): ReLU()\n",
              "    )\n",
              "  )\n",
              "  (cnn): CNN(\n",
              "    (conv1): Sequential(\n",
              "      (0): Conv2d(1, 32, kernel_size=(7, 7), stride=(1, 1), padding=(2, 2))\n",
              "      (1): ReLU()\n",
              "      (2): MaxPool2d(kernel_size=2, stride=2, padding=0, dilation=1, ceil_mode=False)\n",
              "    )\n",
              "    (conv2): Sequential(\n",
              "      (0): Conv2d(32, 128, kernel_size=(2, 2), stride=(1, 1))\n",
              "      (1): BatchNorm2d(128, eps=1e-05, momentum=0.1, affine=True, track_running_stats=True)\n",
              "      (2): ReLU()\n",
              "      (3): MaxPool2d(kernel_size=2, stride=2, padding=0, dilation=1, ceil_mode=False)\n",
              "    )\n",
              "    (conv3): Sequential(\n",
              "      (0): Conv2d(128, 384, kernel_size=(2, 2), stride=(1, 1))\n",
              "      (1): ReLU()\n",
              "    )\n",
              "    (conv4): Sequential(\n",
              "      (0): Conv2d(384, 384, kernel_size=(2, 2), stride=(1, 1))\n",
              "      (1): BatchNorm2d(384, eps=1e-05, momentum=0.1, affine=True, track_running_stats=True)\n",
              "      (2): ReLU()\n",
              "    )\n",
              "    (fc): Sequential(\n",
              "      (0): Dropout(p=0.5, inplace=False)\n",
              "      (1): Linear(in_features=2688, out_features=1024, bias=True)\n",
              "      (2): ReLU()\n",
              "      (3): Linear(in_features=1024, out_features=512, bias=True)\n",
              "      (4): ReLU()\n",
              "    )\n",
              "  )\n",
              "  (fc): Sequential(\n",
              "    (0): Linear(in_features=1024, out_features=2048, bias=True)\n",
              "    (1): ReLU()\n",
              "    (2): Linear(in_features=2048, out_features=1024, bias=True)\n",
              "    (3): ReLU()\n",
              "    (4): Linear(in_features=1024, out_features=1, bias=True)\n",
              "  )\n",
              ")"
            ]
          },
          "metadata": {},
          "execution_count": 111
        }
      ],
      "source": [
        "loaded_model = ComposedModel(\n",
        "            rnn_inputs=transformer.n_mfcc,\n",
        "            rnn_hidden=128,\n",
        "            rnn_layers=3,\n",
        "            hidden_outputs = 512,\n",
        "            n_outputs=1)\n",
        "loaded_model.to(device)"
      ]
    },
    {
      "cell_type": "code",
      "execution_count": null,
      "metadata": {
        "colab": {
          "base_uri": "https://localhost:8080/"
        },
        "id": "F15k4AWbTqKz",
        "outputId": "c1a47b7d-e2a9-43bb-bdd6-7572ba0c7a0e"
      },
      "outputs": [
        {
          "output_type": "stream",
          "name": "stderr",
          "text": [
            "<ipython-input-113-47c577ffe8eb>:1: FutureWarning: You are using `torch.load` with `weights_only=False` (the current default value), which uses the default pickle module implicitly. It is possible to construct malicious pickle data which will execute arbitrary code during unpickling (See https://github.com/pytorch/pytorch/blob/main/SECURITY.md#untrusted-models for more details). In a future release, the default value for `weights_only` will be flipped to `True`. This limits the functions that could be executed during unpickling. Arbitrary objects will no longer be allowed to be loaded via this mode unless they are explicitly allowlisted by the user via `torch.serialization.add_safe_globals`. We recommend you start setting `weights_only=True` for any use case where you don't have full control of the loaded file. Please open an issue on GitHub for any issues related to this experimental feature.\n",
            "  loaded_model.load_state_dict(torch.load('myfirstmodel.pt',map_location=device))\n"
          ]
        },
        {
          "output_type": "execute_result",
          "data": {
            "text/plain": [
              "ComposedModel(\n",
              "  (rnn): RNN(\n",
              "    (rnn): LSTM(40, 128, num_layers=3, batch_first=True)\n",
              "    (fc): Sequential(\n",
              "      (0): Linear(in_features=128, out_features=1024, bias=True)\n",
              "      (1): ReLU()\n",
              "      (2): Linear(in_features=1024, out_features=512, bias=True)\n",
              "      (3): ReLU()\n",
              "    )\n",
              "  )\n",
              "  (cnn): CNN(\n",
              "    (conv1): Sequential(\n",
              "      (0): Conv2d(1, 32, kernel_size=(7, 7), stride=(1, 1), padding=(2, 2))\n",
              "      (1): ReLU()\n",
              "      (2): MaxPool2d(kernel_size=2, stride=2, padding=0, dilation=1, ceil_mode=False)\n",
              "    )\n",
              "    (conv2): Sequential(\n",
              "      (0): Conv2d(32, 128, kernel_size=(2, 2), stride=(1, 1))\n",
              "      (1): BatchNorm2d(128, eps=1e-05, momentum=0.1, affine=True, track_running_stats=True)\n",
              "      (2): ReLU()\n",
              "      (3): MaxPool2d(kernel_size=2, stride=2, padding=0, dilation=1, ceil_mode=False)\n",
              "    )\n",
              "    (conv3): Sequential(\n",
              "      (0): Conv2d(128, 384, kernel_size=(2, 2), stride=(1, 1))\n",
              "      (1): ReLU()\n",
              "    )\n",
              "    (conv4): Sequential(\n",
              "      (0): Conv2d(384, 384, kernel_size=(2, 2), stride=(1, 1))\n",
              "      (1): BatchNorm2d(384, eps=1e-05, momentum=0.1, affine=True, track_running_stats=True)\n",
              "      (2): ReLU()\n",
              "    )\n",
              "    (fc): Sequential(\n",
              "      (0): Dropout(p=0.5, inplace=False)\n",
              "      (1): Linear(in_features=2688, out_features=1024, bias=True)\n",
              "      (2): ReLU()\n",
              "      (3): Linear(in_features=1024, out_features=512, bias=True)\n",
              "      (4): ReLU()\n",
              "    )\n",
              "  )\n",
              "  (fc): Sequential(\n",
              "    (0): Linear(in_features=1024, out_features=2048, bias=True)\n",
              "    (1): ReLU()\n",
              "    (2): Linear(in_features=2048, out_features=1024, bias=True)\n",
              "    (3): ReLU()\n",
              "    (4): Linear(in_features=1024, out_features=1, bias=True)\n",
              "  )\n",
              ")"
            ]
          },
          "metadata": {},
          "execution_count": 113
        }
      ],
      "source": [
        "loaded_model.load_state_dict(torch.load('myfirstmodel.pt',map_location=device))\n",
        "loaded_model.eval()\n",
        "#model.to(device)"
      ]
    },
    {
      "cell_type": "code",
      "execution_count": null,
      "metadata": {
        "colab": {
          "base_uri": "https://localhost:8080/"
        },
        "id": "KpUqQhGpa5lS",
        "outputId": "64aa49aa-383f-468b-ff0c-315b9c6df98a"
      },
      "outputs": [
        {
          "output_type": "stream",
          "name": "stdout",
          "text": [
            "Train accuracy: 0.9826, Test accuracy: 0.9655\n"
          ]
        }
      ],
      "source": [
        "loaded_model.eval()\n",
        "# train accuracy\n",
        "n_correct=0\n",
        "n_total=0\n",
        "for inputs,targets in train_loader:\n",
        "  # move data to gpu\n",
        "  targets = targets.view(-1,1)\n",
        "  inputs,targets = inputs.to(device),targets.to(device)\n",
        "  #inputs = inputs.permute(0,2,1)\n",
        "\n",
        "  # make prediction\n",
        "  outputs = loaded_model(inputs)\n",
        "  outputs = F.sigmoid(outputs)\n",
        "  predictions = outputs>0.5\n",
        "\n",
        "  # update counts\n",
        "  n_correct+=(predictions==targets).sum().item()\n",
        "  n_total+=targets.shape[0]\n",
        "train_acc = n_correct/n_total\n",
        "\n",
        "# test accuracy\n",
        "n_correct=0\n",
        "n_total=0\n",
        "for inputs,targets in test_loader:\n",
        "  # move data to gpu\n",
        "  targets = targets.view(-1,1)\n",
        "  inputs,targets = inputs.to(device),targets.to(device)\n",
        "  #inputs = inputs.permute(0,2,1)\n",
        "\n",
        "  # make prediction\n",
        "  outputs = loaded_model(inputs)\n",
        "  outputs = F.sigmoid(outputs)\n",
        "\n",
        "  predictions = outputs>0.5\n",
        "\n",
        "  # update counts\n",
        "  n_correct+=(predictions==targets).sum().item()\n",
        "  n_total+=targets.shape[0]\n",
        "test_acc = n_correct/n_total\n",
        "\n",
        "print(f\"Train accuracy: {train_acc:.4f}, Test accuracy: {test_acc:.4f}\")"
      ]
    },
    {
      "cell_type": "code",
      "execution_count": null,
      "metadata": {
        "colab": {
          "base_uri": "https://localhost:8080/",
          "height": 1000
        },
        "id": "gXyRcgzfT2-m",
        "outputId": "0a263873-f4bb-46e6-d855-abd40288bdda"
      },
      "outputs": [
        {
          "ename": "RuntimeError",
          "evalue": "Failed to open the input \"/content/anel.wav\" (No such file or directory).\nException raised from get_input_format_context at /__w/audio/audio/pytorch/audio/src/libtorio/ffmpeg/stream_reader/stream_reader.cpp:42 (most recent call first):\nframe #0: c10::Error::Error(c10::SourceLocation, std::string) + 0x96 (0x7da60008ef86 in /usr/local/lib/python3.10/dist-packages/torch/lib/libc10.so)\nframe #1: c10::detail::torchCheckFail(char const*, char const*, unsigned int, std::string const&) + 0x64 (0x7da60003dd10 in /usr/local/lib/python3.10/dist-packages/torch/lib/libc10.so)\nframe #2: <unknown function> + 0x41ff4 (0x7da5e3e80ff4 in /usr/local/lib/python3.10/dist-packages/torio/lib/libtorio_ffmpeg4.so)\nframe #3: torio::io::StreamingMediaDecoder::StreamingMediaDecoder(std::string const&, std::optional<std::string> const&, std::optional<std::map<std::string, std::string, std::less<std::string>, std::allocator<std::pair<std::string const, std::string> > > > const&) + 0x14 (0x7da5e3e839f4 in /usr/local/lib/python3.10/dist-packages/torio/lib/libtorio_ffmpeg4.so)\nframe #4: <unknown function> + 0x3aa7e (0x7da4e03a2a7e in /usr/local/lib/python3.10/dist-packages/torio/lib/_torio_ffmpeg4.so)\nframe #5: <unknown function> + 0x32647 (0x7da4e039a647 in /usr/local/lib/python3.10/dist-packages/torio/lib/_torio_ffmpeg4.so)\nframe #6: <unknown function> + 0x15adae (0x58297bd8adae in /usr/bin/python3)\nframe #7: _PyObject_MakeTpCall + 0x25b (0x58297bd8152b in /usr/bin/python3)\nframe #8: <unknown function> + 0x169680 (0x58297bd99680 in /usr/bin/python3)\nframe #9: <unknown function> + 0x165dc7 (0x58297bd95dc7 in /usr/bin/python3)\nframe #10: <unknown function> + 0x1518db (0x58297bd818db in /usr/bin/python3)\nframe #11: <unknown function> + 0xf6bb (0x7da61944c6bb in /usr/local/lib/python3.10/dist-packages/torchaudio/lib/_torchaudio.so)\nframe #12: _PyObject_MakeTpCall + 0x25b (0x58297bd8152b in /usr/bin/python3)\nframe #13: _PyEval_EvalFrameDefault + 0x6f0b (0x58297bd7a16b in /usr/bin/python3)\nframe #14: _PyObject_FastCallDictTstate + 0xc4 (0x58297bd806c4 in /usr/bin/python3)\nframe #15: <unknown function> + 0x1657a4 (0x58297bd957a4 in /usr/bin/python3)\nframe #16: _PyObject_MakeTpCall + 0x1fc (0x58297bd814cc in /usr/bin/python3)\nframe #17: _PyEval_EvalFrameDefault + 0x6f0b (0x58297bd7a16b in /usr/bin/python3)\nframe #18: _PyFunction_Vectorcall + 0x7c (0x58297bd8b6ac in /usr/bin/python3)\nframe #19: _PyEval_EvalFrameDefault + 0x6d5 (0x58297bd73935 in /usr/bin/python3)\nframe #20: _PyFunction_Vectorcall + 0x7c (0x58297bd8b6ac in /usr/bin/python3)\nframe #21: _PyEval_EvalFrameDefault + 0x64e2 (0x58297bd79742 in /usr/bin/python3)\nframe #22: _PyFunction_Vectorcall + 0x7c (0x58297bd8b6ac in /usr/bin/python3)\nframe #23: _PyEval_EvalFrameDefault + 0x19b6 (0x58297bd74c16 in /usr/bin/python3)\nframe #24: <unknown function> + 0x140096 (0x58297bd70096 in /usr/bin/python3)\nframe #25: PyEval_EvalCode + 0x86 (0x58297be65f66 in /usr/bin/python3)\nframe #26: <unknown function> + 0x23ba2d (0x58297be6ba2d in /usr/bin/python3)\nframe #27: <unknown function> + 0x15b909 (0x58297bd8b909 in /usr/bin/python3)\nframe #28: _PyEval_EvalFrameDefault + 0x6d5 (0x58297bd73935 in /usr/bin/python3)\nframe #29: <unknown function> + 0x1788d0 (0x58297bda88d0 in /usr/bin/python3)\nframe #30: _PyEval_EvalFrameDefault + 0x2891 (0x58297bd75af1 in /usr/bin/python3)\nframe #31: <unknown function> + 0x1788d0 (0x58297bda88d0 in /usr/bin/python3)\nframe #32: _PyEval_EvalFrameDefault + 0x2891 (0x58297bd75af1 in /usr/bin/python3)\nframe #33: <unknown function> + 0x1788d0 (0x58297bda88d0 in /usr/bin/python3)\nframe #34: <unknown function> + 0x2566ff (0x58297be866ff in /usr/bin/python3)\nframe #35: <unknown function> + 0x16700a (0x58297bd9700a in /usr/bin/python3)\nframe #36: _PyEval_EvalFrameDefault + 0x8cb (0x58297bd73b2b in /usr/bin/python3)\nframe #37: _PyFunction_Vectorcall + 0x7c (0x58297bd8b6ac in /usr/bin/python3)\nframe #38: _PyEval_EvalFrameDefault + 0x6d5 (0x58297bd73935 in /usr/bin/python3)\nframe #39: _PyFunction_Vectorcall + 0x7c (0x58297bd8b6ac in /usr/bin/python3)\nframe #40: _PyEval_EvalFrameDefault + 0x8cb (0x58297bd73b2b in /usr/bin/python3)\nframe #41: <unknown function> + 0x169251 (0x58297bd99251 in /usr/bin/python3)\nframe #42: PyObject_Call + 0x122 (0x58297bd99f02 in /usr/bin/python3)\nframe #43: _PyEval_EvalFrameDefault + 0x2a49 (0x58297bd75ca9 in /usr/bin/python3)\nframe #44: <unknown function> + 0x169251 (0x58297bd99251 in /usr/bin/python3)\nframe #45: _PyEval_EvalFrameDefault + 0x19b6 (0x58297bd74c16 in /usr/bin/python3)\nframe #46: <unknown function> + 0x201a15 (0x58297be31a15 in /usr/bin/python3)\nframe #47: <unknown function> + 0x15b909 (0x58297bd8b909 in /usr/bin/python3)\nframe #48: <unknown function> + 0x2378e5 (0x58297be678e5 in /usr/bin/python3)\nframe #49: <unknown function> + 0x2b42c2 (0x58297bee42c2 in /usr/bin/python3)\nframe #50: <unknown function> + 0x14e44b (0x58297bd7e44b in /usr/bin/python3)\nframe #51: _PyEval_EvalFrameDefault + 0x6d5 (0x58297bd73935 in /usr/bin/python3)\nframe #52: _PyFunction_Vectorcall + 0x7c (0x58297bd8b6ac in /usr/bin/python3)\nframe #53: _PyEval_EvalFrameDefault + 0x8cb (0x58297bd73b2b in /usr/bin/python3)\nframe #54: <unknown function> + 0x201a15 (0x58297be31a15 in /usr/bin/python3)\nframe #55: <unknown function> + 0x15b909 (0x58297bd8b909 in /usr/bin/python3)\nframe #56: <unknown function> + 0x2378e5 (0x58297be678e5 in /usr/bin/python3)\nframe #57: <unknown function> + 0x2b42c2 (0x58297bee42c2 in /usr/bin/python3)\nframe #58: <unknown function> + 0x14e44b (0x58297bd7e44b in /usr/bin/python3)\nframe #59: _PyEval_EvalFrameDefault + 0x6d5 (0x58297bd73935 in /usr/bin/python3)\nframe #60: <unknown function> + 0x169251 (0x58297bd99251 in /usr/bin/python3)\nframe #61: _PyEval_EvalFrameDefault + 0x6d5 (0x58297bd73935 in /usr/bin/python3)\nframe #62: <unknown function> + 0x201a15 (0x58297be31a15 in /usr/bin/python3)\n",
          "output_type": "error",
          "traceback": [
            "\u001b[0;31m---------------------------------------------------------------------------\u001b[0m",
            "\u001b[0;31mRuntimeError\u001b[0m                              Traceback (most recent call last)",
            "\u001b[0;32m<ipython-input-91-f553ccc5ec21>\u001b[0m in \u001b[0;36m<cell line: 1>\u001b[0;34m()\u001b[0m\n\u001b[0;32m----> 1\u001b[0;31m \u001b[0mx\u001b[0m\u001b[0;34m,\u001b[0m \u001b[0msample_rate\u001b[0m \u001b[0;34m=\u001b[0m \u001b[0mtorchaudio\u001b[0m\u001b[0;34m.\u001b[0m\u001b[0mload\u001b[0m\u001b[0;34m(\u001b[0m\u001b[0;34m'/content/anel.wav'\u001b[0m\u001b[0;34m,\u001b[0m \u001b[0mnormalize\u001b[0m\u001b[0;34m=\u001b[0m\u001b[0;32mTrue\u001b[0m\u001b[0;34m)\u001b[0m\u001b[0;34m\u001b[0m\u001b[0;34m\u001b[0m\u001b[0m\n\u001b[0m\u001b[1;32m      2\u001b[0m \u001b[0;31m#x = x[:,int(data.size(1)*0.2):]\u001b[0m\u001b[0;34m\u001b[0m\u001b[0;34m\u001b[0m\u001b[0m\n\u001b[1;32m      3\u001b[0m \u001b[0mdata\u001b[0m \u001b[0;34m=\u001b[0m \u001b[0mtransformer\u001b[0m\u001b[0;34m(\u001b[0m\u001b[0mx\u001b[0m\u001b[0;34m)\u001b[0m\u001b[0;34m\u001b[0m\u001b[0;34m\u001b[0m\u001b[0m\n\u001b[1;32m      4\u001b[0m \u001b[0mdata\u001b[0m \u001b[0;34m=\u001b[0m \u001b[0mdata\u001b[0m\u001b[0;34m.\u001b[0m\u001b[0msqueeze\u001b[0m\u001b[0;34m(\u001b[0m\u001b[0;34m)\u001b[0m\u001b[0;34m\u001b[0m\u001b[0;34m\u001b[0m\u001b[0m\n\u001b[1;32m      5\u001b[0m \u001b[0mdata\u001b[0m \u001b[0;34m=\u001b[0m \u001b[0mtorch\u001b[0m\u001b[0;34m.\u001b[0m\u001b[0munsqueeze\u001b[0m\u001b[0;34m(\u001b[0m\u001b[0mdata\u001b[0m\u001b[0;34m,\u001b[0m\u001b[0mdim\u001b[0m\u001b[0;34m=\u001b[0m\u001b[0;36m0\u001b[0m\u001b[0;34m)\u001b[0m\u001b[0;34m\u001b[0m\u001b[0;34m\u001b[0m\u001b[0m\n",
            "\u001b[0;32m/usr/local/lib/python3.10/dist-packages/torchaudio/_backend/utils.py\u001b[0m in \u001b[0;36mload\u001b[0;34m(uri, frame_offset, num_frames, normalize, channels_first, format, buffer_size, backend)\u001b[0m\n\u001b[1;32m    203\u001b[0m         \"\"\"\n\u001b[1;32m    204\u001b[0m         \u001b[0mbackend\u001b[0m \u001b[0;34m=\u001b[0m \u001b[0mdispatcher\u001b[0m\u001b[0;34m(\u001b[0m\u001b[0muri\u001b[0m\u001b[0;34m,\u001b[0m \u001b[0mformat\u001b[0m\u001b[0;34m,\u001b[0m \u001b[0mbackend\u001b[0m\u001b[0;34m)\u001b[0m\u001b[0;34m\u001b[0m\u001b[0;34m\u001b[0m\u001b[0m\n\u001b[0;32m--> 205\u001b[0;31m         \u001b[0;32mreturn\u001b[0m \u001b[0mbackend\u001b[0m\u001b[0;34m.\u001b[0m\u001b[0mload\u001b[0m\u001b[0;34m(\u001b[0m\u001b[0muri\u001b[0m\u001b[0;34m,\u001b[0m \u001b[0mframe_offset\u001b[0m\u001b[0;34m,\u001b[0m \u001b[0mnum_frames\u001b[0m\u001b[0;34m,\u001b[0m \u001b[0mnormalize\u001b[0m\u001b[0;34m,\u001b[0m \u001b[0mchannels_first\u001b[0m\u001b[0;34m,\u001b[0m \u001b[0mformat\u001b[0m\u001b[0;34m,\u001b[0m \u001b[0mbuffer_size\u001b[0m\u001b[0;34m)\u001b[0m\u001b[0;34m\u001b[0m\u001b[0;34m\u001b[0m\u001b[0m\n\u001b[0m\u001b[1;32m    206\u001b[0m \u001b[0;34m\u001b[0m\u001b[0m\n\u001b[1;32m    207\u001b[0m     \u001b[0;32mreturn\u001b[0m \u001b[0mload\u001b[0m\u001b[0;34m\u001b[0m\u001b[0;34m\u001b[0m\u001b[0m\n",
            "\u001b[0;32m/usr/local/lib/python3.10/dist-packages/torchaudio/_backend/ffmpeg.py\u001b[0m in \u001b[0;36mload\u001b[0;34m(uri, frame_offset, num_frames, normalize, channels_first, format, buffer_size)\u001b[0m\n\u001b[1;32m    295\u001b[0m         \u001b[0mbuffer_size\u001b[0m\u001b[0;34m:\u001b[0m \u001b[0mint\u001b[0m \u001b[0;34m=\u001b[0m \u001b[0;36m4096\u001b[0m\u001b[0;34m,\u001b[0m\u001b[0;34m\u001b[0m\u001b[0;34m\u001b[0m\u001b[0m\n\u001b[1;32m    296\u001b[0m     ) -> Tuple[torch.Tensor, int]:\n\u001b[0;32m--> 297\u001b[0;31m         \u001b[0;32mreturn\u001b[0m \u001b[0mload_audio\u001b[0m\u001b[0;34m(\u001b[0m\u001b[0muri\u001b[0m\u001b[0;34m,\u001b[0m \u001b[0mframe_offset\u001b[0m\u001b[0;34m,\u001b[0m \u001b[0mnum_frames\u001b[0m\u001b[0;34m,\u001b[0m \u001b[0mnormalize\u001b[0m\u001b[0;34m,\u001b[0m \u001b[0mchannels_first\u001b[0m\u001b[0;34m,\u001b[0m \u001b[0mformat\u001b[0m\u001b[0;34m)\u001b[0m\u001b[0;34m\u001b[0m\u001b[0;34m\u001b[0m\u001b[0m\n\u001b[0m\u001b[1;32m    298\u001b[0m \u001b[0;34m\u001b[0m\u001b[0m\n\u001b[1;32m    299\u001b[0m     \u001b[0;34m@\u001b[0m\u001b[0mstaticmethod\u001b[0m\u001b[0;34m\u001b[0m\u001b[0;34m\u001b[0m\u001b[0m\n",
            "\u001b[0;32m/usr/local/lib/python3.10/dist-packages/torchaudio/_backend/ffmpeg.py\u001b[0m in \u001b[0;36mload_audio\u001b[0;34m(src, frame_offset, num_frames, convert, channels_first, format, buffer_size)\u001b[0m\n\u001b[1;32m     86\u001b[0m     \u001b[0;32mif\u001b[0m \u001b[0mhasattr\u001b[0m\u001b[0;34m(\u001b[0m\u001b[0msrc\u001b[0m\u001b[0;34m,\u001b[0m \u001b[0;34m\"read\"\u001b[0m\u001b[0;34m)\u001b[0m \u001b[0;32mand\u001b[0m \u001b[0mformat\u001b[0m \u001b[0;34m==\u001b[0m \u001b[0;34m\"vorbis\"\u001b[0m\u001b[0;34m:\u001b[0m\u001b[0;34m\u001b[0m\u001b[0;34m\u001b[0m\u001b[0m\n\u001b[1;32m     87\u001b[0m         \u001b[0mformat\u001b[0m \u001b[0;34m=\u001b[0m \u001b[0;34m\"ogg\"\u001b[0m\u001b[0;34m\u001b[0m\u001b[0;34m\u001b[0m\u001b[0m\n\u001b[0;32m---> 88\u001b[0;31m     \u001b[0ms\u001b[0m \u001b[0;34m=\u001b[0m \u001b[0mtorchaudio\u001b[0m\u001b[0;34m.\u001b[0m\u001b[0mio\u001b[0m\u001b[0;34m.\u001b[0m\u001b[0mStreamReader\u001b[0m\u001b[0;34m(\u001b[0m\u001b[0msrc\u001b[0m\u001b[0;34m,\u001b[0m \u001b[0mformat\u001b[0m\u001b[0;34m,\u001b[0m \u001b[0;32mNone\u001b[0m\u001b[0;34m,\u001b[0m \u001b[0mbuffer_size\u001b[0m\u001b[0;34m)\u001b[0m\u001b[0;34m\u001b[0m\u001b[0;34m\u001b[0m\u001b[0m\n\u001b[0m\u001b[1;32m     89\u001b[0m     \u001b[0msample_rate\u001b[0m \u001b[0;34m=\u001b[0m \u001b[0mint\u001b[0m\u001b[0;34m(\u001b[0m\u001b[0ms\u001b[0m\u001b[0;34m.\u001b[0m\u001b[0mget_src_stream_info\u001b[0m\u001b[0;34m(\u001b[0m\u001b[0ms\u001b[0m\u001b[0;34m.\u001b[0m\u001b[0mdefault_audio_stream\u001b[0m\u001b[0;34m)\u001b[0m\u001b[0;34m.\u001b[0m\u001b[0msample_rate\u001b[0m\u001b[0;34m)\u001b[0m\u001b[0;34m\u001b[0m\u001b[0;34m\u001b[0m\u001b[0m\n\u001b[1;32m     90\u001b[0m     \u001b[0mfilter\u001b[0m \u001b[0;34m=\u001b[0m \u001b[0m_get_load_filter\u001b[0m\u001b[0;34m(\u001b[0m\u001b[0mframe_offset\u001b[0m\u001b[0;34m,\u001b[0m \u001b[0mnum_frames\u001b[0m\u001b[0;34m,\u001b[0m \u001b[0mconvert\u001b[0m\u001b[0;34m)\u001b[0m\u001b[0;34m\u001b[0m\u001b[0;34m\u001b[0m\u001b[0m\n",
            "\u001b[0;32m/usr/local/lib/python3.10/dist-packages/torio/io/_streaming_media_decoder.py\u001b[0m in \u001b[0;36m__init__\u001b[0;34m(self, src, format, option, buffer_size)\u001b[0m\n\u001b[1;32m    524\u001b[0m             \u001b[0mself\u001b[0m\u001b[0;34m.\u001b[0m\u001b[0m_be\u001b[0m \u001b[0;34m=\u001b[0m \u001b[0mffmpeg_ext\u001b[0m\u001b[0;34m.\u001b[0m\u001b[0mStreamingMediaDecoderFileObj\u001b[0m\u001b[0;34m(\u001b[0m\u001b[0msrc\u001b[0m\u001b[0;34m,\u001b[0m \u001b[0mformat\u001b[0m\u001b[0;34m,\u001b[0m \u001b[0moption\u001b[0m\u001b[0;34m,\u001b[0m \u001b[0mbuffer_size\u001b[0m\u001b[0;34m)\u001b[0m\u001b[0;34m\u001b[0m\u001b[0;34m\u001b[0m\u001b[0m\n\u001b[1;32m    525\u001b[0m         \u001b[0;32melse\u001b[0m\u001b[0;34m:\u001b[0m\u001b[0;34m\u001b[0m\u001b[0;34m\u001b[0m\u001b[0m\n\u001b[0;32m--> 526\u001b[0;31m             \u001b[0mself\u001b[0m\u001b[0;34m.\u001b[0m\u001b[0m_be\u001b[0m \u001b[0;34m=\u001b[0m \u001b[0mffmpeg_ext\u001b[0m\u001b[0;34m.\u001b[0m\u001b[0mStreamingMediaDecoder\u001b[0m\u001b[0;34m(\u001b[0m\u001b[0mos\u001b[0m\u001b[0;34m.\u001b[0m\u001b[0mpath\u001b[0m\u001b[0;34m.\u001b[0m\u001b[0mnormpath\u001b[0m\u001b[0;34m(\u001b[0m\u001b[0msrc\u001b[0m\u001b[0;34m)\u001b[0m\u001b[0;34m,\u001b[0m \u001b[0mformat\u001b[0m\u001b[0;34m,\u001b[0m \u001b[0moption\u001b[0m\u001b[0;34m)\u001b[0m\u001b[0;34m\u001b[0m\u001b[0;34m\u001b[0m\u001b[0m\n\u001b[0m\u001b[1;32m    527\u001b[0m \u001b[0;34m\u001b[0m\u001b[0m\n\u001b[1;32m    528\u001b[0m         \u001b[0mi\u001b[0m \u001b[0;34m=\u001b[0m \u001b[0mself\u001b[0m\u001b[0;34m.\u001b[0m\u001b[0m_be\u001b[0m\u001b[0;34m.\u001b[0m\u001b[0mfind_best_audio_stream\u001b[0m\u001b[0;34m(\u001b[0m\u001b[0;34m)\u001b[0m\u001b[0;34m\u001b[0m\u001b[0;34m\u001b[0m\u001b[0m\n",
            "\u001b[0;31mRuntimeError\u001b[0m: Failed to open the input \"/content/anel.wav\" (No such file or directory).\nException raised from get_input_format_context at /__w/audio/audio/pytorch/audio/src/libtorio/ffmpeg/stream_reader/stream_reader.cpp:42 (most recent call first):\nframe #0: c10::Error::Error(c10::SourceLocation, std::string) + 0x96 (0x7da60008ef86 in /usr/local/lib/python3.10/dist-packages/torch/lib/libc10.so)\nframe #1: c10::detail::torchCheckFail(char const*, char const*, unsigned int, std::string const&) + 0x64 (0x7da60003dd10 in /usr/local/lib/python3.10/dist-packages/torch/lib/libc10.so)\nframe #2: <unknown function> + 0x41ff4 (0x7da5e3e80ff4 in /usr/local/lib/python3.10/dist-packages/torio/lib/libtorio_ffmpeg4.so)\nframe #3: torio::io::StreamingMediaDecoder::StreamingMediaDecoder(std::string const&, std::optional<std::string> const&, std::optional<std::map<std::string, std::string, std::less<std::string>, std::allocator<std::pair<std::string const, std::string> > > > const&) + 0x14 (0x7da5e3e839f4 in /usr/local/lib/python3.10/dist-packages/torio/lib/libtorio_ffmpeg4.so)\nframe #4: <unknown function> + 0x3aa7e (0x7da4e03a2a7e in /usr/local/lib/python3.10/dist-packages/torio/lib/_torio_ffmpeg4.so)\nframe #5: <unknown function> + 0x32647 (0x7da4e039a647 in /usr/local/lib/python3.10/dist-packages/torio/lib/_torio_ffmpeg4.so)\nframe #6: <unknown function> + 0x15adae (0x58297bd8adae in /usr/bin/python3)\nframe #7: _PyObject_MakeTpCall + 0x25b (0x58297bd8152b in /usr/bin/python3)\nframe #8: <unknown function> + 0x169680 (0x58297bd99680 in /usr/bin/python3)\nframe #9: <unknown function> + 0x165dc7 (0x58297bd95dc7 in /usr/bin/python3)\nframe #10: <unknown function> + 0x1518db (0x58297bd818db in /usr/bin/python3)\nframe #11: <unknown function> + 0xf6bb (0x7da61944c6bb in /usr/local/lib/python3.10/dist-packages/torchaudio/lib/_torchaudio.so)\nframe #12: _PyObject_MakeTpCall + 0x25b (0x58297bd8152b in /usr/bin/python3)\nframe #13: _PyEval_EvalFrameDefault + 0x6f0b (0x58297bd7a16b in /usr/bin/python3)\nframe #14: _PyObject_FastCallDictTstate + 0xc4 (0x58297bd806c4 in /usr/bin/python3)\nframe #15: <unknown function> + 0x1657a4 (0x58297bd957a4 in /usr/bin/python3)\nframe #16: _PyObject_MakeTpCall + 0x1fc (0x58297bd814cc in /usr/bin/python3)\nframe #17: _PyEval_EvalFrameDefault + 0x6f0b (0x58297bd7a16b in /usr/bin/python3)\nframe #18: _PyFunction_Vectorcall + 0x7c (0x58297bd8b6ac in /usr/bin/python3)\nframe #19: _PyEval_EvalFrameDefault + 0x6d5 (0x58297bd73935 in /usr/bin/python3)\nframe #20: _PyFunction_Vectorcall + 0x7c (0x58297bd8b6ac in /usr/bin/python3)\nframe #21: _PyEval_EvalFrameDefault + 0x64e2 (0x58297bd79742 in /usr/bin/python3)\nframe #22: _PyFunction_Vectorcall + 0x7c (0x58297bd8b6ac in /usr/bin/python3)\nframe #23: _PyEval_EvalFrameDefault + 0x19b6 (0x58297bd74c16 in /usr/bin/python3)\nframe #24: <unknown function> + 0x140096 (0x58297bd70096 in /usr/bin/python3)\nframe #25: PyEval_EvalCode + 0x86 (0x58297be65f66 in /usr/bin/python3)\nframe #26: <unknown function> + 0x23ba2d (0x58297be6ba2d in /usr/bin/python3)\nframe #27: <unknown function> + 0x15b909 (0x58297bd8b909 in /usr/bin/python3)\nframe #28: _PyEval_EvalFrameDefault + 0x6d5 (0x58297bd73935 in /usr/bin/python3)\nframe #29: <unknown function> + 0x1788d0 (0x58297bda88d0 in /usr/bin/python3)\nframe #30: _PyEval_EvalFrameDefault + 0x2891 (0x58297bd75af1 in /usr/bin/python3)\nframe #31: <unknown function> + 0x1788d0 (0x58297bda88d0 in /usr/bin/python3)\nframe #32: _PyEval_EvalFrameDefault + 0x2891 (0x58297bd75af1 in /usr/bin/python3)\nframe #33: <unknown function> + 0x1788d0 (0x58297bda88d0 in /usr/bin/python3)\nframe #34: <unknown function> + 0x2566ff (0x58297be866ff in /usr/bin/python3)\nframe #35: <unknown function> + 0x16700a (0x58297bd9700a in /usr/bin/python3)\nframe #36: _PyEval_EvalFrameDefault + 0x8cb (0x58297bd73b2b in /usr/bin/python3)\nframe #37: _PyFunction_Vectorcall + 0x7c (0x58297bd8b6ac in /usr/bin/python3)\nframe #38: _PyEval_EvalFrameDefault + 0x6d5 (0x58297bd73935 in /usr/bin/python3)\nframe #39: _PyFunction_Vectorcall + 0x7c (0x58297bd8b6ac in /usr/bin/python3)\nframe #40: _PyEval_EvalFrameDefault + 0x8cb (0x58297bd73b2b in /usr/bin/python3)\nframe #41: <unknown function> + 0x169251 (0x58297bd99251 in /usr/bin/python3)\nframe #42: PyObject_Call + 0x122 (0x58297bd99f02 in /usr/bin/python3)\nframe #43: _PyEval_EvalFrameDefault + 0x2a49 (0x58297bd75ca9 in /usr/bin/python3)\nframe #44: <unknown function> + 0x169251 (0x58297bd99251 in /usr/bin/python3)\nframe #45: _PyEval_EvalFrameDefault + 0x19b6 (0x58297bd74c16 in /usr/bin/python3)\nframe #46: <unknown function> + 0x201a15 (0x58297be31a15 in /usr/bin/python3)\nframe #47: <unknown function> + 0x15b909 (0x58297bd8b909 in /usr/bin/python3)\nframe #48: <unknown function> + 0x2378e5 (0x58297be678e5 in /usr/bin/python3)\nframe #49: <unknown function> + 0x2b42c2 (0x58297bee42c2 in /usr/bin/python3)\nframe #50: <unknown function> + 0x14e44b (0x58297bd7e44b in /usr/bin/python3)\nframe #51: _PyEval_EvalFrameDefault + 0x6d5 (0x58297bd73935 in /usr/bin/python3)\nframe #52: _PyFunction_Vectorcall + 0x7c (0x58297bd8b6ac in /usr/bin/python3)\nframe #53: _PyEval_EvalFrameDefault + 0x8cb (0x58297bd73b2b in /usr/bin/python3)\nframe #54: <unknown function> + 0x201a15 (0x58297be31a15 in /usr/bin/python3)\nframe #55: <unknown function> + 0x15b909 (0x58297bd8b909 in /usr/bin/python3)\nframe #56: <unknown function> + 0x2378e5 (0x58297be678e5 in /usr/bin/python3)\nframe #57: <unknown function> + 0x2b42c2 (0x58297bee42c2 in /usr/bin/python3)\nframe #58: <unknown function> + 0x14e44b (0x58297bd7e44b in /usr/bin/python3)\nframe #59: _PyEval_EvalFrameDefault + 0x6d5 (0x58297bd73935 in /usr/bin/python3)\nframe #60: <unknown function> + 0x169251 (0x58297bd99251 in /usr/bin/python3)\nframe #61: _PyEval_EvalFrameDefault + 0x6d5 (0x58297bd73935 in /usr/bin/python3)\nframe #62: <unknown function> + 0x201a15 (0x58297be31a15 in /usr/bin/python3)\n"
          ]
        }
      ],
      "source": [
        "x, sample_rate = torchaudio.load('/content/anel.wav', normalize=True)\n",
        "#x = x[:,int(data.size(1)*0.2):]\n",
        "data = transformer(x)\n",
        "data = data.squeeze()\n",
        "data = torch.unsqueeze(data,dim=0)\n",
        "data=data.to(device)"
      ]
    },
    {
      "cell_type": "code",
      "execution_count": null,
      "metadata": {
        "id": "0htZnRadYc2S"
      },
      "outputs": [],
      "source": [
        "data.device"
      ]
    },
    {
      "cell_type": "code",
      "execution_count": null,
      "metadata": {
        "id": "8ojNYRa-UKZk"
      },
      "outputs": [],
      "source": [
        "outputs = model(data)\n",
        "results = F.softmax(outputs,dim=1)"
      ]
    },
    {
      "cell_type": "code",
      "execution_count": null,
      "metadata": {
        "id": "W3CbhkEGaKBG"
      },
      "outputs": [],
      "source": [
        "results"
      ]
    },
    {
      "cell_type": "code",
      "execution_count": null,
      "metadata": {
        "id": "vxL5ZrkYaOfl"
      },
      "outputs": [],
      "source": [
        "class_names[torch.argmax(results)],results[0,2]"
      ]
    },
    {
      "cell_type": "code",
      "execution_count": null,
      "metadata": {
        "id": "DXZ2mJRtbVNH"
      },
      "outputs": [],
      "source": [
        "import IPython.display as display\n",
        "import random"
      ]
    },
    {
      "cell_type": "code",
      "execution_count": null,
      "metadata": {
        "id": "m_jlvz4mbRM9"
      },
      "outputs": [],
      "source": [
        "display.display(display.Audio(x, rate=48000))"
      ]
    },
    {
      "cell_type": "code",
      "execution_count": null,
      "metadata": {
        "id": "H4Ev656sYiU_"
      },
      "outputs": [],
      "source": [
        "plt.bar(class_names,results[0].cpu().detach().numpy())\n"
      ]
    },
    {
      "cell_type": "code",
      "execution_count": null,
      "metadata": {
        "id": "wj-_LhotYmhU"
      },
      "outputs": [],
      "source": [
        "results[0].cpu().detach().numpy()"
      ]
    },
    {
      "cell_type": "code",
      "execution_count": null,
      "metadata": {
        "id": "alf22a2rNesS"
      },
      "outputs": [],
      "source": [
        "torch.save(loaded_model.state_dict(), 'mythirdmodel.pt')"
      ]
    },
    {
      "cell_type": "code",
      "source": [
        "!unrar x testaudio.rar"
      ],
      "metadata": {
        "colab": {
          "base_uri": "https://localhost:8080/"
        },
        "id": "9QgukJbFiPeD",
        "outputId": "81c82e09-85d3-4478-a271-756f4313bb33"
      },
      "execution_count": null,
      "outputs": [
        {
          "output_type": "stream",
          "name": "stdout",
          "text": [
            "\n",
            "UNRAR 6.11 beta 1 freeware      Copyright (c) 1993-2022 Alexander Roshal\n",
            "\n",
            "\n",
            "Extracting from testaudio.rar\n",
            "\n",
            "Creating    testaudio                                                 OK\n",
            "Creating    testaudio/battery                                         OK\n",
            "Creating    testaudio/battery/dodaj                                   OK\n",
            "Extracting  testaudio/battery/dodaj/ajiubbmr.wav                         \b\b\b\b  0%\b\b\b\b\b  OK \n",
            "Extracting  testaudio/battery/dodaj/dane-02.wav                          \b\b\b\b  1%\b\b\b\b\b  OK \n",
            "Extracting  testaudio/battery/dodaj/mam1-02.wav                          \b\b\b\b  1%\b\b\b\b\b  OK \n",
            "Extracting  testaudio/battery/dodaj/naidrtsg.wav                         \b\b\b\b  2%\b\b\b\b\b  OK \n",
            "Extracting  testaudio/battery/dodaj/piuwsjsh.wav                         \b\b\b\b  2%\b\b\b\b\b  OK \n",
            "Extracting  testaudio/battery/dodaj/qmykpypw.wav                         \b\b\b\b  3%\b\b\b\b\b  OK \n",
            "Extracting  testaudio/battery/dodaj/rkbazogk.wav                         \b\b\b\b  4%\b\b\b\b\b  OK \n",
            "Extracting  testaudio/battery/dodaj/tfxhldrl.wav                         \b\b\b\b  4%\b\b\b\b\b  OK \n",
            "Extracting  testaudio/battery/dodaj/xgdescsx.wav                         \b\b\b\b  5%\b\b\b\b\b  OK \n",
            "Creating    testaudio/battery/premjesti                               OK\n",
            "Extracting  testaudio/battery/premjesti/avxuifnq.wav                     \b\b\b\b  5%\b\b\b\b\b  OK \n",
            "Extracting  testaudio/battery/premjesti/dane-01.wav                      \b\b\b\b  6%\b\b\b\b\b  OK \n",
            "Extracting  testaudio/battery/premjesti/gdhxnzml.wav                     \b\b\b\b  7%\b\b\b\b\b  OK \n",
            "Extracting  testaudio/battery/premjesti/giiuipcf.wav                     \b\b\b\b  8%\b\b\b\b\b  OK \n",
            "Extracting  testaudio/battery/premjesti/hyzawrzg.wav                     \b\b\b\b  8%\b\b\b\b\b  OK \n",
            "Extracting  testaudio/battery/premjesti/ipwjoyen.wav                     \b\b\b\b  9%\b\b\b\b\b  OK \n",
            "Extracting  testaudio/battery/premjesti/lgqquimo.wav                     \b\b\b\b 11%\b\b\b\b\b  OK \n",
            "Extracting  testaudio/battery/premjesti/mam1-01.wav                      \b\b\b\b 11%\b\b\b\b\b  OK \n",
            "Extracting  testaudio/battery/premjesti/oftswpsk.wav                     \b\b\b\b 12%\b\b\b\b\b  OK \n",
            "Creating    testaudio/chew-gum                                        OK\n",
            "Creating    testaudio/chew-gum/dodaj                                  OK\n",
            "Extracting  testaudio/chew-gum/dodaj/ciqpveng.wav                        \b\b\b\b 13%\b\b\b\b\b  OK \n",
            "Extracting  testaudio/chew-gum/dodaj/dane-04.wav                         \b\b\b\b 14%\b\b\b\b\b  OK \n",
            "Extracting  testaudio/chew-gum/dodaj/gbxminwi.wav                        \b\b\b\b 14%\b\b\b\b\b  OK \n",
            "Extracting  testaudio/chew-gum/dodaj/itwcrxaw.wav                        \b\b\b\b 15%\b\b\b\b\b  OK \n",
            "Extracting  testaudio/chew-gum/dodaj/kprezhsx.wav                        \b\b\b\b 16%\b\b\b\b\b  OK \n",
            "Extracting  testaudio/chew-gum/dodaj/kxygwxxa.wav                        \b\b\b\b 16%\b\b\b\b\b  OK \n",
            "Extracting  testaudio/chew-gum/dodaj/mam1-04.wav                         \b\b\b\b 17%\b\b\b\b\b  OK \n",
            "Extracting  testaudio/chew-gum/dodaj/nyeodcpb.wav                        \b\b\b\b 18%\b\b\b\b\b  OK \n",
            "Extracting  testaudio/chew-gum/dodaj/oberwbhe.wav                        \b\b\b\b 19%\b\b\b\b\b  OK \n",
            "Creating    testaudio/chew-gum/premjesti                              OK\n",
            "Extracting  testaudio/chew-gum/premjesti/dane-03.wav                     \b\b\b\b 20%\b\b\b\b\b  OK \n",
            "Extracting  testaudio/chew-gum/premjesti/eengokes.wav                    \b\b\b\b 21%\b\b\b\b\b  OK \n",
            "Extracting  testaudio/chew-gum/premjesti/ggednssh.wav                    \b\b\b\b 21%\b\b\b\b\b  OK \n",
            "Extracting  testaudio/chew-gum/premjesti/jyrcfteo.wav                    \b\b\b\b 22%\b\b\b\b\b  OK \n",
            "Extracting  testaudio/chew-gum/premjesti/mam1-03.wav                     \b\b\b\b 23%\b\b\b\b\b  OK \n",
            "Extracting  testaudio/chew-gum/premjesti/mqewugxx.wav                    \b\b\b\b 24%\b\b\b\b\b  OK \n",
            "Extracting  testaudio/chew-gum/premjesti/nnufweok.wav                    \b\b\b\b 25%\b\b\b\b\b  OK \n",
            "Extracting  testaudio/chew-gum/premjesti/qaraebhn.wav                    \b\b\b\b 25%\b\b\b\b\b  OK \n",
            "Extracting  testaudio/chew-gum/premjesti/rhlwmmpa.wav                    \b\b\b\b 26%\b\b\b\b\b  OK \n",
            "Creating    testaudio/chocolate                                       OK\n",
            "Creating    testaudio/chocolate/dodaj                                 OK\n",
            "Extracting  testaudio/chocolate/dodaj/dane-06.wav                        \b\b\b\b 27%\b\b\b\b\b  OK \n",
            "Extracting  testaudio/chocolate/dodaj/dyenqhag.wav                       \b\b\b\b 27%\b\b\b\b\b  OK \n",
            "Extracting  testaudio/chocolate/dodaj/hjgthdmt.wav                       \b\b\b\b 28%\b\b\b\b\b  OK \n",
            "Extracting  testaudio/chocolate/dodaj/jqadiszv.wav                       \b\b\b\b 28%\b\b\b\b\b  OK \n",
            "Extracting  testaudio/chocolate/dodaj/lxbkkttz.wav                       \b\b\b\b 29%\b\b\b\b\b  OK \n",
            "Extracting  testaudio/chocolate/dodaj/mam1-06.wav                        \b\b\b\b 30%\b\b\b\b\b  OK \n",
            "Extracting  testaudio/chocolate/dodaj/onbvjvau.wav                       \b\b\b\b 30%\b\b\b\b\b  OK \n",
            "Extracting  testaudio/chocolate/dodaj/ouzxxfss.wav                       \b\b\b\b 31%\b\b\b\b\b  OK \n",
            "Extracting  testaudio/chocolate/dodaj/qvlmdkrc.wav                       \b\b\b\b 32%\b\b\b\b\b  OK \n",
            "Creating    testaudio/chocolate/premjesti                             OK\n",
            "Extracting  testaudio/chocolate/premjesti/bdjzlnol.wav                   \b\b\b\b 33%\b\b\b\b\b  OK \n",
            "Extracting  testaudio/chocolate/premjesti/dane-05.wav                    \b\b\b\b 33%\b\b\b\b\b  OK \n",
            "Extracting  testaudio/chocolate/premjesti/fepnfagm.wav                   \b\b\b\b 34%\b\b\b\b\b  OK \n",
            "Extracting  testaudio/chocolate/premjesti/jgwwbhzc.wav                   \b\b\b\b 35%\b\b\b\b\b  OK \n",
            "Extracting  testaudio/chocolate/premjesti/lrytxixx.wav                   \b\b\b\b 35%\b\b\b\b\b  OK \n",
            "Extracting  testaudio/chocolate/premjesti/mam1-05.wav                    \b\b\b\b 36%\b\b\b\b\b  OK \n",
            "Extracting  testaudio/chocolate/premjesti/raucawef.wav                   \b\b\b\b 37%\b\b\b\b\b  OK \n",
            "Extracting  testaudio/chocolate/premjesti/xllphwev.wav                   \b\b\b\b 37%\b\b\b\b\b  OK \n",
            "Extracting  testaudio/chocolate/premjesti/zkcsgnsb.wav                   \b\b\b\b 38%\b\b\b\b\b  OK \n",
            "Creating    testaudio/cigaretes                                       OK\n",
            "Creating    testaudio/cigaretes/dodaj                                 OK\n",
            "Extracting  testaudio/cigaretes/dodaj/dane-08.wav                        \b\b\b\b 39%\b\b\b\b\b  OK \n",
            "Extracting  testaudio/cigaretes/dodaj/gwanhwmp.wav                       \b\b\b\b 39%\b\b\b\b\b  OK \n",
            "Extracting  testaudio/cigaretes/dodaj/mam1-08.wav                        \b\b\b\b 40%\b\b\b\b\b  OK \n",
            "Extracting  testaudio/cigaretes/dodaj/mqgtxgwa.wav                       \b\b\b\b 41%\b\b\b\b\b  OK \n",
            "Extracting  testaudio/cigaretes/dodaj/qxkntjqb.wav                       \b\b\b\b 41%\b\b\b\b\b  OK \n",
            "Extracting  testaudio/cigaretes/dodaj/siilztts.wav                       \b\b\b\b 42%\b\b\b\b\b  OK \n",
            "Extracting  testaudio/cigaretes/dodaj/swfvfckr.wav                       \b\b\b\b 42%\b\b\b\b\b  OK \n",
            "Extracting  testaudio/cigaretes/dodaj/xgnobbjj.wav                       \b\b\b\b 43%\b\b\b\b\b  OK \n",
            "Extracting  testaudio/cigaretes/dodaj/zrtoyadu.wav                       \b\b\b\b 43%\b\b\b\b\b  OK \n",
            "Creating    testaudio/cigaretes/premjesti                             OK\n",
            "Extracting  testaudio/cigaretes/premjesti/dane-07.wav                    \b\b\b\b 44%\b\b\b\b\b  OK \n",
            "Extracting  testaudio/cigaretes/premjesti/dymmcjhq.wav                   \b\b\b\b 45%\b\b\b\b\b  OK \n",
            "Extracting  testaudio/cigaretes/premjesti/mam1-07.wav                    \b\b\b\b 46%\b\b\b\b\b  OK \n",
            "Extracting  testaudio/cigaretes/premjesti/ntmqazsf.wav                   \b\b\b\b 46%\b\b\b\b\b  OK \n",
            "Extracting  testaudio/cigaretes/premjesti/rntbarzc.wav                   \b\b\b\b 47%\b\b\b\b\b  OK \n",
            "Extracting  testaudio/cigaretes/premjesti/rpkbtkwz.wav                   \b\b\b\b 48%\b\b\b\b\b  OK \n",
            "Extracting  testaudio/cigaretes/premjesti/tqmhmutd.wav                   \b\b\b\b 48%\b\b\b\b\b  OK \n",
            "Extracting  testaudio/cigaretes/premjesti/yaduxtgg.wav                   \b\b\b\b 49%\b\b\b\b\b  OK \n",
            "Extracting  testaudio/cigaretes/premjesti/yfjaufgw.wav                   \b\b\b\b 49%\b\b\b\b\b  OK \n",
            "Creating    testaudio/lighter                                         OK\n",
            "Creating    testaudio/lighter/dodaj                                   OK\n",
            "Extracting  testaudio/lighter/dodaj/dane-10.wav                          \b\b\b\b 50%\b\b\b\b\b  OK \n",
            "Extracting  testaudio/lighter/dodaj/dmaiglvd.wav                         \b\b\b\b 50%\b\b\b\b\b  OK \n",
            "Extracting  testaudio/lighter/dodaj/kwgvinup.wav                         \b\b\b\b 51%\b\b\b\b\b  OK \n",
            "Extracting  testaudio/lighter/dodaj/mam2-02.wav                          \b\b\b\b 51%\b\b\b\b\b  OK \n",
            "Extracting  testaudio/lighter/dodaj/nekfcwjh.wav                         \b\b\b\b 52%\b\b\b\b\b  OK \n",
            "Extracting  testaudio/lighter/dodaj/pyycpmjc.wav                         \b\b\b\b 53%\b\b\b\b\b  OK \n",
            "Extracting  testaudio/lighter/dodaj/qemktejl.wav                         \b\b\b\b 54%\b\b\b\b\b  OK \n",
            "Extracting  testaudio/lighter/dodaj/thwpouub.wav                         \b\b\b\b 55%\b\b\b\b\b  OK \n",
            "Extracting  testaudio/lighter/dodaj/wzggamlt.wav                         \b\b\b\b 55%\b\b\b\b\b  OK \n",
            "Creating    testaudio/lighter/premjesti                               OK\n",
            "Extracting  testaudio/lighter/premjesti/dane-09.wav                      \b\b\b\b 56%\b\b\b\b\b  OK \n",
            "Extracting  testaudio/lighter/premjesti/dqfdpxqg.wav                     \b\b\b\b 56%\b\b\b\b\b  OK \n",
            "Extracting  testaudio/lighter/premjesti/gwvkvkag.wav                     \b\b\b\b 57%\b\b\b\b\b  OK \n",
            "Extracting  testaudio/lighter/premjesti/mam2-01.wav                      \b\b\b\b 58%\b\b\b\b\b  OK \n",
            "Extracting  testaudio/lighter/premjesti/nipxtrmc.wav                     \b\b\b\b 58%\b\b\b\b\b  OK \n",
            "Extracting  testaudio/lighter/premjesti/noujjzhr.wav                     \b\b\b\b 59%\b\b\b\b\b  OK \n",
            "Extracting  testaudio/lighter/premjesti/xkxtcwzn.wav                     \b\b\b\b 60%\b\b\b\b\b  OK \n",
            "Extracting  testaudio/lighter/premjesti/ynlfhmfb.wav                     \b\b\b\b 60%\b\b\b\b\b  OK \n",
            "Extracting  testaudio/lighter/premjesti/zqrktzsw.wav                     \b\b\b\b 61%\b\b\b\b\b  OK \n",
            "Creating    testaudio/pen                                             OK\n",
            "Creating    testaudio/pen/dodaj                                       OK\n",
            "Extracting  testaudio/pen/dodaj/clvwpztk.wav                             \b\b\b\b 62%\b\b\b\b\b  OK \n",
            "Extracting  testaudio/pen/dodaj/dane-12.wav                              \b\b\b\b 62%\b\b\b\b\b  OK \n",
            "Extracting  testaudio/pen/dodaj/dsutttrc.wav                             \b\b\b\b 63%\b\b\b\b\b  OK \n",
            "Extracting  testaudio/pen/dodaj/mam2-04.wav                              \b\b\b\b 64%\b\b\b\b\b  OK \n",
            "Extracting  testaudio/pen/dodaj/njtnlshf.wav                             \b\b\b\b 65%\b\b\b\b\b  OK \n",
            "Extracting  testaudio/pen/dodaj/ofzhimfa.wav                             \b\b\b\b 65%\b\b\b\b\b  OK \n",
            "Extracting  testaudio/pen/dodaj/ugxnuruh.wav                             \b\b\b\b 67%\b\b\b\b\b  OK \n",
            "Extracting  testaudio/pen/dodaj/xjuwaiur.wav                             \b\b\b\b 67%\b\b\b\b\b  OK \n",
            "Extracting  testaudio/pen/dodaj/zioondxs.wav                             \b\b\b\b 68%\b\b\b\b\b  OK \n",
            "Creating    testaudio/pen/premjesti                                   OK\n",
            "Extracting  testaudio/pen/premjesti/adjvceab.wav                         \b\b\b\b 69%\b\b\b\b\b  OK \n",
            "Extracting  testaudio/pen/premjesti/cjwfqvrt.wav                         \b\b\b\b 70%\b\b\b\b\b  OK \n",
            "Extracting  testaudio/pen/premjesti/dane-11.wav                          \b\b\b\b 71%\b\b\b\b\b  OK \n",
            "Extracting  testaudio/pen/premjesti/jlmvgerx.wav                         \b\b\b\b 71%\b\b\b\b\b  OK \n",
            "Extracting  testaudio/pen/premjesti/lselbvvq.wav                         \b\b\b\b 72%\b\b\b\b\b  OK \n",
            "Extracting  testaudio/pen/premjesti/mam2-03.wav                          \b\b\b\b 73%\b\b\b\b\b  OK \n",
            "Extracting  testaudio/pen/premjesti/tjgfrdyt.wav                         \b\b\b\b 73%\b\b\b\b\b  OK \n",
            "Extracting  testaudio/pen/premjesti/usgdsynk.wav                         \b\b\b\b 74%\b\b\b\b\b  OK \n",
            "Extracting  testaudio/pen/premjesti/yovtotdl.wav                         \b\b\b\b 75%\b\b\b\b\b  OK \n",
            "Creating    testaudio/screwdriver                                     OK\n",
            "Creating    testaudio/screwdriver/dodaj                               OK\n",
            "Extracting  testaudio/screwdriver/dodaj/dane-14.wav                      \b\b\b\b 76%\b\b\b\b\b  OK \n",
            "Extracting  testaudio/screwdriver/dodaj/emnzoypd.wav                     \b\b\b\b 76%\b\b\b\b\b  OK \n",
            "Extracting  testaudio/screwdriver/dodaj/fdzlhitv.wav                     \b\b\b\b 77%\b\b\b\b\b  OK \n",
            "Extracting  testaudio/screwdriver/dodaj/jppcdeyn.wav                     \b\b\b\b 78%\b\b\b\b\b  OK \n",
            "Extracting  testaudio/screwdriver/dodaj/lqemqkac.wav                     \b\b\b\b 79%\b\b\b\b\b  OK \n",
            "Extracting  testaudio/screwdriver/dodaj/mam2-06.wav                      \b\b\b\b 79%\b\b\b\b\b  OK \n",
            "Extracting  testaudio/screwdriver/dodaj/rbuimmrd.wav                     \b\b\b\b 80%\b\b\b\b\b  OK \n",
            "Extracting  testaudio/screwdriver/dodaj/tzivfoox.wav                     \b\b\b\b 81%\b\b\b\b\b  OK \n",
            "Extracting  testaudio/screwdriver/dodaj/ykntydsg.wav                     \b\b\b\b 81%\b\b\b\b\b  OK \n",
            "Creating    testaudio/screwdriver/premjesti                           OK\n",
            "Extracting  testaudio/screwdriver/premjesti/ctkwhsva.wav                 \b\b\b\b 82%\b\b\b\b\b  OK \n",
            "Extracting  testaudio/screwdriver/premjesti/dane-13.wav                  \b\b\b\b 83%\b\b\b\b\b  OK \n",
            "Extracting  testaudio/screwdriver/premjesti/enouykbn.wav                 \b\b\b\b 83%\b\b\b\b\b  OK \n",
            "Extracting  testaudio/screwdriver/premjesti/fvpyucsg.wav                 \b\b\b\b 84%\b\b\b\b\b  OK \n",
            "Extracting  testaudio/screwdriver/premjesti/hhcpumuw.wav                 \b\b\b\b 85%\b\b\b\b\b  OK \n",
            "Extracting  testaudio/screwdriver/premjesti/kdvetfgf.wav                 \b\b\b\b 85%\b\b\b\b\b  OK \n",
            "Extracting  testaudio/screwdriver/premjesti/mam2-05.wav                  \b\b\b\b 86%\b\b\b\b\b  OK \n",
            "Extracting  testaudio/screwdriver/premjesti/poiolyqz.wav                 \b\b\b\b 87%\b\b\b\b\b  OK \n",
            "Extracting  testaudio/screwdriver/premjesti/rcojfolk.wav                 \b\b\b\b 88%\b\b\b\b\b  OK \n",
            "Creating    testaudio/usb                                             OK\n",
            "Creating    testaudio/usb/dodaj                                       OK\n",
            "Extracting  testaudio/usb/dodaj/aggmatdw.wav                             \b\b\b\b 89%\b\b\b\b\b  OK \n",
            "Extracting  testaudio/usb/dodaj/axdowrmy.wav                             \b\b\b\b 89%\b\b\b\b\b  OK \n",
            "Extracting  testaudio/usb/dodaj/dane-16.wav                              \b\b\b\b 90%\b\b\b\b\b  OK \n",
            "Extracting  testaudio/usb/dodaj/mam3-02.wav                              \b\b\b\b 90%\b\b\b\b\b  OK \n",
            "Extracting  testaudio/usb/dodaj/osbllgii.wav                             \b\b\b\b 91%\b\b\b\b\b  OK \n",
            "Extracting  testaudio/usb/dodaj/ubqyhdpq.wav                             \b\b\b\b 91%\b\b\b\b\b  OK \n",
            "Extracting  testaudio/usb/dodaj/umotrzyv.wav                             \b\b\b\b 92%\b\b\b\b\b  OK \n",
            "Extracting  testaudio/usb/dodaj/zbjsajxs.wav                             \b\b\b\b 93%\b\b\b\b\b  OK \n",
            "Extracting  testaudio/usb/dodaj/zehynvbh.wav                             \b\b\b\b 93%\b\b\b\b\b  OK \n",
            "Creating    testaudio/usb/premjesti                                   OK\n",
            "Extracting  testaudio/usb/premjesti/behpstxv.wav                         \b\b\b\b 94%\b\b\b\b\b  OK \n",
            "Extracting  testaudio/usb/premjesti/dane-15.wav                          \b\b\b\b 95%\b\b\b\b\b  OK \n",
            "Extracting  testaudio/usb/premjesti/mam3-01.wav                          \b\b\b\b 95%\b\b\b\b\b  OK \n",
            "Extracting  testaudio/usb/premjesti/omnjuvki.wav                         \b\b\b\b 96%\b\b\b\b\b  OK \n",
            "Extracting  testaudio/usb/premjesti/pnsvdnrx.wav                         \b\b\b\b 96%\b\b\b\b\b  OK \n",
            "Extracting  testaudio/usb/premjesti/qvaajuut.wav                         \b\b\b\b 97%\b\b\b\b\b  OK \n",
            "Extracting  testaudio/usb/premjesti/rxjwjwhf.wav                         \b\b\b\b 98%\b\b\b\b\b  OK \n",
            "Extracting  testaudio/usb/premjesti/uduwuubl.wav                         \b\b\b\b 99%\b\b\b\b\b  OK \n",
            "Extracting  testaudio/usb/premjesti/yugqkhws.wav                         \b\b\b\b 99%\b\b\b\b\b  OK \n",
            "All OK\n"
          ]
        }
      ]
    },
    {
      "cell_type": "code",
      "source": [
        "data = {'path':[], 'label':[]}\n",
        "import shutil\n",
        "import os\n",
        "for folders in os.listdir('testaudio'):\n",
        "  for fol in os.listdir(f\"testaudio/{folders}\"):\n",
        "    for file in os.listdir(f\"testaudio/{folders}/{fol}\"):\n",
        "      data['path'].append(f'testaudio/{folders}/{fol}/{file}')\n",
        "      data['label'].append(0. if fol=='premjesti' else 1.)"
      ],
      "metadata": {
        "id": "1eY_yZq6iK1b"
      },
      "execution_count": null,
      "outputs": []
    },
    {
      "cell_type": "code",
      "source": [
        "df = pd.DataFrame(data)"
      ],
      "metadata": {
        "id": "PYUhMmX0igL_"
      },
      "execution_count": null,
      "outputs": []
    },
    {
      "cell_type": "code",
      "source": [
        "df_train, df_test = train_test_split(df, test_size=0.2)"
      ],
      "metadata": {
        "id": "SYSbqTevihnX"
      },
      "execution_count": null,
      "outputs": []
    },
    {
      "cell_type": "code",
      "source": [
        "train_dataset = AudioDataset(df_train,transformer,shrink_data=0.7)\n",
        "test_dataset = AudioDataset(df_test,transformer,shrink_data=0.7)"
      ],
      "metadata": {
        "id": "x2mF_sawiifR"
      },
      "execution_count": null,
      "outputs": []
    },
    {
      "cell_type": "code",
      "source": [
        "train_loader = DataLoader(train_dataset, batch_size=32, shuffle=True, collate_fn=collate_pad_sequences)\n",
        "test_loader = DataLoader(test_dataset, batch_size=32, shuffle=True, collate_fn=collate_pad_sequences)"
      ],
      "metadata": {
        "id": "0j-Q7LEbi9__"
      },
      "execution_count": null,
      "outputs": []
    },
    {
      "cell_type": "code",
      "source": [
        "loaded_model.eval()\n",
        "# train accuracy\n",
        "n_correct=0\n",
        "n_total=0\n",
        "for inputs,targets in train_loader:\n",
        "  # move data to gpu\n",
        "  targets = targets.view(-1,1)\n",
        "  inputs,targets = inputs.to(device),targets.to(device)\n",
        "  #inputs = inputs.permute(0,2,1)\n",
        "\n",
        "  # make prediction\n",
        "  outputs = loaded_model(inputs)\n",
        "  outputs = F.sigmoid(outputs)\n",
        "  predictions = outputs>0.5\n",
        "\n",
        "  # update counts\n",
        "  n_correct+=(predictions==targets).sum().item()\n",
        "  n_total+=targets.shape[0]\n",
        "train_acc = n_correct/n_total\n",
        "\n",
        "# test accuracy\n",
        "n_correct=0\n",
        "n_total=0\n",
        "for inputs,targets in test_loader:\n",
        "  # move data to gpu\n",
        "  targets = targets.view(-1,1)\n",
        "  inputs,targets = inputs.to(device),targets.to(device)\n",
        "  #inputs = inputs.permute(0,2,1)\n",
        "\n",
        "  # make prediction\n",
        "  outputs = loaded_model(inputs)\n",
        "  outputs = F.sigmoid(outputs)\n",
        "\n",
        "  predictions = outputs>0.5\n",
        "\n",
        "  # update counts\n",
        "  n_correct+=(predictions==targets).sum().item()\n",
        "  n_total+=targets.shape[0]\n",
        "test_acc = n_correct/n_total\n",
        "\n",
        "print(f\"Train accuracy: {train_acc:.4f}, Test accuracy: {test_acc:.4f}\")"
      ],
      "metadata": {
        "colab": {
          "base_uri": "https://localhost:8080/"
        },
        "id": "fhLas1zxit13",
        "outputId": "665699aa-450c-48bd-e35b-2aadd5b9f0e1"
      },
      "execution_count": null,
      "outputs": [
        {
          "output_type": "stream",
          "name": "stdout",
          "text": [
            "Train accuracy: 0.9739, Test accuracy: 1.0000\n"
          ]
        }
      ]
    },
    {
      "cell_type": "code",
      "source": [],
      "metadata": {
        "id": "bVolbyzLoWd2"
      },
      "execution_count": null,
      "outputs": []
    },
    {
      "cell_type": "code",
      "source": [],
      "metadata": {
        "id": "hsNLe_XZjA80"
      },
      "execution_count": null,
      "outputs": []
    }
  ],
  "metadata": {
    "colab": {
      "provenance": [],
      "gpuType": "T4"
    },
    "kernelspec": {
      "display_name": "Python 3",
      "name": "python3"
    },
    "language_info": {
      "name": "python"
    },
    "accelerator": "GPU"
  },
  "nbformat": 4,
  "nbformat_minor": 0
}