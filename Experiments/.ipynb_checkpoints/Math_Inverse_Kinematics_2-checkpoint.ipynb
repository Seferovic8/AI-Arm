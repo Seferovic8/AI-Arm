{
 "cells": [
  {
   "cell_type": "markdown",
   "id": "81d7ebe3",
   "metadata": {},
   "source": [
    "# Math Inverse Kinematics"
   ]
  },
  {
   "cell_type": "code",
   "execution_count": 1,
   "id": "9f8cefac",
   "metadata": {},
   "outputs": [],
   "source": [
    "# Import essential modules\n",
    "import numpy as np\n",
    "from forward_kinematics import forward_kinematics"
   ]
  },
  {
   "cell_type": "markdown",
   "id": "6ef3ad28",
   "metadata": {},
   "source": [
    "## Create task what we'll solve"
   ]
  },
  {
   "cell_type": "code",
   "execution_count": 2,
   "id": "df2003bd",
   "metadata": {},
   "outputs": [],
   "source": [
    "fT1=0\n",
    "fT2=30\n",
    "fT3=60\n",
    "fT4=90"
   ]
  },
  {
   "cell_type": "code",
   "execution_count": 3,
   "id": "4ccdff3f",
   "metadata": {},
   "outputs": [],
   "source": [
    "def cos(t):\n",
    "    return np.cos(np.deg2rad(t))\n",
    "def sin(t):\n",
    "    return np.sin(np.deg2rad(t))"
   ]
  },
  {
   "cell_type": "code",
   "execution_count": 4,
   "id": "83b619a5",
   "metadata": {},
   "outputs": [
    {
     "data": {
      "text/plain": [
       "array([141.,  -0.,  10.])"
      ]
     },
     "execution_count": 4,
     "metadata": {},
     "output_type": "execute_result"
    }
   ],
   "source": [
    "fk = forward_kinematics(fT1,fT2,fT3,fT4)[:3,3]\n",
    "fk"
   ]
  },
  {
   "cell_type": "code",
   "execution_count": 5,
   "id": "1d1aa7ca",
   "metadata": {},
   "outputs": [],
   "source": [
    "dx=fk[0]\n",
    "dy=fk[1]\n",
    "dz=fk[2]"
   ]
  },
  {
   "cell_type": "code",
   "execution_count": 6,
   "id": "de12cf3c",
   "metadata": {},
   "outputs": [
    {
     "data": {
      "text/plain": [
       "(141.0, -0.0, 10.0)"
      ]
     },
     "execution_count": 6,
     "metadata": {},
     "output_type": "execute_result"
    }
   ],
   "source": [
    "dx,dy,dz"
   ]
  },
  {
   "cell_type": "markdown",
   "id": "c728e3ba",
   "metadata": {},
   "source": [
    "## Use math to solve IK"
   ]
  },
  {
   "cell_type": "markdown",
   "id": "72705eef",
   "metadata": {},
   "source": [
    "### Theta 1"
   ]
  },
  {
   "cell_type": "code",
   "execution_count": 7,
   "id": "f782ef8f",
   "metadata": {},
   "outputs": [
    {
     "data": {
      "text/plain": [
       "0.0"
      ]
     },
     "execution_count": 7,
     "metadata": {},
     "output_type": "execute_result"
    }
   ],
   "source": [
    "T1= np.arctan(dy/dx)\n",
    "T1=np.round(np.degrees(-T1))\n",
    "T1"
   ]
  },
  {
   "cell_type": "markdown",
   "id": "c674beeb",
   "metadata": {},
   "source": [
    "### Theta 3"
   ]
  },
  {
   "cell_type": "code",
   "execution_count": 8,
   "id": "4c03b3ba",
   "metadata": {},
   "outputs": [],
   "source": [
    "l1=104.\n",
    "l2=89.\n",
    "l3=175.\n",
    "a1=95.\n",
    "fi=fT2+fT3+fT4\n",
    "eT2=(90-fT2)\n",
    "eT3=(90-fT3)+eT2\n",
    "eT4=(90-fT4)+eT3\n",
    "#dz=dz-95"
   ]
  },
  {
   "cell_type": "code",
   "execution_count": 9,
   "id": "9fdcae87",
   "metadata": {},
   "outputs": [
    {
     "data": {
      "text/plain": [
       "(60, 90, 90)"
      ]
     },
     "execution_count": 9,
     "metadata": {},
     "output_type": "execute_result"
    }
   ],
   "source": [
    "eT2,eT3,eT4"
   ]
  },
  {
   "cell_type": "code",
   "execution_count": 10,
   "id": "342bd758",
   "metadata": {},
   "outputs": [
    {
     "data": {
      "text/plain": [
       "141.0"
      ]
     },
     "execution_count": 10,
     "metadata": {},
     "output_type": "execute_result"
    }
   ],
   "source": [
    "# Calculate r\n",
    "r = np.sqrt(dx**2+dy**2)\n",
    "r"
   ]
  },
  {
   "cell_type": "code",
   "execution_count": 11,
   "id": "8c0a9aa4",
   "metadata": {},
   "outputs": [
    {
     "data": {
      "text/plain": [
       "52.000000000000014"
      ]
     },
     "execution_count": 11,
     "metadata": {},
     "output_type": "execute_result"
    }
   ],
   "source": [
    "# Calculate r1 if we know fT2\n",
    "r1 = cos(eT2)*l1\n",
    "r1"
   ]
  },
  {
   "cell_type": "code",
   "execution_count": 12,
   "id": "f7913360",
   "metadata": {},
   "outputs": [
    {
     "data": {
      "text/plain": [
       "88.99999999999999"
      ]
     },
     "execution_count": 12,
     "metadata": {},
     "output_type": "execute_result"
    }
   ],
   "source": [
    "# Calcualte r2\n",
    "r2 = r-r1\n",
    "r2"
   ]
  },
  {
   "cell_type": "code",
   "execution_count": 13,
   "id": "2f8c42cd",
   "metadata": {},
   "outputs": [
    {
     "data": {
      "text/plain": [
       "90.06664199358161"
      ]
     },
     "execution_count": 13,
     "metadata": {},
     "output_type": "execute_result"
    }
   ],
   "source": [
    "# Find t\n",
    "t = sin(eT2)*l1\n",
    "t"
   ]
  },
  {
   "cell_type": "code",
   "execution_count": 14,
   "id": "bafb8064",
   "metadata": {},
   "outputs": [
    {
     "data": {
      "text/plain": [
       "175.0666419935816"
      ]
     },
     "execution_count": 14,
     "metadata": {},
     "output_type": "execute_result"
    }
   ],
   "source": [
    "t1=t-(dz-95)\n",
    "t1"
   ]
  },
  {
   "cell_type": "code",
   "execution_count": 15,
   "id": "73dd82f1",
   "metadata": {},
   "outputs": [
    {
     "data": {
      "text/plain": [
       "26.947774463998083"
      ]
     },
     "execution_count": 15,
     "metadata": {},
     "output_type": "execute_result"
    }
   ],
   "source": [
    "alpha1=np.arctan(r2/t1)\n",
    "alpha1=np.degrees(alpha1)\n",
    "alpha1"
   ]
  },
  {
   "cell_type": "code",
   "execution_count": 16,
   "id": "4964f6ee",
   "metadata": {},
   "outputs": [
    {
     "data": {
      "text/plain": [
       "196.39075624608424"
      ]
     },
     "execution_count": 16,
     "metadata": {},
     "output_type": "execute_result"
    }
   ],
   "source": [
    "b=np.sqrt(t1**2+r2**2)\n",
    "b"
   ]
  },
  {
   "cell_type": "code",
   "execution_count": 17,
   "id": "f20dc9af",
   "metadata": {},
   "outputs": [
    {
     "data": {
      "text/plain": [
       "453.84550821962074"
      ]
     },
     "execution_count": 17,
     "metadata": {},
     "output_type": "execute_result"
    }
   ],
   "source": [
    "operation1=(l2**2+b**2-l3**2)/(2*l2*b)\n",
    "operation1*1000"
   ]
  },
  {
   "cell_type": "code",
   "execution_count": 18,
   "id": "853a9f11",
   "metadata": {},
   "outputs": [
    {
     "data": {
      "text/plain": [
       "0.4538455082196207"
      ]
     },
     "execution_count": 18,
     "metadata": {},
     "output_type": "execute_result"
    }
   ],
   "source": [
    "(l2**2+b**2-l3**2)/(2*l2*b)"
   ]
  },
  {
   "cell_type": "code",
   "execution_count": 19,
   "id": "b05ab411",
   "metadata": {},
   "outputs": [
    {
     "data": {
      "text/plain": [
       "63.00932322895164"
      ]
     },
     "execution_count": 19,
     "metadata": {},
     "output_type": "execute_result"
    }
   ],
   "source": [
    "alpha2=np.arccos((l2**2+b**2-l3**2)/(2*l2*b))\n",
    "alpha2=np.degrees(alpha2)\n",
    "alpha2"
   ]
  },
  {
   "cell_type": "code",
   "execution_count": 20,
   "id": "1c27319b",
   "metadata": {},
   "outputs": [
    {
     "data": {
      "text/plain": [
       "60.0"
      ]
     },
     "execution_count": 20,
     "metadata": {},
     "output_type": "execute_result"
    }
   ],
   "source": [
    "T3=180-(alpha1+alpha2+fT2)\n",
    "T3=np.round(T3)\n",
    "T3"
   ]
  },
  {
   "cell_type": "code",
   "execution_count": 21,
   "id": "01052935",
   "metadata": {},
   "outputs": [
    {
     "name": "stdout",
     "output_type": "stream",
     "text": [
      "60.0\n"
     ]
    }
   ],
   "source": [
    "if(t1>0):\n",
    "    T3=180-(alpha1+alpha2+fT2)\n",
    "    T3=np.round(T3)\n",
    "    print(T3)\n",
    "else:\n",
    "    T3=alpha1+alpha2+fT2\n",
    "    T3=abs(np.round(T3))\n",
    "    print(T3)"
   ]
  },
  {
   "cell_type": "markdown",
   "id": "bdb4a7ab",
   "metadata": {},
   "source": [
    "### Theta 4"
   ]
  },
  {
   "cell_type": "code",
   "execution_count": 22,
   "id": "bd2f6f25",
   "metadata": {},
   "outputs": [
    {
     "data": {
      "text/plain": [
       "90.0429104758943"
      ]
     },
     "execution_count": 22,
     "metadata": {},
     "output_type": "execute_result"
    }
   ],
   "source": [
    "T4=np.arccos((l2**2+l3**2-b**2)/(2*l2*l3))\n",
    "T4=np.degrees(T4)\n",
    "T4"
   ]
  },
  {
   "cell_type": "code",
   "execution_count": 25,
   "id": "b4687154",
   "metadata": {},
   "outputs": [
    {
     "data": {
      "text/plain": [
       "90.0"
      ]
     },
     "execution_count": 25,
     "metadata": {},
     "output_type": "execute_result"
    }
   ],
   "source": [
    "T4=180-T4\n",
    "T4=np.round(T4)\n",
    "T4"
   ]
  },
  {
   "cell_type": "code",
   "execution_count": null,
   "id": "2dc4a533",
   "metadata": {},
   "outputs": [],
   "source": [
    "cos(90)*(2*l2*l3)"
   ]
  },
  {
   "cell_type": "code",
   "execution_count": 24,
   "id": "13e3e84a",
   "metadata": {},
   "outputs": [
    {
     "name": "stdout",
     "output_type": "stream",
     "text": [
      "Pred T1:0.0, T2:30, T3:60.0 ,T4:90.0\n",
      "True: T1:0, T2:30, T3:60 ,T4:90\n",
      "Jesu li isti: True\n"
     ]
    }
   ],
   "source": [
    "print(f\"Pred T1:{T1}, T2:{fT2}, T3:{T3} ,T4:{T4}\")\n",
    "print(f\"True: T1:{fT1}, T2:{fT2}, T3:{fT3} ,T4:{fT4}\")\n",
    "print(f\"Jesu li isti: {[T1,fT2,T3,T4]==[fT1,fT2,fT3,fT4]}\")"
   ]
  },
  {
   "cell_type": "markdown",
   "id": "b5090f5a",
   "metadata": {},
   "source": [
    "## Make functons for IK"
   ]
  },
  {
   "cell_type": "code",
   "execution_count": 1,
   "id": "41c58987",
   "metadata": {},
   "outputs": [],
   "source": [
    "from sklearn.metrics import mean_squared_error\n",
    "def finder(fk, i):\n",
    "    dx,dy,dz=fk\n",
    "    eT2=(90-i)\n",
    "    l1=104.\n",
    "    l2=89.\n",
    "    l3=175.\n",
    "    r = np.sqrt(dx**2+dy**2)\n",
    "    r1 = cos(eT2)*l1\n",
    "    r2 = r-r1\n",
    "    t = sin(eT2)*l1\n",
    "    t1=t-(dz-95)\n",
    "    if(t1!=0):        \n",
    "        alpha1=np.arctan(r2/t1)\n",
    "        alpha1=np.degrees(alpha1)\n",
    "    else:\n",
    "        alpha1=0\n",
    "    b=np.sqrt(t1**2+r2**2)\n",
    "    operation1=(l2**2+b**2-l3**2)/(2*l2*b)\n",
    "    operation2=(l2**2+l3**2-b**2)/(2*l2*l3)\n",
    "    if(int(operation1*100)>100 or int(operation1*100)<-100):\n",
    "        raise Exception() \n",
    "    if(int(operation1*100)==100 or int(operation1*100)==-100):\n",
    "        operation1=np.round(operation1)\n",
    "        \n",
    "    if(int(operation2*100)>100 or int(operation2*100)<-100):\n",
    "        raise Exception() \n",
    "    if(int(operation2*100)==100 or int(operation2*100)==-100):\n",
    "        operation2=np.round(operation2)\n",
    "\n",
    "    alpha2=np.arccos(operation1)\n",
    "    alpha2=np.degrees(alpha2)\n",
    "    if(t1>0):\n",
    "        T3=180-(alpha1+alpha2+i)\n",
    "        T3=np.round(T3)\n",
    "    else:\n",
    "        T3=alpha1+alpha2+i\n",
    "        T3=abs(np.round(T3))\n",
    "    T4=np.arccos(operation2)\n",
    "\n",
    "    T4=np.degrees(T4)\n",
    "    T4=180-T4\n",
    "    T4=np.round(T4)\n",
    "\n",
    "    if T3>90 or T4>90:\n",
    "        raise Exception()\n",
    "    return T3, T4\n",
    "\n",
    "def find_T2(T1,fk_true):\n",
    "\n",
    "    mse={}\n",
    "    for i in range(91):\n",
    "        try:\n",
    "            T3, T4 = finder(fk_true, i)\n",
    "            fk =forward_kinematics(T1,i,T3,T4)[:3,3]\n",
    "\n",
    "            if (np.array_equal(fk_true,fk)):\n",
    "                return i, T3, T4\n",
    "                pass\n",
    "            mse[i]=[mean_squared_error(fk_true,fk),T3,T4]\n",
    "        except:\n",
    "            pass\n",
    "    else:\n",
    "        T2 =min(mse,key=mse.get)\n",
    "        T3, T4 = mse[T2][1:]\n",
    "        return T2,T3,T4\n",
    "def calculate_inverse_kinematics(fk):\n",
    "    dx,dy,dz=fk\n",
    "    #if(np.sqrt(dx**2+dy**2)-dz<64):\n",
    "       # raise Exception(\"It was entered lower value than arm can reach\")\n",
    "    # Find T1\n",
    "    if(dx==0.):\n",
    "        T1=90\n",
    "    else:\n",
    "        T1= np.arctan(dy/dx)\n",
    "        T1=np.degrees(-T1)\n",
    "        T1=np.round(T1)\n",
    "    #Find T3\n",
    "    T2, T3, T4=find_T2(T1,fk)\n",
    "    eT2=(90-T2)\n",
    "    eT3=(90-T3)+eT2\n",
    "    eT4=(90-T4)+eT3\n",
    "    print(eT2+eT3+eT4)\n",
    "    return T1, T2, T3, T4"
   ]
  },
  {
   "cell_type": "code",
   "execution_count": 2,
   "id": "99e7efea",
   "metadata": {},
   "outputs": [
    {
     "ename": "NameError",
     "evalue": "name 'np' is not defined",
     "output_type": "error",
     "traceback": [
      "\u001b[1;31m---------------------------------------------------------------------------\u001b[0m",
      "\u001b[1;31mNameError\u001b[0m                                 Traceback (most recent call last)",
      "\u001b[1;32m~\\AppData\\Local\\Temp\\ipykernel_15224\\2041946481.py\u001b[0m in \u001b[0;36m<module>\u001b[1;34m\u001b[0m\n\u001b[1;32m----> 1\u001b[1;33m \u001b[0mresult\u001b[0m\u001b[1;33m=\u001b[0m\u001b[0mcalculate_inverse_kinematics\u001b[0m\u001b[1;33m(\u001b[0m\u001b[1;33m[\u001b[0m\u001b[1;36m70\u001b[0m\u001b[1;33m,\u001b[0m \u001b[1;36m30\u001b[0m\u001b[1;33m,\u001b[0m \u001b[1;36m5\u001b[0m\u001b[1;33m]\u001b[0m\u001b[1;33m)\u001b[0m\u001b[1;33m\u001b[0m\u001b[1;33m\u001b[0m\u001b[0m\n\u001b[0m\u001b[0;32m      2\u001b[0m \u001b[0mresult\u001b[0m\u001b[1;33m\u001b[0m\u001b[1;33m\u001b[0m\u001b[0m\n",
      "\u001b[1;32m~\\AppData\\Local\\Temp\\ipykernel_15224\\304397512.py\u001b[0m in \u001b[0;36mcalculate_inverse_kinematics\u001b[1;34m(fk)\u001b[0m\n\u001b[0;32m     73\u001b[0m         \u001b[0mT1\u001b[0m\u001b[1;33m=\u001b[0m\u001b[1;36m90\u001b[0m\u001b[1;33m\u001b[0m\u001b[1;33m\u001b[0m\u001b[0m\n\u001b[0;32m     74\u001b[0m     \u001b[1;32melse\u001b[0m\u001b[1;33m:\u001b[0m\u001b[1;33m\u001b[0m\u001b[1;33m\u001b[0m\u001b[0m\n\u001b[1;32m---> 75\u001b[1;33m         \u001b[0mT1\u001b[0m\u001b[1;33m=\u001b[0m \u001b[0mnp\u001b[0m\u001b[1;33m.\u001b[0m\u001b[0marctan\u001b[0m\u001b[1;33m(\u001b[0m\u001b[0mdy\u001b[0m\u001b[1;33m/\u001b[0m\u001b[0mdx\u001b[0m\u001b[1;33m)\u001b[0m\u001b[1;33m\u001b[0m\u001b[1;33m\u001b[0m\u001b[0m\n\u001b[0m\u001b[0;32m     76\u001b[0m         \u001b[0mT1\u001b[0m\u001b[1;33m=\u001b[0m\u001b[0mnp\u001b[0m\u001b[1;33m.\u001b[0m\u001b[0mdegrees\u001b[0m\u001b[1;33m(\u001b[0m\u001b[1;33m-\u001b[0m\u001b[0mT1\u001b[0m\u001b[1;33m)\u001b[0m\u001b[1;33m\u001b[0m\u001b[1;33m\u001b[0m\u001b[0m\n\u001b[0;32m     77\u001b[0m         \u001b[0mT1\u001b[0m\u001b[1;33m=\u001b[0m\u001b[0mnp\u001b[0m\u001b[1;33m.\u001b[0m\u001b[0mround\u001b[0m\u001b[1;33m(\u001b[0m\u001b[0mT1\u001b[0m\u001b[1;33m)\u001b[0m\u001b[1;33m\u001b[0m\u001b[1;33m\u001b[0m\u001b[0m\n",
      "\u001b[1;31mNameError\u001b[0m: name 'np' is not defined"
     ]
    }
   ],
   "source": [
    "result=calculate_inverse_kinematics([70, 30, 5])\n",
    "result"
   ]
  },
  {
   "cell_type": "code",
   "execution_count": 67,
   "id": "262b1b64",
   "metadata": {},
   "outputs": [],
   "source": [
    "y_true=[]\n",
    "y_pred=[]\n",
    "for i in range(10000):\n",
    "    try:\n",
    "        T1=np.random.randint(-90,91)\n",
    "        T2=np.random.randint(0,91)\n",
    "        T3=np.random.randint(0,91)\n",
    "        T4=np.random.randint(0,91)       \n",
    "        fk=forward_kinematics(T1,T2,T3,T4)[:3,3]\n",
    "        result=calculate_inverse_kineamtics(fk)\n",
    "        y_true.append(fk)\n",
    "        y_pred.append(forward_kinematics(result[0],result[1],result[2],result[3])[:3,3])\n",
    "    except:\n",
    "        pass"
   ]
  },
  {
   "cell_type": "code",
   "execution_count": 339,
   "id": "a7b04706",
   "metadata": {},
   "outputs": [
    {
     "data": {
      "text/plain": [
       "1.1446333333333334"
      ]
     },
     "execution_count": 339,
     "metadata": {},
     "output_type": "execute_result"
    }
   ],
   "source": [
    "from sklearn.metrics import mean_absolute_error \n",
    "mean_absolute_error(y_true,y_pred)"
   ]
  },
  {
   "cell_type": "code",
   "execution_count": 329,
   "id": "8d0e013f",
   "metadata": {},
   "outputs": [
    {
     "data": {
      "text/plain": [
       "10000"
      ]
     },
     "execution_count": 329,
     "metadata": {},
     "output_type": "execute_result"
    }
   ],
   "source": [
    "len(y_true)"
   ]
  },
  {
   "cell_type": "code",
   "execution_count": null,
   "id": "b9b58374",
   "metadata": {},
   "outputs": [],
   "source": [
    "# Mae: 1.1472333333333333\n",
    "# Mse: 1.1556666666666666\n",
    "# Mape: 1.3266\n",
    "# Msle: mean_squared_log_error"
   ]
  },
  {
   "cell_type": "code",
   "execution_count": 358,
   "id": "06fbbf68",
   "metadata": {},
   "outputs": [
    {
     "name": "stdout",
     "output_type": "stream",
     "text": [
      "[126.  -0. -55.] [0, 50, 70, 70]\n"
     ]
    }
   ],
   "source": [
    "kT1=0\n",
    "kT2=50\n",
    "kT3=70\n",
    "kT4=70\n",
    "fk=forward_kinematics(kT1,kT2,kT3,kT4)[:3,3]\n",
    "print(fk, [kT1,kT2,kT3,kT4])"
   ]
  },
  {
   "cell_type": "code",
   "execution_count": 389,
   "id": "51d69739",
   "metadata": {},
   "outputs": [
    {
     "data": {
      "text/plain": [
       "array([[  1.,  -0.,   0., 150.],\n",
       "       [  0.,   0.,  -1.,   0.],\n",
       "       [  0.,   1.,   0., 340.],\n",
       "       [  0.,   0.,   0.,   1.]])"
      ]
     },
     "execution_count": 389,
     "metadata": {},
     "output_type": "execute_result"
    }
   ],
   "source": [
    "forward_kinematics(0,2,-15,85)"
   ]
  },
  {
   "cell_type": "code",
   "execution_count": 399,
   "id": "91b45859",
   "metadata": {},
   "outputs": [
    {
     "data": {
      "text/plain": [
       "(array([148.,  -0.,  58.]), [1, 123, 15])"
      ]
     },
     "execution_count": 399,
     "metadata": {},
     "output_type": "execute_result"
    }
   ],
   "source": [
    "forward_kinematics(result[0],result[1],result[2],result[3])[:3,3], fk"
   ]
  },
  {
   "cell_type": "code",
   "execution_count": 15,
   "id": "a940b6e0",
   "metadata": {},
   "outputs": [
    {
     "name": "stdout",
     "output_type": "stream",
     "text": [
      "Jesu li isti: True\n"
     ]
    },
    {
     "data": {
      "text/plain": [
       "(array([270., 150.,  33.]), [270, 150, 33])"
      ]
     },
     "execution_count": 15,
     "metadata": {},
     "output_type": "execute_result"
    }
   ],
   "source": [
    "dx=np.random.randint(100,300)\n",
    "dy=np.random.randint(-200,200)\n",
    "dz=np.random.randint(0,60)\n",
    "#fk=forward_kinematics(T1,T2,T3,T4)[:3,3]\n",
    "fk=[dx,dy,dz]\n",
    "result=calculate_inverse_kineamtics(fk)\n",
    "#print(f\"Pred T1:{result[0]}, T2:{result[1]}, T3:{result[2]} ,T4:{result[3]}\")\n",
    "#print(f\"True: T1:{T1}, T2:{T2}, T3:{T3} ,T4:{T4}\")\n",
    "fk_pred=forward_kinematics(result[0],result[1],result[2],result[3])[:3,3]\n",
    "print(f\"Jesu li isti: {np.array_equal(fk_pred,fk)}\")\n",
    "fk_pred, fk\n"
   ]
  },
  {
   "cell_type": "code",
   "execution_count": 293,
   "id": "9446c73c",
   "metadata": {},
   "outputs": [
    {
     "name": "stdout",
     "output_type": "stream",
     "text": [
      "384\n"
     ]
    }
   ],
   "source": [
    "k=0\n",
    "for i in range(10000):\n",
    "    try:\n",
    "        T1=np.random.randint(-90,91)\n",
    "        T2=np.random.randint(0,91)\n",
    "        T3=np.random.randint(0,91)\n",
    "        T4=np.random.randint(0,91)       \n",
    "        fk=forward_kinematics(T1,T2,T3,T4)[:3,3]\n",
    "        result=calculate_inverse_kineamtics(fk)\n",
    "        fk_pred=forward_kinematics(result[0],result[1],result[2],result[3])[:3,3]\n",
    "        if(np.array_equal(fk_pred,fk)==False):\n",
    "            #print(\"false\")\n",
    "            k+=1\n",
    "    except:\n",
    "        pass\n",
    "print(k)"
   ]
  },
  {
   "cell_type": "code",
   "execution_count": 307,
   "id": "d681fc11",
   "metadata": {},
   "outputs": [
    {
     "name": "stdout",
     "output_type": "stream",
     "text": [
      "2488 4920\n"
     ]
    }
   ],
   "source": [
    "k=0\n",
    "ex=0\n",
    "for i in range(5000):\n",
    "    try:\n",
    "        dx=np.random.randint(0,200)\n",
    "        dy=np.random.randint(-200,200)\n",
    "        dz=np.random.randint(0,200)\n",
    "        #fk=forward_kinematics(T1,T2,T3,T4)[:3,3]\n",
    "        fk=[dx,dy,dz]\n",
    "        result=calculate_inverse_kineamtics(fk)\n",
    "        #print(f\"Pred T1:{result[0]}, T2:{result[1]}, T3:{result[2]} ,T4:{result[3]}\")\n",
    "        #print(f\"True: T1:{T1}, T2:{T2}, T3:{T3} ,T4:{T4}\")\n",
    "        fk_pred=forward_kinematics(result[0],result[1],result[2],result[3])[:3,3]\n",
    "        if(np.array_equal(fk_pred,fk)==False):\n",
    "            #print(\"false\")\n",
    "            k+=1\n",
    "        ex+=1\n",
    "\n",
    "    except:\n",
    "        pass\n",
    "print(k, ex)"
   ]
  },
  {
   "cell_type": "code",
   "execution_count": 28,
   "id": "a568e5d7",
   "metadata": {},
   "outputs": [
    {
     "name": "stderr",
     "output_type": "stream",
     "text": [
      "C:\\Users\\salih\\AppData\\Local\\Temp\\ipykernel_18916\\1600779655.py:1: RuntimeWarning: invalid value encountered in arccos\n",
      "  np.arccos(-2.5)\n"
     ]
    },
    {
     "data": {
      "text/plain": [
       "nan"
      ]
     },
     "execution_count": 28,
     "metadata": {},
     "output_type": "execute_result"
    }
   ],
   "source": [
    "np.arccos(-2.5)"
   ]
  },
  {
   "cell_type": "code",
   "execution_count": 6,
   "id": "1e2098e2",
   "metadata": {},
   "outputs": [
    {
     "data": {
      "text/plain": [
       "array([56, 15, 61])"
      ]
     },
     "execution_count": 6,
     "metadata": {},
     "output_type": "execute_result"
    }
   ],
   "source": [
    "np.array([56,15,61])"
   ]
  },
  {
   "cell_type": "code",
   "execution_count": 103,
   "id": "12c3e63f",
   "metadata": {},
   "outputs": [
    {
     "data": {
      "text/plain": [
       "3.141592653589793"
      ]
     },
     "execution_count": 103,
     "metadata": {},
     "output_type": "execute_result"
    }
   ],
   "source": [
    "np.arccos(-1.0)"
   ]
  },
  {
   "cell_type": "code",
   "execution_count": 121,
   "id": "2cefcd0b",
   "metadata": {},
   "outputs": [
    {
     "data": {
      "text/plain": [
       "0.0"
      ]
     },
     "execution_count": 121,
     "metadata": {},
     "output_type": "execute_result"
    }
   ],
   "source": [
    "sin(0)"
   ]
  },
  {
   "cell_type": "code",
   "execution_count": 141,
   "id": "0eb12d9c",
   "metadata": {},
   "outputs": [
    {
     "data": {
      "text/plain": [
       "0.0"
      ]
     },
     "execution_count": 141,
     "metadata": {},
     "output_type": "execute_result"
    }
   ],
   "source": [
    "np.arccos(1)"
   ]
  },
  {
   "cell_type": "code",
   "execution_count": 323,
   "id": "9415ef88",
   "metadata": {},
   "outputs": [],
   "source": [
    "l={0:[122,0,411],1:[15,1512,12],3:[19,124214,16],4:[13,125,16]}"
   ]
  },
  {
   "cell_type": "code",
   "execution_count": 324,
   "id": "63c78b2f",
   "metadata": {},
   "outputs": [
    {
     "data": {
      "text/plain": [
       "4"
      ]
     },
     "execution_count": 324,
     "metadata": {},
     "output_type": "execute_result"
    }
   ],
   "source": [
    "min(l,key=l.get)"
   ]
  },
  {
   "cell_type": "code",
   "execution_count": 325,
   "id": "87007fc8",
   "metadata": {},
   "outputs": [
    {
     "data": {
      "text/plain": [
       "[125, 16]"
      ]
     },
     "execution_count": 325,
     "metadata": {},
     "output_type": "execute_result"
    }
   ],
   "source": [
    "l[4][1:]"
   ]
  },
  {
   "cell_type": "code",
   "execution_count": null,
   "id": "33ce256c",
   "metadata": {},
   "outputs": [],
   "source": []
  }
 ],
 "metadata": {
  "kernelspec": {
   "display_name": "Python 3 (ipykernel)",
   "language": "python",
   "name": "python3"
  },
  "language_info": {
   "codemirror_mode": {
    "name": "ipython",
    "version": 3
   },
   "file_extension": ".py",
   "mimetype": "text/x-python",
   "name": "python",
   "nbconvert_exporter": "python",
   "pygments_lexer": "ipython3",
   "version": "3.9.13"
  }
 },
 "nbformat": 4,
 "nbformat_minor": 5
}
