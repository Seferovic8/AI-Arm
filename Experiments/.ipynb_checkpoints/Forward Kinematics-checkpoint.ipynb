{
 "cells": [
  {
   "cell_type": "code",
   "execution_count": 364,
   "id": "517c2be3",
   "metadata": {},
   "outputs": [],
   "source": [
    "import numpy as np\n",
    "import pandas as pd\n",
    "import matplotlib.pyplot as plt\n",
    "from numpy import cos, sin"
   ]
  },
  {
   "cell_type": "code",
   "execution_count": 365,
   "id": "35d3daa2",
   "metadata": {},
   "outputs": [],
   "source": [
    "def cos(t):\n",
    "    return np.cos(t)\n",
    "def sin(t):\n",
    "    return np.sin(t)"
   ]
  },
  {
   "cell_type": "code",
   "execution_count": 366,
   "id": "57cb6bbd",
   "metadata": {},
   "outputs": [],
   "source": [
    "T1=0\n",
    "T2=0\n",
    "T3=90\n",
    "T4=0"
   ]
  },
  {
   "cell_type": "code",
   "execution_count": null,
   "id": "f443c626",
   "metadata": {},
   "outputs": [],
   "source": []
  },
  {
   "cell_type": "code",
   "execution_count": 367,
   "id": "ca4a24ce",
   "metadata": {},
   "outputs": [],
   "source": [
    "T1=(-T1/180.0)*np.pi\n",
    "T2=((-T2+90)/180.0)*np.pi\n",
    "T3=(-T3/180.0)*np.pi\n",
    "T4=(-T4/180.0)*np.pi\n",
    "a1=(90/180.0)*np.pi"
   ]
  },
  {
   "cell_type": "code",
   "execution_count": 368,
   "id": "cda90128",
   "metadata": {},
   "outputs": [],
   "source": [
    "dh= np.array([[0, 0., 0.   ,95.],\n",
    "              [T1, a1, 0.   ,0.],\n",
    "              [T2, 0., 104. ,0.],\n",
    "              [T3, 0., 89.  ,0.],\n",
    "              [T4, 0., 175. ,0.],\n",
    "              ])"
   ]
  },
  {
   "cell_type": "code",
   "execution_count": 369,
   "id": "ac8272db",
   "metadata": {},
   "outputs": [],
   "source": [
    "def create_matrix(n):\n",
    "    return [\n",
    "    [cos(dh[n][0]), -sin(dh[n][0])*cos(dh[n][1]), sin(dh[n][0])*sin(dh[n][1]),dh[n][2]*cos(dh[n][0])],\n",
    "    [sin(dh[n][0]), cos(dh[n][0])*cos(dh[n][1]), -cos(dh[n][0])*sin(dh[n][1]),dh[n][2]*sin(dh[n][0])],\n",
    "    [0, sin(dh[n][1]), cos(dh[n][1]),dh[n][3]],\n",
    "    [0,0,0,1]]\n"
   ]
  },
  {
   "cell_type": "code",
   "execution_count": null,
   "id": "db8c2032",
   "metadata": {},
   "outputs": [],
   "source": []
  },
  {
   "cell_type": "code",
   "execution_count": 370,
   "id": "03c617d7",
   "metadata": {},
   "outputs": [
    {
     "data": {
      "text/plain": [
       "[[1.0, -0.0, 0.0, 0.0],\n",
       " [0.0, 1.0, -0.0, 0.0],\n",
       " [0, 0.0, 1.0, 95.0],\n",
       " [0, 0, 0, 1]]"
      ]
     },
     "execution_count": 370,
     "metadata": {},
     "output_type": "execute_result"
    }
   ],
   "source": [
    "H0_1=create_matrix(0)\n",
    "H0_1"
   ]
  },
  {
   "cell_type": "code",
   "execution_count": 371,
   "id": "f8e698e7",
   "metadata": {},
   "outputs": [
    {
     "data": {
      "text/plain": [
       "array([[ 1., -0.,  0.,  0.],\n",
       "       [ 0.,  0., -1.,  0.],\n",
       "       [ 0.,  1.,  0.,  0.],\n",
       "       [ 0.,  0.,  0.,  1.]])"
      ]
     },
     "execution_count": 371,
     "metadata": {},
     "output_type": "execute_result"
    }
   ],
   "source": [
    "H1_2=create_matrix(1)\n",
    "np.round(H1_2)"
   ]
  },
  {
   "cell_type": "code",
   "execution_count": 372,
   "id": "f6c7caad",
   "metadata": {},
   "outputs": [
    {
     "data": {
      "text/plain": [
       "[[6.123233995736766e-17, -1.0, 0.0, 6.368163355566236e-15],\n",
       " [1.0, 6.123233995736766e-17, -0.0, 104.0],\n",
       " [0, 0.0, 1.0, 0.0],\n",
       " [0, 0, 0, 1]]"
      ]
     },
     "execution_count": 372,
     "metadata": {},
     "output_type": "execute_result"
    }
   ],
   "source": [
    "H2_3=create_matrix(2)\n",
    "H2_3"
   ]
  },
  {
   "cell_type": "code",
   "execution_count": 373,
   "id": "99cb2d9e",
   "metadata": {},
   "outputs": [
    {
     "data": {
      "text/plain": [
       "[[6.123233995736766e-17, 1.0, -0.0, 5.449678256205722e-15],\n",
       " [-1.0, 6.123233995736766e-17, -0.0, -89.0],\n",
       " [0, 0.0, 1.0, 0.0],\n",
       " [0, 0, 0, 1]]"
      ]
     },
     "execution_count": 373,
     "metadata": {},
     "output_type": "execute_result"
    }
   ],
   "source": [
    "H3_4=create_matrix(3)\n",
    "H3_4"
   ]
  },
  {
   "cell_type": "code",
   "execution_count": 374,
   "id": "dd73d233",
   "metadata": {},
   "outputs": [
    {
     "data": {
      "text/plain": [
       "array([[ 1.000000e+00,  0.000000e+00,  0.000000e+00,  0.000000e+00],\n",
       "       [ 0.000000e+00,  6.123234e-17, -1.000000e+00,  0.000000e+00],\n",
       "       [ 0.000000e+00,  1.000000e+00,  6.123234e-17,  9.500000e+01],\n",
       "       [ 0.000000e+00,  0.000000e+00,  0.000000e+00,  1.000000e+00]])"
      ]
     },
     "execution_count": 374,
     "metadata": {},
     "output_type": "execute_result"
    }
   ],
   "source": [
    "H0_2=np.dot(H0_1,H1_2)\n",
    "H0_2"
   ]
  },
  {
   "cell_type": "code",
   "execution_count": 375,
   "id": "dfcb7cf9",
   "metadata": {},
   "outputs": [
    {
     "data": {
      "text/plain": [
       "array([[ 6.12323400e-17, -1.00000000e+00,  0.00000000e+00,\n",
       "         6.36816336e-15],\n",
       "       [ 6.12323400e-17,  3.74939946e-33, -1.00000000e+00,\n",
       "         6.36816336e-15],\n",
       "       [ 1.00000000e+00,  6.12323400e-17,  6.12323400e-17,\n",
       "         1.99000000e+02],\n",
       "       [ 0.00000000e+00,  0.00000000e+00,  0.00000000e+00,\n",
       "         1.00000000e+00]])"
      ]
     },
     "execution_count": 375,
     "metadata": {},
     "output_type": "execute_result"
    }
   ],
   "source": [
    "H0_3=np.dot(H0_2,H2_3)\n",
    "H0_3"
   ]
  },
  {
   "cell_type": "code",
   "execution_count": 376,
   "id": "79ab112f",
   "metadata": {},
   "outputs": [
    {
     "data": {
      "text/plain": [
       "array([[  1.,   0.,   0.,  89.],\n",
       "       [  0.,   0.,  -1.,   0.],\n",
       "       [  0.,   1.,   0., 199.],\n",
       "       [  0.,   0.,   0.,   1.]])"
      ]
     },
     "execution_count": 376,
     "metadata": {},
     "output_type": "execute_result"
    }
   ],
   "source": [
    "H0_4=np.dot(H0_3,H3_4)\n",
    "np.round(H0_4)"
   ]
  },
  {
   "cell_type": "code",
   "execution_count": 377,
   "id": "6057c623",
   "metadata": {},
   "outputs": [
    {
     "name": "stdout",
     "output_type": "stream",
     "text": [
      "H0_4:\n",
      "[[  1.   0.   0.  89.]\n",
      " [  0.   0.  -1.   0.]\n",
      " [  0.   1.   0. 199.]\n",
      " [  0.   0.   0.   1.]]\n"
     ]
    }
   ],
   "source": [
    "H0_2 = np.dot(H0_1, H1_2)\n",
    "H0_3 = np.dot(H0_2, H2_3)\n",
    "H0_4 = np.dot(H0_3, H3_4)\n",
    "\n",
    "print(\"H0_4:\")\n",
    "print(np.round(H0_4))"
   ]
  },
  {
   "cell_type": "code",
   "execution_count": 378,
   "id": "41cbb8dc",
   "metadata": {},
   "outputs": [
    {
     "data": {
      "text/plain": [
       "[[1.0, -0.0, 0.0, 175.0],\n",
       " [0.0, 1.0, -0.0, 0.0],\n",
       " [0, 0.0, 1.0, 0.0],\n",
       " [0, 0, 0, 1]]"
      ]
     },
     "execution_count": 378,
     "metadata": {},
     "output_type": "execute_result"
    }
   ],
   "source": [
    "H4_5=create_matrix(4)\n",
    "H4_5"
   ]
  },
  {
   "cell_type": "code",
   "execution_count": 379,
   "id": "8318447e",
   "metadata": {},
   "outputs": [
    {
     "data": {
      "text/plain": [
       "array([[  1.,   0.,   0., 264.],\n",
       "       [  0.,   0.,  -1.,   0.],\n",
       "       [  0.,   1.,   0., 199.],\n",
       "       [  0.,   0.,   0.,   1.]])"
      ]
     },
     "execution_count": 379,
     "metadata": {},
     "output_type": "execute_result"
    }
   ],
   "source": [
    "H0_5=np.dot(H0_4,H4_5)\n",
    "np.round(H0_5)"
   ]
  },
  {
   "cell_type": "markdown",
   "id": "57fc6d99",
   "metadata": {},
   "source": [
    "# Create universal functions"
   ]
  },
  {
   "cell_type": "code",
   "execution_count": null,
   "id": "2174c012",
   "metadata": {},
   "outputs": [],
   "source": [
    "def create_dh_matrix(n):\n",
    "    return [\n",
    "    [cos(dh[n][0]), -sin(dh[n][0])*cos(dh[n][1]), sin(dh[n][0])*sin(dh[n][1]),dh[n][2]*cos(dh[n][0])],\n",
    "    [sin(dh[n][0]), cos(dh[n][0])*cos(dh[n][1]), -cos(dh[n][0])*sin(dh[n][1]),dh[n][2]*sin(dh[n][0])],\n",
    "    [0, sin(dh[n][1]), cos(dh[n][1]),dh[n][3]],\n",
    "    [0,0,0,1]]\n",
    "dr"
   ]
  }
 ],
 "metadata": {
  "kernelspec": {
   "display_name": "Python 3 (ipykernel)",
   "language": "python",
   "name": "python3"
  },
  "language_info": {
   "codemirror_mode": {
    "name": "ipython",
    "version": 3
   },
   "file_extension": ".py",
   "mimetype": "text/x-python",
   "name": "python",
   "nbconvert_exporter": "python",
   "pygments_lexer": "ipython3",
   "version": "3.9.13"
  }
 },
 "nbformat": 4,
 "nbformat_minor": 5
}
