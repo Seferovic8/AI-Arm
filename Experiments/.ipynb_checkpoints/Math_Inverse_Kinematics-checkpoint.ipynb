{
 "cells": [
  {
   "cell_type": "markdown",
   "id": "81d7ebe3",
   "metadata": {},
   "source": [
    "# Math Inverse Kinematics"
   ]
  },
  {
   "cell_type": "code",
   "execution_count": 387,
   "id": "9f8cefac",
   "metadata": {},
   "outputs": [],
   "source": [
    "# Import essential modules\n",
    "import numpy as np\n",
    "from forward_kinematics import forward_kinematics"
   ]
  },
  {
   "cell_type": "markdown",
   "id": "6ef3ad28",
   "metadata": {},
   "source": [
    "## Create task what we'll solve"
   ]
  },
  {
   "cell_type": "code",
   "execution_count": 388,
   "id": "df2003bd",
   "metadata": {},
   "outputs": [],
   "source": [
    "fT1=60\n",
    "fT2=30\n",
    "fT3=50\n",
    "fT4=70"
   ]
  },
  {
   "cell_type": "code",
   "execution_count": 389,
   "id": "4ccdff3f",
   "metadata": {},
   "outputs": [],
   "source": [
    "def cos(t):\n",
    "    return np.cos(np.deg2rad(t))\n",
    "def sin(t):\n",
    "    return np.sin(np.deg2rad(t))"
   ]
  },
  {
   "cell_type": "code",
   "execution_count": 390,
   "id": "83b619a5",
   "metadata": {},
   "outputs": [
    {
     "data": {
      "text/plain": [
       "array([ 114., -197.,   49.])"
      ]
     },
     "execution_count": 390,
     "metadata": {},
     "output_type": "execute_result"
    }
   ],
   "source": [
    "fk = forward_kinematics(fT1,fT2,fT3,fT4)[:3,3]\n",
    "fk"
   ]
  },
  {
   "cell_type": "code",
   "execution_count": 391,
   "id": "1d1aa7ca",
   "metadata": {},
   "outputs": [],
   "source": [
    "dx=fk[0]\n",
    "dy=fk[1]\n",
    "dz=fk[2]"
   ]
  },
  {
   "cell_type": "code",
   "execution_count": 392,
   "id": "de12cf3c",
   "metadata": {},
   "outputs": [
    {
     "data": {
      "text/plain": [
       "(114.0, -197.0, 49.0)"
      ]
     },
     "execution_count": 392,
     "metadata": {},
     "output_type": "execute_result"
    }
   ],
   "source": [
    "dx,dy,dz"
   ]
  },
  {
   "cell_type": "markdown",
   "id": "c728e3ba",
   "metadata": {},
   "source": [
    "## Use math to solve IK"
   ]
  },
  {
   "cell_type": "markdown",
   "id": "72705eef",
   "metadata": {},
   "source": [
    "### Theta 1"
   ]
  },
  {
   "cell_type": "code",
   "execution_count": 393,
   "id": "f782ef8f",
   "metadata": {},
   "outputs": [
    {
     "data": {
      "text/plain": [
       "60.0"
      ]
     },
     "execution_count": 393,
     "metadata": {},
     "output_type": "execute_result"
    }
   ],
   "source": [
    "T1= np.arctan(dy/dx)\n",
    "T1=np.round(np.degrees(-T1))\n",
    "T1"
   ]
  },
  {
   "cell_type": "markdown",
   "id": "c674beeb",
   "metadata": {},
   "source": [
    "### Theta 3"
   ]
  },
  {
   "cell_type": "code",
   "execution_count": 394,
   "id": "4c03b3ba",
   "metadata": {},
   "outputs": [],
   "source": [
    "l1=104.\n",
    "l2=89.\n",
    "l3=175.\n",
    "a1=95.\n",
    "fi=fT2+fT3+fT4\n",
    "eT2=(90-fT2)\n",
    "eT3=(90-fT3)+eT2\n",
    "eT4=(90-fT4)+eT3\n",
    "#dz=dz-95"
   ]
  },
  {
   "cell_type": "code",
   "execution_count": 395,
   "id": "9fdcae87",
   "metadata": {},
   "outputs": [
    {
     "data": {
      "text/plain": [
       "(60, 100, 120)"
      ]
     },
     "execution_count": 395,
     "metadata": {},
     "output_type": "execute_result"
    }
   ],
   "source": [
    "eT2,eT3,eT4"
   ]
  },
  {
   "cell_type": "code",
   "execution_count": 396,
   "id": "342bd758",
   "metadata": {},
   "outputs": [
    {
     "data": {
      "text/plain": [
       "227.6071176391459"
      ]
     },
     "execution_count": 396,
     "metadata": {},
     "output_type": "execute_result"
    }
   ],
   "source": [
    "# Calculate r\n",
    "r = np.sqrt(dx**2+dy**2)\n",
    "r"
   ]
  },
  {
   "cell_type": "code",
   "execution_count": 397,
   "id": "8c0a9aa4",
   "metadata": {},
   "outputs": [
    {
     "data": {
      "text/plain": [
       "52.000000000000014"
      ]
     },
     "execution_count": 397,
     "metadata": {},
     "output_type": "execute_result"
    }
   ],
   "source": [
    "# Calculate r1 if we know fT2\n",
    "r1 = cos(eT2)*l1\n",
    "r1"
   ]
  },
  {
   "cell_type": "code",
   "execution_count": 398,
   "id": "f7913360",
   "metadata": {},
   "outputs": [
    {
     "data": {
      "text/plain": [
       "175.60711763914588"
      ]
     },
     "execution_count": 398,
     "metadata": {},
     "output_type": "execute_result"
    }
   ],
   "source": [
    "# Calcualte r2\n",
    "r2 = r-r1\n",
    "r2"
   ]
  },
  {
   "cell_type": "code",
   "execution_count": 399,
   "id": "2f8c42cd",
   "metadata": {},
   "outputs": [
    {
     "data": {
      "text/plain": [
       "90.06664199358161"
      ]
     },
     "execution_count": 399,
     "metadata": {},
     "output_type": "execute_result"
    }
   ],
   "source": [
    "# Find t\n",
    "t = sin(eT2)*l1\n",
    "t"
   ]
  },
  {
   "cell_type": "code",
   "execution_count": 400,
   "id": "bafb8064",
   "metadata": {},
   "outputs": [
    {
     "data": {
      "text/plain": [
       "136.0666419935816"
      ]
     },
     "execution_count": 400,
     "metadata": {},
     "output_type": "execute_result"
    }
   ],
   "source": [
    "t1=t-(dz-95)\n",
    "t1"
   ]
  },
  {
   "cell_type": "code",
   "execution_count": 401,
   "id": "73dd82f1",
   "metadata": {},
   "outputs": [
    {
     "data": {
      "text/plain": [
       "52.2302018953106"
      ]
     },
     "execution_count": 401,
     "metadata": {},
     "output_type": "execute_result"
    }
   ],
   "source": [
    "alpha1=np.arctan(r2/t1)\n",
    "alpha1=np.degrees(alpha1)\n",
    "alpha1"
   ]
  },
  {
   "cell_type": "code",
   "execution_count": 402,
   "id": "4964f6ee",
   "metadata": {},
   "outputs": [
    {
     "data": {
      "text/plain": [
       "222.15307971967962"
      ]
     },
     "execution_count": 402,
     "metadata": {},
     "output_type": "execute_result"
    }
   ],
   "source": [
    "b=np.sqrt(t1**2+r2**2)\n",
    "b"
   ]
  },
  {
   "cell_type": "code",
   "execution_count": 403,
   "id": "b05ab411",
   "metadata": {},
   "outputs": [
    {
     "data": {
      "text/plain": [
       "47.63161328261995"
      ]
     },
     "execution_count": 403,
     "metadata": {},
     "output_type": "execute_result"
    }
   ],
   "source": [
    "alpha2=np.arccos((l2**2+b**2-l3**2)/(2*l2*b))\n",
    "alpha2=np.degrees(alpha2)\n",
    "alpha2"
   ]
  },
  {
   "cell_type": "code",
   "execution_count": 404,
   "id": "01052935",
   "metadata": {},
   "outputs": [
    {
     "data": {
      "text/plain": [
       "50.0"
      ]
     },
     "execution_count": 404,
     "metadata": {},
     "output_type": "execute_result"
    }
   ],
   "source": [
    "T3=180-(alpha1+alpha2+fT2)\n",
    "T3=np.round(T3)\n",
    "T3"
   ]
  },
  {
   "cell_type": "markdown",
   "id": "bdb4a7ab",
   "metadata": {},
   "source": [
    "### Theta 4"
   ]
  },
  {
   "cell_type": "code",
   "execution_count": 405,
   "id": "bd2f6f25",
   "metadata": {},
   "outputs": [
    {
     "data": {
      "text/plain": [
       "110.29793154322469"
      ]
     },
     "execution_count": 405,
     "metadata": {},
     "output_type": "execute_result"
    }
   ],
   "source": [
    "T4=np.arccos((l2**2+l3**2-b**2)/(2*l2*l3))\n",
    "T4=np.degrees(T4)\n",
    "T4"
   ]
  },
  {
   "cell_type": "code",
   "execution_count": 406,
   "id": "b4687154",
   "metadata": {},
   "outputs": [
    {
     "data": {
      "text/plain": [
       "70.0"
      ]
     },
     "execution_count": 406,
     "metadata": {},
     "output_type": "execute_result"
    }
   ],
   "source": [
    "T4=180-T4\n",
    "T4=np.round(T4)\n",
    "T4"
   ]
  },
  {
   "cell_type": "code",
   "execution_count": 407,
   "id": "13e3e84a",
   "metadata": {},
   "outputs": [
    {
     "name": "stdout",
     "output_type": "stream",
     "text": [
      "Pred T1:60.0, T2:30, T3:50.0 ,T4:70.0\n",
      "True: T1:60, T2:30, T3:50 ,T4:70\n",
      "Jesu li isti: True\n"
     ]
    }
   ],
   "source": [
    "if(t1>0):\n",
    "    print(f\"Pred T1:{T1}, T2:{fT2}, T3:{T3} ,T4:{T4}\")\n",
    "    print(f\"True: T1:{fT1}, T2:{fT2}, T3:{fT3} ,T4:{fT4}\")\n",
    "    print(f\"Jesu li isti: {[T1,fT2,T3,T4]==[fT1,fT2,fT3,fT4]}\")\n",
    "else:\n",
    "    print(\"Ne vrijedi\")"
   ]
  },
  {
   "cell_type": "markdown",
   "id": "b5090f5a",
   "metadata": {},
   "source": [
    "## Make functons for IK"
   ]
  },
  {
   "cell_type": "code",
   "execution_count": 408,
   "id": "41c58987",
   "metadata": {},
   "outputs": [],
   "source": [
    "from sklearn.metrics import mean_absolute_error \n",
    "def finder(fk, i):\n",
    "    dx,dy,dz=fk\n",
    "    eT2=(90-i)\n",
    "    l1=104.\n",
    "    l2=89.\n",
    "    l3=175.\n",
    "    a1=95.\n",
    "    r = np.sqrt(dx**2+dy**2)\n",
    "    r1 = cos(eT2)*l1\n",
    "    r2 = r-r1\n",
    "    t = sin(eT2)*l1\n",
    "    t1=abs(t-(dz-95))\n",
    "    alpha1=np.arctan(r2/t1)\n",
    "    alpha1=abs(np.degrees(alpha1))\n",
    "    b=np.sqrt(t1**2+r2**2)\n",
    "    operation1=(l2**2+b**2-l3**2)/(2*l2*b)\n",
    "    if(operation1>1 or operation1<0):\n",
    "        raise Exception() \n",
    "    alpha2=np.arccos(operation1)\n",
    "    alpha2=np.degrees(alpha2)\n",
    "    T3=180-(alpha1+alpha2+fT2)\n",
    "    T3=np.round(T3)\n",
    "    T4=np.arccos((l2**2+l3**2-b**2)/(2*l2*l3))\n",
    "    T4=180-np.degrees(T4)\n",
    "    T4=np.round(T4)\n",
    "    return T3, T4\n",
    "def find_T2(T1,fk_true):\n",
    "\n",
    "    mse={}\n",
    "    for i in range(91):\n",
    "        try:\n",
    "            T3, T4 = finder(fk_true, i)\n",
    "            fk =forward_kinematics(T1,i,T3,T4)[:3,3]\n",
    "            #print(f\"fdx: {fk[0]}, dx: {dx}\")\n",
    "            #print(f\"dy: {dy}\")\n",
    "            #print(f\"dz: {dz}\")\n",
    "            if (fk[0]==fk_true[0] and fk[1]==fk_true[1] and fk[2]==fk_true[2]):\n",
    "                return i, T3, T4\n",
    "            mse[i]=mean_absolute_error(fk_true,fk)\n",
    "        except:\n",
    "            pass\n",
    "    else:\n",
    "        T2=min(mse, key=mse.get)\n",
    "        T3, T4 =finder(fk_true,T2)\n",
    "        return T2, T3, T4\n",
    "\n",
    "def ik(T1,fk_true):\n",
    "    for T2 in range(91):\n",
    "        for T3 in range(91):\n",
    "            for T4 in range(91):\n",
    "                fk=forward_kinematics(T1,T2,T3,T4)[:3,3]\n",
    "                if (fk[0]==fk_true[0] and fk[1]==fk_true[1] and fk[2]==fk_true[2]):\n",
    "                    return T2, T3, T4\n",
    "                \n",
    "def calculate_inverse_kineamtics(fk):\n",
    "    dx,dy,dz=fk\n",
    "    # Find T1\n",
    "    if(dx==0.):\n",
    "        T1=90\n",
    "    else:\n",
    "        T1= np.arctan(dy/dx)\n",
    "        T1=np.degrees(-T1)\n",
    "        T1=np.round(T1)\n",
    "    #Find T3\n",
    "    T2, T3, T4=find_T2(T1,fk)\n",
    "    return T1, T2, T3, T4"
   ]
  },
  {
   "cell_type": "code",
   "execution_count": 409,
   "id": "06fbbf68",
   "metadata": {},
   "outputs": [
    {
     "name": "stdout",
     "output_type": "stream",
     "text": [
      "[  76. -148.  417.] [63, 13, 12, 12]\n"
     ]
    }
   ],
   "source": [
    "T1=np.random.randint(0,91)\n",
    "T2=np.random.randint(0,91)\n",
    "T3=np.random.randint(0,91)\n",
    "T4=np.random.randint(0,91)       \n",
    "fk=forward_kinematics(T1,T2,T3,T4)[:3,3]\n",
    "print(fk, [T1,T2,T3,T4])"
   ]
  },
  {
   "cell_type": "code",
   "execution_count": 410,
   "id": "99e7efea",
   "metadata": {},
   "outputs": [
    {
     "data": {
      "text/plain": [
       "(63.0, 30, 107.0, 25.0)"
      ]
     },
     "execution_count": 410,
     "metadata": {},
     "output_type": "execute_result"
    }
   ],
   "source": [
    "result=calculate_inverse_kineamtics(fk)\n",
    "result"
   ]
  },
  {
   "cell_type": "code",
   "execution_count": 411,
   "id": "91b45859",
   "metadata": {},
   "outputs": [
    {
     "data": {
      "text/plain": [
       "(array([  76., -149.,  -46.]), array([  76., -148.,  417.]))"
      ]
     },
     "execution_count": 411,
     "metadata": {},
     "output_type": "execute_result"
    }
   ],
   "source": [
    "forward_kinematics(result[0],result[1],result[2],result[3])[:3,3], fk"
   ]
  },
  {
   "cell_type": "code",
   "execution_count": 412,
   "id": "262b1b64",
   "metadata": {},
   "outputs": [],
   "source": [
    "y_true=[]\n",
    "y_pred=[]\n",
    "#for i in range(5000):\n",
    "#    T1=np.random.randint(0,91)\n",
    "#    T2=np.random.randint(0,91)\n",
    "#    T3=np.random.randint(0,91)\n",
    "#    T4=np.random.randint(0,91)       \n",
    "#    fk=forward_kinematics(T1,T2,T3,T4)[:3,3]\n",
    "#    y_true.append(fk)\n",
    "#    result=calculate_inverse_kineamtics(fk)\n",
    "#    y_pred.append(forward_kinematics(result[0],result[1],result[2],result[3])[:3,3])"
   ]
  },
  {
   "cell_type": "code",
   "execution_count": 413,
   "id": "a7b04706",
   "metadata": {},
   "outputs": [
    {
     "ename": "ValueError",
     "evalue": "Found array with 0 sample(s) (shape=(0,)) while a minimum of 1 is required.",
     "output_type": "error",
     "traceback": [
      "\u001b[1;31m---------------------------------------------------------------------------\u001b[0m",
      "\u001b[1;31mValueError\u001b[0m                                Traceback (most recent call last)",
      "\u001b[1;32m~\\AppData\\Local\\Temp\\ipykernel_13180\\2666736658.py\u001b[0m in \u001b[0;36m<module>\u001b[1;34m\u001b[0m\n\u001b[0;32m      1\u001b[0m \u001b[1;32mfrom\u001b[0m \u001b[0msklearn\u001b[0m\u001b[1;33m.\u001b[0m\u001b[0mmetrics\u001b[0m \u001b[1;32mimport\u001b[0m \u001b[0mmean_absolute_error\u001b[0m\u001b[1;33m\u001b[0m\u001b[1;33m\u001b[0m\u001b[0m\n\u001b[1;32m----> 2\u001b[1;33m \u001b[0mmean_absolute_error\u001b[0m\u001b[1;33m(\u001b[0m\u001b[0my_true\u001b[0m\u001b[1;33m[\u001b[0m\u001b[1;33m:\u001b[0m\u001b[1;36m1000\u001b[0m\u001b[1;33m]\u001b[0m\u001b[1;33m,\u001b[0m\u001b[0my_pred\u001b[0m\u001b[1;33m[\u001b[0m\u001b[1;33m:\u001b[0m\u001b[1;36m1000\u001b[0m\u001b[1;33m]\u001b[0m\u001b[1;33m)\u001b[0m\u001b[1;33m\u001b[0m\u001b[1;33m\u001b[0m\u001b[0m\n\u001b[0m",
      "\u001b[1;32m~\\anaconda3\\lib\\site-packages\\sklearn\\metrics\\_regression.py\u001b[0m in \u001b[0;36mmean_absolute_error\u001b[1;34m(y_true, y_pred, sample_weight, multioutput)\u001b[0m\n\u001b[0;32m    189\u001b[0m     \u001b[1;36m0.85\u001b[0m\u001b[1;33m...\u001b[0m\u001b[1;33m\u001b[0m\u001b[1;33m\u001b[0m\u001b[0m\n\u001b[0;32m    190\u001b[0m     \"\"\"\n\u001b[1;32m--> 191\u001b[1;33m     y_type, y_true, y_pred, multioutput = _check_reg_targets(\n\u001b[0m\u001b[0;32m    192\u001b[0m         \u001b[0my_true\u001b[0m\u001b[1;33m,\u001b[0m \u001b[0my_pred\u001b[0m\u001b[1;33m,\u001b[0m \u001b[0mmultioutput\u001b[0m\u001b[1;33m\u001b[0m\u001b[1;33m\u001b[0m\u001b[0m\n\u001b[0;32m    193\u001b[0m     )\n",
      "\u001b[1;32m~\\anaconda3\\lib\\site-packages\\sklearn\\metrics\\_regression.py\u001b[0m in \u001b[0;36m_check_reg_targets\u001b[1;34m(y_true, y_pred, multioutput, dtype)\u001b[0m\n\u001b[0;32m     93\u001b[0m     \"\"\"\n\u001b[0;32m     94\u001b[0m     \u001b[0mcheck_consistent_length\u001b[0m\u001b[1;33m(\u001b[0m\u001b[0my_true\u001b[0m\u001b[1;33m,\u001b[0m \u001b[0my_pred\u001b[0m\u001b[1;33m)\u001b[0m\u001b[1;33m\u001b[0m\u001b[1;33m\u001b[0m\u001b[0m\n\u001b[1;32m---> 95\u001b[1;33m     \u001b[0my_true\u001b[0m \u001b[1;33m=\u001b[0m \u001b[0mcheck_array\u001b[0m\u001b[1;33m(\u001b[0m\u001b[0my_true\u001b[0m\u001b[1;33m,\u001b[0m \u001b[0mensure_2d\u001b[0m\u001b[1;33m=\u001b[0m\u001b[1;32mFalse\u001b[0m\u001b[1;33m,\u001b[0m \u001b[0mdtype\u001b[0m\u001b[1;33m=\u001b[0m\u001b[0mdtype\u001b[0m\u001b[1;33m)\u001b[0m\u001b[1;33m\u001b[0m\u001b[1;33m\u001b[0m\u001b[0m\n\u001b[0m\u001b[0;32m     96\u001b[0m     \u001b[0my_pred\u001b[0m \u001b[1;33m=\u001b[0m \u001b[0mcheck_array\u001b[0m\u001b[1;33m(\u001b[0m\u001b[0my_pred\u001b[0m\u001b[1;33m,\u001b[0m \u001b[0mensure_2d\u001b[0m\u001b[1;33m=\u001b[0m\u001b[1;32mFalse\u001b[0m\u001b[1;33m,\u001b[0m \u001b[0mdtype\u001b[0m\u001b[1;33m=\u001b[0m\u001b[0mdtype\u001b[0m\u001b[1;33m)\u001b[0m\u001b[1;33m\u001b[0m\u001b[1;33m\u001b[0m\u001b[0m\n\u001b[0;32m     97\u001b[0m \u001b[1;33m\u001b[0m\u001b[0m\n",
      "\u001b[1;32m~\\anaconda3\\lib\\site-packages\\sklearn\\utils\\validation.py\u001b[0m in \u001b[0;36mcheck_array\u001b[1;34m(array, accept_sparse, accept_large_sparse, dtype, order, copy, force_all_finite, ensure_2d, allow_nd, ensure_min_samples, ensure_min_features, estimator)\u001b[0m\n\u001b[0;32m    803\u001b[0m         \u001b[0mn_samples\u001b[0m \u001b[1;33m=\u001b[0m \u001b[0m_num_samples\u001b[0m\u001b[1;33m(\u001b[0m\u001b[0marray\u001b[0m\u001b[1;33m)\u001b[0m\u001b[1;33m\u001b[0m\u001b[1;33m\u001b[0m\u001b[0m\n\u001b[0;32m    804\u001b[0m         \u001b[1;32mif\u001b[0m \u001b[0mn_samples\u001b[0m \u001b[1;33m<\u001b[0m \u001b[0mensure_min_samples\u001b[0m\u001b[1;33m:\u001b[0m\u001b[1;33m\u001b[0m\u001b[1;33m\u001b[0m\u001b[0m\n\u001b[1;32m--> 805\u001b[1;33m             raise ValueError(\n\u001b[0m\u001b[0;32m    806\u001b[0m                 \u001b[1;34m\"Found array with %d sample(s) (shape=%s) while a\"\u001b[0m\u001b[1;33m\u001b[0m\u001b[1;33m\u001b[0m\u001b[0m\n\u001b[0;32m    807\u001b[0m                 \u001b[1;34m\" minimum of %d is required%s.\"\u001b[0m\u001b[1;33m\u001b[0m\u001b[1;33m\u001b[0m\u001b[0m\n",
      "\u001b[1;31mValueError\u001b[0m: Found array with 0 sample(s) (shape=(0,)) while a minimum of 1 is required."
     ]
    }
   ],
   "source": [
    "\n",
    "from sklearn.metrics import mean_absolute_error \n",
    "mean_absolute_error(y_true[:1000],y_pred[:1000])"
   ]
  },
  {
   "cell_type": "code",
   "execution_count": null,
   "id": "3a5a1f59",
   "metadata": {},
   "outputs": [],
   "source": [
    "len(y_pred)"
   ]
  },
  {
   "cell_type": "code",
   "execution_count": null,
   "id": "a940b6e0",
   "metadata": {},
   "outputs": [],
   "source": [
    "T1=np.random.randint(0,91)\n",
    "T2=np.random.randint(0,91)\n",
    "T3=np.random.randint(0,91)\n",
    "T4=np.random.randint(0,91)       \n",
    "fk=forward_kinematics(T1,T2,T3,T4)[:3,3]\n",
    "print(fk, [T1,T2,T3,T4])\n",
    "result=calculate_inverse_kineamtics(fk)\n",
    "if(T2==result[1]):\n",
    "    print(\"match\")\n",
    "else:\n",
    "    print(\"aa\")\n",
    "    print(f\"T2:{T2} Result:{result[1]}\")\n",
    "forward_kinematics(result[0],result[1],result[2],result[3])[:3,3], fk"
   ]
  },
  {
   "cell_type": "code",
   "execution_count": null,
   "id": "9446c73c",
   "metadata": {},
   "outputs": [],
   "source": []
  }
 ],
 "metadata": {
  "kernelspec": {
   "display_name": "Python 3 (ipykernel)",
   "language": "python",
   "name": "python3"
  },
  "language_info": {
   "codemirror_mode": {
    "name": "ipython",
    "version": 3
   },
   "file_extension": ".py",
   "mimetype": "text/x-python",
   "name": "python",
   "nbconvert_exporter": "python",
   "pygments_lexer": "ipython3",
   "version": "3.9.13"
  }
 },
 "nbformat": 4,
 "nbformat_minor": 5
}
