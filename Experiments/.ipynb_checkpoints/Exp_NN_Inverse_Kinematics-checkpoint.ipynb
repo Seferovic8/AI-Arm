{
 "cells": [
  {
   "cell_type": "code",
   "execution_count": 166,
   "id": "b40abf91",
   "metadata": {},
   "outputs": [],
   "source": [
    "import tensorflow as tf\n",
    "from forward_kinematics import forward_kinematics\n",
    "import numpy as np\n",
    "from tensorflow.keras import layers\n",
    "from tensorflow.keras.optimizers import Adam"
   ]
  },
  {
   "cell_type": "code",
   "execution_count": 168,
   "id": "d30742f7",
   "metadata": {},
   "outputs": [],
   "source": [
    "def cos(t):\n",
    "    return np.cos(np.deg2rad(t))"
   ]
  },
  {
   "cell_type": "markdown",
   "id": "dac1e093",
   "metadata": {},
   "source": [
    "# Create data"
   ]
  },
  {
   "cell_type": "code",
   "execution_count": 172,
   "id": "7136eef6",
   "metadata": {},
   "outputs": [],
   "source": [
    "# Generate 220000 samples\n",
    "x_samples=[]\n",
    "y_samples=[]\n",
    "l1=104.\n",
    "#for i in range(220000):\n",
    "for i in range(220000):\n",
    "    dx=np.random.randint(80,200)\n",
    "    dy=np.random.randint(-200,200)\n",
    "    dz=np.random.randint(0,70)\n",
    "    T4=np.random.randint(0,91)        \n",
    "    fk=forward_kinematics(T1,T2,T3,T4)[:3,3]\n",
    "    dx=fk[0]\n",
    "    dy=fk[1]\n",
    "    dz=fk[2]\n",
    "    r = np.sqrt(dx**2+dy**2)\n",
    "\n",
    "    x_samples.append([r,dz])\n",
    "    y_samples.append([T2,T3,T4])\n",
    "    \n",
    "x_samples=np.array(x_samples)\n",
    "y_samples=np.array(y_samples,dtype=np.float32)"
   ]
  },
  {
   "cell_type": "code",
   "execution_count": 173,
   "id": "ee96513d",
   "metadata": {
    "scrolled": true
   },
   "outputs": [
    {
     "data": {
      "text/plain": [
       "368.0787959119623"
      ]
     },
     "execution_count": 173,
     "metadata": {},
     "output_type": "execute_result"
    }
   ],
   "source": [
    "np.max(x_samples[:,0])"
   ]
  },
  {
   "cell_type": "code",
   "execution_count": 174,
   "id": "edfdbbf5",
   "metadata": {},
   "outputs": [],
   "source": [
    "#dx,dy,dz=x_samples[:,0],x_samples[:,1],x_samples[:,2]\n",
    "dr,dz=x_samples[:,0],x_samples[:,1]\n",
    "dT2,dT3,dT4 = y_samples[:,0],y_samples[:,1],y_samples[:,2]"
   ]
  },
  {
   "cell_type": "markdown",
   "id": "7fbc32a2",
   "metadata": {},
   "source": [
    "## Data normalization"
   ]
  },
  {
   "cell_type": "code",
   "execution_count": 175,
   "id": "d449549d",
   "metadata": {},
   "outputs": [],
   "source": [
    "# Step 1: Determine the Range\n",
    "#min_dx, max_dx = min(dx), max(dx)\n",
    "min_r, max_r = min(dr), max(dr)\n",
    "#min_dy, max_dy = min(dy), max(dy)\n",
    "min_dz, max_dz = min(dz), max(dz)\n",
    "\n",
    "# Step 2: Normalize Each Variable\n",
    "#normalized_dx = [(x - min_dx) / (max_dx - min_dx) for x in dx]\n",
    "#normalized_dy = [(y - min_dy) / (max_dy - min_dy) for y in dy]\n",
    "normalized_dz = [(z - min_dz) / (max_dz - min_dz) for z in dz]\n",
    "normalized_r = [(r - min_r) / (max_r - min_r) for r in dr]\n",
    "# Normilize Y samples\n",
    "#normalized_y =np.array([t2/90 for t2 in y_samples])\n",
    "normalized_dT2 =np.array([t2/90 for t2 in dT2])\n",
    "normalized_dT3 =np.array([t3/90 for t3 in dT3])\n",
    "normalized_dT4 =np.array([t4/90 for t4 in dT4])"
   ]
  },
  {
   "cell_type": "code",
   "execution_count": 176,
   "id": "15620b7e",
   "metadata": {},
   "outputs": [
    {
     "data": {
      "text/plain": [
       "(0.5687548559627339, 0.5806962025316456)"
      ]
     },
     "execution_count": 176,
     "metadata": {},
     "output_type": "execute_result"
    }
   ],
   "source": [
    "#normalized_dx[0],normalized_dy[0],normalized_dz[0]\n",
    "normalized_r[0],normalized_dz[0]"
   ]
  },
  {
   "cell_type": "code",
   "execution_count": 177,
   "id": "2c9bad6c",
   "metadata": {},
   "outputs": [
    {
     "data": {
      "text/plain": [
       "array([[0.56875486, 0.5806962 ],\n",
       "       [0.6328767 , 0.34651899],\n",
       "       [0.70361172, 0.74841772],\n",
       "       ...,\n",
       "       [0.32840823, 0.125     ],\n",
       "       [0.73146283, 0.22626582],\n",
       "       [0.62571611, 0.86392405]])"
      ]
     },
     "execution_count": 177,
     "metadata": {},
     "output_type": "execute_result"
    }
   ],
   "source": [
    "#normalized_x=np.transpose(np.array([normalized_dx,normalized_dy,normalized_dz]))\n",
    "normalized_x=np.transpose(np.array([normalized_r,normalized_dz]))\n",
    "normalized_x"
   ]
  },
  {
   "cell_type": "code",
   "execution_count": 178,
   "id": "19b221ed",
   "metadata": {},
   "outputs": [
    {
     "data": {
      "text/plain": [
       "array([[0.07777778, 0.22222222, 1.        ],\n",
       "       [0.15555556, 0.98888889, 0.36666667],\n",
       "       [0.23333333, 0.15555556, 0.46666667],\n",
       "       ...,\n",
       "       [0.87777778, 0.42222222, 0.92222222],\n",
       "       [0.67777778, 0.48888889, 0.47777778],\n",
       "       [0.28888889, 0.18888889, 0.02222222]])"
      ]
     },
     "execution_count": 178,
     "metadata": {},
     "output_type": "execute_result"
    }
   ],
   "source": [
    "normalized_y=np.transpose(np.array([normalized_dT2,normalized_dT3,normalized_dT4]))\n",
    "normalized_y"
   ]
  },
  {
   "cell_type": "markdown",
   "id": "c4ccbfe3",
   "metadata": {},
   "source": [
    "# Split data"
   ]
  },
  {
   "cell_type": "code",
   "execution_count": 179,
   "id": "44d1b4e2",
   "metadata": {},
   "outputs": [],
   "source": [
    "X_train = normalized_x[:200000]\n",
    "X_val = normalized_x[200000:]"
   ]
  },
  {
   "cell_type": "code",
   "execution_count": 180,
   "id": "30f5e4e7",
   "metadata": {},
   "outputs": [],
   "source": [
    "y_train = normalized_y[:200000]\n",
    "y_val = normalized_y[200000:]"
   ]
  },
  {
   "cell_type": "code",
   "execution_count": 181,
   "id": "e4b31518",
   "metadata": {},
   "outputs": [
    {
     "data": {
      "text/plain": [
       "(200000, 2)"
      ]
     },
     "execution_count": 181,
     "metadata": {},
     "output_type": "execute_result"
    }
   ],
   "source": [
    "X_train.shape"
   ]
  },
  {
   "cell_type": "markdown",
   "id": "ec1e867b",
   "metadata": {},
   "source": [
    "# Create model"
   ]
  },
  {
   "cell_type": "code",
   "execution_count": 303,
   "id": "92c3b688",
   "metadata": {},
   "outputs": [],
   "source": [
    "#inputs = layers.Input(shape=(2,))\n",
    "#x=layers.Dense(32, activation='tanh')(inputs)\n",
    "#x=layers.Dense(64,activation='tanh')(x)\n",
    "#x=layers.Dense(32, activation='tanh')(x)\n",
    "#outputs=layers.Dense(3,activation=\"linear\")(x)\n",
    "\n",
    "#model_1=tf.keras.Model(inputs,outputs)"
   ]
  },
  {
   "cell_type": "code",
   "execution_count": 335,
   "id": "8a94d44d",
   "metadata": {},
   "outputs": [],
   "source": [
    "model_1=tf.keras.Sequential([\n",
    "    layers.Dense(32, activation='tanh'),\n",
    "    layers.Dense(64, activation='tanh'),\n",
    " #   layers.Dense(128,activation='relu'),\n",
    "#    layers.Dense(64, activation='relu'),\n",
    "#    layers.Dense(32, activation='tanh'),\n",
    "    layers.Dense(3,activation=\"linear\")\n",
    "])"
   ]
  },
  {
   "cell_type": "code",
   "execution_count": 336,
   "id": "83a9c75f",
   "metadata": {},
   "outputs": [],
   "source": [
    "# Compile model\n",
    "loss = tf.keras.losses.huber\n",
    "optimizer = tf.keras.optimizers.Adam(learning_rate=1e-3)\n",
    "early_stop = tf.keras.callbacks.EarlyStopping(monitor='loss', patience=100, restore_best_weights=True)\n",
    "model_1.compile(loss=loss, optimizer=optimizer, metrics=tf.metrics.RootMeanSquaredError())"
   ]
  },
  {
   "cell_type": "code",
   "execution_count": 337,
   "id": "7c948f42",
   "metadata": {},
   "outputs": [
    {
     "data": {
      "text/plain": [
       "array([[0.07777778, 0.22222222, 1.        ],\n",
       "       [0.15555556, 0.98888889, 0.36666667],\n",
       "       [0.23333333, 0.15555556, 0.46666667],\n",
       "       ...,\n",
       "       [0.16666667, 0.35555556, 0.17777778],\n",
       "       [0.84444444, 0.83333333, 0.66666667],\n",
       "       [0.55555556, 0.92222222, 0.4       ]])"
      ]
     },
     "execution_count": 337,
     "metadata": {},
     "output_type": "execute_result"
    }
   ],
   "source": [
    "np.array(y_train)"
   ]
  },
  {
   "cell_type": "code",
   "execution_count": 338,
   "id": "52b3c3de",
   "metadata": {
    "scrolled": false
   },
   "outputs": [
    {
     "name": "stdout",
     "output_type": "stream",
     "text": [
      "Epoch 1/10\n",
      "6250/6250 [==============================] - 4s 642us/step - loss: 0.0173 - root_mean_squared_error: 0.1861 - val_loss: 0.0148 - val_root_mean_squared_error: 0.1721\n",
      "Epoch 2/10\n",
      "6250/6250 [==============================] - 4s 614us/step - loss: 0.0147 - root_mean_squared_error: 0.1717 - val_loss: 0.0147 - val_root_mean_squared_error: 0.1715\n",
      "Epoch 3/10\n",
      "6250/6250 [==============================] - 4s 608us/step - loss: 0.0145 - root_mean_squared_error: 0.1704 - val_loss: 0.0144 - val_root_mean_squared_error: 0.1695\n",
      "Epoch 4/10\n",
      "6250/6250 [==============================] - 4s 615us/step - loss: 0.0142 - root_mean_squared_error: 0.1688 - val_loss: 0.0141 - val_root_mean_squared_error: 0.1682\n",
      "Epoch 5/10\n",
      "6250/6250 [==============================] - 4s 613us/step - loss: 0.0141 - root_mean_squared_error: 0.1679 - val_loss: 0.0142 - val_root_mean_squared_error: 0.1684\n",
      "Epoch 6/10\n",
      "6250/6250 [==============================] - 4s 611us/step - loss: 0.0140 - root_mean_squared_error: 0.1671 - val_loss: 0.0138 - val_root_mean_squared_error: 0.1662\n",
      "Epoch 7/10\n",
      "6250/6250 [==============================] - 4s 610us/step - loss: 0.0139 - root_mean_squared_error: 0.1667 - val_loss: 0.0139 - val_root_mean_squared_error: 0.1667\n",
      "Epoch 8/10\n",
      "6250/6250 [==============================] - 4s 607us/step - loss: 0.0139 - root_mean_squared_error: 0.1665 - val_loss: 0.0138 - val_root_mean_squared_error: 0.1664\n",
      "Epoch 9/10\n",
      "6250/6250 [==============================] - 4s 607us/step - loss: 0.0138 - root_mean_squared_error: 0.1663 - val_loss: 0.0140 - val_root_mean_squared_error: 0.1673\n",
      "Epoch 10/10\n",
      "6250/6250 [==============================] - 4s 615us/step - loss: 0.0138 - root_mean_squared_error: 0.1660 - val_loss: 0.0138 - val_root_mean_squared_error: 0.1662\n"
     ]
    },
    {
     "data": {
      "text/plain": [
       "<keras.callbacks.History at 0x2ba5bca0880>"
      ]
     },
     "execution_count": 338,
     "metadata": {},
     "output_type": "execute_result"
    }
   ],
   "source": [
    "# Train model\n",
    "model_1.fit(X_train, y_train, \n",
    "            epochs=10,\n",
    "            validation_data=(X_val,y_val), \n",
    "            callbacks=[early_stop])"
   ]
  },
  {
   "cell_type": "code",
   "execution_count": 340,
   "id": "9df85ea2",
   "metadata": {},
   "outputs": [
    {
     "name": "stdout",
     "output_type": "stream",
     "text": [
      "625/625 [==============================] - 0s 520us/step - loss: 0.0138 - root_mean_squared_error: 0.1662\n"
     ]
    },
    {
     "data": {
      "text/plain": [
       "[0.01380858477205038, 0.16618412733078003]"
      ]
     },
     "execution_count": 340,
     "metadata": {},
     "output_type": "execute_result"
    }
   ],
   "source": [
    "model_1.evaluate(X_val,y_val)"
   ]
  },
  {
   "cell_type": "markdown",
   "id": "01274030",
   "metadata": {},
   "source": [
    "# Predict using model"
   ]
  },
  {
   "cell_type": "code",
   "execution_count": 341,
   "id": "612a5fea",
   "metadata": {},
   "outputs": [
    {
     "name": "stdout",
     "output_type": "stream",
     "text": [
      "45 40 79 15\n"
     ]
    },
    {
     "data": {
      "text/plain": [
       "array([ 191., -191.,   10.])"
      ]
     },
     "execution_count": 341,
     "metadata": {},
     "output_type": "execute_result"
    }
   ],
   "source": [
    "T1=np.random.randint(0,91)\n",
    "T2=np.random.randint(0,91)\n",
    "T3=np.random.randint(0,91)\n",
    "T4=np.random.randint(0,91)    \n",
    "print(T1,T2,T3,T4)\n",
    "fk=forward_kinematics(T1,T2,T3,T4)[:3,3]\n",
    "fk"
   ]
  },
  {
   "cell_type": "code",
   "execution_count": 342,
   "id": "12d0098f",
   "metadata": {},
   "outputs": [],
   "source": [
    "#predict_dx=(fk[0] - min_dx) / (max_dx - min_dx) \n",
    "#predict_dx"
   ]
  },
  {
   "cell_type": "code",
   "execution_count": 343,
   "id": "fc3c11dc",
   "metadata": {},
   "outputs": [
    {
     "data": {
      "text/plain": [
       "0.7338504510807726"
      ]
     },
     "execution_count": 343,
     "metadata": {},
     "output_type": "execute_result"
    }
   ],
   "source": [
    "predict_r=(np.sqrt(fk[0]**2+fk[1]**2) - min_r) / (max_r - min_r) \n",
    "predict_r"
   ]
  },
  {
   "cell_type": "code",
   "execution_count": 344,
   "id": "82df025b",
   "metadata": {},
   "outputs": [],
   "source": [
    "#predict_dy=(fk[1] - min_dy) / (max_dy - min_dy) \n",
    "#predict_dy"
   ]
  },
  {
   "cell_type": "code",
   "execution_count": 345,
   "id": "c86af67c",
   "metadata": {},
   "outputs": [
    {
     "data": {
      "text/plain": [
       "0.28322784810126583"
      ]
     },
     "execution_count": 345,
     "metadata": {},
     "output_type": "execute_result"
    }
   ],
   "source": [
    "predict_dz=(fk[2] - min_dz) / (max_dz - min_dz) \n",
    "predict_dz"
   ]
  },
  {
   "cell_type": "code",
   "execution_count": 346,
   "id": "210988d1",
   "metadata": {
    "scrolled": true
   },
   "outputs": [
    {
     "name": "stdout",
     "output_type": "stream",
     "text": [
      "1/1 [==============================] - 0s 46ms/step\n"
     ]
    },
    {
     "data": {
      "text/plain": [
       "array([50., 48., 47.], dtype=float32)"
      ]
     },
     "execution_count": 346,
     "metadata": {},
     "output_type": "execute_result"
    }
   ],
   "source": [
    "output=np.round(model_1.predict([[predict_r,predict_dz]])*90)[0]\n",
    "output"
   ]
  },
  {
   "cell_type": "code",
   "execution_count": 347,
   "id": "64e71c4c",
   "metadata": {},
   "outputs": [
    {
     "data": {
      "text/plain": [
       "45.0"
      ]
     },
     "execution_count": 347,
     "metadata": {},
     "output_type": "execute_result"
    }
   ],
   "source": [
    "T1= np.arctan(fk[1]/fk[0])\n",
    "T1=np.degrees(-T1)\n",
    "T1=np.round(T1)\n",
    "T1"
   ]
  },
  {
   "cell_type": "code",
   "execution_count": 348,
   "id": "0c2cb0bf",
   "metadata": {},
   "outputs": [
    {
     "data": {
      "text/plain": [
       "array([ 190., -190.,    6.])"
      ]
     },
     "execution_count": 348,
     "metadata": {},
     "output_type": "execute_result"
    }
   ],
   "source": [
    "forward_kinematics(T1,output[0],output[1],output[2])[:3,3]"
   ]
  },
  {
   "cell_type": "code",
   "execution_count": 349,
   "id": "e8ba0c26",
   "metadata": {},
   "outputs": [
    {
     "data": {
      "text/plain": [
       "array([ 191., -191.,   10.])"
      ]
     },
     "execution_count": 349,
     "metadata": {},
     "output_type": "execute_result"
    }
   ],
   "source": [
    "fk"
   ]
  },
  {
   "cell_type": "code",
   "execution_count": 161,
   "id": "78c1471f",
   "metadata": {},
   "outputs": [
    {
     "data": {
      "text/plain": [
       "array([72.], dtype=float32)"
      ]
     },
     "execution_count": 161,
     "metadata": {},
     "output_type": "execute_result"
    }
   ],
   "source": [
    "out=np.round(output*90)[0]\n",
    "out"
   ]
  },
  {
   "cell_type": "code",
   "execution_count": 46,
   "id": "bc3727a6",
   "metadata": {},
   "outputs": [],
   "source": [
    "def cos(t):\n",
    "    return np.cos(np.deg2rad(t))\n",
    "def sin(t):\n",
    "    return np.sin(np.deg2rad(t))\n",
    "def finder(fk, i):\n",
    "    dx,dy,dz=fk\n",
    "    eT2=i\n",
    "    l1=104.\n",
    "    l2=89.\n",
    "    l3=175.\n",
    "    r = np.sqrt(dx**2+dy**2)\n",
    "    r1 = cos(eT2)*l1\n",
    "    r2 = r-r1\n",
    "    t = sin(eT2)*l1\n",
    "    t1=t-(dz-95)\n",
    "    if(t1!=0):        \n",
    "        alpha1=np.arctan(r2/t1)\n",
    "        alpha1=np.degrees(alpha1)\n",
    "    else:\n",
    "        alpha1=0\n",
    "    b=np.sqrt(t1**2+r2**2)\n",
    "    operation1=(l2**2+b**2-l3**2)/(2*l2*b)\n",
    "    operation2=(l2**2+l3**2-b**2)/(2*l2*l3)\n",
    "    if(int(operation1*100)>100 or int(operation1*100)<-100):\n",
    "        raise Exception() \n",
    "    if(int(operation1*100)==100 or int(operation1*100)==-100):\n",
    "        operation1=np.round(operation1)\n",
    "        \n",
    "    if(int(operation2*100)>100 or int(operation2*100)<-100):\n",
    "        raise Exception() \n",
    "    if(int(operation2*100)==100 or int(operation2*100)==-100):\n",
    "        operation2=np.round(operation2)\n",
    "\n",
    "    alpha2=np.arccos(operation1)\n",
    "    alpha2=np.degrees(alpha2)\n",
    "    if(t1>0):\n",
    "        T3=180-(alpha1+alpha2+i)\n",
    "        T3=np.round(T3)\n",
    "    else:\n",
    "        T3=alpha1+alpha2+i\n",
    "        T3=abs(np.round(T3))\n",
    "    T4=np.arccos(operation2)\n",
    "\n",
    "    T4=np.degrees(T4)\n",
    "    T4=180-T4\n",
    "    T4=np.round(T4)\n",
    "    T1= np.arctan(dy/dx)\n",
    "    T1=np.degrees(-T1)\n",
    "    T1=np.round(T1)\n",
    "    if T3>90 or T4>90:\n",
    "        raise Exception()\n",
    "    return T1,T2,T3[0], T4[0]"
   ]
  },
  {
   "cell_type": "code",
   "execution_count": 47,
   "id": "52a5e1f9",
   "metadata": {},
   "outputs": [
    {
     "ename": "Exception",
     "evalue": "",
     "output_type": "error",
     "traceback": [
      "\u001b[1;31m---------------------------------------------------------------------------\u001b[0m",
      "\u001b[1;31mException\u001b[0m                                 Traceback (most recent call last)",
      "\u001b[1;32m~\\AppData\\Local\\Temp\\ipykernel_3416\\3389380070.py\u001b[0m in \u001b[0;36m<module>\u001b[1;34m\u001b[0m\n\u001b[1;32m----> 1\u001b[1;33m \u001b[0mpredicted\u001b[0m\u001b[1;33m=\u001b[0m\u001b[0mfinder\u001b[0m\u001b[1;33m(\u001b[0m\u001b[0mfk\u001b[0m\u001b[1;33m,\u001b[0m\u001b[0mout\u001b[0m\u001b[1;33m)\u001b[0m\u001b[1;33m\u001b[0m\u001b[1;33m\u001b[0m\u001b[0m\n\u001b[0m",
      "\u001b[1;32m~\\AppData\\Local\\Temp\\ipykernel_3416\\2583507737.py\u001b[0m in \u001b[0;36mfinder\u001b[1;34m(fk, i)\u001b[0m\n\u001b[0;32m     49\u001b[0m     \u001b[0mT1\u001b[0m\u001b[1;33m=\u001b[0m\u001b[0mnp\u001b[0m\u001b[1;33m.\u001b[0m\u001b[0mround\u001b[0m\u001b[1;33m(\u001b[0m\u001b[0mT1\u001b[0m\u001b[1;33m)\u001b[0m\u001b[1;33m\u001b[0m\u001b[1;33m\u001b[0m\u001b[0m\n\u001b[0;32m     50\u001b[0m     \u001b[1;32mif\u001b[0m \u001b[0mT3\u001b[0m\u001b[1;33m>\u001b[0m\u001b[1;36m90\u001b[0m \u001b[1;32mor\u001b[0m \u001b[0mT4\u001b[0m\u001b[1;33m>\u001b[0m\u001b[1;36m90\u001b[0m\u001b[1;33m:\u001b[0m\u001b[1;33m\u001b[0m\u001b[1;33m\u001b[0m\u001b[0m\n\u001b[1;32m---> 51\u001b[1;33m         \u001b[1;32mraise\u001b[0m \u001b[0mException\u001b[0m\u001b[1;33m(\u001b[0m\u001b[1;33m)\u001b[0m\u001b[1;33m\u001b[0m\u001b[1;33m\u001b[0m\u001b[0m\n\u001b[0m\u001b[0;32m     52\u001b[0m     \u001b[1;32mreturn\u001b[0m \u001b[0mT1\u001b[0m\u001b[1;33m,\u001b[0m\u001b[0mT2\u001b[0m\u001b[1;33m,\u001b[0m\u001b[0mT3\u001b[0m\u001b[1;33m[\u001b[0m\u001b[1;36m0\u001b[0m\u001b[1;33m]\u001b[0m\u001b[1;33m,\u001b[0m \u001b[0mT4\u001b[0m\u001b[1;33m[\u001b[0m\u001b[1;36m0\u001b[0m\u001b[1;33m]\u001b[0m\u001b[1;33m\u001b[0m\u001b[1;33m\u001b[0m\u001b[0m\n",
      "\u001b[1;31mException\u001b[0m: "
     ]
    }
   ],
   "source": [
    "predicted=finder(fk,out)"
   ]
  },
  {
   "cell_type": "code",
   "execution_count": 28,
   "id": "0afd41a6",
   "metadata": {},
   "outputs": [
    {
     "data": {
      "text/plain": [
       "array([ 232., -129.,  208.])"
      ]
     },
     "execution_count": 28,
     "metadata": {},
     "output_type": "execute_result"
    }
   ],
   "source": [
    "predict_fk=forward_kinematics(*predicted)[:3,3]\n",
    "predict_fk"
   ]
  },
  {
   "cell_type": "code",
   "execution_count": 29,
   "id": "330cc048",
   "metadata": {},
   "outputs": [
    {
     "data": {
      "text/plain": [
       "array([ 222., -123.,  280.])"
      ]
     },
     "execution_count": 29,
     "metadata": {},
     "output_type": "execute_result"
    }
   ],
   "source": [
    "fk"
   ]
  },
  {
   "cell_type": "code",
   "execution_count": null,
   "id": "bbf2a4a6",
   "metadata": {},
   "outputs": [],
   "source": []
  }
 ],
 "metadata": {
  "kernelspec": {
   "display_name": "Python 3 (ipykernel)",
   "language": "python",
   "name": "python3"
  },
  "language_info": {
   "codemirror_mode": {
    "name": "ipython",
    "version": 3
   },
   "file_extension": ".py",
   "mimetype": "text/x-python",
   "name": "python",
   "nbconvert_exporter": "python",
   "pygments_lexer": "ipython3",
   "version": "3.9.13"
  }
 },
 "nbformat": 4,
 "nbformat_minor": 5
}
