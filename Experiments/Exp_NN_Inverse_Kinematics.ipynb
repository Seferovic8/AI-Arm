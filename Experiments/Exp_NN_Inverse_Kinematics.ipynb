{
 "cells": [
  {
   "cell_type": "code",
   "execution_count": 1,
   "id": "b40abf91",
   "metadata": {},
   "outputs": [],
   "source": [
    "import tensorflow as tf\n",
    "from forward_kinematics import forward_kinematics\n",
    "import numpy as np\n",
    "from tensorflow.keras import layers\n",
    "from tensorflow.keras.optimizers import Adam"
   ]
  },
  {
   "cell_type": "code",
   "execution_count": 2,
   "id": "d30742f7",
   "metadata": {},
   "outputs": [],
   "source": [
    "def cos(t):\n",
    "    return np.cos(np.deg2rad(t))"
   ]
  },
  {
   "cell_type": "markdown",
   "id": "dac1e093",
   "metadata": {},
   "source": [
    "# Create data"
   ]
  },
  {
   "cell_type": "code",
   "execution_count": 3,
   "id": "7136eef6",
   "metadata": {},
   "outputs": [],
   "source": [
    "# Generate 220000 samples\n",
    "x_samples=[]\n",
    "y_samples=[]\n",
    "l1=104.\n",
    "#for i in range(220000):\n",
    "for i in range(220000):\n",
    "    T1=np.random.randint(0,91)\n",
    "    T2=np.random.randint(0,91)\n",
    "    T3=np.random.randint(0,91)\n",
    "    T4=np.random.randint(0,91)        \n",
    "    fk=forward_kinematics(T1,T2,T3,T4)[:3,3]\n",
    "    dx=fk[0]\n",
    "    dy=fk[1]\n",
    "    dz=fk[2]\n",
    "    r = np.sqrt(dx**2+dy**2)\n",
    "\n",
    "    x_samples.append([r,dz])\n",
    "    y_samples.append([T2])\n",
    "    \n",
    "x_samples=np.array(x_samples)\n",
    "y_samples=np.array(y_samples,dtype=np.float32)"
   ]
  },
  {
   "cell_type": "code",
   "execution_count": 4,
   "id": "ee96513d",
   "metadata": {
    "scrolled": true
   },
   "outputs": [
    {
     "data": {
      "text/plain": [
       "368.3164400349243"
      ]
     },
     "execution_count": 4,
     "metadata": {},
     "output_type": "execute_result"
    }
   ],
   "source": [
    "np.max(x_samples[:,0])"
   ]
  },
  {
   "cell_type": "code",
   "execution_count": 5,
   "id": "edfdbbf5",
   "metadata": {},
   "outputs": [],
   "source": [
    "#dx,dy,dz=x_samples[:,0],x_samples[:,1],x_samples[:,2]\n",
    "dr,dz=x_samples[:,0],x_samples[:,1]\n"
   ]
  },
  {
   "cell_type": "markdown",
   "id": "7fbc32a2",
   "metadata": {},
   "source": [
    "## Data normalization"
   ]
  },
  {
   "cell_type": "code",
   "execution_count": 6,
   "id": "d449549d",
   "metadata": {},
   "outputs": [],
   "source": [
    "# Step 1: Determine the Range\n",
    "#min_dx, max_dx = min(dx), max(dx)\n",
    "min_r, max_r = min(dr), max(dr)\n",
    "#min_dy, max_dy = min(dy), max(dy)\n",
    "min_dz, max_dz = min(dz), max(dz)\n",
    "\n",
    "# Step 2: Normalize Each Variable\n",
    "#normalized_dx = [(x - min_dx) / (max_dx - min_dx) for x in dx]\n",
    "#normalized_dy = [(y - min_dy) / (max_dy - min_dy) for y in dy]\n",
    "normalized_dz = [(z - min_dz) / (max_dz - min_dz) for z in dz]\n",
    "normalized_r = [(r - min_r) / (max_r - min_r) for r in dr]\n",
    "# Normilize Y samples\n",
    "#normalized_y =np.array([t2/90 for t2 in y_samples])\n",
    "normalized_y =np.array([t2 for t2 in y_samples])"
   ]
  },
  {
   "cell_type": "code",
   "execution_count": 7,
   "id": "15620b7e",
   "metadata": {},
   "outputs": [
    {
     "data": {
      "text/plain": [
       "(0.7085465607623419, 0.20253164556962025)"
      ]
     },
     "execution_count": 7,
     "metadata": {},
     "output_type": "execute_result"
    }
   ],
   "source": [
    "#normalized_dx[0],normalized_dy[0],normalized_dz[0]\n",
    "normalized_r[0],normalized_dz[0]"
   ]
  },
  {
   "cell_type": "code",
   "execution_count": 8,
   "id": "2c9bad6c",
   "metadata": {},
   "outputs": [
    {
     "data": {
      "text/plain": [
       "array([[0.70854656, 0.20253165],\n",
       "       [0.83569514, 0.41772152],\n",
       "       [0.55557914, 0.78797468],\n",
       "       ...,\n",
       "       [0.61137023, 0.43987342],\n",
       "       [0.55912371, 0.07594937],\n",
       "       [0.84221915, 0.34810127]])"
      ]
     },
     "execution_count": 8,
     "metadata": {},
     "output_type": "execute_result"
    }
   ],
   "source": [
    "#normalized_x=np.transpose(np.array([normalized_dx,normalized_dy,normalized_dz]))\n",
    "normalized_x=np.transpose(np.array([normalized_r,normalized_dz]))\n",
    "normalized_x"
   ]
  },
  {
   "cell_type": "code",
   "execution_count": 9,
   "id": "19b221ed",
   "metadata": {},
   "outputs": [],
   "source": [
    "#normalized_y=np.transpose(np.array([normalized_dT2,normalized_dT3,normalized_dT4]))\n",
    "#normalized_y"
   ]
  },
  {
   "cell_type": "markdown",
   "id": "c4ccbfe3",
   "metadata": {},
   "source": [
    "# Split data"
   ]
  },
  {
   "cell_type": "code",
   "execution_count": 10,
   "id": "44d1b4e2",
   "metadata": {},
   "outputs": [],
   "source": [
    "X_train = normalized_x[:200000]\n",
    "X_val = normalized_x[200000:]"
   ]
  },
  {
   "cell_type": "code",
   "execution_count": 11,
   "id": "30f5e4e7",
   "metadata": {},
   "outputs": [],
   "source": [
    "y_train = normalized_y[:200000]\n",
    "y_val = normalized_y[200000:]"
   ]
  },
  {
   "cell_type": "code",
   "execution_count": 12,
   "id": "e4b31518",
   "metadata": {},
   "outputs": [
    {
     "data": {
      "text/plain": [
       "(200000, 2)"
      ]
     },
     "execution_count": 12,
     "metadata": {},
     "output_type": "execute_result"
    }
   ],
   "source": [
    "X_train.shape"
   ]
  },
  {
   "cell_type": "markdown",
   "id": "ec1e867b",
   "metadata": {},
   "source": [
    "# Create model"
   ]
  },
  {
   "cell_type": "code",
   "execution_count": 17,
   "id": "92c3b688",
   "metadata": {},
   "outputs": [],
   "source": [
    "inputs = layers.Input(shape=(2,))\n",
    "x=layers.Dense(32, activation='tanh')(inputs)\n",
    "x=layers.Dense(64,activation='tanh')(x)\n",
    "x=layers.Dense(32, activation='tanh')(x)\n",
    "out=layers.Dense(91,activation=\"softmax\")(x)\n",
    "\n",
    "model_1=tf.keras.Model(inputs,out)"
   ]
  },
  {
   "cell_type": "code",
   "execution_count": 18,
   "id": "83a9c75f",
   "metadata": {},
   "outputs": [],
   "source": [
    "# Compile model\n",
    "loss = tf.keras.losses.sparse_categorical_crossentropy\n",
    "optimizer = tf.keras.optimizers.Adam(learning_rate=1e-3)\n",
    "early_stop = tf.keras.callbacks.EarlyStopping(monitor='loss', patience=100, restore_best_weights=True)\n",
    "model_1.compile(loss=loss, optimizer=optimizer, metrics=tf.metrics.RootMeanSquaredError())"
   ]
  },
  {
   "cell_type": "code",
   "execution_count": 19,
   "id": "7c948f42",
   "metadata": {},
   "outputs": [
    {
     "data": {
      "text/plain": [
       "array([[75.],\n",
       "       [46.],\n",
       "       [ 0.],\n",
       "       ...,\n",
       "       [43.],\n",
       "       [19.],\n",
       "       [36.]], dtype=float32)"
      ]
     },
     "execution_count": 19,
     "metadata": {},
     "output_type": "execute_result"
    }
   ],
   "source": [
    "np.array(y_train)"
   ]
  },
  {
   "cell_type": "code",
   "execution_count": 20,
   "id": "52b3c3de",
   "metadata": {
    "scrolled": false
   },
   "outputs": [
    {
     "name": "stdout",
     "output_type": "stream",
     "text": [
      "Epoch 1/10\n",
      "6250/6250 [==============================] - 5s 664us/step - loss: 3.6825 - root_mean_squared_error: 52.0928 - val_loss: 3.4792 - val_root_mean_squared_error: 52.1438\n",
      "Epoch 2/10\n",
      "6250/6250 [==============================] - 4s 651us/step - loss: 3.4431 - root_mean_squared_error: 52.0927 - val_loss: 3.4220 - val_root_mean_squared_error: 52.1438\n",
      "Epoch 3/10\n",
      "6250/6250 [==============================] - 4s 654us/step - loss: 3.3970 - root_mean_squared_error: 52.0928 - val_loss: 3.3713 - val_root_mean_squared_error: 52.1438\n",
      "Epoch 4/10\n",
      "6250/6250 [==============================] - 4s 643us/step - loss: 3.3557 - root_mean_squared_error: 52.0927 - val_loss: 3.3379 - val_root_mean_squared_error: 52.1438\n",
      "Epoch 5/10\n",
      "6250/6250 [==============================] - 4s 646us/step - loss: 3.3188 - root_mean_squared_error: 52.0927 - val_loss: 3.2982 - val_root_mean_squared_error: 52.1438\n",
      "Epoch 6/10\n",
      "6250/6250 [==============================] - 4s 657us/step - loss: 3.2888 - root_mean_squared_error: 52.0927 - val_loss: 3.2724 - val_root_mean_squared_error: 52.1438\n",
      "Epoch 7/10\n",
      "6250/6250 [==============================] - 4s 653us/step - loss: 3.2657 - root_mean_squared_error: 52.0927 - val_loss: 3.2557 - val_root_mean_squared_error: 52.1438\n",
      "Epoch 8/10\n",
      "6250/6250 [==============================] - 4s 646us/step - loss: 3.2484 - root_mean_squared_error: 52.0928 - val_loss: 3.2464 - val_root_mean_squared_error: 52.1438\n",
      "Epoch 9/10\n",
      "6250/6250 [==============================] - 4s 650us/step - loss: 3.2327 - root_mean_squared_error: 52.0927 - val_loss: 3.2198 - val_root_mean_squared_error: 52.1438\n",
      "Epoch 10/10\n",
      "6250/6250 [==============================] - 4s 658us/step - loss: 3.2213 - root_mean_squared_error: 52.0927 - val_loss: 3.2344 - val_root_mean_squared_error: 52.1438\n"
     ]
    },
    {
     "data": {
      "text/plain": [
       "<keras.callbacks.History at 0x2794d4f05b0>"
      ]
     },
     "execution_count": 20,
     "metadata": {},
     "output_type": "execute_result"
    }
   ],
   "source": [
    "# Train model\n",
    "model_1.fit(X_train, y_train, \n",
    "            epochs=10,\n",
    "            validation_data=(X_val,y_val), \n",
    "            callbacks=[early_stop])"
   ]
  },
  {
   "cell_type": "code",
   "execution_count": null,
   "id": "9df85ea2",
   "metadata": {},
   "outputs": [],
   "source": []
  },
  {
   "cell_type": "code",
   "execution_count": 21,
   "id": "78882b84",
   "metadata": {},
   "outputs": [
    {
     "data": {
      "text/plain": [
       "(1,)"
      ]
     },
     "execution_count": 21,
     "metadata": {},
     "output_type": "execute_result"
    }
   ],
   "source": [
    "np.array([0.123]).shape"
   ]
  },
  {
   "cell_type": "markdown",
   "id": "01274030",
   "metadata": {},
   "source": [
    "# Predict using model"
   ]
  },
  {
   "cell_type": "code",
   "execution_count": 22,
   "id": "612a5fea",
   "metadata": {},
   "outputs": [
    {
     "name": "stdout",
     "output_type": "stream",
     "text": [
      "63 83 9 11\n"
     ]
    },
    {
     "data": {
      "text/plain": [
       "array([ 165., -323.,   65.])"
      ]
     },
     "execution_count": 22,
     "metadata": {},
     "output_type": "execute_result"
    }
   ],
   "source": [
    "T1=np.random.randint(0,91)\n",
    "T2=np.random.randint(0,91)\n",
    "T3=np.random.randint(0,91)\n",
    "T4=np.random.randint(0,91)    \n",
    "print(T1,T2,T3,T4)\n",
    "fk=forward_kinematics(T1,T2,T3,T4)[:3,3]\n",
    "fk"
   ]
  },
  {
   "cell_type": "code",
   "execution_count": 23,
   "id": "12d0098f",
   "metadata": {},
   "outputs": [],
   "source": [
    "#predict_dx=(fk[0] - min_dx) / (max_dx - min_dx) \n",
    "#predict_dx"
   ]
  },
  {
   "cell_type": "code",
   "execution_count": 24,
   "id": "fc3c11dc",
   "metadata": {},
   "outputs": [
    {
     "data": {
      "text/plain": [
       "0.98476119017721"
      ]
     },
     "execution_count": 24,
     "metadata": {},
     "output_type": "execute_result"
    }
   ],
   "source": [
    "predict_r=(np.sqrt(fk[0]**2+fk[1]**2) - min_r) / (max_r - min_r) \n",
    "predict_r"
   ]
  },
  {
   "cell_type": "code",
   "execution_count": 25,
   "id": "82df025b",
   "metadata": {},
   "outputs": [],
   "source": [
    "#predict_dy=(fk[1] - min_dy) / (max_dy - min_dy) \n",
    "#predict_dy"
   ]
  },
  {
   "cell_type": "code",
   "execution_count": 26,
   "id": "c86af67c",
   "metadata": {},
   "outputs": [
    {
     "data": {
      "text/plain": [
       "0.370253164556962"
      ]
     },
     "execution_count": 26,
     "metadata": {},
     "output_type": "execute_result"
    }
   ],
   "source": [
    "predict_dz=(fk[2] - min_dz) / (max_dz - min_dz) \n",
    "predict_dz"
   ]
  },
  {
   "cell_type": "code",
   "execution_count": 37,
   "id": "210988d1",
   "metadata": {
    "scrolled": true
   },
   "outputs": [
    {
     "name": "stdout",
     "output_type": "stream",
     "text": [
      "1/1 [==============================] - 0s 16ms/step\n"
     ]
    },
    {
     "data": {
      "text/plain": [
       "86"
      ]
     },
     "execution_count": 37,
     "metadata": {},
     "output_type": "execute_result"
    }
   ],
   "source": [
    "output=model_1.predict([[predict_r,predict_dz]])\n",
    "np.argmax(output)"
   ]
  },
  {
   "cell_type": "code",
   "execution_count": 28,
   "id": "64e71c4c",
   "metadata": {},
   "outputs": [
    {
     "data": {
      "text/plain": [
       "63.0"
      ]
     },
     "execution_count": 28,
     "metadata": {},
     "output_type": "execute_result"
    }
   ],
   "source": [
    "T1= np.arctan(fk[1]/fk[0])\n",
    "T1=np.degrees(-T1)\n",
    "T1=np.round(T1)\n",
    "T1"
   ]
  },
  {
   "cell_type": "code",
   "execution_count": 29,
   "id": "0c2cb0bf",
   "metadata": {},
   "outputs": [
    {
     "data": {
      "text/plain": [
       "array([  0.,  -0., 463.])"
      ]
     },
     "execution_count": 29,
     "metadata": {},
     "output_type": "execute_result"
    }
   ],
   "source": [
    "forward_kinematics(T1,output[0],output[1],output[2])[:3,3]"
   ]
  },
  {
   "cell_type": "code",
   "execution_count": 30,
   "id": "e8ba0c26",
   "metadata": {},
   "outputs": [
    {
     "data": {
      "text/plain": [
       "array([ 165., -323.,   65.])"
      ]
     },
     "execution_count": 30,
     "metadata": {},
     "output_type": "execute_result"
    }
   ],
   "source": [
    "fk"
   ]
  },
  {
   "cell_type": "code",
   "execution_count": 31,
   "id": "78c1471f",
   "metadata": {},
   "outputs": [
    {
     "data": {
      "text/plain": [
       "0.0"
      ]
     },
     "execution_count": 31,
     "metadata": {},
     "output_type": "execute_result"
    }
   ],
   "source": [
    "out=np.round(output*90)[0]\n",
    "out"
   ]
  },
  {
   "cell_type": "code",
   "execution_count": 32,
   "id": "bc3727a6",
   "metadata": {},
   "outputs": [],
   "source": [
    "def cos(t):\n",
    "    return np.cos(np.deg2rad(t))\n",
    "def sin(t):\n",
    "    return np.sin(np.deg2rad(t))\n",
    "def finder(fk, i):\n",
    "    dx,dy,dz=fk\n",
    "    eT2=i\n",
    "    l1=104.\n",
    "    l2=89.\n",
    "    l3=175.\n",
    "    r = np.sqrt(dx**2+dy**2)\n",
    "    r1 = cos(eT2)*l1\n",
    "    r2 = r-r1\n",
    "    t = sin(eT2)*l1\n",
    "    t1=t-(dz-95)\n",
    "    if(t1!=0):        \n",
    "        alpha1=np.arctan(r2/t1)\n",
    "        alpha1=np.degrees(alpha1)\n",
    "    else:\n",
    "        alpha1=0\n",
    "    b=np.sqrt(t1**2+r2**2)\n",
    "    operation1=(l2**2+b**2-l3**2)/(2*l2*b)\n",
    "    operation2=(l2**2+l3**2-b**2)/(2*l2*l3)\n",
    "    if(int(operation1*100)>100 or int(operation1*100)<-100):\n",
    "        raise Exception() \n",
    "    if(int(operation1*100)==100 or int(operation1*100)==-100):\n",
    "        operation1=np.round(operation1)\n",
    "        \n",
    "    if(int(operation2*100)>100 or int(operation2*100)<-100):\n",
    "        raise Exception() \n",
    "    if(int(operation2*100)==100 or int(operation2*100)==-100):\n",
    "        operation2=np.round(operation2)\n",
    "\n",
    "    alpha2=np.arccos(operation1)\n",
    "    alpha2=np.degrees(alpha2)\n",
    "    if(t1>0):\n",
    "        T3=180-(alpha1+alpha2+i)\n",
    "        T3=np.round(T3)\n",
    "    else:\n",
    "        T3=alpha1+alpha2+i\n",
    "        T3=abs(np.round(T3))\n",
    "    T4=np.arccos(operation2)\n",
    "\n",
    "    T4=np.degrees(T4)\n",
    "    T4=180-T4\n",
    "    T4=np.round(T4)\n",
    "    T1= np.arctan(dy/dx)\n",
    "    T1=np.degrees(-T1)\n",
    "    T1=np.round(T1)\n",
    "    #if T3>90 or T4>90:\n",
    "     #   raise Exception()\n",
    "    return [T1,T2,T3[0], T4[0]]"
   ]
  },
  {
   "cell_type": "code",
   "execution_count": 33,
   "id": "52a5e1f9",
   "metadata": {},
   "outputs": [
    {
     "ename": "IndexError",
     "evalue": "invalid index to scalar variable.",
     "output_type": "error",
     "traceback": [
      "\u001b[1;31m---------------------------------------------------------------------------\u001b[0m",
      "\u001b[1;31mIndexError\u001b[0m                                Traceback (most recent call last)",
      "\u001b[1;32m~\\AppData\\Local\\Temp\\ipykernel_22356\\3389380070.py\u001b[0m in \u001b[0;36m<module>\u001b[1;34m\u001b[0m\n\u001b[1;32m----> 1\u001b[1;33m \u001b[0mpredicted\u001b[0m\u001b[1;33m=\u001b[0m\u001b[0mfinder\u001b[0m\u001b[1;33m(\u001b[0m\u001b[0mfk\u001b[0m\u001b[1;33m,\u001b[0m\u001b[0mout\u001b[0m\u001b[1;33m)\u001b[0m\u001b[1;33m\u001b[0m\u001b[1;33m\u001b[0m\u001b[0m\n\u001b[0m",
      "\u001b[1;32m~\\AppData\\Local\\Temp\\ipykernel_22356\\2929567021.py\u001b[0m in \u001b[0;36mfinder\u001b[1;34m(fk, i)\u001b[0m\n\u001b[0;32m     50\u001b[0m     \u001b[1;31m#if T3>90 or T4>90:\u001b[0m\u001b[1;33m\u001b[0m\u001b[1;33m\u001b[0m\u001b[0m\n\u001b[0;32m     51\u001b[0m      \u001b[1;31m#   raise Exception()\u001b[0m\u001b[1;33m\u001b[0m\u001b[1;33m\u001b[0m\u001b[0m\n\u001b[1;32m---> 52\u001b[1;33m     \u001b[1;32mreturn\u001b[0m \u001b[1;33m[\u001b[0m\u001b[0mT1\u001b[0m\u001b[1;33m,\u001b[0m\u001b[0mT2\u001b[0m\u001b[1;33m,\u001b[0m\u001b[0mT3\u001b[0m\u001b[1;33m[\u001b[0m\u001b[1;36m0\u001b[0m\u001b[1;33m]\u001b[0m\u001b[1;33m,\u001b[0m \u001b[0mT4\u001b[0m\u001b[1;33m[\u001b[0m\u001b[1;36m0\u001b[0m\u001b[1;33m]\u001b[0m\u001b[1;33m]\u001b[0m\u001b[1;33m\u001b[0m\u001b[1;33m\u001b[0m\u001b[0m\n\u001b[0m",
      "\u001b[1;31mIndexError\u001b[0m: invalid index to scalar variable."
     ]
    }
   ],
   "source": [
    "predicted=finder(fk,out)"
   ]
  },
  {
   "cell_type": "code",
   "execution_count": null,
   "id": "0afd41a6",
   "metadata": {},
   "outputs": [],
   "source": [
    "predict_fk=forward_kinematics(*predicted)[:3,3]\n",
    "predict_fk"
   ]
  },
  {
   "cell_type": "code",
   "execution_count": null,
   "id": "330cc048",
   "metadata": {},
   "outputs": [],
   "source": [
    "fk"
   ]
  },
  {
   "cell_type": "code",
   "execution_count": null,
   "id": "bbf2a4a6",
   "metadata": {},
   "outputs": [],
   "source": []
  }
 ],
 "metadata": {
  "kernelspec": {
   "display_name": "Python 3 (ipykernel)",
   "language": "python",
   "name": "python3"
  },
  "language_info": {
   "codemirror_mode": {
    "name": "ipython",
    "version": 3
   },
   "file_extension": ".py",
   "mimetype": "text/x-python",
   "name": "python",
   "nbconvert_exporter": "python",
   "pygments_lexer": "ipython3",
   "version": "3.9.13"
  }
 },
 "nbformat": 4,
 "nbformat_minor": 5
}
