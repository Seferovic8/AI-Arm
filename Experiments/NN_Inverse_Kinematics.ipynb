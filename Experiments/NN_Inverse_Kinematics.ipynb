{
 "cells": [
  {
   "cell_type": "code",
   "execution_count": 1,
   "id": "b40abf91",
   "metadata": {},
   "outputs": [],
   "source": [
    "import tensorflow as tf\n",
    "from forward_kinematics import forward_kinematics\n",
    "import numpy as np\n",
    "from tensorflow.keras import layers\n",
    "from tensorflow.keras.optimizers import Adam"
   ]
  },
  {
   "cell_type": "code",
   "execution_count": 2,
   "id": "3774d934",
   "metadata": {},
   "outputs": [],
   "source": [
    "def lerp(i, j, k):\n",
    "    return float((1 - k) * i + j * k)\n",
    "\n",
    "def invlerp(i, j, k):\n",
    "    return float((k - i) / (j - i))"
   ]
  },
  {
   "cell_type": "markdown",
   "id": "dac1e093",
   "metadata": {},
   "source": [
    "# Create data"
   ]
  },
  {
   "cell_type": "code",
   "execution_count": 62,
   "id": "7136eef6",
   "metadata": {},
   "outputs": [],
   "source": [
    "# Generate 220000 samples\n",
    "x_samples=[]\n",
    "y_samples=[]\n",
    "\n",
    "#for i in range(220000):\n",
    "for i in range(1):\n",
    "    T1=np.random.randint(-90,91)\n",
    "    T2=np.random.randint(-90,91)\n",
    "    T3=np.random.randint(-90,91)\n",
    "    T4=np.random.randint(-90,91)        \n",
    "    fk=forward_kinematics(T1,T2,T3,T4)[:3,3]\n",
    "    x_samples.append(fk)\n",
    "    y_samples.append([T1,T2,T3,T4])\n",
    "    \n",
    "x_samples=np.array(x_samples)\n",
    "y_samples=np.array(y_samples,dtype=np.float32)"
   ]
  },
  {
   "cell_type": "code",
   "execution_count": 63,
   "id": "ee96513d",
   "metadata": {
    "scrolled": true
   },
   "outputs": [
    {
     "data": {
      "text/plain": [
       "463.0"
      ]
     },
     "execution_count": 63,
     "metadata": {},
     "output_type": "execute_result"
    }
   ],
   "source": [
    "np.max(x_samples)"
   ]
  },
  {
   "cell_type": "markdown",
   "id": "7fbc32a2",
   "metadata": {},
   "source": [
    "## Data normalization"
   ]
  },
  {
   "cell_type": "code",
   "execution_count": 64,
   "id": "d449549d",
   "metadata": {},
   "outputs": [],
   "source": [
    "x_max=np.max(x_samples[:,0])\n",
    "y_max=np.max(x_samples[:,1])\n",
    "z_max=np.max(x_samples[:,2])\n",
    "x_min=np.min(x_samples[:,0])\n",
    "y_min=np.min(x_samples[:,1])\n",
    "z_min=np.min(x_samples[:,2])\n",
    "x_norm_samples=[]\n",
    "y_norm_samples=[]\n",
    "#for i in range(220000):\n",
    "for i in range(1):\n",
    "    fk=x_samples[i]\n",
    "    tada=[]\n",
    "    tada.append(lerp(-1,1,invlerp(x_max, x_min, fk[0])))\n",
    "    tada.append(lerp(-1,1,invlerp(y_max, y_min, fk[1])))\n",
    "    tada.append(lerp(-1,1,invlerp(z_max, z_min, fk[2])))\n",
    "    x_norm_samples.append(tada)\n",
    "    angles=y_samples[i]\n",
    "    y_norm_samples.append(angles/90)\n",
    "x_norm_samples=np.array(x_norm_samples)\n",
    "y_norm_samples=np.array(y_norm_samples)"
   ]
  },
  {
   "cell_type": "markdown",
   "id": "c4ccbfe3",
   "metadata": {},
   "source": [
    "# Split data"
   ]
  },
  {
   "cell_type": "code",
   "execution_count": 67,
   "id": "44d1b4e2",
   "metadata": {},
   "outputs": [],
   "source": [
    "X_train = x_norm_samples[:200000]\n",
    "X_val = x_norm_samples[200000:]"
   ]
  },
  {
   "cell_type": "code",
   "execution_count": 68,
   "id": "30f5e4e7",
   "metadata": {},
   "outputs": [],
   "source": [
    "y_train = y_norm_samples[:200000]\n",
    "y_val = y_norm_samples[200000:]"
   ]
  },
  {
   "cell_type": "markdown",
   "id": "ec1e867b",
   "metadata": {},
   "source": [
    "# Create model"
   ]
  },
  {
   "cell_type": "code",
   "execution_count": 114,
   "id": "92c3b688",
   "metadata": {},
   "outputs": [],
   "source": [
    "model_1=tf.keras.Sequential([\n",
    "    layers.Dense(32, activation='relu'),\n",
    "    layers.Dense(64,activation='relu'),\n",
    "    layers.Dense(64,activation='relu'),\n",
    "    layers.Dense(128,activation='relu'),\n",
    "    layers.Dense(128,activation='relu'),\n",
    "    layers.Dense(64,activation='relu'),\n",
    "    layers.Dense(64,activation='relu'),\n",
    "    layers.Dense(32, activation='relu'),\n",
    "    layers.Dense(1,activation=\"linear\"),\n",
    "])"
   ]
  },
  {
   "cell_type": "code",
   "execution_count": 115,
   "id": "83a9c75f",
   "metadata": {},
   "outputs": [],
   "source": [
    "# Compile model\n",
    "loss = tf.keras.losses.mse\n",
    "optimizer = Adam(learning_rate=1e-2)\n",
    "\n",
    "early_stop = tf.keras.callbacks.EarlyStopping(monitor='loss', patience=100, restore_best_weights=True)\n",
    "model_1.compile(loss=loss, optimizer=optimizer, metrics=tf.metrics.RootMeanSquaredError())"
   ]
  },
  {
   "cell_type": "code",
   "execution_count": 116,
   "id": "52b3c3de",
   "metadata": {
    "scrolled": true
   },
   "outputs": [
    {
     "name": "stdout",
     "output_type": "stream",
     "text": [
      "Epoch 1/40\n",
      "6250/6250 [==============================] - 6s 833us/step - loss: 0.0439 - root_mean_squared_error: 0.2096 - val_loss: 0.5078 - val_root_mean_squared_error: 0.7126\n",
      "Epoch 2/40\n",
      "6250/6250 [==============================] - 5s 820us/step - loss: 0.0273 - root_mean_squared_error: 0.1651 - val_loss: 0.5201 - val_root_mean_squared_error: 0.7212\n",
      "Epoch 3/40\n",
      "6250/6250 [==============================] - 5s 815us/step - loss: 0.0223 - root_mean_squared_error: 0.1492 - val_loss: 0.4960 - val_root_mean_squared_error: 0.7043\n",
      "Epoch 4/40\n",
      "6250/6250 [==============================] - 5s 815us/step - loss: 0.0204 - root_mean_squared_error: 0.1428 - val_loss: 0.4881 - val_root_mean_squared_error: 0.6986\n",
      "Epoch 5/40\n",
      "6250/6250 [==============================] - 5s 829us/step - loss: 0.0190 - root_mean_squared_error: 0.1380 - val_loss: 0.4805 - val_root_mean_squared_error: 0.6932\n",
      "Epoch 6/40\n",
      "6250/6250 [==============================] - 5s 820us/step - loss: 0.0254 - root_mean_squared_error: 0.1595 - val_loss: 0.4830 - val_root_mean_squared_error: 0.6950\n",
      "Epoch 7/40\n",
      "6250/6250 [==============================] - 5s 823us/step - loss: 0.0189 - root_mean_squared_error: 0.1374 - val_loss: 0.4959 - val_root_mean_squared_error: 0.7042\n",
      "Epoch 8/40\n",
      "6250/6250 [==============================] - 5s 833us/step - loss: 0.0181 - root_mean_squared_error: 0.1347 - val_loss: 0.5008 - val_root_mean_squared_error: 0.7077\n",
      "Epoch 9/40\n",
      "6250/6250 [==============================] - 5s 829us/step - loss: 0.0173 - root_mean_squared_error: 0.1317 - val_loss: 0.4743 - val_root_mean_squared_error: 0.6887\n",
      "Epoch 10/40\n",
      "6250/6250 [==============================] - 5s 840us/step - loss: 0.0172 - root_mean_squared_error: 0.1312 - val_loss: 0.5134 - val_root_mean_squared_error: 0.7165\n",
      "Epoch 11/40\n",
      "6250/6250 [==============================] - 5s 848us/step - loss: 0.0193 - root_mean_squared_error: 0.1388 - val_loss: 0.5104 - val_root_mean_squared_error: 0.7144\n",
      "Epoch 12/40\n",
      "6250/6250 [==============================] - 5s 830us/step - loss: 0.0177 - root_mean_squared_error: 0.1330 - val_loss: 0.5083 - val_root_mean_squared_error: 0.7130\n",
      "Epoch 13/40\n",
      "6250/6250 [==============================] - 5s 822us/step - loss: 0.0173 - root_mean_squared_error: 0.1314 - val_loss: 0.5117 - val_root_mean_squared_error: 0.7153\n",
      "Epoch 14/40\n",
      "6250/6250 [==============================] - 5s 833us/step - loss: 0.0173 - root_mean_squared_error: 0.1317 - val_loss: 0.5008 - val_root_mean_squared_error: 0.7077\n",
      "Epoch 15/40\n",
      "6250/6250 [==============================] - 5s 825us/step - loss: 0.0300 - root_mean_squared_error: 0.1731 - val_loss: 0.4957 - val_root_mean_squared_error: 0.7040\n",
      "Epoch 16/40\n",
      "6250/6250 [==============================] - 5s 829us/step - loss: 0.0212 - root_mean_squared_error: 0.1458 - val_loss: 0.5115 - val_root_mean_squared_error: 0.7152\n",
      "Epoch 17/40\n",
      "6250/6250 [==============================] - 5s 833us/step - loss: 0.0196 - root_mean_squared_error: 0.1398 - val_loss: 0.5132 - val_root_mean_squared_error: 0.7164\n",
      "Epoch 18/40\n",
      "6250/6250 [==============================] - 5s 830us/step - loss: 0.0200 - root_mean_squared_error: 0.1413 - val_loss: 0.5126 - val_root_mean_squared_error: 0.7159\n",
      "Epoch 19/40\n",
      "6250/6250 [==============================] - 5s 832us/step - loss: 0.0178 - root_mean_squared_error: 0.1335 - val_loss: 0.5139 - val_root_mean_squared_error: 0.7168\n",
      "Epoch 20/40\n",
      "6250/6250 [==============================] - 5s 835us/step - loss: 0.0219 - root_mean_squared_error: 0.1478 - val_loss: 0.5017 - val_root_mean_squared_error: 0.7083\n",
      "Epoch 21/40\n",
      "6250/6250 [==============================] - 5s 831us/step - loss: 0.1908 - root_mean_squared_error: 0.4368 - val_loss: 0.4830 - val_root_mean_squared_error: 0.6950\n",
      "Epoch 22/40\n",
      "6250/6250 [==============================] - 5s 828us/step - loss: 0.1162 - root_mean_squared_error: 0.3409 - val_loss: 0.3270 - val_root_mean_squared_error: 0.5718\n",
      "Epoch 23/40\n",
      "6250/6250 [==============================] - 5s 838us/step - loss: 0.2408 - root_mean_squared_error: 0.4907 - val_loss: 0.3330 - val_root_mean_squared_error: 0.5770\n",
      "Epoch 24/40\n",
      "6250/6250 [==============================] - 5s 841us/step - loss: 0.2044 - root_mean_squared_error: 0.4521 - val_loss: 0.3282 - val_root_mean_squared_error: 0.5729\n",
      "Epoch 25/40\n",
      "6250/6250 [==============================] - 5s 841us/step - loss: 0.1438 - root_mean_squared_error: 0.3793 - val_loss: 0.4621 - val_root_mean_squared_error: 0.6797\n",
      "Epoch 26/40\n",
      "6250/6250 [==============================] - 5s 848us/step - loss: 0.0481 - root_mean_squared_error: 0.2192 - val_loss: 0.4761 - val_root_mean_squared_error: 0.6900\n",
      "Epoch 27/40\n",
      "6250/6250 [==============================] - 5s 848us/step - loss: 0.0274 - root_mean_squared_error: 0.1654 - val_loss: 0.5090 - val_root_mean_squared_error: 0.7134\n",
      "Epoch 28/40\n",
      "6250/6250 [==============================] - 5s 842us/step - loss: 0.0203 - root_mean_squared_error: 0.1425 - val_loss: 0.5336 - val_root_mean_squared_error: 0.7305\n",
      "Epoch 29/40\n",
      "6250/6250 [==============================] - 5s 842us/step - loss: 0.0183 - root_mean_squared_error: 0.1351 - val_loss: 0.5189 - val_root_mean_squared_error: 0.7203\n",
      "Epoch 30/40\n",
      "6250/6250 [==============================] - 5s 844us/step - loss: 0.0181 - root_mean_squared_error: 0.1344 - val_loss: 0.5052 - val_root_mean_squared_error: 0.7108\n",
      "Epoch 31/40\n",
      "6250/6250 [==============================] - 5s 845us/step - loss: 0.0712 - root_mean_squared_error: 0.2668 - val_loss: 0.3469 - val_root_mean_squared_error: 0.5890\n",
      "Epoch 32/40\n",
      "6250/6250 [==============================] - 5s 849us/step - loss: 0.2901 - root_mean_squared_error: 0.5386 - val_loss: 0.3407 - val_root_mean_squared_error: 0.5837\n",
      "Epoch 33/40\n",
      "6250/6250 [==============================] - 5s 854us/step - loss: 0.3380 - root_mean_squared_error: 0.5814 - val_loss: 0.3380 - val_root_mean_squared_error: 0.5814\n",
      "Epoch 34/40\n",
      "6250/6250 [==============================] - 5s 855us/step - loss: 0.3380 - root_mean_squared_error: 0.5814 - val_loss: 0.3380 - val_root_mean_squared_error: 0.5814\n",
      "Epoch 35/40\n",
      "6250/6250 [==============================] - 5s 855us/step - loss: 0.3381 - root_mean_squared_error: 0.5814 - val_loss: 0.3381 - val_root_mean_squared_error: 0.5815\n",
      "Epoch 36/40\n",
      "6250/6250 [==============================] - 5s 861us/step - loss: 0.3380 - root_mean_squared_error: 0.5814 - val_loss: 0.3386 - val_root_mean_squared_error: 0.5819\n",
      "Epoch 37/40\n",
      "6250/6250 [==============================] - 5s 853us/step - loss: 0.3380 - root_mean_squared_error: 0.5813 - val_loss: 0.3384 - val_root_mean_squared_error: 0.5817\n",
      "Epoch 38/40\n",
      "6250/6250 [==============================] - 5s 860us/step - loss: 0.3380 - root_mean_squared_error: 0.5814 - val_loss: 0.3386 - val_root_mean_squared_error: 0.5819\n",
      "Epoch 39/40\n",
      "6250/6250 [==============================] - 5s 858us/step - loss: 0.3380 - root_mean_squared_error: 0.5814 - val_loss: 0.3381 - val_root_mean_squared_error: 0.5814\n",
      "Epoch 40/40\n",
      "6250/6250 [==============================] - 5s 857us/step - loss: 0.3380 - root_mean_squared_error: 0.5814 - val_loss: 0.3384 - val_root_mean_squared_error: 0.5817\n"
     ]
    },
    {
     "data": {
      "text/plain": [
       "<keras.callbacks.History at 0x27b80586220>"
      ]
     },
     "execution_count": 116,
     "metadata": {},
     "output_type": "execute_result"
    }
   ],
   "source": [
    "# Train model\n",
    "#model_1.fit(X_train, y_train[:,0], \n",
    "#            epochs=40,\n",
    "#            validation_data=(X_val,y_val), \n",
    "#            callbacks=[early_stop])"
   ]
  },
  {
   "cell_type": "code",
   "execution_count": 119,
   "id": "9df85ea2",
   "metadata": {},
   "outputs": [
    {
     "name": "stdout",
     "output_type": "stream",
     "text": [
      "625/625 [==============================] - 1s 670us/step - loss: 0.3413 - root_mean_squared_error: 0.5842\n"
     ]
    },
    {
     "data": {
      "text/plain": [
       "[0.3413074314594269, 0.5842152237892151]"
      ]
     },
     "execution_count": 119,
     "metadata": {},
     "output_type": "execute_result"
    }
   ],
   "source": [
    "#model_1.evaluate(X_val,y_val[:,0])"
   ]
  },
  {
   "cell_type": "code",
   "execution_count": 106,
   "id": "16cbb920",
   "metadata": {},
   "outputs": [
    {
     "data": {
      "text/plain": [
       "(array([-165.,  159., -104.]), array([ 44., -85., -31., -49.], dtype=float32))"
      ]
     },
     "execution_count": 106,
     "metadata": {},
     "output_type": "execute_result"
    }
   ],
   "source": [
    "x_samples[1], y_train[1]*90"
   ]
  },
  {
   "cell_type": "code",
   "execution_count": 5,
   "id": "612a5fea",
   "metadata": {},
   "outputs": [
    {
     "data": {
      "text/plain": [
       "array([ 165., -159., -104.])"
      ]
     },
     "execution_count": 5,
     "metadata": {},
     "output_type": "execute_result"
    }
   ],
   "source": [
    "T1=44\n",
    "T2=85\n",
    "T3=31\n",
    "T4=49\n",
    "fk=forward_kinematics(T1,T2,T3,T4)[:3,3]\n",
    "fk"
   ]
  },
  {
   "cell_type": "code",
   "execution_count": 108,
   "id": "12d0098f",
   "metadata": {},
   "outputs": [
    {
     "data": {
      "text/plain": [
       "-1.0"
      ]
     },
     "execution_count": 108,
     "metadata": {},
     "output_type": "execute_result"
    }
   ],
   "source": [
    "np.min(X_train)"
   ]
  },
  {
   "cell_type": "code",
   "execution_count": 109,
   "id": "210988d1",
   "metadata": {
    "scrolled": true
   },
   "outputs": [
    {
     "data": {
      "text/plain": [
       "[0.44959128065395104, -0.4340136054421768, 0.7943037974683544]"
      ]
     },
     "execution_count": 109,
     "metadata": {},
     "output_type": "execute_result"
    }
   ],
   "source": [
    "ala=[]\n",
    "ala.append(lerp(-1,1,invlerp(x_max, x_min, fk[0])))\n",
    "ala.append(lerp(-1,1,invlerp(y_max, y_min, fk[1])))\n",
    "ala.append(lerp(-1,1,invlerp(z_max, z_min, fk[2])))\n",
    "ala"
   ]
  },
  {
   "cell_type": "code",
   "execution_count": 110,
   "id": "1d26f6c9",
   "metadata": {},
   "outputs": [
    {
     "name": "stdout",
     "output_type": "stream",
     "text": [
      "1/1 [==============================] - 0s 73ms/step\n"
     ]
    },
    {
     "data": {
      "text/plain": [
       "array([[-0.03899958, -0.03899958, -0.03899958, -0.03899958]],\n",
       "      dtype=float32)"
      ]
     },
     "execution_count": 110,
     "metadata": {},
     "output_type": "execute_result"
    }
   ],
   "source": [
    "output=model_1.predict(np.array([ala]))\n",
    "output"
   ]
  },
  {
   "cell_type": "code",
   "execution_count": 111,
   "id": "78c1471f",
   "metadata": {},
   "outputs": [
    {
     "data": {
      "text/plain": [
       "array([-4., -4., -4., -4.], dtype=float32)"
      ]
     },
     "execution_count": 111,
     "metadata": {},
     "output_type": "execute_result"
    }
   ],
   "source": [
    "out=np.round(output*90)[0]\n",
    "out"
   ]
  },
  {
   "cell_type": "code",
   "execution_count": 112,
   "id": "8eeb0b9b",
   "metadata": {
    "scrolled": true
   },
   "outputs": [
    {
     "data": {
      "text/plain": [
       "array([-56.,  -4., 458.])"
      ]
     },
     "execution_count": 112,
     "metadata": {},
     "output_type": "execute_result"
    }
   ],
   "source": [
    "fk=forward_kinematics(out[0],out[1],out[2],out[3])[:3,3]\n",
    "fk"
   ]
  },
  {
   "cell_type": "code",
   "execution_count": null,
   "id": "c6a092fe",
   "metadata": {},
   "outputs": [],
   "source": [
    "fk[0] = lerp(0,1,invlerp(463., -463., fk[0]))\n",
    "fk[1] = lerp(0,1,invlerp(368., -368., fk[1]))\n",
    "fk[2] = lerp(0,1,invlerp(368., -368., fk[2]))"
   ]
  },
  {
   "cell_type": "code",
   "execution_count": null,
   "id": "6d2b60b8",
   "metadata": {},
   "outputs": [],
   "source": [
    "fk"
   ]
  },
  {
   "cell_type": "code",
   "execution_count": null,
   "id": "55d324d4",
   "metadata": {},
   "outputs": [],
   "source": [
    "X_train[:5]"
   ]
  },
  {
   "cell_type": "code",
   "execution_count": null,
   "id": "744791dd",
   "metadata": {},
   "outputs": [],
   "source": [
    "np.max(y_train[:,1])"
   ]
  },
  {
   "cell_type": "code",
   "execution_count": null,
   "id": "de33e3ee",
   "metadata": {},
   "outputs": [],
   "source": [
    "X_train[:,0]"
   ]
  },
  {
   "cell_type": "code",
   "execution_count": 100,
   "id": "a095966e",
   "metadata": {},
   "outputs": [
    {
     "data": {
      "text/plain": [
       "array([[-0.5       , -0.84444445, -0.43333334, -0.11111111],\n",
       "       [ 0.4888889 , -0.9444444 , -0.34444445, -0.54444444],\n",
       "       [-0.98888886,  0.02222222,  0.46666667,  0.5777778 ],\n",
       "       ...,\n",
       "       [ 0.14444445, -0.3888889 , -0.9222222 ,  0.3888889 ],\n",
       "       [ 0.25555557,  0.4888889 , -0.6       , -0.11111111],\n",
       "       [-0.06666667,  0.2       , -0.6666667 ,  0.87777776]],\n",
       "      dtype=float32)"
      ]
     },
     "execution_count": 100,
     "metadata": {},
     "output_type": "execute_result"
    }
   ],
   "source": [
    "y_train"
   ]
  },
  {
   "cell_type": "code",
   "execution_count": 102,
   "id": "7ff7fe53",
   "metadata": {},
   "outputs": [
    {
     "data": {
      "text/plain": [
       "array([-0.5       ,  0.4888889 , -0.98888886, ...,  0.14444445,\n",
       "        0.25555557, -0.06666667], dtype=float32)"
      ]
     },
     "execution_count": 102,
     "metadata": {},
     "output_type": "execute_result"
    }
   ],
   "source": [
    "y_train[:,0]"
   ]
  },
  {
   "cell_type": "code",
   "execution_count": null,
   "id": "67ba7fcd",
   "metadata": {},
   "outputs": [],
   "source": [
    "invlerp(-90.0, 90.0, 0)"
   ]
  },
  {
   "cell_type": "markdown",
   "id": "5475eacc",
   "metadata": {},
   "source": [
    "# Try 2 way"
   ]
  },
  {
   "cell_type": "markdown",
   "id": "1e5ff915",
   "metadata": {},
   "source": [
    "# Create data"
   ]
  },
  {
   "cell_type": "code",
   "execution_count": 197,
   "id": "7875148e",
   "metadata": {},
   "outputs": [],
   "source": [
    "# Generate 220000 samples\n",
    "x_samples=[]\n",
    "y_samples=[]\n",
    "\n",
    "for i in range(220000):\n",
    "    T1=np.random.randint(-0,91)\n",
    "    T2=np.random.randint(-0,91)\n",
    "    T3=np.random.randint(-0,91)\n",
    "    T4=np.random.randint(-0,91)        \n",
    "    fk=forward_kinematics(T1,T2,T3,T4)[:3,3]\n",
    "    r=np.sqrt(np.square(fk[0])+np.square(fk[1]))\n",
    "    #x_samples.append([r, fk[2]-95.])\n",
    "    x_samples.append([r, fk[2]-95.,T2/90])\n",
    "    #y_samples.append([T2,T3,T4])\n",
    "    y_samples.append([T3,T4])\n",
    "\n",
    "    \n",
    "x_samples=np.array(x_samples)\n",
    "y_samples=np.array(y_samples,dtype=np.float32)"
   ]
  },
  {
   "cell_type": "code",
   "execution_count": 198,
   "id": "2b93ccac",
   "metadata": {
    "scrolled": true
   },
   "outputs": [
    {
     "data": {
      "text/plain": [
       "array([236.12284938, 237.56472802, 300.28819491, ..., 269.45314992,\n",
       "       290.68883707, 335.        ])"
      ]
     },
     "execution_count": 198,
     "metadata": {},
     "output_type": "execute_result"
    }
   ],
   "source": [
    "x_samples[:,0]"
   ]
  },
  {
   "cell_type": "markdown",
   "id": "a7200040",
   "metadata": {},
   "source": [
    "## Data normalization"
   ]
  },
  {
   "cell_type": "code",
   "execution_count": 199,
   "id": "9228cdee",
   "metadata": {},
   "outputs": [],
   "source": [
    "r_max=np.max(x_samples[:,0])\n",
    "r_min=np.min(x_samples[:,0])\n",
    "z_max=np.max(x_samples[:,1])\n",
    "z_min=np.min(x_samples[:,1])\n",
    "x_norm_samples=[]\n",
    "y_norm_samples=[]\n",
    "for i in range(220000):\n",
    "    fk=x_samples[i]\n",
    "    tada=[]\n",
    "    tada.append(lerp(1,0,invlerp(r_max, r_min, fk[0])))\n",
    "    tada.append(lerp(1,0,invlerp(z_max, z_min, fk[1])))\n",
    "    tada.append(fk[2]/90)\n",
    "    x_norm_samples.append(tada)\n",
    "    angles=y_samples[i]\n",
    "    y_norm_samples.append(angles/90)\n",
    "x_norm_samples=np.array(x_norm_samples)\n",
    "y_norm_samples=np.array(y_norm_samples)"
   ]
  },
  {
   "cell_type": "code",
   "execution_count": 200,
   "id": "800ed7fa",
   "metadata": {},
   "outputs": [
    {
     "data": {
      "text/plain": [
       "array([[0.5888889 , 0.67777777],\n",
       "       [0.34444445, 0.75555557],\n",
       "       [0.12222222, 0.24444444],\n",
       "       ...,\n",
       "       [0.76666665, 0.15555556],\n",
       "       [0.03333334, 0.82222223],\n",
       "       [0.42222223, 0.22222222]], dtype=float32)"
      ]
     },
     "execution_count": 200,
     "metadata": {},
     "output_type": "execute_result"
    }
   ],
   "source": [
    "y_norm_samples"
   ]
  },
  {
   "cell_type": "markdown",
   "id": "ebba04d1",
   "metadata": {},
   "source": [
    "# Split data"
   ]
  },
  {
   "cell_type": "code",
   "execution_count": 201,
   "id": "397a86ca",
   "metadata": {},
   "outputs": [],
   "source": [
    "X_train = x_norm_samples[:200000]\n",
    "X_val = x_norm_samples[200000:]"
   ]
  },
  {
   "cell_type": "code",
   "execution_count": 202,
   "id": "5f8245c2",
   "metadata": {},
   "outputs": [],
   "source": [
    "y_train = y_norm_samples[:200000]\n",
    "y_val = y_norm_samples[200000:]"
   ]
  },
  {
   "cell_type": "code",
   "execution_count": 203,
   "id": "107b6f94",
   "metadata": {},
   "outputs": [],
   "source": [
    "for i in range(200000):\n",
    "    if(X_train[i][0]==1):\n",
    "        print(X_train[i])\n",
    "        print(x_samples[i])\n",
    "        break;"
   ]
  },
  {
   "cell_type": "code",
   "execution_count": 204,
   "id": "9199e1c0",
   "metadata": {},
   "outputs": [
    {
     "data": {
      "text/plain": [
       "0.0"
      ]
     },
     "execution_count": 204,
     "metadata": {},
     "output_type": "execute_result"
    }
   ],
   "source": [
    "np.min(x_norm_samples[:,1])"
   ]
  },
  {
   "cell_type": "markdown",
   "id": "343349b6",
   "metadata": {},
   "source": [
    "# Create model"
   ]
  },
  {
   "cell_type": "code",
   "execution_count": 249,
   "id": "e7d57840",
   "metadata": {},
   "outputs": [],
   "source": [
    "model_2=tf.keras.Sequential([\n",
    "    layers.Dense(32, activation='tanh'),\n",
    "\n",
    "    layers.Dense(64,activation='tanh'),\n",
    "    layers.Dense(32, activation='tanh'),\n",
    "    layers.Dense(2,activation=\"linear\"),\n",
    "])"
   ]
  },
  {
   "cell_type": "code",
   "execution_count": 250,
   "id": "6fae10ba",
   "metadata": {},
   "outputs": [],
   "source": [
    "# Compile model\n",
    "loss = tf.keras.losses.mae\n",
    "optimizer = Adam(learning_rate=1e-4)\n",
    "\n",
    "early_stop = tf.keras.callbacks.EarlyStopping(monitor='loss', patience=100, restore_best_weights=True)\n",
    "model_2.compile(loss=loss, optimizer=optimizer, metrics=tf.metrics.RootMeanSquaredError())"
   ]
  },
  {
   "cell_type": "code",
   "execution_count": null,
   "id": "3ec98fd3",
   "metadata": {
    "scrolled": false
   },
   "outputs": [
    {
     "name": "stdout",
     "output_type": "stream",
     "text": [
      "Epoch 1/50\n",
      "6250/6250 [==============================] - 4s 616us/step - loss: 0.2018 - root_mean_squared_error: 0.2499 - val_loss: 0.1744 - val_root_mean_squared_error: 0.2119\n",
      "Epoch 2/50\n",
      "6250/6250 [==============================] - 4s 601us/step - loss: 0.1636 - root_mean_squared_error: 0.1999 - val_loss: 0.1568 - val_root_mean_squared_error: 0.1922\n",
      "Epoch 3/50\n",
      "6250/6250 [==============================] - 4s 603us/step - loss: 0.1511 - root_mean_squared_error: 0.1855 - val_loss: 0.1449 - val_root_mean_squared_error: 0.1783\n",
      "Epoch 4/50\n",
      "6250/6250 [==============================] - 4s 603us/step - loss: 0.1348 - root_mean_squared_error: 0.1666 - val_loss: 0.1222 - val_root_mean_squared_error: 0.1522\n",
      "Epoch 5/50\n",
      "6250/6250 [==============================] - 4s 612us/step - loss: 0.1110 - root_mean_squared_error: 0.1427 - val_loss: 0.0978 - val_root_mean_squared_error: 0.1309\n",
      "Epoch 6/50\n",
      "6250/6250 [==============================] - 4s 602us/step - loss: 0.0888 - root_mean_squared_error: 0.1228 - val_loss: 0.0758 - val_root_mean_squared_error: 0.1080\n",
      "Epoch 7/50\n",
      "6250/6250 [==============================] - 4s 610us/step - loss: 0.0732 - root_mean_squared_error: 0.1066 - val_loss: 0.0702 - val_root_mean_squared_error: 0.1052\n",
      "Epoch 8/50\n",
      "6250/6250 [==============================] - 4s 613us/step - loss: 0.0679 - root_mean_squared_error: 0.1010 - val_loss: 0.0698 - val_root_mean_squared_error: 0.1042\n",
      "Epoch 9/50\n",
      "6250/6250 [==============================] - 4s 611us/step - loss: 0.0646 - root_mean_squared_error: 0.0970 - val_loss: 0.0626 - val_root_mean_squared_error: 0.0914\n",
      "Epoch 10/50\n",
      "6250/6250 [==============================] - 4s 604us/step - loss: 0.0615 - root_mean_squared_error: 0.0932 - val_loss: 0.0590 - val_root_mean_squared_error: 0.0870\n",
      "Epoch 11/50\n",
      "6250/6250 [==============================] - 4s 604us/step - loss: 0.0585 - root_mean_squared_error: 0.0894 - val_loss: 0.0568 - val_root_mean_squared_error: 0.0852\n",
      "Epoch 12/50\n",
      "6250/6250 [==============================] - 4s 606us/step - loss: 0.0559 - root_mean_squared_error: 0.0860 - val_loss: 0.0569 - val_root_mean_squared_error: 0.0814\n",
      "Epoch 13/50\n",
      "6250/6250 [==============================] - 4s 616us/step - loss: 0.0538 - root_mean_squared_error: 0.0831 - val_loss: 0.0502 - val_root_mean_squared_error: 0.0792\n",
      "Epoch 14/50\n",
      "6250/6250 [==============================] - 4s 607us/step - loss: 0.0519 - root_mean_squared_error: 0.0806 - val_loss: 0.0493 - val_root_mean_squared_error: 0.0777\n",
      "Epoch 15/50\n",
      "6250/6250 [==============================] - 4s 604us/step - loss: 0.0508 - root_mean_squared_error: 0.0789 - val_loss: 0.0509 - val_root_mean_squared_error: 0.0801\n",
      "Epoch 16/50\n",
      "6250/6250 [==============================] - 4s 610us/step - loss: 0.0495 - root_mean_squared_error: 0.0772 - val_loss: 0.0518 - val_root_mean_squared_error: 0.0744\n",
      "Epoch 17/50\n",
      "6250/6250 [==============================] - 4s 620us/step - loss: 0.0487 - root_mean_squared_error: 0.0759 - val_loss: 0.0459 - val_root_mean_squared_error: 0.0732\n",
      "Epoch 18/50\n",
      "6250/6250 [==============================] - 4s 613us/step - loss: 0.0480 - root_mean_squared_error: 0.0749 - val_loss: 0.0449 - val_root_mean_squared_error: 0.0717\n",
      "Epoch 19/50\n",
      "6250/6250 [==============================] - 4s 607us/step - loss: 0.0470 - root_mean_squared_error: 0.0737 - val_loss: 0.0492 - val_root_mean_squared_error: 0.0773\n",
      "Epoch 20/50\n",
      "6250/6250 [==============================] - 4s 608us/step - loss: 0.0459 - root_mean_squared_error: 0.0724 - val_loss: 0.0429 - val_root_mean_squared_error: 0.0696\n",
      "Epoch 21/50\n",
      "6250/6250 [==============================] - 4s 613us/step - loss: 0.0447 - root_mean_squared_error: 0.0711 - val_loss: 0.0428 - val_root_mean_squared_error: 0.0665\n",
      "Epoch 22/50\n",
      "6250/6250 [==============================] - 4s 606us/step - loss: 0.0437 - root_mean_squared_error: 0.0698 - val_loss: 0.0411 - val_root_mean_squared_error: 0.0678\n",
      "Epoch 23/50\n",
      "6250/6250 [==============================] - 4s 602us/step - loss: 0.0430 - root_mean_squared_error: 0.0687 - val_loss: 0.0409 - val_root_mean_squared_error: 0.0645\n",
      "Epoch 24/50\n",
      "6250/6250 [==============================] - 4s 612us/step - loss: 0.0423 - root_mean_squared_error: 0.0677 - val_loss: 0.0397 - val_root_mean_squared_error: 0.0649\n",
      "Epoch 25/50\n",
      "6250/6250 [==============================] - 4s 608us/step - loss: 0.0417 - root_mean_squared_error: 0.0670 - val_loss: 0.0397 - val_root_mean_squared_error: 0.0650\n",
      "Epoch 26/50\n",
      "6250/6250 [==============================] - 4s 616us/step - loss: 0.0413 - root_mean_squared_error: 0.0664 - val_loss: 0.0413 - val_root_mean_squared_error: 0.0674\n",
      "Epoch 27/50\n",
      "6250/6250 [==============================] - 4s 606us/step - loss: 0.0409 - root_mean_squared_error: 0.0658 - val_loss: 0.0389 - val_root_mean_squared_error: 0.0629\n",
      "Epoch 28/50\n",
      "6250/6250 [==============================] - 4s 605us/step - loss: 0.0406 - root_mean_squared_error: 0.0653 - val_loss: 0.0407 - val_root_mean_squared_error: 0.0623\n",
      "Epoch 29/50\n",
      "6250/6250 [==============================] - 4s 604us/step - loss: 0.0401 - root_mean_squared_error: 0.0646 - val_loss: 0.0386 - val_root_mean_squared_error: 0.0642\n",
      "Epoch 30/50\n",
      "6250/6250 [==============================] - 4s 613us/step - loss: 0.0399 - root_mean_squared_error: 0.0642 - val_loss: 0.0380 - val_root_mean_squared_error: 0.0610\n",
      "Epoch 31/50\n",
      "6250/6250 [==============================] - 4s 609us/step - loss: 0.0396 - root_mean_squared_error: 0.0637 - val_loss: 0.0402 - val_root_mean_squared_error: 0.0607\n",
      "Epoch 32/50\n",
      "6250/6250 [==============================] - 4s 606us/step - loss: 0.0393 - root_mean_squared_error: 0.0632 - val_loss: 0.0443 - val_root_mean_squared_error: 0.0632\n",
      "Epoch 33/50\n",
      "6250/6250 [==============================] - 4s 607us/step - loss: 0.0391 - root_mean_squared_error: 0.0627 - val_loss: 0.0409 - val_root_mean_squared_error: 0.0657\n",
      "Epoch 34/50\n",
      "6250/6250 [==============================] - 4s 614us/step - loss: 0.0388 - root_mean_squared_error: 0.0623 - val_loss: 0.0366 - val_root_mean_squared_error: 0.0596\n",
      "Epoch 35/50\n",
      "6250/6250 [==============================] - 4s 605us/step - loss: 0.0384 - root_mean_squared_error: 0.0617 - val_loss: 0.0366 - val_root_mean_squared_error: 0.0596\n",
      "Epoch 36/50\n",
      "6250/6250 [==============================] - 4s 604us/step - loss: 0.0382 - root_mean_squared_error: 0.0612 - val_loss: 0.0369 - val_root_mean_squared_error: 0.0613\n",
      "Epoch 37/50\n",
      "6250/6250 [==============================] - 4s 602us/step - loss: 0.0378 - root_mean_squared_error: 0.0607 - val_loss: 0.0360 - val_root_mean_squared_error: 0.0588\n",
      "Epoch 38/50\n",
      "6250/6250 [==============================] - 4s 612us/step - loss: 0.0376 - root_mean_squared_error: 0.0602 - val_loss: 0.0364 - val_root_mean_squared_error: 0.0597\n",
      "Epoch 39/50\n",
      "6250/6250 [==============================] - 4s 604us/step - loss: 0.0373 - root_mean_squared_error: 0.0597 - val_loss: 0.0361 - val_root_mean_squared_error: 0.0592\n",
      "Epoch 40/50\n",
      "6250/6250 [==============================] - 4s 609us/step - loss: 0.0372 - root_mean_squared_error: 0.0593 - val_loss: 0.0352 - val_root_mean_squared_error: 0.0559\n",
      "Epoch 41/50\n",
      "6250/6250 [==============================] - 4s 607us/step - loss: 0.0368 - root_mean_squared_error: 0.0587 - val_loss: 0.0375 - val_root_mean_squared_error: 0.0563\n",
      "Epoch 42/50\n",
      "6250/6250 [==============================] - 4s 613us/step - loss: 0.0364 - root_mean_squared_error: 0.0580 - val_loss: 0.0347 - val_root_mean_squared_error: 0.0544\n",
      "Epoch 43/50\n",
      "6250/6250 [==============================] - 4s 610us/step - loss: 0.0361 - root_mean_squared_error: 0.0574 - val_loss: 0.0341 - val_root_mean_squared_error: 0.0559\n",
      "Epoch 44/50\n",
      "6250/6250 [==============================] - 4s 607us/step - loss: 0.0359 - root_mean_squared_error: 0.0569 - val_loss: 0.0339 - val_root_mean_squared_error: 0.0555\n",
      "Epoch 45/50\n",
      "6250/6250 [==============================] - 4s 606us/step - loss: 0.0356 - root_mean_squared_error: 0.0564 - val_loss: 0.0348 - val_root_mean_squared_error: 0.0568\n",
      "Epoch 46/50\n",
      "6250/6250 [==============================] - 4s 605us/step - loss: 0.0352 - root_mean_squared_error: 0.0557 - val_loss: 0.0344 - val_root_mean_squared_error: 0.0526\n",
      "Epoch 47/50\n"
     ]
    },
    {
     "name": "stdout",
     "output_type": "stream",
     "text": [
      "6250/6250 [==============================] - 4s 611us/step - loss: 0.0350 - root_mean_squared_error: 0.0553 - val_loss: 0.0333 - val_root_mean_squared_error: 0.0544\n",
      "Epoch 48/50\n",
      "5868/6250 [===========================>..] - ETA: 0s - loss: 0.0346 - root_mean_squared_error: 0.0547"
     ]
    }
   ],
   "source": [
    "# Train model\n",
    "model_2.fit(X_train, y_train, \n",
    "            epochs=50,\n",
    "            validation_data=(X_val,y_val), \n",
    "            callbacks=[early_stop])"
   ]
  },
  {
   "cell_type": "code",
   "execution_count": 101,
   "id": "790d3ddf",
   "metadata": {},
   "outputs": [
    {
     "ename": "InvalidArgumentError",
     "evalue": "Graph execution error:\n\nDetected at node 'SquaredDifference' defined at (most recent call last):\n    File \"C:\\Users\\salih\\anaconda3\\lib\\runpy.py\", line 197, in _run_module_as_main\n      return _run_code(code, main_globals, None,\n    File \"C:\\Users\\salih\\anaconda3\\lib\\runpy.py\", line 87, in _run_code\n      exec(code, run_globals)\n    File \"C:\\Users\\salih\\anaconda3\\lib\\site-packages\\ipykernel_launcher.py\", line 17, in <module>\n      app.launch_new_instance()\n    File \"C:\\Users\\salih\\anaconda3\\lib\\site-packages\\traitlets\\config\\application.py\", line 846, in launch_instance\n      app.start()\n    File \"C:\\Users\\salih\\anaconda3\\lib\\site-packages\\ipykernel\\kernelapp.py\", line 712, in start\n      self.io_loop.start()\n    File \"C:\\Users\\salih\\anaconda3\\lib\\site-packages\\tornado\\platform\\asyncio.py\", line 199, in start\n      self.asyncio_loop.run_forever()\n    File \"C:\\Users\\salih\\anaconda3\\lib\\asyncio\\base_events.py\", line 601, in run_forever\n      self._run_once()\n    File \"C:\\Users\\salih\\anaconda3\\lib\\asyncio\\base_events.py\", line 1905, in _run_once\n      handle._run()\n    File \"C:\\Users\\salih\\anaconda3\\lib\\asyncio\\events.py\", line 80, in _run\n      self._context.run(self._callback, *self._args)\n    File \"C:\\Users\\salih\\anaconda3\\lib\\site-packages\\ipykernel\\kernelbase.py\", line 510, in dispatch_queue\n      await self.process_one()\n    File \"C:\\Users\\salih\\anaconda3\\lib\\site-packages\\ipykernel\\kernelbase.py\", line 499, in process_one\n      await dispatch(*args)\n    File \"C:\\Users\\salih\\anaconda3\\lib\\site-packages\\ipykernel\\kernelbase.py\", line 406, in dispatch_shell\n      await result\n    File \"C:\\Users\\salih\\anaconda3\\lib\\site-packages\\ipykernel\\kernelbase.py\", line 730, in execute_request\n      reply_content = await reply_content\n    File \"C:\\Users\\salih\\anaconda3\\lib\\site-packages\\ipykernel\\ipkernel.py\", line 390, in do_execute\n      res = shell.run_cell(code, store_history=store_history, silent=silent)\n    File \"C:\\Users\\salih\\anaconda3\\lib\\site-packages\\ipykernel\\zmqshell.py\", line 528, in run_cell\n      return super().run_cell(*args, **kwargs)\n    File \"C:\\Users\\salih\\anaconda3\\lib\\site-packages\\IPython\\core\\interactiveshell.py\", line 2914, in run_cell\n      result = self._run_cell(\n    File \"C:\\Users\\salih\\anaconda3\\lib\\site-packages\\IPython\\core\\interactiveshell.py\", line 2960, in _run_cell\n      return runner(coro)\n    File \"C:\\Users\\salih\\anaconda3\\lib\\site-packages\\IPython\\core\\async_helpers.py\", line 78, in _pseudo_sync_runner\n      coro.send(None)\n    File \"C:\\Users\\salih\\anaconda3\\lib\\site-packages\\IPython\\core\\interactiveshell.py\", line 3185, in run_cell_async\n      has_raised = await self.run_ast_nodes(code_ast.body, cell_name,\n    File \"C:\\Users\\salih\\anaconda3\\lib\\site-packages\\IPython\\core\\interactiveshell.py\", line 3377, in run_ast_nodes\n      if (await self.run_code(code, result,  async_=asy)):\n    File \"C:\\Users\\salih\\anaconda3\\lib\\site-packages\\IPython\\core\\interactiveshell.py\", line 3457, in run_code\n      exec(code_obj, self.user_global_ns, self.user_ns)\n    File \"C:\\Users\\salih\\AppData\\Local\\Temp\\ipykernel_5544\\3162525477.py\", line 1, in <module>\n      model_2.evaluate(X_val,y_val[:,0])\n    File \"C:\\Users\\salih\\anaconda3\\lib\\site-packages\\keras\\utils\\traceback_utils.py\", line 65, in error_handler\n      return fn(*args, **kwargs)\n    File \"C:\\Users\\salih\\anaconda3\\lib\\site-packages\\keras\\engine\\training.py\", line 2040, in evaluate\n      tmp_logs = self.test_function(iterator)\n    File \"C:\\Users\\salih\\anaconda3\\lib\\site-packages\\keras\\engine\\training.py\", line 1820, in test_function\n      return step_function(self, iterator)\n    File \"C:\\Users\\salih\\anaconda3\\lib\\site-packages\\keras\\engine\\training.py\", line 1804, in step_function\n      outputs = model.distribute_strategy.run(run_step, args=(data,))\n    File \"C:\\Users\\salih\\anaconda3\\lib\\site-packages\\keras\\engine\\training.py\", line 1792, in run_step\n      outputs = model.test_step(data)\n    File \"C:\\Users\\salih\\anaconda3\\lib\\site-packages\\keras\\engine\\training.py\", line 1759, in test_step\n      return self.compute_metrics(x, y, y_pred, sample_weight)\n    File \"C:\\Users\\salih\\anaconda3\\lib\\site-packages\\keras\\engine\\training.py\", line 1122, in compute_metrics\n      self.compiled_metrics.update_state(y, y_pred, sample_weight)\n    File \"C:\\Users\\salih\\anaconda3\\lib\\site-packages\\keras\\engine\\compile_utils.py\", line 605, in update_state\n      metric_obj.update_state(y_t, y_p, sample_weight=mask)\n    File \"C:\\Users\\salih\\anaconda3\\lib\\site-packages\\keras\\utils\\metrics_utils.py\", line 77, in decorated\n      update_op = update_state_fn(*args, **kwargs)\n    File \"C:\\Users\\salih\\anaconda3\\lib\\site-packages\\keras\\metrics\\base_metric.py\", line 140, in update_state_fn\n      return ag_update_state(*args, **kwargs)\n    File \"C:\\Users\\salih\\anaconda3\\lib\\site-packages\\keras\\metrics\\metrics.py\", line 2502, in update_state\n      error_sq = tf.math.squared_difference(y_pred, y_true)\nNode: 'SquaredDifference'\nIncompatible shapes: [32] vs. [32,3]\n\t [[{{node SquaredDifference}}]] [Op:__inference_test_function_2894942]",
     "output_type": "error",
     "traceback": [
      "\u001b[1;31m---------------------------------------------------------------------------\u001b[0m",
      "\u001b[1;31mInvalidArgumentError\u001b[0m                      Traceback (most recent call last)",
      "\u001b[1;32m~\\AppData\\Local\\Temp\\ipykernel_5544\\3162525477.py\u001b[0m in \u001b[0;36m<module>\u001b[1;34m\u001b[0m\n\u001b[1;32m----> 1\u001b[1;33m \u001b[0mmodel_2\u001b[0m\u001b[1;33m.\u001b[0m\u001b[0mevaluate\u001b[0m\u001b[1;33m(\u001b[0m\u001b[0mX_val\u001b[0m\u001b[1;33m,\u001b[0m\u001b[0my_val\u001b[0m\u001b[1;33m[\u001b[0m\u001b[1;33m:\u001b[0m\u001b[1;33m,\u001b[0m\u001b[1;36m0\u001b[0m\u001b[1;33m]\u001b[0m\u001b[1;33m)\u001b[0m\u001b[1;33m\u001b[0m\u001b[1;33m\u001b[0m\u001b[0m\n\u001b[0m",
      "\u001b[1;32m~\\anaconda3\\lib\\site-packages\\keras\\utils\\traceback_utils.py\u001b[0m in \u001b[0;36merror_handler\u001b[1;34m(*args, **kwargs)\u001b[0m\n\u001b[0;32m     68\u001b[0m             \u001b[1;31m# To get the full stack trace, call:\u001b[0m\u001b[1;33m\u001b[0m\u001b[1;33m\u001b[0m\u001b[0m\n\u001b[0;32m     69\u001b[0m             \u001b[1;31m# `tf.debugging.disable_traceback_filtering()`\u001b[0m\u001b[1;33m\u001b[0m\u001b[1;33m\u001b[0m\u001b[0m\n\u001b[1;32m---> 70\u001b[1;33m             \u001b[1;32mraise\u001b[0m \u001b[0me\u001b[0m\u001b[1;33m.\u001b[0m\u001b[0mwith_traceback\u001b[0m\u001b[1;33m(\u001b[0m\u001b[0mfiltered_tb\u001b[0m\u001b[1;33m)\u001b[0m \u001b[1;32mfrom\u001b[0m \u001b[1;32mNone\u001b[0m\u001b[1;33m\u001b[0m\u001b[1;33m\u001b[0m\u001b[0m\n\u001b[0m\u001b[0;32m     71\u001b[0m         \u001b[1;32mfinally\u001b[0m\u001b[1;33m:\u001b[0m\u001b[1;33m\u001b[0m\u001b[1;33m\u001b[0m\u001b[0m\n\u001b[0;32m     72\u001b[0m             \u001b[1;32mdel\u001b[0m \u001b[0mfiltered_tb\u001b[0m\u001b[1;33m\u001b[0m\u001b[1;33m\u001b[0m\u001b[0m\n",
      "\u001b[1;32m~\\anaconda3\\lib\\site-packages\\tensorflow\\python\\eager\\execute.py\u001b[0m in \u001b[0;36mquick_execute\u001b[1;34m(op_name, num_outputs, inputs, attrs, ctx, name)\u001b[0m\n\u001b[0;32m     50\u001b[0m   \u001b[1;32mtry\u001b[0m\u001b[1;33m:\u001b[0m\u001b[1;33m\u001b[0m\u001b[1;33m\u001b[0m\u001b[0m\n\u001b[0;32m     51\u001b[0m     \u001b[0mctx\u001b[0m\u001b[1;33m.\u001b[0m\u001b[0mensure_initialized\u001b[0m\u001b[1;33m(\u001b[0m\u001b[1;33m)\u001b[0m\u001b[1;33m\u001b[0m\u001b[1;33m\u001b[0m\u001b[0m\n\u001b[1;32m---> 52\u001b[1;33m     tensors = pywrap_tfe.TFE_Py_Execute(ctx._handle, device_name, op_name,\n\u001b[0m\u001b[0;32m     53\u001b[0m                                         inputs, attrs, num_outputs)\n\u001b[0;32m     54\u001b[0m   \u001b[1;32mexcept\u001b[0m \u001b[0mcore\u001b[0m\u001b[1;33m.\u001b[0m\u001b[0m_NotOkStatusException\u001b[0m \u001b[1;32mas\u001b[0m \u001b[0me\u001b[0m\u001b[1;33m:\u001b[0m\u001b[1;33m\u001b[0m\u001b[1;33m\u001b[0m\u001b[0m\n",
      "\u001b[1;31mInvalidArgumentError\u001b[0m: Graph execution error:\n\nDetected at node 'SquaredDifference' defined at (most recent call last):\n    File \"C:\\Users\\salih\\anaconda3\\lib\\runpy.py\", line 197, in _run_module_as_main\n      return _run_code(code, main_globals, None,\n    File \"C:\\Users\\salih\\anaconda3\\lib\\runpy.py\", line 87, in _run_code\n      exec(code, run_globals)\n    File \"C:\\Users\\salih\\anaconda3\\lib\\site-packages\\ipykernel_launcher.py\", line 17, in <module>\n      app.launch_new_instance()\n    File \"C:\\Users\\salih\\anaconda3\\lib\\site-packages\\traitlets\\config\\application.py\", line 846, in launch_instance\n      app.start()\n    File \"C:\\Users\\salih\\anaconda3\\lib\\site-packages\\ipykernel\\kernelapp.py\", line 712, in start\n      self.io_loop.start()\n    File \"C:\\Users\\salih\\anaconda3\\lib\\site-packages\\tornado\\platform\\asyncio.py\", line 199, in start\n      self.asyncio_loop.run_forever()\n    File \"C:\\Users\\salih\\anaconda3\\lib\\asyncio\\base_events.py\", line 601, in run_forever\n      self._run_once()\n    File \"C:\\Users\\salih\\anaconda3\\lib\\asyncio\\base_events.py\", line 1905, in _run_once\n      handle._run()\n    File \"C:\\Users\\salih\\anaconda3\\lib\\asyncio\\events.py\", line 80, in _run\n      self._context.run(self._callback, *self._args)\n    File \"C:\\Users\\salih\\anaconda3\\lib\\site-packages\\ipykernel\\kernelbase.py\", line 510, in dispatch_queue\n      await self.process_one()\n    File \"C:\\Users\\salih\\anaconda3\\lib\\site-packages\\ipykernel\\kernelbase.py\", line 499, in process_one\n      await dispatch(*args)\n    File \"C:\\Users\\salih\\anaconda3\\lib\\site-packages\\ipykernel\\kernelbase.py\", line 406, in dispatch_shell\n      await result\n    File \"C:\\Users\\salih\\anaconda3\\lib\\site-packages\\ipykernel\\kernelbase.py\", line 730, in execute_request\n      reply_content = await reply_content\n    File \"C:\\Users\\salih\\anaconda3\\lib\\site-packages\\ipykernel\\ipkernel.py\", line 390, in do_execute\n      res = shell.run_cell(code, store_history=store_history, silent=silent)\n    File \"C:\\Users\\salih\\anaconda3\\lib\\site-packages\\ipykernel\\zmqshell.py\", line 528, in run_cell\n      return super().run_cell(*args, **kwargs)\n    File \"C:\\Users\\salih\\anaconda3\\lib\\site-packages\\IPython\\core\\interactiveshell.py\", line 2914, in run_cell\n      result = self._run_cell(\n    File \"C:\\Users\\salih\\anaconda3\\lib\\site-packages\\IPython\\core\\interactiveshell.py\", line 2960, in _run_cell\n      return runner(coro)\n    File \"C:\\Users\\salih\\anaconda3\\lib\\site-packages\\IPython\\core\\async_helpers.py\", line 78, in _pseudo_sync_runner\n      coro.send(None)\n    File \"C:\\Users\\salih\\anaconda3\\lib\\site-packages\\IPython\\core\\interactiveshell.py\", line 3185, in run_cell_async\n      has_raised = await self.run_ast_nodes(code_ast.body, cell_name,\n    File \"C:\\Users\\salih\\anaconda3\\lib\\site-packages\\IPython\\core\\interactiveshell.py\", line 3377, in run_ast_nodes\n      if (await self.run_code(code, result,  async_=asy)):\n    File \"C:\\Users\\salih\\anaconda3\\lib\\site-packages\\IPython\\core\\interactiveshell.py\", line 3457, in run_code\n      exec(code_obj, self.user_global_ns, self.user_ns)\n    File \"C:\\Users\\salih\\AppData\\Local\\Temp\\ipykernel_5544\\3162525477.py\", line 1, in <module>\n      model_2.evaluate(X_val,y_val[:,0])\n    File \"C:\\Users\\salih\\anaconda3\\lib\\site-packages\\keras\\utils\\traceback_utils.py\", line 65, in error_handler\n      return fn(*args, **kwargs)\n    File \"C:\\Users\\salih\\anaconda3\\lib\\site-packages\\keras\\engine\\training.py\", line 2040, in evaluate\n      tmp_logs = self.test_function(iterator)\n    File \"C:\\Users\\salih\\anaconda3\\lib\\site-packages\\keras\\engine\\training.py\", line 1820, in test_function\n      return step_function(self, iterator)\n    File \"C:\\Users\\salih\\anaconda3\\lib\\site-packages\\keras\\engine\\training.py\", line 1804, in step_function\n      outputs = model.distribute_strategy.run(run_step, args=(data,))\n    File \"C:\\Users\\salih\\anaconda3\\lib\\site-packages\\keras\\engine\\training.py\", line 1792, in run_step\n      outputs = model.test_step(data)\n    File \"C:\\Users\\salih\\anaconda3\\lib\\site-packages\\keras\\engine\\training.py\", line 1759, in test_step\n      return self.compute_metrics(x, y, y_pred, sample_weight)\n    File \"C:\\Users\\salih\\anaconda3\\lib\\site-packages\\keras\\engine\\training.py\", line 1122, in compute_metrics\n      self.compiled_metrics.update_state(y, y_pred, sample_weight)\n    File \"C:\\Users\\salih\\anaconda3\\lib\\site-packages\\keras\\engine\\compile_utils.py\", line 605, in update_state\n      metric_obj.update_state(y_t, y_p, sample_weight=mask)\n    File \"C:\\Users\\salih\\anaconda3\\lib\\site-packages\\keras\\utils\\metrics_utils.py\", line 77, in decorated\n      update_op = update_state_fn(*args, **kwargs)\n    File \"C:\\Users\\salih\\anaconda3\\lib\\site-packages\\keras\\metrics\\base_metric.py\", line 140, in update_state_fn\n      return ag_update_state(*args, **kwargs)\n    File \"C:\\Users\\salih\\anaconda3\\lib\\site-packages\\keras\\metrics\\metrics.py\", line 2502, in update_state\n      error_sq = tf.math.squared_difference(y_pred, y_true)\nNode: 'SquaredDifference'\nIncompatible shapes: [32] vs. [32,3]\n\t [[{{node SquaredDifference}}]] [Op:__inference_test_function_2894942]"
     ]
    }
   ],
   "source": [
    "model_2.evaluate(X_val,y_val[:,0])"
   ]
  },
  {
   "cell_type": "code",
   "execution_count": null,
   "id": "e374bf14",
   "metadata": {},
   "outputs": [],
   "source": [
    "T1=np.random.randint(0,91)\n",
    "T2=np.random.randint(0,91)\n",
    "T3=np.random.randint(0,91)\n",
    "T4=np.random.randint(0,91)  \n",
    "fk_true=forward_kinematics(T1,T2,T3,T4)[:3,3]\n",
    "fk_true, [T1,T2,T3,T4]"
   ]
  },
  {
   "cell_type": "code",
   "execution_count": null,
   "id": "855bdc66",
   "metadata": {},
   "outputs": [],
   "source": [
    "predict=[]\n",
    "r=np.sqrt(np.square(fk_true[0])+np.square(fk_true[1]))\n",
    "predict=[r, fk[2]-95.]"
   ]
  },
  {
   "cell_type": "code",
   "execution_count": null,
   "id": "14b831f5",
   "metadata": {
    "scrolled": true
   },
   "outputs": [],
   "source": [
    "ala=[]\n",
    "ala.append(lerp(1,0,invlerp(r_max, r_min, predict[0])))\n",
    "ala.append(lerp(1,0,invlerp(z_max, z_min, predict[1])))\n",
    "ala.append(T2/90)\n",
    "ala"
   ]
  },
  {
   "cell_type": "code",
   "execution_count": null,
   "id": "ecdfd341",
   "metadata": {},
   "outputs": [],
   "source": [
    "output=model_2.predict(np.array([ala]))\n",
    "output"
   ]
  },
  {
   "cell_type": "code",
   "execution_count": null,
   "id": "54963d83",
   "metadata": {},
   "outputs": [],
   "source": [
    "out=np.round(output*90)[0]\n",
    "out"
   ]
  },
  {
   "cell_type": "code",
   "execution_count": null,
   "id": "3596d47c",
   "metadata": {},
   "outputs": [],
   "source": [
    "fk=forward_kinematics(T1,T2,out[0],out[1])[:3,3]\n",
    "fk, fk_true"
   ]
  },
  {
   "cell_type": "code",
   "execution_count": null,
   "id": "b33f1ca1",
   "metadata": {},
   "outputs": [],
   "source": []
  },
  {
   "cell_type": "code",
   "execution_count": null,
   "id": "bc3727a6",
   "metadata": {},
   "outputs": [],
   "source": []
  }
 ],
 "metadata": {
  "kernelspec": {
   "display_name": "Python 3 (ipykernel)",
   "language": "python",
   "name": "python3"
  },
  "language_info": {
   "codemirror_mode": {
    "name": "ipython",
    "version": 3
   },
   "file_extension": ".py",
   "mimetype": "text/x-python",
   "name": "python",
   "nbconvert_exporter": "python",
   "pygments_lexer": "ipython3",
   "version": "3.9.13"
  }
 },
 "nbformat": 4,
 "nbformat_minor": 5
}
