{
 "cells": [
  {
   "cell_type": "code",
   "execution_count": 2,
   "id": "b40abf91",
   "metadata": {},
   "outputs": [],
   "source": [
    "import tensorflow as tf\n",
    "from forward_kinematics import forward_kinematics\n",
    "import numpy as np\n",
    "from tensorflow.keras import layers\n",
    "from tensorflow.keras.optimizers import Adam"
   ]
  },
  {
   "cell_type": "code",
   "execution_count": 5,
   "id": "3774d934",
   "metadata": {},
   "outputs": [],
   "source": [
    "def lerp(i, j, k):\n",
    "    return float((1 - k) * i + j * k)\n",
    "\n",
    "def invlerp(i, j, k):\n",
    "    return float((k - i) / (j - i))"
   ]
  },
  {
   "cell_type": "markdown",
   "id": "dac1e093",
   "metadata": {},
   "source": [
    "# Create data"
   ]
  },
  {
   "cell_type": "code",
   "execution_count": 62,
   "id": "7136eef6",
   "metadata": {},
   "outputs": [],
   "source": [
    "# Generate 220000 samples\n",
    "x_samples=[]\n",
    "y_samples=[]\n",
    "\n",
    "for i in range(220000):\n",
    "    T1=np.random.randint(-90,91)\n",
    "    T2=np.random.randint(-90,91)\n",
    "    T3=np.random.randint(-90,91)\n",
    "    T4=np.random.randint(-90,91)        \n",
    "    fk=forward_kinematics(T1,T2,T3,T4)[:3,3]\n",
    "    x_samples.append(fk)\n",
    "    y_samples.append([T1,T2,T3,T4])\n",
    "    \n",
    "x_samples=np.array(x_samples)\n",
    "y_samples=np.array(y_samples,dtype=np.float32)"
   ]
  },
  {
   "cell_type": "code",
   "execution_count": 63,
   "id": "ee96513d",
   "metadata": {},
   "outputs": [
    {
     "data": {
      "text/plain": [
       "463.0"
      ]
     },
     "execution_count": 63,
     "metadata": {},
     "output_type": "execute_result"
    }
   ],
   "source": [
    "np.max(x_samples)"
   ]
  },
  {
   "cell_type": "markdown",
   "id": "7fbc32a2",
   "metadata": {},
   "source": [
    "## Data normalization"
   ]
  },
  {
   "cell_type": "code",
   "execution_count": 64,
   "id": "d449549d",
   "metadata": {},
   "outputs": [],
   "source": [
    "x_max=np.max(x_samples[:,0])\n",
    "y_max=np.max(x_samples[:,1])\n",
    "z_max=np.max(x_samples[:,2])\n",
    "x_min=np.min(x_samples[:,0])\n",
    "y_min=np.min(x_samples[:,1])\n",
    "z_min=np.min(x_samples[:,2])\n",
    "x_norm_samples=[]\n",
    "y_norm_samples=[]\n",
    "for i in range(220000):\n",
    "    fk=x_samples[i]\n",
    "    tada=[]\n",
    "    tada.append(lerp(-1,1,invlerp(x_max, x_min, fk[0])))\n",
    "    tada.append(lerp(-1,1,invlerp(y_max, y_min, fk[1])))\n",
    "    tada.append(lerp(-1,1,invlerp(z_max, z_min, fk[2])))\n",
    "    x_norm_samples.append(tada)\n",
    "    angles=y_samples[i]\n",
    "    y_norm_samples.append(angles/90)\n",
    "x_norm_samples=np.array(x_norm_samples)\n",
    "y_norm_samples=np.array(y_norm_samples)"
   ]
  },
  {
   "cell_type": "markdown",
   "id": "c4ccbfe3",
   "metadata": {},
   "source": [
    "# Split data"
   ]
  },
  {
   "cell_type": "code",
   "execution_count": 67,
   "id": "44d1b4e2",
   "metadata": {},
   "outputs": [],
   "source": [
    "X_train = x_norm_samples[:200000]\n",
    "X_val = x_norm_samples[200000:]"
   ]
  },
  {
   "cell_type": "code",
   "execution_count": 68,
   "id": "30f5e4e7",
   "metadata": {},
   "outputs": [],
   "source": [
    "y_train = y_norm_samples[:200000]\n",
    "y_val = y_norm_samples[200000:]"
   ]
  },
  {
   "cell_type": "markdown",
   "id": "ec1e867b",
   "metadata": {},
   "source": [
    "# Create model"
   ]
  },
  {
   "cell_type": "code",
   "execution_count": 114,
   "id": "92c3b688",
   "metadata": {},
   "outputs": [],
   "source": [
    "model_1=tf.keras.Sequential([\n",
    "    layers.Dense(32, activation='relu'),\n",
    "    layers.Dense(64,activation='relu'),\n",
    "    layers.Dense(64,activation='relu'),\n",
    "    layers.Dense(128,activation='relu'),\n",
    "    layers.Dense(128,activation='relu'),\n",
    "    layers.Dense(64,activation='relu'),\n",
    "    layers.Dense(64,activation='relu'),\n",
    "    layers.Dense(32, activation='relu'),\n",
    "    layers.Dense(1,activation=\"linear\"),\n",
    "])"
   ]
  },
  {
   "cell_type": "code",
   "execution_count": 115,
   "id": "83a9c75f",
   "metadata": {},
   "outputs": [],
   "source": [
    "# Compile model\n",
    "loss = tf.keras.losses.mse\n",
    "optimizer = Adam(learning_rate=1e-2)\n",
    "\n",
    "early_stop = tf.keras.callbacks.EarlyStopping(monitor='loss', patience=100, restore_best_weights=True)\n",
    "model_1.compile(loss=loss, optimizer=optimizer, metrics=tf.metrics.RootMeanSquaredError())"
   ]
  },
  {
   "cell_type": "code",
   "execution_count": 116,
   "id": "52b3c3de",
   "metadata": {
    "scrolled": true
   },
   "outputs": [
    {
     "name": "stdout",
     "output_type": "stream",
     "text": [
      "Epoch 1/40\n",
      "6250/6250 [==============================] - 6s 833us/step - loss: 0.0439 - root_mean_squared_error: 0.2096 - val_loss: 0.5078 - val_root_mean_squared_error: 0.7126\n",
      "Epoch 2/40\n",
      "6250/6250 [==============================] - 5s 820us/step - loss: 0.0273 - root_mean_squared_error: 0.1651 - val_loss: 0.5201 - val_root_mean_squared_error: 0.7212\n",
      "Epoch 3/40\n",
      "6250/6250 [==============================] - 5s 815us/step - loss: 0.0223 - root_mean_squared_error: 0.1492 - val_loss: 0.4960 - val_root_mean_squared_error: 0.7043\n",
      "Epoch 4/40\n",
      "6250/6250 [==============================] - 5s 815us/step - loss: 0.0204 - root_mean_squared_error: 0.1428 - val_loss: 0.4881 - val_root_mean_squared_error: 0.6986\n",
      "Epoch 5/40\n",
      "6250/6250 [==============================] - 5s 829us/step - loss: 0.0190 - root_mean_squared_error: 0.1380 - val_loss: 0.4805 - val_root_mean_squared_error: 0.6932\n",
      "Epoch 6/40\n",
      "6250/6250 [==============================] - 5s 820us/step - loss: 0.0254 - root_mean_squared_error: 0.1595 - val_loss: 0.4830 - val_root_mean_squared_error: 0.6950\n",
      "Epoch 7/40\n",
      "6250/6250 [==============================] - 5s 823us/step - loss: 0.0189 - root_mean_squared_error: 0.1374 - val_loss: 0.4959 - val_root_mean_squared_error: 0.7042\n",
      "Epoch 8/40\n",
      "6250/6250 [==============================] - 5s 833us/step - loss: 0.0181 - root_mean_squared_error: 0.1347 - val_loss: 0.5008 - val_root_mean_squared_error: 0.7077\n",
      "Epoch 9/40\n",
      "6250/6250 [==============================] - 5s 829us/step - loss: 0.0173 - root_mean_squared_error: 0.1317 - val_loss: 0.4743 - val_root_mean_squared_error: 0.6887\n",
      "Epoch 10/40\n",
      "6250/6250 [==============================] - 5s 840us/step - loss: 0.0172 - root_mean_squared_error: 0.1312 - val_loss: 0.5134 - val_root_mean_squared_error: 0.7165\n",
      "Epoch 11/40\n",
      "6250/6250 [==============================] - 5s 848us/step - loss: 0.0193 - root_mean_squared_error: 0.1388 - val_loss: 0.5104 - val_root_mean_squared_error: 0.7144\n",
      "Epoch 12/40\n",
      "6250/6250 [==============================] - 5s 830us/step - loss: 0.0177 - root_mean_squared_error: 0.1330 - val_loss: 0.5083 - val_root_mean_squared_error: 0.7130\n",
      "Epoch 13/40\n",
      "6250/6250 [==============================] - 5s 822us/step - loss: 0.0173 - root_mean_squared_error: 0.1314 - val_loss: 0.5117 - val_root_mean_squared_error: 0.7153\n",
      "Epoch 14/40\n",
      "6250/6250 [==============================] - 5s 833us/step - loss: 0.0173 - root_mean_squared_error: 0.1317 - val_loss: 0.5008 - val_root_mean_squared_error: 0.7077\n",
      "Epoch 15/40\n",
      "6250/6250 [==============================] - 5s 825us/step - loss: 0.0300 - root_mean_squared_error: 0.1731 - val_loss: 0.4957 - val_root_mean_squared_error: 0.7040\n",
      "Epoch 16/40\n",
      "6250/6250 [==============================] - 5s 829us/step - loss: 0.0212 - root_mean_squared_error: 0.1458 - val_loss: 0.5115 - val_root_mean_squared_error: 0.7152\n",
      "Epoch 17/40\n",
      "6250/6250 [==============================] - 5s 833us/step - loss: 0.0196 - root_mean_squared_error: 0.1398 - val_loss: 0.5132 - val_root_mean_squared_error: 0.7164\n",
      "Epoch 18/40\n",
      "6250/6250 [==============================] - 5s 830us/step - loss: 0.0200 - root_mean_squared_error: 0.1413 - val_loss: 0.5126 - val_root_mean_squared_error: 0.7159\n",
      "Epoch 19/40\n",
      "6250/6250 [==============================] - 5s 832us/step - loss: 0.0178 - root_mean_squared_error: 0.1335 - val_loss: 0.5139 - val_root_mean_squared_error: 0.7168\n",
      "Epoch 20/40\n",
      "6250/6250 [==============================] - 5s 835us/step - loss: 0.0219 - root_mean_squared_error: 0.1478 - val_loss: 0.5017 - val_root_mean_squared_error: 0.7083\n",
      "Epoch 21/40\n",
      "6250/6250 [==============================] - 5s 831us/step - loss: 0.1908 - root_mean_squared_error: 0.4368 - val_loss: 0.4830 - val_root_mean_squared_error: 0.6950\n",
      "Epoch 22/40\n",
      "6250/6250 [==============================] - 5s 828us/step - loss: 0.1162 - root_mean_squared_error: 0.3409 - val_loss: 0.3270 - val_root_mean_squared_error: 0.5718\n",
      "Epoch 23/40\n",
      "6250/6250 [==============================] - 5s 838us/step - loss: 0.2408 - root_mean_squared_error: 0.4907 - val_loss: 0.3330 - val_root_mean_squared_error: 0.5770\n",
      "Epoch 24/40\n",
      "6250/6250 [==============================] - 5s 841us/step - loss: 0.2044 - root_mean_squared_error: 0.4521 - val_loss: 0.3282 - val_root_mean_squared_error: 0.5729\n",
      "Epoch 25/40\n",
      "6250/6250 [==============================] - 5s 841us/step - loss: 0.1438 - root_mean_squared_error: 0.3793 - val_loss: 0.4621 - val_root_mean_squared_error: 0.6797\n",
      "Epoch 26/40\n",
      "6250/6250 [==============================] - 5s 848us/step - loss: 0.0481 - root_mean_squared_error: 0.2192 - val_loss: 0.4761 - val_root_mean_squared_error: 0.6900\n",
      "Epoch 27/40\n",
      "6250/6250 [==============================] - 5s 848us/step - loss: 0.0274 - root_mean_squared_error: 0.1654 - val_loss: 0.5090 - val_root_mean_squared_error: 0.7134\n",
      "Epoch 28/40\n",
      "6250/6250 [==============================] - 5s 842us/step - loss: 0.0203 - root_mean_squared_error: 0.1425 - val_loss: 0.5336 - val_root_mean_squared_error: 0.7305\n",
      "Epoch 29/40\n",
      "6250/6250 [==============================] - 5s 842us/step - loss: 0.0183 - root_mean_squared_error: 0.1351 - val_loss: 0.5189 - val_root_mean_squared_error: 0.7203\n",
      "Epoch 30/40\n",
      "6250/6250 [==============================] - 5s 844us/step - loss: 0.0181 - root_mean_squared_error: 0.1344 - val_loss: 0.5052 - val_root_mean_squared_error: 0.7108\n",
      "Epoch 31/40\n",
      "6250/6250 [==============================] - 5s 845us/step - loss: 0.0712 - root_mean_squared_error: 0.2668 - val_loss: 0.3469 - val_root_mean_squared_error: 0.5890\n",
      "Epoch 32/40\n",
      "6250/6250 [==============================] - 5s 849us/step - loss: 0.2901 - root_mean_squared_error: 0.5386 - val_loss: 0.3407 - val_root_mean_squared_error: 0.5837\n",
      "Epoch 33/40\n",
      "6250/6250 [==============================] - 5s 854us/step - loss: 0.3380 - root_mean_squared_error: 0.5814 - val_loss: 0.3380 - val_root_mean_squared_error: 0.5814\n",
      "Epoch 34/40\n",
      "6250/6250 [==============================] - 5s 855us/step - loss: 0.3380 - root_mean_squared_error: 0.5814 - val_loss: 0.3380 - val_root_mean_squared_error: 0.5814\n",
      "Epoch 35/40\n",
      "6250/6250 [==============================] - 5s 855us/step - loss: 0.3381 - root_mean_squared_error: 0.5814 - val_loss: 0.3381 - val_root_mean_squared_error: 0.5815\n",
      "Epoch 36/40\n",
      "6250/6250 [==============================] - 5s 861us/step - loss: 0.3380 - root_mean_squared_error: 0.5814 - val_loss: 0.3386 - val_root_mean_squared_error: 0.5819\n",
      "Epoch 37/40\n",
      "6250/6250 [==============================] - 5s 853us/step - loss: 0.3380 - root_mean_squared_error: 0.5813 - val_loss: 0.3384 - val_root_mean_squared_error: 0.5817\n",
      "Epoch 38/40\n",
      "6250/6250 [==============================] - 5s 860us/step - loss: 0.3380 - root_mean_squared_error: 0.5814 - val_loss: 0.3386 - val_root_mean_squared_error: 0.5819\n",
      "Epoch 39/40\n",
      "6250/6250 [==============================] - 5s 858us/step - loss: 0.3380 - root_mean_squared_error: 0.5814 - val_loss: 0.3381 - val_root_mean_squared_error: 0.5814\n",
      "Epoch 40/40\n",
      "6250/6250 [==============================] - 5s 857us/step - loss: 0.3380 - root_mean_squared_error: 0.5814 - val_loss: 0.3384 - val_root_mean_squared_error: 0.5817\n"
     ]
    },
    {
     "data": {
      "text/plain": [
       "<keras.callbacks.History at 0x27b80586220>"
      ]
     },
     "execution_count": 116,
     "metadata": {},
     "output_type": "execute_result"
    }
   ],
   "source": [
    "# Train model\n",
    "model_1.fit(X_train, y_train[:,0], \n",
    "            epochs=40,\n",
    "            validation_data=(X_val,y_val), \n",
    "            callbacks=[early_stop])"
   ]
  },
  {
   "cell_type": "code",
   "execution_count": 119,
   "id": "9df85ea2",
   "metadata": {},
   "outputs": [
    {
     "name": "stdout",
     "output_type": "stream",
     "text": [
      "625/625 [==============================] - 1s 670us/step - loss: 0.3413 - root_mean_squared_error: 0.5842\n"
     ]
    },
    {
     "data": {
      "text/plain": [
       "[0.3413074314594269, 0.5842152237892151]"
      ]
     },
     "execution_count": 119,
     "metadata": {},
     "output_type": "execute_result"
    }
   ],
   "source": [
    "model_1.evaluate(X_val,y_val[:,0])"
   ]
  },
  {
   "cell_type": "code",
   "execution_count": 106,
   "id": "16cbb920",
   "metadata": {},
   "outputs": [
    {
     "data": {
      "text/plain": [
       "(array([-165.,  159., -104.]), array([ 44., -85., -31., -49.], dtype=float32))"
      ]
     },
     "execution_count": 106,
     "metadata": {},
     "output_type": "execute_result"
    }
   ],
   "source": [
    "x_samples[1], y_train[1]*90"
   ]
  },
  {
   "cell_type": "code",
   "execution_count": 5,
   "id": "612a5fea",
   "metadata": {},
   "outputs": [
    {
     "data": {
      "text/plain": [
       "array([ 165., -159., -104.])"
      ]
     },
     "execution_count": 5,
     "metadata": {},
     "output_type": "execute_result"
    }
   ],
   "source": [
    "T1=44\n",
    "T2=85\n",
    "T3=31\n",
    "T4=49\n",
    "fk=forward_kinematics(T1,T2,T3,T4)[:3,3]\n",
    "fk"
   ]
  },
  {
   "cell_type": "code",
   "execution_count": 108,
   "id": "12d0098f",
   "metadata": {},
   "outputs": [
    {
     "data": {
      "text/plain": [
       "-1.0"
      ]
     },
     "execution_count": 108,
     "metadata": {},
     "output_type": "execute_result"
    }
   ],
   "source": [
    "np.min(X_train)"
   ]
  },
  {
   "cell_type": "code",
   "execution_count": 109,
   "id": "210988d1",
   "metadata": {},
   "outputs": [
    {
     "data": {
      "text/plain": [
       "[0.44959128065395104, -0.4340136054421768, 0.7943037974683544]"
      ]
     },
     "execution_count": 109,
     "metadata": {},
     "output_type": "execute_result"
    }
   ],
   "source": [
    "ala=[]\n",
    "ala.append(lerp(-1,1,invlerp(x_max, x_min, fk[0])))\n",
    "ala.append(lerp(-1,1,invlerp(y_max, y_min, fk[1])))\n",
    "ala.append(lerp(-1,1,invlerp(z_max, z_min, fk[2])))\n",
    "ala"
   ]
  },
  {
   "cell_type": "code",
   "execution_count": 110,
   "id": "1d26f6c9",
   "metadata": {},
   "outputs": [
    {
     "name": "stdout",
     "output_type": "stream",
     "text": [
      "1/1 [==============================] - 0s 73ms/step\n"
     ]
    },
    {
     "data": {
      "text/plain": [
       "array([[-0.03899958, -0.03899958, -0.03899958, -0.03899958]],\n",
       "      dtype=float32)"
      ]
     },
     "execution_count": 110,
     "metadata": {},
     "output_type": "execute_result"
    }
   ],
   "source": [
    "output=model_1.predict(np.array([ala]))\n",
    "output"
   ]
  },
  {
   "cell_type": "code",
   "execution_count": 111,
   "id": "78c1471f",
   "metadata": {},
   "outputs": [
    {
     "data": {
      "text/plain": [
       "array([-4., -4., -4., -4.], dtype=float32)"
      ]
     },
     "execution_count": 111,
     "metadata": {},
     "output_type": "execute_result"
    }
   ],
   "source": [
    "out=np.round(output*90)[0]\n",
    "out"
   ]
  },
  {
   "cell_type": "code",
   "execution_count": 112,
   "id": "8eeb0b9b",
   "metadata": {},
   "outputs": [
    {
     "data": {
      "text/plain": [
       "array([-56.,  -4., 458.])"
      ]
     },
     "execution_count": 112,
     "metadata": {},
     "output_type": "execute_result"
    }
   ],
   "source": [
    "fk=forward_kinematics(out[0],out[1],out[2],out[3])[:3,3]\n",
    "fk"
   ]
  },
  {
   "cell_type": "code",
   "execution_count": null,
   "id": "c6a092fe",
   "metadata": {},
   "outputs": [],
   "source": [
    "fk[0] = lerp(0,1,invlerp(463., -463., fk[0]))\n",
    "fk[1] = lerp(0,1,invlerp(368., -368., fk[1]))\n",
    "fk[2] = lerp(0,1,invlerp(368., -368., fk[2]))"
   ]
  },
  {
   "cell_type": "code",
   "execution_count": null,
   "id": "6d2b60b8",
   "metadata": {},
   "outputs": [],
   "source": [
    "fk"
   ]
  },
  {
   "cell_type": "code",
   "execution_count": null,
   "id": "55d324d4",
   "metadata": {},
   "outputs": [],
   "source": [
    "X_train[:5]"
   ]
  },
  {
   "cell_type": "code",
   "execution_count": null,
   "id": "744791dd",
   "metadata": {},
   "outputs": [],
   "source": [
    "np.max(y_train[:,1])"
   ]
  },
  {
   "cell_type": "code",
   "execution_count": null,
   "id": "de33e3ee",
   "metadata": {},
   "outputs": [],
   "source": [
    "X_train[:,0]"
   ]
  },
  {
   "cell_type": "code",
   "execution_count": 100,
   "id": "a095966e",
   "metadata": {},
   "outputs": [
    {
     "data": {
      "text/plain": [
       "array([[-0.5       , -0.84444445, -0.43333334, -0.11111111],\n",
       "       [ 0.4888889 , -0.9444444 , -0.34444445, -0.54444444],\n",
       "       [-0.98888886,  0.02222222,  0.46666667,  0.5777778 ],\n",
       "       ...,\n",
       "       [ 0.14444445, -0.3888889 , -0.9222222 ,  0.3888889 ],\n",
       "       [ 0.25555557,  0.4888889 , -0.6       , -0.11111111],\n",
       "       [-0.06666667,  0.2       , -0.6666667 ,  0.87777776]],\n",
       "      dtype=float32)"
      ]
     },
     "execution_count": 100,
     "metadata": {},
     "output_type": "execute_result"
    }
   ],
   "source": [
    "y_train"
   ]
  },
  {
   "cell_type": "code",
   "execution_count": 102,
   "id": "7ff7fe53",
   "metadata": {},
   "outputs": [
    {
     "data": {
      "text/plain": [
       "array([-0.5       ,  0.4888889 , -0.98888886, ...,  0.14444445,\n",
       "        0.25555557, -0.06666667], dtype=float32)"
      ]
     },
     "execution_count": 102,
     "metadata": {},
     "output_type": "execute_result"
    }
   ],
   "source": [
    "y_train[:,0]"
   ]
  },
  {
   "cell_type": "code",
   "execution_count": null,
   "id": "67ba7fcd",
   "metadata": {},
   "outputs": [],
   "source": [
    "invlerp(-90.0, 90.0, 0)"
   ]
  },
  {
   "cell_type": "markdown",
   "id": "5475eacc",
   "metadata": {},
   "source": [
    "# Try 2 way"
   ]
  },
  {
   "cell_type": "code",
   "execution_count": null,
   "id": "53bc7d64",
   "metadata": {},
   "outputs": [],
   "source": []
  }
 ],
 "metadata": {
  "kernelspec": {
   "display_name": "Python 3 (ipykernel)",
   "language": "python",
   "name": "python3"
  },
  "language_info": {
   "codemirror_mode": {
    "name": "ipython",
    "version": 3
   },
   "file_extension": ".py",
   "mimetype": "text/x-python",
   "name": "python",
   "nbconvert_exporter": "python",
   "pygments_lexer": "ipython3",
   "version": "3.9.13"
  }
 },
 "nbformat": 4,
 "nbformat_minor": 5
}
