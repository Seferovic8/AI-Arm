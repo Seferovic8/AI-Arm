{
 "cells": [
  {
   "cell_type": "code",
   "execution_count": 1,
   "id": "b40abf91",
   "metadata": {},
   "outputs": [],
   "source": [
    "import tensorflow as tf\n",
    "from forward_kinematics import forward_kinematics\n",
    "import numpy as np\n",
    "from tensorflow.keras import layers\n",
    "from tensorflow.keras.optimizers import Adam"
   ]
  },
  {
   "cell_type": "code",
   "execution_count": 2,
   "id": "3774d934",
   "metadata": {},
   "outputs": [],
   "source": [
    "def lerp(i, j, k):\n",
    "    return float((1 - k) * i + j * k)\n",
    "\n",
    "def invlerp(i, j, k):\n",
    "    return float((k - i) / (j - i))"
   ]
  },
  {
   "cell_type": "markdown",
   "id": "dac1e093",
   "metadata": {},
   "source": [
    "# Create data"
   ]
  },
  {
   "cell_type": "code",
   "execution_count": 3,
   "id": "7136eef6",
   "metadata": {},
   "outputs": [],
   "source": [
    "# Generate 220000 samples\n",
    "x_samples=[]\n",
    "y_samples=[]\n",
    "\n",
    "#for i in range(220000):\n",
    "for i in range(1):\n",
    "    T1=np.random.randint(-90,91)\n",
    "    T2=np.random.randint(-90,91)\n",
    "    T3=np.random.randint(-90,91)\n",
    "    T4=np.random.randint(-90,91)        \n",
    "    fk=forward_kinematics(T1,T2,T3,T4)[:3,3]\n",
    "    x_samples.append(fk)\n",
    "    y_samples.append([T1,T2,T3,T4])\n",
    "    \n",
    "x_samples=np.array(x_samples)\n",
    "y_samples=np.array(y_samples,dtype=np.float32)"
   ]
  },
  {
   "cell_type": "code",
   "execution_count": 4,
   "id": "ee96513d",
   "metadata": {
    "scrolled": true
   },
   "outputs": [
    {
     "data": {
      "text/plain": [
       "411.0"
      ]
     },
     "execution_count": 4,
     "metadata": {},
     "output_type": "execute_result"
    }
   ],
   "source": [
    "np.max(x_samples)"
   ]
  },
  {
   "cell_type": "markdown",
   "id": "7fbc32a2",
   "metadata": {},
   "source": [
    "## Data normalization"
   ]
  },
  {
   "cell_type": "code",
   "execution_count": 5,
   "id": "d449549d",
   "metadata": {},
   "outputs": [
    {
     "name": "stderr",
     "output_type": "stream",
     "text": [
      "C:\\Users\\salih\\AppData\\Local\\Temp\\ipykernel_7536\\275508645.py:5: RuntimeWarning: invalid value encountered in scalar divide\n",
      "  return float((k - i) / (j - i))\n"
     ]
    }
   ],
   "source": [
    "x_max=np.max(x_samples[:,0])\n",
    "y_max=np.max(x_samples[:,1])\n",
    "z_max=np.max(x_samples[:,2])\n",
    "x_min=np.min(x_samples[:,0])\n",
    "y_min=np.min(x_samples[:,1])\n",
    "z_min=np.min(x_samples[:,2])\n",
    "x_norm_samples=[]\n",
    "y_norm_samples=[]\n",
    "#for i in range(220000):\n",
    "for i in range(1):\n",
    "    fk=x_samples[i]\n",
    "    tada=[]\n",
    "    tada.append(lerp(-1,1,invlerp(x_max, x_min, fk[0])))\n",
    "    tada.append(lerp(-1,1,invlerp(y_max, y_min, fk[1])))\n",
    "    tada.append(lerp(-1,1,invlerp(z_max, z_min, fk[2])))\n",
    "    x_norm_samples.append(tada)\n",
    "    angles=y_samples[i]\n",
    "    y_norm_samples.append(angles/90)\n",
    "x_norm_samples=np.array(x_norm_samples)\n",
    "y_norm_samples=np.array(y_norm_samples)"
   ]
  },
  {
   "cell_type": "markdown",
   "id": "c4ccbfe3",
   "metadata": {},
   "source": [
    "# Split data"
   ]
  },
  {
   "cell_type": "code",
   "execution_count": 6,
   "id": "44d1b4e2",
   "metadata": {},
   "outputs": [],
   "source": [
    "X_train = x_norm_samples[:200000]\n",
    "X_val = x_norm_samples[200000:]"
   ]
  },
  {
   "cell_type": "code",
   "execution_count": 7,
   "id": "30f5e4e7",
   "metadata": {},
   "outputs": [],
   "source": [
    "y_train = y_norm_samples[:200000]\n",
    "y_val = y_norm_samples[200000:]"
   ]
  },
  {
   "cell_type": "markdown",
   "id": "ec1e867b",
   "metadata": {},
   "source": [
    "# Create model"
   ]
  },
  {
   "cell_type": "code",
   "execution_count": 8,
   "id": "92c3b688",
   "metadata": {},
   "outputs": [],
   "source": [
    "model_1=tf.keras.Sequential([\n",
    "    layers.Dense(32, activation='relu'),\n",
    "    layers.Dense(64,activation='relu'),\n",
    "    layers.Dense(64,activation='relu'),\n",
    "    layers.Dense(128,activation='relu'),\n",
    "    layers.Dense(128,activation='relu'),\n",
    "    layers.Dense(64,activation='relu'),\n",
    "    layers.Dense(64,activation='relu'),\n",
    "    layers.Dense(32, activation='relu'),\n",
    "    layers.Dense(1,activation=\"linear\"),\n",
    "])"
   ]
  },
  {
   "cell_type": "code",
   "execution_count": 10,
   "id": "83a9c75f",
   "metadata": {},
   "outputs": [],
   "source": [
    "# Compile model\n",
    "loss = tf.keras.losses.mse\n",
    "optimizer = tf.keras.optimizers.SGD(learning_rate=1e-2)\n",
    "\n",
    "early_stop = tf.keras.callbacks.EarlyStopping(monitor='loss', patience=100, restore_best_weights=True)\n",
    "model_1.compile(loss=loss, optimizer=optimizer, metrics=tf.metrics.RootMeanSquaredError())"
   ]
  },
  {
   "cell_type": "code",
   "execution_count": 19,
   "id": "76d3a3f9",
   "metadata": {},
   "outputs": [],
   "source": [
    "train_data =  tf.data.Dataset.from_tensor_slices((X_train, y_train[:,0])).batch(32)\n",
    "val_data =  tf.data.Dataset.from_tensor_slices((X_val, y_val))"
   ]
  },
  {
   "cell_type": "code",
   "execution_count": 21,
   "id": "52b3c3de",
   "metadata": {
    "scrolled": true
   },
   "outputs": [
    {
     "name": "stdout",
     "output_type": "stream",
     "text": [
      "Epoch 1/40\n",
      "1/1 [==============================] - 0s 251ms/step - loss: nan - root_mean_squared_error: nan\n",
      "Epoch 2/40\n",
      "1/1 [==============================] - 0s 16ms/step - loss: nan - root_mean_squared_error: nan\n",
      "Epoch 3/40\n",
      "1/1 [==============================] - 0s 16ms/step - loss: nan - root_mean_squared_error: nan\n",
      "Epoch 4/40\n",
      "1/1 [==============================] - 0s 16ms/step - loss: nan - root_mean_squared_error: nan\n",
      "Epoch 5/40\n",
      "1/1 [==============================] - 0s 16ms/step - loss: nan - root_mean_squared_error: nan\n",
      "Epoch 6/40\n",
      "1/1 [==============================] - 0s 16ms/step - loss: nan - root_mean_squared_error: nan\n",
      "Epoch 7/40\n",
      "1/1 [==============================] - 0s 16ms/step - loss: nan - root_mean_squared_error: nan\n",
      "Epoch 8/40\n",
      "1/1 [==============================] - 0s 16ms/step - loss: nan - root_mean_squared_error: nan\n",
      "Epoch 9/40\n",
      "1/1 [==============================] - 0s 16ms/step - loss: nan - root_mean_squared_error: nan\n",
      "Epoch 10/40\n",
      "1/1 [==============================] - 0s 16ms/step - loss: nan - root_mean_squared_error: nan\n",
      "Epoch 11/40\n",
      "1/1 [==============================] - 0s 16ms/step - loss: nan - root_mean_squared_error: nan\n",
      "Epoch 12/40\n",
      "1/1 [==============================] - 0s 19ms/step - loss: nan - root_mean_squared_error: nan\n",
      "Epoch 13/40\n",
      "1/1 [==============================] - 0s 13ms/step - loss: nan - root_mean_squared_error: nan\n",
      "Epoch 14/40\n",
      "1/1 [==============================] - 0s 16ms/step - loss: nan - root_mean_squared_error: nan\n",
      "Epoch 15/40\n",
      "1/1 [==============================] - 0s 16ms/step - loss: nan - root_mean_squared_error: nan\n",
      "Epoch 16/40\n",
      "1/1 [==============================] - 0s 16ms/step - loss: nan - root_mean_squared_error: nan\n",
      "Epoch 17/40\n",
      "1/1 [==============================] - 0s 16ms/step - loss: nan - root_mean_squared_error: nan\n",
      "Epoch 18/40\n",
      "1/1 [==============================] - 0s 0s/step - loss: nan - root_mean_squared_error: nan\n",
      "Epoch 19/40\n",
      "1/1 [==============================] - 0s 10ms/step - loss: nan - root_mean_squared_error: nan\n",
      "Epoch 20/40\n",
      "1/1 [==============================] - 0s 7ms/step - loss: nan - root_mean_squared_error: nan\n",
      "Epoch 21/40\n",
      "1/1 [==============================] - 0s 16ms/step - loss: nan - root_mean_squared_error: nan\n",
      "Epoch 22/40\n",
      "1/1 [==============================] - 0s 16ms/step - loss: nan - root_mean_squared_error: nan\n",
      "Epoch 23/40\n",
      "1/1 [==============================] - 0s 16ms/step - loss: nan - root_mean_squared_error: nan\n",
      "Epoch 24/40\n",
      "1/1 [==============================] - 0s 16ms/step - loss: nan - root_mean_squared_error: nan\n",
      "Epoch 25/40\n",
      "1/1 [==============================] - 0s 16ms/step - loss: nan - root_mean_squared_error: nan\n",
      "Epoch 26/40\n",
      "1/1 [==============================] - 0s 16ms/step - loss: nan - root_mean_squared_error: nan\n",
      "Epoch 27/40\n",
      "1/1 [==============================] - 0s 16ms/step - loss: nan - root_mean_squared_error: nan\n",
      "Epoch 28/40\n",
      "1/1 [==============================] - 0s 16ms/step - loss: nan - root_mean_squared_error: nan\n",
      "Epoch 29/40\n",
      "1/1 [==============================] - 0s 16ms/step - loss: nan - root_mean_squared_error: nan\n",
      "Epoch 30/40\n",
      "1/1 [==============================] - 0s 16ms/step - loss: nan - root_mean_squared_error: nan\n",
      "Epoch 31/40\n",
      "1/1 [==============================] - 0s 16ms/step - loss: nan - root_mean_squared_error: nan\n",
      "Epoch 32/40\n",
      "1/1 [==============================] - 0s 22ms/step - loss: nan - root_mean_squared_error: nan\n",
      "Epoch 33/40\n",
      "1/1 [==============================] - 0s 10ms/step - loss: nan - root_mean_squared_error: nan\n",
      "Epoch 34/40\n",
      "1/1 [==============================] - 0s 16ms/step - loss: nan - root_mean_squared_error: nan\n",
      "Epoch 35/40\n",
      "1/1 [==============================] - 0s 16ms/step - loss: nan - root_mean_squared_error: nan\n",
      "Epoch 36/40\n",
      "1/1 [==============================] - 0s 16ms/step - loss: nan - root_mean_squared_error: nan\n",
      "Epoch 37/40\n",
      "1/1 [==============================] - 0s 16ms/step - loss: nan - root_mean_squared_error: nan\n",
      "Epoch 38/40\n",
      "1/1 [==============================] - 0s 16ms/step - loss: nan - root_mean_squared_error: nan\n",
      "Epoch 39/40\n",
      "1/1 [==============================] - 0s 16ms/step - loss: nan - root_mean_squared_error: nan\n",
      "Epoch 40/40\n",
      "1/1 [==============================] - 0s 16ms/step - loss: nan - root_mean_squared_error: nan\n"
     ]
    },
    {
     "data": {
      "text/plain": [
       "<keras.callbacks.History at 0x18ffbca4a60>"
      ]
     },
     "execution_count": 21,
     "metadata": {},
     "output_type": "execute_result"
    }
   ],
   "source": [
    "# Train model\n",
    "model_1.fit(X_train, y_train[:,0], \n",
    "            epochs=40,\n",
    "            validation_data=(X_val,y_val), \n",
    "            callbacks=[early_stop])"
   ]
  },
  {
   "cell_type": "code",
   "execution_count": 119,
   "id": "9df85ea2",
   "metadata": {},
   "outputs": [
    {
     "name": "stdout",
     "output_type": "stream",
     "text": [
      "625/625 [==============================] - 1s 670us/step - loss: 0.3413 - root_mean_squared_error: 0.5842\n"
     ]
    },
    {
     "data": {
      "text/plain": [
       "[0.3413074314594269, 0.5842152237892151]"
      ]
     },
     "execution_count": 119,
     "metadata": {},
     "output_type": "execute_result"
    }
   ],
   "source": [
    "#model_1.evaluate(X_val,y_val[:,0])"
   ]
  },
  {
   "cell_type": "code",
   "execution_count": 106,
   "id": "16cbb920",
   "metadata": {},
   "outputs": [
    {
     "data": {
      "text/plain": [
       "(array([-165.,  159., -104.]), array([ 44., -85., -31., -49.], dtype=float32))"
      ]
     },
     "execution_count": 106,
     "metadata": {},
     "output_type": "execute_result"
    }
   ],
   "source": [
    "x_samples[1], y_train[1]*90"
   ]
  },
  {
   "cell_type": "code",
   "execution_count": 5,
   "id": "612a5fea",
   "metadata": {},
   "outputs": [
    {
     "data": {
      "text/plain": [
       "array([ 165., -159., -104.])"
      ]
     },
     "execution_count": 5,
     "metadata": {},
     "output_type": "execute_result"
    }
   ],
   "source": [
    "T1=44\n",
    "T2=85\n",
    "T3=31\n",
    "T4=49\n",
    "fk=forward_kinematics(T1,T2,T3,T4)[:3,3]\n",
    "fk"
   ]
  },
  {
   "cell_type": "code",
   "execution_count": 108,
   "id": "12d0098f",
   "metadata": {},
   "outputs": [
    {
     "data": {
      "text/plain": [
       "-1.0"
      ]
     },
     "execution_count": 108,
     "metadata": {},
     "output_type": "execute_result"
    }
   ],
   "source": [
    "np.min(X_train)"
   ]
  },
  {
   "cell_type": "code",
   "execution_count": 109,
   "id": "210988d1",
   "metadata": {
    "scrolled": true
   },
   "outputs": [
    {
     "data": {
      "text/plain": [
       "[0.44959128065395104, -0.4340136054421768, 0.7943037974683544]"
      ]
     },
     "execution_count": 109,
     "metadata": {},
     "output_type": "execute_result"
    }
   ],
   "source": [
    "ala=[]\n",
    "ala.append(lerp(-1,1,invlerp(x_max, x_min, fk[0])))\n",
    "ala.append(lerp(-1,1,invlerp(y_max, y_min, fk[1])))\n",
    "ala.append(lerp(-1,1,invlerp(z_max, z_min, fk[2])))\n",
    "ala"
   ]
  },
  {
   "cell_type": "code",
   "execution_count": 110,
   "id": "1d26f6c9",
   "metadata": {},
   "outputs": [
    {
     "name": "stdout",
     "output_type": "stream",
     "text": [
      "1/1 [==============================] - 0s 73ms/step\n"
     ]
    },
    {
     "data": {
      "text/plain": [
       "array([[-0.03899958, -0.03899958, -0.03899958, -0.03899958]],\n",
       "      dtype=float32)"
      ]
     },
     "execution_count": 110,
     "metadata": {},
     "output_type": "execute_result"
    }
   ],
   "source": [
    "output=model_1.predict(np.array([ala]))\n",
    "output"
   ]
  },
  {
   "cell_type": "code",
   "execution_count": 111,
   "id": "78c1471f",
   "metadata": {},
   "outputs": [
    {
     "data": {
      "text/plain": [
       "array([-4., -4., -4., -4.], dtype=float32)"
      ]
     },
     "execution_count": 111,
     "metadata": {},
     "output_type": "execute_result"
    }
   ],
   "source": [
    "out=np.round(output*90)[0]\n",
    "out"
   ]
  },
  {
   "cell_type": "code",
   "execution_count": 112,
   "id": "8eeb0b9b",
   "metadata": {
    "scrolled": true
   },
   "outputs": [
    {
     "data": {
      "text/plain": [
       "array([-56.,  -4., 458.])"
      ]
     },
     "execution_count": 112,
     "metadata": {},
     "output_type": "execute_result"
    }
   ],
   "source": [
    "fk=forward_kinematics(out[0],out[1],out[2],out[3])[:3,3]\n",
    "fk"
   ]
  },
  {
   "cell_type": "code",
   "execution_count": null,
   "id": "c6a092fe",
   "metadata": {},
   "outputs": [],
   "source": [
    "fk[0] = lerp(0,1,invlerp(463., -463., fk[0]))\n",
    "fk[1] = lerp(0,1,invlerp(368., -368., fk[1]))\n",
    "fk[2] = lerp(0,1,invlerp(368., -368., fk[2]))"
   ]
  },
  {
   "cell_type": "code",
   "execution_count": null,
   "id": "6d2b60b8",
   "metadata": {},
   "outputs": [],
   "source": [
    "fk"
   ]
  },
  {
   "cell_type": "code",
   "execution_count": null,
   "id": "55d324d4",
   "metadata": {},
   "outputs": [],
   "source": [
    "X_train[:5]"
   ]
  },
  {
   "cell_type": "code",
   "execution_count": null,
   "id": "744791dd",
   "metadata": {},
   "outputs": [],
   "source": [
    "np.max(y_train[:,1])"
   ]
  },
  {
   "cell_type": "code",
   "execution_count": null,
   "id": "de33e3ee",
   "metadata": {},
   "outputs": [],
   "source": [
    "X_train[:,0]"
   ]
  },
  {
   "cell_type": "code",
   "execution_count": 100,
   "id": "a095966e",
   "metadata": {},
   "outputs": [
    {
     "data": {
      "text/plain": [
       "array([[-0.5       , -0.84444445, -0.43333334, -0.11111111],\n",
       "       [ 0.4888889 , -0.9444444 , -0.34444445, -0.54444444],\n",
       "       [-0.98888886,  0.02222222,  0.46666667,  0.5777778 ],\n",
       "       ...,\n",
       "       [ 0.14444445, -0.3888889 , -0.9222222 ,  0.3888889 ],\n",
       "       [ 0.25555557,  0.4888889 , -0.6       , -0.11111111],\n",
       "       [-0.06666667,  0.2       , -0.6666667 ,  0.87777776]],\n",
       "      dtype=float32)"
      ]
     },
     "execution_count": 100,
     "metadata": {},
     "output_type": "execute_result"
    }
   ],
   "source": [
    "y_train"
   ]
  },
  {
   "cell_type": "code",
   "execution_count": 102,
   "id": "7ff7fe53",
   "metadata": {},
   "outputs": [
    {
     "data": {
      "text/plain": [
       "array([-0.5       ,  0.4888889 , -0.98888886, ...,  0.14444445,\n",
       "        0.25555557, -0.06666667], dtype=float32)"
      ]
     },
     "execution_count": 102,
     "metadata": {},
     "output_type": "execute_result"
    }
   ],
   "source": [
    "y_train[:,0]"
   ]
  },
  {
   "cell_type": "code",
   "execution_count": null,
   "id": "67ba7fcd",
   "metadata": {},
   "outputs": [],
   "source": [
    "invlerp(-90.0, 90.0, 0)"
   ]
  },
  {
   "cell_type": "markdown",
   "id": "5475eacc",
   "metadata": {},
   "source": [
    "# Try 2 way"
   ]
  },
  {
   "cell_type": "markdown",
   "id": "1e5ff915",
   "metadata": {},
   "source": [
    "# Create data"
   ]
  },
  {
   "cell_type": "code",
   "execution_count": 22,
   "id": "7875148e",
   "metadata": {},
   "outputs": [],
   "source": [
    "# Generate 220000 samples\n",
    "x_samples=[]\n",
    "y_samples=[]\n",
    "\n",
    "for i in range(220000):\n",
    "    T1=np.random.randint(-0,91)\n",
    "    T2=np.random.randint(-0,91)\n",
    "    T3=np.random.randint(-0,91)\n",
    "    T4=np.random.randint(-0,91)        \n",
    "    fk=forward_kinematics(T1,T2,T3,T4)[:3,3]\n",
    "    r=np.sqrt(np.square(fk[0])+np.square(fk[1]))\n",
    "    #x_samples.append([r, fk[2]-95.])\n",
    "    x_samples.append([r, fk[2]-95.,T2/90])\n",
    "    #y_samples.append([T2,T3,T4])\n",
    "    y_samples.append([T3,T4])\n",
    "\n",
    "    \n",
    "x_samples=np.array(x_samples)\n",
    "y_samples=np.array(y_samples,dtype=np.float32)"
   ]
  },
  {
   "cell_type": "code",
   "execution_count": 23,
   "id": "2b93ccac",
   "metadata": {
    "scrolled": true
   },
   "outputs": [
    {
     "data": {
      "text/plain": [
       "array([284.25516706, 217.41205118, 311.9775633 , ..., 212.50882335,\n",
       "       244.64055265,   5.09901951])"
      ]
     },
     "execution_count": 23,
     "metadata": {},
     "output_type": "execute_result"
    }
   ],
   "source": [
    "x_samples[:,0]"
   ]
  },
  {
   "cell_type": "markdown",
   "id": "a7200040",
   "metadata": {},
   "source": [
    "## Data normalization"
   ]
  },
  {
   "cell_type": "code",
   "execution_count": 24,
   "id": "9228cdee",
   "metadata": {},
   "outputs": [],
   "source": [
    "r_max=np.max(x_samples[:,0])\n",
    "r_min=np.min(x_samples[:,0])\n",
    "z_max=np.max(x_samples[:,1])\n",
    "z_min=np.min(x_samples[:,1])\n",
    "x_norm_samples=[]\n",
    "y_norm_samples=[]\n",
    "for i in range(220000):\n",
    "    fk=x_samples[i]\n",
    "    tada=[]\n",
    "    tada.append(lerp(1,0,invlerp(r_max, r_min, fk[0])))\n",
    "    tada.append(lerp(1,0,invlerp(z_max, z_min, fk[1])))\n",
    "    tada.append(fk[2]/90)\n",
    "    x_norm_samples.append(tada)\n",
    "    angles=y_samples[i]\n",
    "    y_norm_samples.append(angles/90)\n",
    "x_norm_samples=np.array(x_norm_samples)\n",
    "y_norm_samples=np.array(y_norm_samples)"
   ]
  },
  {
   "cell_type": "code",
   "execution_count": 25,
   "id": "800ed7fa",
   "metadata": {},
   "outputs": [
    {
     "data": {
      "text/plain": [
       "array([[0.35555556, 0.08888889],\n",
       "       [0.35555556, 0.76666665],\n",
       "       [0.6       , 0.11111111],\n",
       "       ...,\n",
       "       [0.2888889 , 0.9444444 ],\n",
       "       [0.13333334, 0.4888889 ],\n",
       "       [0.87777776, 0.9111111 ]], dtype=float32)"
      ]
     },
     "execution_count": 25,
     "metadata": {},
     "output_type": "execute_result"
    }
   ],
   "source": [
    "y_norm_samples"
   ]
  },
  {
   "cell_type": "markdown",
   "id": "ebba04d1",
   "metadata": {},
   "source": [
    "# Split data"
   ]
  },
  {
   "cell_type": "code",
   "execution_count": 104,
   "id": "397a86ca",
   "metadata": {},
   "outputs": [],
   "source": [
    "X_train = x_norm_samples[:200000]\n",
    "X_val = x_norm_samples[200000:]"
   ]
  },
  {
   "cell_type": "code",
   "execution_count": 105,
   "id": "5f8245c2",
   "metadata": {},
   "outputs": [],
   "source": [
    "y_train = y_norm_samples[:200000]\n",
    "y_val = y_norm_samples[200000:]"
   ]
  },
  {
   "cell_type": "code",
   "execution_count": 106,
   "id": "107b6f94",
   "metadata": {},
   "outputs": [
    {
     "name": "stdout",
     "output_type": "stream",
     "text": [
      "[1.        0.4193038 0.0108642]\n",
      "[368.26620806   1.           0.97777778]\n"
     ]
    }
   ],
   "source": [
    "for i in range(200000):\n",
    "    if(X_train[i][0]==1):\n",
    "        print(X_train[i])\n",
    "        print(x_samples[i])\n",
    "        break;"
   ]
  },
  {
   "cell_type": "code",
   "execution_count": 107,
   "id": "9199e1c0",
   "metadata": {},
   "outputs": [
    {
     "data": {
      "text/plain": [
       "0.0"
      ]
     },
     "execution_count": 107,
     "metadata": {},
     "output_type": "execute_result"
    }
   ],
   "source": [
    "np.min(x_norm_samples[:,1])"
   ]
  },
  {
   "cell_type": "markdown",
   "id": "343349b6",
   "metadata": {},
   "source": [
    "# Create model"
   ]
  },
  {
   "cell_type": "code",
   "execution_count": 108,
   "id": "e7d57840",
   "metadata": {},
   "outputs": [],
   "source": [
    "model_2=tf.keras.Sequential([\n",
    "    layers.Dense(32, activation='tanh'),\n",
    "\n",
    "    layers.Dense(64,activation='tanh'),\n",
    "    layers.Dense(32, activation='tanh'),\n",
    "    layers.Dense(2,activation=\"linear\"),\n",
    "])"
   ]
  },
  {
   "cell_type": "code",
   "execution_count": 109,
   "id": "6fae10ba",
   "metadata": {},
   "outputs": [],
   "source": [
    "# Compile model\n",
    "loss = tf.keras.losses.mae\n",
    "optimizer = tf.keras.optimizers.SGD(learning_rate=1e-2)\n",
    "\n",
    "early_stop = tf.keras.callbacks.EarlyStopping(monitor='loss', patience=100, restore_best_weights=True)\n",
    "model_2.compile(loss=loss, optimizer=optimizer, metrics=tf.metrics.RootMeanSquaredError())"
   ]
  },
  {
   "cell_type": "code",
   "execution_count": 110,
   "id": "caec7716",
   "metadata": {},
   "outputs": [],
   "source": [
    "train_data =  tf.data.Dataset.from_tensor_slices((X_train, y_train))#.batch(512)\n",
    "#val_data =  tf.data.Dataset.from_tensor_slices((X_val, y_val))"
   ]
  },
  {
   "cell_type": "code",
   "execution_count": 111,
   "id": "3ec98fd3",
   "metadata": {
    "scrolled": false
   },
   "outputs": [
    {
     "name": "stdout",
     "output_type": "stream",
     "text": [
      "Epoch 1/50\n",
      "6250/6250 [==============================] - 4s 602us/step - loss: 0.1989 - root_mean_squared_error: 0.2423 - val_loss: 0.1961 - val_root_mean_squared_error: 0.2393\n",
      "Epoch 2/50\n",
      "6250/6250 [==============================] - 4s 598us/step - loss: 0.1931 - root_mean_squared_error: 0.2363 - val_loss: 0.1888 - val_root_mean_squared_error: 0.2314\n",
      "Epoch 3/50\n",
      "6250/6250 [==============================] - 4s 599us/step - loss: 0.1730 - root_mean_squared_error: 0.2125 - val_loss: 0.1687 - val_root_mean_squared_error: 0.2074\n",
      "Epoch 4/50\n",
      "6250/6250 [==============================] - 4s 597us/step - loss: 0.1633 - root_mean_squared_error: 0.2009 - val_loss: 0.1633 - val_root_mean_squared_error: 0.2015\n",
      "Epoch 5/50\n",
      "6250/6250 [==============================] - 4s 597us/step - loss: 0.1625 - root_mean_squared_error: 0.2004 - val_loss: 0.1631 - val_root_mean_squared_error: 0.2018\n",
      "Epoch 6/50\n",
      "6250/6250 [==============================] - 4s 593us/step - loss: 0.1619 - root_mean_squared_error: 0.2000 - val_loss: 0.1623 - val_root_mean_squared_error: 0.2005\n",
      "Epoch 7/50\n",
      "6250/6250 [==============================] - 4s 595us/step - loss: 0.1614 - root_mean_squared_error: 0.1997 - val_loss: 0.1622 - val_root_mean_squared_error: 0.2013\n",
      "Epoch 8/50\n",
      "6250/6250 [==============================] - 4s 598us/step - loss: 0.1611 - root_mean_squared_error: 0.1994 - val_loss: 0.1623 - val_root_mean_squared_error: 0.2014\n",
      "Epoch 9/50\n",
      "6250/6250 [==============================] - 4s 595us/step - loss: 0.1607 - root_mean_squared_error: 0.1992 - val_loss: 0.1614 - val_root_mean_squared_error: 0.2001\n",
      "Epoch 10/50\n",
      "6250/6250 [==============================] - 4s 596us/step - loss: 0.1604 - root_mean_squared_error: 0.1990 - val_loss: 0.1622 - val_root_mean_squared_error: 0.2021\n",
      "Epoch 11/50\n",
      "6250/6250 [==============================] - 4s 588us/step - loss: 0.1600 - root_mean_squared_error: 0.1987 - val_loss: 0.1617 - val_root_mean_squared_error: 0.1990\n",
      "Epoch 12/50\n",
      "6250/6250 [==============================] - 4s 590us/step - loss: 0.1598 - root_mean_squared_error: 0.1984 - val_loss: 0.1618 - val_root_mean_squared_error: 0.2002\n",
      "Epoch 13/50\n",
      "6250/6250 [==============================] - 4s 590us/step - loss: 0.1594 - root_mean_squared_error: 0.1981 - val_loss: 0.1597 - val_root_mean_squared_error: 0.1985\n",
      "Epoch 14/50\n",
      "6250/6250 [==============================] - 4s 586us/step - loss: 0.1591 - root_mean_squared_error: 0.1979 - val_loss: 0.1598 - val_root_mean_squared_error: 0.1989\n",
      "Epoch 15/50\n",
      "6250/6250 [==============================] - 4s 588us/step - loss: 0.1587 - root_mean_squared_error: 0.1973 - val_loss: 0.1589 - val_root_mean_squared_error: 0.1968\n",
      "Epoch 16/50\n",
      "6250/6250 [==============================] - 4s 596us/step - loss: 0.1583 - root_mean_squared_error: 0.1968 - val_loss: 0.1585 - val_root_mean_squared_error: 0.1976\n",
      "Epoch 17/50\n",
      "6250/6250 [==============================] - 4s 595us/step - loss: 0.1578 - root_mean_squared_error: 0.1964 - val_loss: 0.1589 - val_root_mean_squared_error: 0.1988\n",
      "Epoch 18/50\n",
      "6250/6250 [==============================] - 4s 595us/step - loss: 0.1574 - root_mean_squared_error: 0.1960 - val_loss: 0.1568 - val_root_mean_squared_error: 0.1951\n",
      "Epoch 19/50\n",
      "6250/6250 [==============================] - 4s 594us/step - loss: 0.1571 - root_mean_squared_error: 0.1955 - val_loss: 0.1611 - val_root_mean_squared_error: 0.2011\n",
      "Epoch 20/50\n",
      "6250/6250 [==============================] - 4s 590us/step - loss: 0.1567 - root_mean_squared_error: 0.1952 - val_loss: 0.1559 - val_root_mean_squared_error: 0.1937\n",
      "Epoch 21/50\n",
      "6250/6250 [==============================] - 4s 601us/step - loss: 0.1562 - root_mean_squared_error: 0.1947 - val_loss: 0.1595 - val_root_mean_squared_error: 0.1994\n",
      "Epoch 22/50\n",
      "6250/6250 [==============================] - 4s 593us/step - loss: 0.1557 - root_mean_squared_error: 0.1941 - val_loss: 0.1572 - val_root_mean_squared_error: 0.1966\n",
      "Epoch 23/50\n",
      "6250/6250 [==============================] - 4s 597us/step - loss: 0.1553 - root_mean_squared_error: 0.1937 - val_loss: 0.1569 - val_root_mean_squared_error: 0.1963\n",
      "Epoch 24/50\n",
      "6250/6250 [==============================] - 4s 593us/step - loss: 0.1547 - root_mean_squared_error: 0.1930 - val_loss: 0.1535 - val_root_mean_squared_error: 0.1907\n",
      "Epoch 25/50\n",
      "6250/6250 [==============================] - 4s 593us/step - loss: 0.1542 - root_mean_squared_error: 0.1925 - val_loss: 0.1746 - val_root_mean_squared_error: 0.2192\n",
      "Epoch 26/50\n",
      "6250/6250 [==============================] - 4s 594us/step - loss: 0.1536 - root_mean_squared_error: 0.1919 - val_loss: 0.1503 - val_root_mean_squared_error: 0.1867\n",
      "Epoch 27/50\n",
      "6250/6250 [==============================] - 4s 592us/step - loss: 0.1529 - root_mean_squared_error: 0.1910 - val_loss: 0.1700 - val_root_mean_squared_error: 0.2149\n",
      "Epoch 28/50\n",
      "6250/6250 [==============================] - 4s 590us/step - loss: 0.1525 - root_mean_squared_error: 0.1907 - val_loss: 0.1515 - val_root_mean_squared_error: 0.1895\n",
      "Epoch 29/50\n",
      "6250/6250 [==============================] - 4s 593us/step - loss: 0.1519 - root_mean_squared_error: 0.1900 - val_loss: 0.1532 - val_root_mean_squared_error: 0.1926\n",
      "Epoch 30/50\n",
      "6250/6250 [==============================] - 4s 592us/step - loss: 0.1516 - root_mean_squared_error: 0.1896 - val_loss: 0.1504 - val_root_mean_squared_error: 0.1886\n",
      "Epoch 31/50\n",
      "6250/6250 [==============================] - 4s 595us/step - loss: 0.1509 - root_mean_squared_error: 0.1887 - val_loss: 0.1486 - val_root_mean_squared_error: 0.1855\n",
      "Epoch 32/50\n",
      "6250/6250 [==============================] - 4s 590us/step - loss: 0.1505 - root_mean_squared_error: 0.1885 - val_loss: 0.1453 - val_root_mean_squared_error: 0.1814\n",
      "Epoch 33/50\n",
      "6250/6250 [==============================] - 4s 592us/step - loss: 0.1499 - root_mean_squared_error: 0.1878 - val_loss: 0.1474 - val_root_mean_squared_error: 0.1838\n",
      "Epoch 34/50\n",
      "6250/6250 [==============================] - 4s 595us/step - loss: 0.1495 - root_mean_squared_error: 0.1873 - val_loss: 0.1432 - val_root_mean_squared_error: 0.1783\n",
      "Epoch 35/50\n",
      "6250/6250 [==============================] - 4s 595us/step - loss: 0.1489 - root_mean_squared_error: 0.1867 - val_loss: 0.1430 - val_root_mean_squared_error: 0.1788\n",
      "Epoch 36/50\n",
      "6250/6250 [==============================] - 4s 592us/step - loss: 0.1485 - root_mean_squared_error: 0.1862 - val_loss: 0.1442 - val_root_mean_squared_error: 0.1796\n",
      "Epoch 37/50\n",
      "6250/6250 [==============================] - 4s 599us/step - loss: 0.1480 - root_mean_squared_error: 0.1855 - val_loss: 0.1703 - val_root_mean_squared_error: 0.2129\n",
      "Epoch 38/50\n",
      "6250/6250 [==============================] - 4s 589us/step - loss: 0.1476 - root_mean_squared_error: 0.1853 - val_loss: 0.1402 - val_root_mean_squared_error: 0.1739\n",
      "Epoch 39/50\n",
      "6250/6250 [==============================] - 4s 601us/step - loss: 0.1472 - root_mean_squared_error: 0.1847 - val_loss: 0.1433 - val_root_mean_squared_error: 0.1791\n",
      "Epoch 40/50\n",
      "6250/6250 [==============================] - 4s 595us/step - loss: 0.1465 - root_mean_squared_error: 0.1840 - val_loss: 0.1383 - val_root_mean_squared_error: 0.1719\n",
      "Epoch 41/50\n",
      "6250/6250 [==============================] - 4s 600us/step - loss: 0.1463 - root_mean_squared_error: 0.1837 - val_loss: 0.1380 - val_root_mean_squared_error: 0.1724\n",
      "Epoch 42/50\n",
      "6250/6250 [==============================] - 4s 597us/step - loss: 0.1457 - root_mean_squared_error: 0.1830 - val_loss: 0.1371 - val_root_mean_squared_error: 0.1703\n",
      "Epoch 43/50\n",
      "6250/6250 [==============================] - 4s 597us/step - loss: 0.1453 - root_mean_squared_error: 0.1825 - val_loss: 0.1686 - val_root_mean_squared_error: 0.2132\n",
      "Epoch 44/50\n",
      "6250/6250 [==============================] - 4s 597us/step - loss: 0.1449 - root_mean_squared_error: 0.1819 - val_loss: 0.1443 - val_root_mean_squared_error: 0.1814\n",
      "Epoch 45/50\n",
      "6250/6250 [==============================] - 4s 597us/step - loss: 0.1444 - root_mean_squared_error: 0.1815 - val_loss: 0.1489 - val_root_mean_squared_error: 0.1885\n",
      "Epoch 46/50\n",
      "6250/6250 [==============================] - 4s 595us/step - loss: 0.1441 - root_mean_squared_error: 0.1812 - val_loss: 0.1341 - val_root_mean_squared_error: 0.1664\n",
      "Epoch 47/50\n"
     ]
    },
    {
     "name": "stdout",
     "output_type": "stream",
     "text": [
      "6250/6250 [==============================] - 4s 592us/step - loss: 0.1434 - root_mean_squared_error: 0.1804 - val_loss: 0.1370 - val_root_mean_squared_error: 0.1709\n",
      "Epoch 48/50\n",
      "6250/6250 [==============================] - 4s 592us/step - loss: 0.1430 - root_mean_squared_error: 0.1798 - val_loss: 0.1378 - val_root_mean_squared_error: 0.1737\n",
      "Epoch 49/50\n",
      "6250/6250 [==============================] - 4s 595us/step - loss: 0.1423 - root_mean_squared_error: 0.1790 - val_loss: 0.1350 - val_root_mean_squared_error: 0.1696\n",
      "Epoch 50/50\n",
      "6250/6250 [==============================] - 4s 598us/step - loss: 0.1420 - root_mean_squared_error: 0.1788 - val_loss: 0.1398 - val_root_mean_squared_error: 0.1738\n"
     ]
    },
    {
     "data": {
      "text/plain": [
       "<keras.callbacks.History at 0x18f90ed4f70>"
      ]
     },
     "execution_count": 111,
     "metadata": {},
     "output_type": "execute_result"
    }
   ],
   "source": [
    "# Train model\n",
    "model_2.fit(X_train,y_train, \n",
    "            epochs=50,\n",
    "            validation_data=(X_val,y_val), \n",
    "            callbacks=[early_stop])"
   ]
  },
  {
   "cell_type": "code",
   "execution_count": 77,
   "id": "790d3ddf",
   "metadata": {},
   "outputs": [
    {
     "ename": "InvalidArgumentError",
     "evalue": "Graph execution error:\n\nDetected at node 'SquaredDifference' defined at (most recent call last):\n    File \"C:\\Users\\salih\\anaconda3\\lib\\runpy.py\", line 197, in _run_module_as_main\n      return _run_code(code, main_globals, None,\n    File \"C:\\Users\\salih\\anaconda3\\lib\\runpy.py\", line 87, in _run_code\n      exec(code, run_globals)\n    File \"C:\\Users\\salih\\anaconda3\\lib\\site-packages\\ipykernel_launcher.py\", line 17, in <module>\n      app.launch_new_instance()\n    File \"C:\\Users\\salih\\anaconda3\\lib\\site-packages\\traitlets\\config\\application.py\", line 846, in launch_instance\n      app.start()\n    File \"C:\\Users\\salih\\anaconda3\\lib\\site-packages\\ipykernel\\kernelapp.py\", line 712, in start\n      self.io_loop.start()\n    File \"C:\\Users\\salih\\anaconda3\\lib\\site-packages\\tornado\\platform\\asyncio.py\", line 199, in start\n      self.asyncio_loop.run_forever()\n    File \"C:\\Users\\salih\\anaconda3\\lib\\asyncio\\base_events.py\", line 601, in run_forever\n      self._run_once()\n    File \"C:\\Users\\salih\\anaconda3\\lib\\asyncio\\base_events.py\", line 1905, in _run_once\n      handle._run()\n    File \"C:\\Users\\salih\\anaconda3\\lib\\asyncio\\events.py\", line 80, in _run\n      self._context.run(self._callback, *self._args)\n    File \"C:\\Users\\salih\\anaconda3\\lib\\site-packages\\ipykernel\\kernelbase.py\", line 510, in dispatch_queue\n      await self.process_one()\n    File \"C:\\Users\\salih\\anaconda3\\lib\\site-packages\\ipykernel\\kernelbase.py\", line 499, in process_one\n      await dispatch(*args)\n    File \"C:\\Users\\salih\\anaconda3\\lib\\site-packages\\ipykernel\\kernelbase.py\", line 406, in dispatch_shell\n      await result\n    File \"C:\\Users\\salih\\anaconda3\\lib\\site-packages\\ipykernel\\kernelbase.py\", line 730, in execute_request\n      reply_content = await reply_content\n    File \"C:\\Users\\salih\\anaconda3\\lib\\site-packages\\ipykernel\\ipkernel.py\", line 390, in do_execute\n      res = shell.run_cell(code, store_history=store_history, silent=silent)\n    File \"C:\\Users\\salih\\anaconda3\\lib\\site-packages\\ipykernel\\zmqshell.py\", line 528, in run_cell\n      return super().run_cell(*args, **kwargs)\n    File \"C:\\Users\\salih\\anaconda3\\lib\\site-packages\\IPython\\core\\interactiveshell.py\", line 2914, in run_cell\n      result = self._run_cell(\n    File \"C:\\Users\\salih\\anaconda3\\lib\\site-packages\\IPython\\core\\interactiveshell.py\", line 2960, in _run_cell\n      return runner(coro)\n    File \"C:\\Users\\salih\\anaconda3\\lib\\site-packages\\IPython\\core\\async_helpers.py\", line 78, in _pseudo_sync_runner\n      coro.send(None)\n    File \"C:\\Users\\salih\\anaconda3\\lib\\site-packages\\IPython\\core\\interactiveshell.py\", line 3185, in run_cell_async\n      has_raised = await self.run_ast_nodes(code_ast.body, cell_name,\n    File \"C:\\Users\\salih\\anaconda3\\lib\\site-packages\\IPython\\core\\interactiveshell.py\", line 3377, in run_ast_nodes\n      if (await self.run_code(code, result,  async_=asy)):\n    File \"C:\\Users\\salih\\anaconda3\\lib\\site-packages\\IPython\\core\\interactiveshell.py\", line 3457, in run_code\n      exec(code_obj, self.user_global_ns, self.user_ns)\n    File \"C:\\Users\\salih\\AppData\\Local\\Temp\\ipykernel_7536\\3162525477.py\", line 1, in <module>\n      model_2.evaluate(X_val,y_val[:,0])\n    File \"C:\\Users\\salih\\anaconda3\\lib\\site-packages\\keras\\utils\\traceback_utils.py\", line 65, in error_handler\n      return fn(*args, **kwargs)\n    File \"C:\\Users\\salih\\anaconda3\\lib\\site-packages\\keras\\engine\\training.py\", line 2040, in evaluate\n      tmp_logs = self.test_function(iterator)\n    File \"C:\\Users\\salih\\anaconda3\\lib\\site-packages\\keras\\engine\\training.py\", line 1820, in test_function\n      return step_function(self, iterator)\n    File \"C:\\Users\\salih\\anaconda3\\lib\\site-packages\\keras\\engine\\training.py\", line 1804, in step_function\n      outputs = model.distribute_strategy.run(run_step, args=(data,))\n    File \"C:\\Users\\salih\\anaconda3\\lib\\site-packages\\keras\\engine\\training.py\", line 1792, in run_step\n      outputs = model.test_step(data)\n    File \"C:\\Users\\salih\\anaconda3\\lib\\site-packages\\keras\\engine\\training.py\", line 1759, in test_step\n      return self.compute_metrics(x, y, y_pred, sample_weight)\n    File \"C:\\Users\\salih\\anaconda3\\lib\\site-packages\\keras\\engine\\training.py\", line 1122, in compute_metrics\n      self.compiled_metrics.update_state(y, y_pred, sample_weight)\n    File \"C:\\Users\\salih\\anaconda3\\lib\\site-packages\\keras\\engine\\compile_utils.py\", line 605, in update_state\n      metric_obj.update_state(y_t, y_p, sample_weight=mask)\n    File \"C:\\Users\\salih\\anaconda3\\lib\\site-packages\\keras\\utils\\metrics_utils.py\", line 77, in decorated\n      update_op = update_state_fn(*args, **kwargs)\n    File \"C:\\Users\\salih\\anaconda3\\lib\\site-packages\\keras\\metrics\\base_metric.py\", line 140, in update_state_fn\n      return ag_update_state(*args, **kwargs)\n    File \"C:\\Users\\salih\\anaconda3\\lib\\site-packages\\keras\\metrics\\metrics.py\", line 2502, in update_state\n      error_sq = tf.math.squared_difference(y_pred, y_true)\nNode: 'SquaredDifference'\nIncompatible shapes: [32] vs. [32,2]\n\t [[{{node SquaredDifference}}]] [Op:__inference_test_function_1408771]",
     "output_type": "error",
     "traceback": [
      "\u001b[1;31m---------------------------------------------------------------------------\u001b[0m",
      "\u001b[1;31mInvalidArgumentError\u001b[0m                      Traceback (most recent call last)",
      "\u001b[1;32m~\\AppData\\Local\\Temp\\ipykernel_7536\\3162525477.py\u001b[0m in \u001b[0;36m<module>\u001b[1;34m\u001b[0m\n\u001b[1;32m----> 1\u001b[1;33m \u001b[0mmodel_2\u001b[0m\u001b[1;33m.\u001b[0m\u001b[0mevaluate\u001b[0m\u001b[1;33m(\u001b[0m\u001b[0mX_val\u001b[0m\u001b[1;33m,\u001b[0m\u001b[0my_val\u001b[0m\u001b[1;33m[\u001b[0m\u001b[1;33m:\u001b[0m\u001b[1;33m,\u001b[0m\u001b[1;36m0\u001b[0m\u001b[1;33m]\u001b[0m\u001b[1;33m)\u001b[0m\u001b[1;33m\u001b[0m\u001b[1;33m\u001b[0m\u001b[0m\n\u001b[0m",
      "\u001b[1;32m~\\anaconda3\\lib\\site-packages\\keras\\utils\\traceback_utils.py\u001b[0m in \u001b[0;36merror_handler\u001b[1;34m(*args, **kwargs)\u001b[0m\n\u001b[0;32m     68\u001b[0m             \u001b[1;31m# To get the full stack trace, call:\u001b[0m\u001b[1;33m\u001b[0m\u001b[1;33m\u001b[0m\u001b[0m\n\u001b[0;32m     69\u001b[0m             \u001b[1;31m# `tf.debugging.disable_traceback_filtering()`\u001b[0m\u001b[1;33m\u001b[0m\u001b[1;33m\u001b[0m\u001b[0m\n\u001b[1;32m---> 70\u001b[1;33m             \u001b[1;32mraise\u001b[0m \u001b[0me\u001b[0m\u001b[1;33m.\u001b[0m\u001b[0mwith_traceback\u001b[0m\u001b[1;33m(\u001b[0m\u001b[0mfiltered_tb\u001b[0m\u001b[1;33m)\u001b[0m \u001b[1;32mfrom\u001b[0m \u001b[1;32mNone\u001b[0m\u001b[1;33m\u001b[0m\u001b[1;33m\u001b[0m\u001b[0m\n\u001b[0m\u001b[0;32m     71\u001b[0m         \u001b[1;32mfinally\u001b[0m\u001b[1;33m:\u001b[0m\u001b[1;33m\u001b[0m\u001b[1;33m\u001b[0m\u001b[0m\n\u001b[0;32m     72\u001b[0m             \u001b[1;32mdel\u001b[0m \u001b[0mfiltered_tb\u001b[0m\u001b[1;33m\u001b[0m\u001b[1;33m\u001b[0m\u001b[0m\n",
      "\u001b[1;32m~\\anaconda3\\lib\\site-packages\\tensorflow\\python\\eager\\execute.py\u001b[0m in \u001b[0;36mquick_execute\u001b[1;34m(op_name, num_outputs, inputs, attrs, ctx, name)\u001b[0m\n\u001b[0;32m     50\u001b[0m   \u001b[1;32mtry\u001b[0m\u001b[1;33m:\u001b[0m\u001b[1;33m\u001b[0m\u001b[1;33m\u001b[0m\u001b[0m\n\u001b[0;32m     51\u001b[0m     \u001b[0mctx\u001b[0m\u001b[1;33m.\u001b[0m\u001b[0mensure_initialized\u001b[0m\u001b[1;33m(\u001b[0m\u001b[1;33m)\u001b[0m\u001b[1;33m\u001b[0m\u001b[1;33m\u001b[0m\u001b[0m\n\u001b[1;32m---> 52\u001b[1;33m     tensors = pywrap_tfe.TFE_Py_Execute(ctx._handle, device_name, op_name,\n\u001b[0m\u001b[0;32m     53\u001b[0m                                         inputs, attrs, num_outputs)\n\u001b[0;32m     54\u001b[0m   \u001b[1;32mexcept\u001b[0m \u001b[0mcore\u001b[0m\u001b[1;33m.\u001b[0m\u001b[0m_NotOkStatusException\u001b[0m \u001b[1;32mas\u001b[0m \u001b[0me\u001b[0m\u001b[1;33m:\u001b[0m\u001b[1;33m\u001b[0m\u001b[1;33m\u001b[0m\u001b[0m\n",
      "\u001b[1;31mInvalidArgumentError\u001b[0m: Graph execution error:\n\nDetected at node 'SquaredDifference' defined at (most recent call last):\n    File \"C:\\Users\\salih\\anaconda3\\lib\\runpy.py\", line 197, in _run_module_as_main\n      return _run_code(code, main_globals, None,\n    File \"C:\\Users\\salih\\anaconda3\\lib\\runpy.py\", line 87, in _run_code\n      exec(code, run_globals)\n    File \"C:\\Users\\salih\\anaconda3\\lib\\site-packages\\ipykernel_launcher.py\", line 17, in <module>\n      app.launch_new_instance()\n    File \"C:\\Users\\salih\\anaconda3\\lib\\site-packages\\traitlets\\config\\application.py\", line 846, in launch_instance\n      app.start()\n    File \"C:\\Users\\salih\\anaconda3\\lib\\site-packages\\ipykernel\\kernelapp.py\", line 712, in start\n      self.io_loop.start()\n    File \"C:\\Users\\salih\\anaconda3\\lib\\site-packages\\tornado\\platform\\asyncio.py\", line 199, in start\n      self.asyncio_loop.run_forever()\n    File \"C:\\Users\\salih\\anaconda3\\lib\\asyncio\\base_events.py\", line 601, in run_forever\n      self._run_once()\n    File \"C:\\Users\\salih\\anaconda3\\lib\\asyncio\\base_events.py\", line 1905, in _run_once\n      handle._run()\n    File \"C:\\Users\\salih\\anaconda3\\lib\\asyncio\\events.py\", line 80, in _run\n      self._context.run(self._callback, *self._args)\n    File \"C:\\Users\\salih\\anaconda3\\lib\\site-packages\\ipykernel\\kernelbase.py\", line 510, in dispatch_queue\n      await self.process_one()\n    File \"C:\\Users\\salih\\anaconda3\\lib\\site-packages\\ipykernel\\kernelbase.py\", line 499, in process_one\n      await dispatch(*args)\n    File \"C:\\Users\\salih\\anaconda3\\lib\\site-packages\\ipykernel\\kernelbase.py\", line 406, in dispatch_shell\n      await result\n    File \"C:\\Users\\salih\\anaconda3\\lib\\site-packages\\ipykernel\\kernelbase.py\", line 730, in execute_request\n      reply_content = await reply_content\n    File \"C:\\Users\\salih\\anaconda3\\lib\\site-packages\\ipykernel\\ipkernel.py\", line 390, in do_execute\n      res = shell.run_cell(code, store_history=store_history, silent=silent)\n    File \"C:\\Users\\salih\\anaconda3\\lib\\site-packages\\ipykernel\\zmqshell.py\", line 528, in run_cell\n      return super().run_cell(*args, **kwargs)\n    File \"C:\\Users\\salih\\anaconda3\\lib\\site-packages\\IPython\\core\\interactiveshell.py\", line 2914, in run_cell\n      result = self._run_cell(\n    File \"C:\\Users\\salih\\anaconda3\\lib\\site-packages\\IPython\\core\\interactiveshell.py\", line 2960, in _run_cell\n      return runner(coro)\n    File \"C:\\Users\\salih\\anaconda3\\lib\\site-packages\\IPython\\core\\async_helpers.py\", line 78, in _pseudo_sync_runner\n      coro.send(None)\n    File \"C:\\Users\\salih\\anaconda3\\lib\\site-packages\\IPython\\core\\interactiveshell.py\", line 3185, in run_cell_async\n      has_raised = await self.run_ast_nodes(code_ast.body, cell_name,\n    File \"C:\\Users\\salih\\anaconda3\\lib\\site-packages\\IPython\\core\\interactiveshell.py\", line 3377, in run_ast_nodes\n      if (await self.run_code(code, result,  async_=asy)):\n    File \"C:\\Users\\salih\\anaconda3\\lib\\site-packages\\IPython\\core\\interactiveshell.py\", line 3457, in run_code\n      exec(code_obj, self.user_global_ns, self.user_ns)\n    File \"C:\\Users\\salih\\AppData\\Local\\Temp\\ipykernel_7536\\3162525477.py\", line 1, in <module>\n      model_2.evaluate(X_val,y_val[:,0])\n    File \"C:\\Users\\salih\\anaconda3\\lib\\site-packages\\keras\\utils\\traceback_utils.py\", line 65, in error_handler\n      return fn(*args, **kwargs)\n    File \"C:\\Users\\salih\\anaconda3\\lib\\site-packages\\keras\\engine\\training.py\", line 2040, in evaluate\n      tmp_logs = self.test_function(iterator)\n    File \"C:\\Users\\salih\\anaconda3\\lib\\site-packages\\keras\\engine\\training.py\", line 1820, in test_function\n      return step_function(self, iterator)\n    File \"C:\\Users\\salih\\anaconda3\\lib\\site-packages\\keras\\engine\\training.py\", line 1804, in step_function\n      outputs = model.distribute_strategy.run(run_step, args=(data,))\n    File \"C:\\Users\\salih\\anaconda3\\lib\\site-packages\\keras\\engine\\training.py\", line 1792, in run_step\n      outputs = model.test_step(data)\n    File \"C:\\Users\\salih\\anaconda3\\lib\\site-packages\\keras\\engine\\training.py\", line 1759, in test_step\n      return self.compute_metrics(x, y, y_pred, sample_weight)\n    File \"C:\\Users\\salih\\anaconda3\\lib\\site-packages\\keras\\engine\\training.py\", line 1122, in compute_metrics\n      self.compiled_metrics.update_state(y, y_pred, sample_weight)\n    File \"C:\\Users\\salih\\anaconda3\\lib\\site-packages\\keras\\engine\\compile_utils.py\", line 605, in update_state\n      metric_obj.update_state(y_t, y_p, sample_weight=mask)\n    File \"C:\\Users\\salih\\anaconda3\\lib\\site-packages\\keras\\utils\\metrics_utils.py\", line 77, in decorated\n      update_op = update_state_fn(*args, **kwargs)\n    File \"C:\\Users\\salih\\anaconda3\\lib\\site-packages\\keras\\metrics\\base_metric.py\", line 140, in update_state_fn\n      return ag_update_state(*args, **kwargs)\n    File \"C:\\Users\\salih\\anaconda3\\lib\\site-packages\\keras\\metrics\\metrics.py\", line 2502, in update_state\n      error_sq = tf.math.squared_difference(y_pred, y_true)\nNode: 'SquaredDifference'\nIncompatible shapes: [32] vs. [32,2]\n\t [[{{node SquaredDifference}}]] [Op:__inference_test_function_1408771]"
     ]
    }
   ],
   "source": [
    "model_2.evaluate(X_val,y_val[:,0])"
   ]
  },
  {
   "cell_type": "code",
   "execution_count": 78,
   "id": "e374bf14",
   "metadata": {},
   "outputs": [
    {
     "data": {
      "text/plain": [
       "(array([ 13.,  -0., -98.]), [1, 88, 66, 74])"
      ]
     },
     "execution_count": 78,
     "metadata": {},
     "output_type": "execute_result"
    }
   ],
   "source": [
    "T1=np.random.randint(0,91)\n",
    "T2=np.random.randint(0,91)\n",
    "T3=np.random.randint(0,91)\n",
    "T4=np.random.randint(0,91)  \n",
    "fk_true=forward_kinematics(T1,T2,T3,T4)[:3,3]\n",
    "fk_true, [T1,T2,T3,T4]"
   ]
  },
  {
   "cell_type": "code",
   "execution_count": 79,
   "id": "855bdc66",
   "metadata": {},
   "outputs": [],
   "source": [
    "predict=[]\n",
    "r=np.sqrt(np.square(fk_true[0])+np.square(fk_true[1]))\n",
    "predict=[r, fk[2]-95.]"
   ]
  },
  {
   "cell_type": "code",
   "execution_count": 80,
   "id": "14b831f5",
   "metadata": {
    "scrolled": true
   },
   "outputs": [
    {
     "data": {
      "text/plain": [
       "[0.035300550839106104, 0.26865330520393815, 0.9777777777777777]"
      ]
     },
     "execution_count": 80,
     "metadata": {},
     "output_type": "execute_result"
    }
   ],
   "source": [
    "ala=[]\n",
    "ala.append(lerp(1,0,invlerp(r_max, r_min, predict[0])))\n",
    "ala.append(lerp(1,0,invlerp(z_max, z_min, predict[1])))\n",
    "ala.append(T2/90)\n",
    "ala"
   ]
  },
  {
   "cell_type": "code",
   "execution_count": 81,
   "id": "ecdfd341",
   "metadata": {},
   "outputs": [
    {
     "name": "stdout",
     "output_type": "stream",
     "text": [
      "1/1 [==============================] - 0s 56ms/step\n"
     ]
    },
    {
     "data": {
      "text/plain": [
       "array([[0.0255692, 0.0610252]], dtype=float32)"
      ]
     },
     "execution_count": 81,
     "metadata": {},
     "output_type": "execute_result"
    }
   ],
   "source": [
    "output=model_2.predict(np.array([ala]))\n",
    "output"
   ]
  },
  {
   "cell_type": "code",
   "execution_count": 82,
   "id": "54963d83",
   "metadata": {},
   "outputs": [
    {
     "data": {
      "text/plain": [
       "array([2., 5.], dtype=float32)"
      ]
     },
     "execution_count": 82,
     "metadata": {},
     "output_type": "execute_result"
    }
   ],
   "source": [
    "out=np.round(output*90)[0]\n",
    "out"
   ]
  },
  {
   "cell_type": "code",
   "execution_count": 83,
   "id": "3596d47c",
   "metadata": {},
   "outputs": [
    {
     "data": {
      "text/plain": [
       "(array([367.,  -6.,  83.]), array([ 13.,  -0., -98.]))"
      ]
     },
     "execution_count": 83,
     "metadata": {},
     "output_type": "execute_result"
    }
   ],
   "source": [
    "fk=forward_kinematics(T1,T2,out[0],out[1])[:3,3]\n",
    "fk, fk_true"
   ]
  },
  {
   "cell_type": "code",
   "execution_count": null,
   "id": "b33f1ca1",
   "metadata": {},
   "outputs": [],
   "source": []
  },
  {
   "cell_type": "code",
   "execution_count": null,
   "id": "bc3727a6",
   "metadata": {},
   "outputs": [],
   "source": []
  }
 ],
 "metadata": {
  "kernelspec": {
   "display_name": "Python 3 (ipykernel)",
   "language": "python",
   "name": "python3"
  },
  "language_info": {
   "codemirror_mode": {
    "name": "ipython",
    "version": 3
   },
   "file_extension": ".py",
   "mimetype": "text/x-python",
   "name": "python",
   "nbconvert_exporter": "python",
   "pygments_lexer": "ipython3",
   "version": "3.9.13"
  }
 },
 "nbformat": 4,
 "nbformat_minor": 5
}
