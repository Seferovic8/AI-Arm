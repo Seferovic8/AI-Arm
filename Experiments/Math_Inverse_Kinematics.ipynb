{
 "cells": [
  {
   "cell_type": "markdown",
   "id": "81d7ebe3",
   "metadata": {},
   "source": [
    "# Math Inverse Kinematics"
   ]
  },
  {
   "cell_type": "code",
   "execution_count": 4,
   "id": "9f8cefac",
   "metadata": {},
   "outputs": [],
   "source": [
    "# Import essential modules\n",
    "import numpy as np\n",
    "from forward_kinematics import forward_kinematics"
   ]
  },
  {
   "cell_type": "markdown",
   "id": "6ef3ad28",
   "metadata": {},
   "source": [
    "## Create task what we'll solve"
   ]
  },
  {
   "cell_type": "code",
   "execution_count": 79,
   "id": "df2003bd",
   "metadata": {},
   "outputs": [],
   "source": [
    "fT1=-74\n",
    "fT2=31\n",
    "fT3=19\n",
    "fT4=71"
   ]
  },
  {
   "cell_type": "code",
   "execution_count": 80,
   "id": "4ccdff3f",
   "metadata": {},
   "outputs": [],
   "source": [
    "def cos(t):\n",
    "    return np.cos(np.deg2rad(t))\n",
    "def sin(t):\n",
    "    return np.sin(np.deg2rad(t))"
   ]
  },
  {
   "cell_type": "code",
   "execution_count": 81,
   "id": "83b619a5",
   "metadata": {},
   "outputs": [
    {
     "data": {
      "text/plain": [
       "array([ 75., 261., 151.])"
      ]
     },
     "execution_count": 81,
     "metadata": {},
     "output_type": "execute_result"
    }
   ],
   "source": [
    "fk = forward_kinematics(fT1,fT2,fT3,fT4)[:3,3]\n",
    "fk"
   ]
  },
  {
   "cell_type": "code",
   "execution_count": 82,
   "id": "1d1aa7ca",
   "metadata": {},
   "outputs": [],
   "source": [
    "dx=fk[0]\n",
    "dy=fk[1]\n",
    "dz=fk[2]"
   ]
  },
  {
   "cell_type": "code",
   "execution_count": 83,
   "id": "de12cf3c",
   "metadata": {},
   "outputs": [
    {
     "data": {
      "text/plain": [
       "(75.0, 261.0, 151.0)"
      ]
     },
     "execution_count": 83,
     "metadata": {},
     "output_type": "execute_result"
    }
   ],
   "source": [
    "dx,dy,dz"
   ]
  },
  {
   "cell_type": "markdown",
   "id": "c728e3ba",
   "metadata": {},
   "source": [
    "## Use math to solve IK"
   ]
  },
  {
   "cell_type": "markdown",
   "id": "72705eef",
   "metadata": {},
   "source": [
    "### Theta 1"
   ]
  },
  {
   "cell_type": "code",
   "execution_count": 84,
   "id": "f782ef8f",
   "metadata": {},
   "outputs": [
    {
     "data": {
      "text/plain": [
       "-74.0"
      ]
     },
     "execution_count": 84,
     "metadata": {},
     "output_type": "execute_result"
    }
   ],
   "source": [
    "T1= np.arctan(dy/dx)\n",
    "T1=np.round(np.degrees(-T1))\n",
    "T1"
   ]
  },
  {
   "cell_type": "markdown",
   "id": "c674beeb",
   "metadata": {},
   "source": [
    "### Theta 3"
   ]
  },
  {
   "cell_type": "code",
   "execution_count": 85,
   "id": "4c03b3ba",
   "metadata": {},
   "outputs": [],
   "source": [
    "l1=104.\n",
    "l2=89.\n",
    "l3=175.\n",
    "a1=95.\n",
    "fi=fT2+fT3+fT4\n",
    "eT2=(90-fT2)\n",
    "eT3=(90-fT3)+eT2\n",
    "eT4=(90-fT4)+eT3\n",
    "#dz=dz-95"
   ]
  },
  {
   "cell_type": "code",
   "execution_count": 86,
   "id": "9fdcae87",
   "metadata": {},
   "outputs": [
    {
     "data": {
      "text/plain": [
       "(59, 130, 149)"
      ]
     },
     "execution_count": 86,
     "metadata": {},
     "output_type": "execute_result"
    }
   ],
   "source": [
    "eT2,eT3,eT4"
   ]
  },
  {
   "cell_type": "code",
   "execution_count": 87,
   "id": "342bd758",
   "metadata": {},
   "outputs": [
    {
     "data": {
      "text/plain": [
       "271.56214758320056"
      ]
     },
     "execution_count": 87,
     "metadata": {},
     "output_type": "execute_result"
    }
   ],
   "source": [
    "# Calculate r\n",
    "r = np.sqrt(dx**2+dy**2)\n",
    "r"
   ]
  },
  {
   "cell_type": "code",
   "execution_count": 88,
   "id": "8c0a9aa4",
   "metadata": {},
   "outputs": [
    {
     "data": {
      "text/plain": [
       "53.56395979064563"
      ]
     },
     "execution_count": 88,
     "metadata": {},
     "output_type": "execute_result"
    }
   ],
   "source": [
    "# Calculate r1 if we know fT2\n",
    "r1 = cos(eT2)*l1\n",
    "r1"
   ]
  },
  {
   "cell_type": "code",
   "execution_count": 89,
   "id": "f7913360",
   "metadata": {},
   "outputs": [
    {
     "data": {
      "text/plain": [
       "217.99818779255492"
      ]
     },
     "execution_count": 89,
     "metadata": {},
     "output_type": "execute_result"
    }
   ],
   "source": [
    "# Calcualte r2\n",
    "r2 = r-r1\n",
    "r2"
   ]
  },
  {
   "cell_type": "code",
   "execution_count": 90,
   "id": "2f8c42cd",
   "metadata": {},
   "outputs": [
    {
     "data": {
      "text/plain": [
       "89.14539927301968"
      ]
     },
     "execution_count": 90,
     "metadata": {},
     "output_type": "execute_result"
    }
   ],
   "source": [
    "# Find t\n",
    "t = sin(eT2)*l1\n",
    "t"
   ]
  },
  {
   "cell_type": "code",
   "execution_count": 91,
   "id": "bafb8064",
   "metadata": {},
   "outputs": [
    {
     "data": {
      "text/plain": [
       "33.14539927301968"
      ]
     },
     "execution_count": 91,
     "metadata": {},
     "output_type": "execute_result"
    }
   ],
   "source": [
    "t1=t-(dz-95)\n",
    "t1"
   ]
  },
  {
   "cell_type": "code",
   "execution_count": 92,
   "id": "73dd82f1",
   "metadata": {},
   "outputs": [
    {
     "data": {
      "text/plain": [
       "81.35471207952756"
      ]
     },
     "execution_count": 92,
     "metadata": {},
     "output_type": "execute_result"
    }
   ],
   "source": [
    "alpha1=np.arctan(r2/t1)\n",
    "alpha1=np.degrees(alpha1)\n",
    "alpha1"
   ]
  },
  {
   "cell_type": "code",
   "execution_count": 93,
   "id": "4964f6ee",
   "metadata": {},
   "outputs": [
    {
     "data": {
      "text/plain": [
       "220.5035767823414"
      ]
     },
     "execution_count": 93,
     "metadata": {},
     "output_type": "execute_result"
    }
   ],
   "source": [
    "b=np.sqrt(t1**2+r2**2)\n",
    "b"
   ]
  },
  {
   "cell_type": "code",
   "execution_count": 94,
   "id": "f20dc9af",
   "metadata": {},
   "outputs": [
    {
     "data": {
      "text/plain": [
       "660.3329246975518"
      ]
     },
     "execution_count": 94,
     "metadata": {},
     "output_type": "execute_result"
    }
   ],
   "source": [
    "operation1=(l2**2+b**2-l3**2)/(2*l2*b)\n",
    "operation1*1000"
   ]
  },
  {
   "cell_type": "code",
   "execution_count": 95,
   "id": "b05ab411",
   "metadata": {},
   "outputs": [
    {
     "data": {
      "text/plain": [
       "48.67473153556754"
      ]
     },
     "execution_count": 95,
     "metadata": {},
     "output_type": "execute_result"
    }
   ],
   "source": [
    "alpha2=np.arccos((l2**2+b**2-l3**2)/(2*l2*b))\n",
    "alpha2=np.degrees(alpha2)\n",
    "alpha2"
   ]
  },
  {
   "cell_type": "code",
   "execution_count": 96,
   "id": "1c27319b",
   "metadata": {},
   "outputs": [
    {
     "data": {
      "text/plain": [
       "19.0"
      ]
     },
     "execution_count": 96,
     "metadata": {},
     "output_type": "execute_result"
    }
   ],
   "source": [
    "T3=180-(alpha1+alpha2+fT2)\n",
    "T3=np.round(T3)\n",
    "T3"
   ]
  },
  {
   "cell_type": "code",
   "execution_count": 97,
   "id": "01052935",
   "metadata": {},
   "outputs": [
    {
     "name": "stdout",
     "output_type": "stream",
     "text": [
      "19.0\n"
     ]
    }
   ],
   "source": [
    "if(t1>0):\n",
    "    T3=180-(alpha1+alpha2+fT2)\n",
    "    T3=np.round(T3)\n",
    "    print(T3)\n",
    "else:\n",
    "    T3=alpha1+alpha2+fT2\n",
    "    T3=abs(np.round(T3))\n",
    "    print(T3)"
   ]
  },
  {
   "cell_type": "markdown",
   "id": "bdb4a7ab",
   "metadata": {},
   "source": [
    "### Theta 4"
   ]
  },
  {
   "cell_type": "code",
   "execution_count": 98,
   "id": "bd2f6f25",
   "metadata": {},
   "outputs": [
    {
     "data": {
      "text/plain": [
       "108.87239466557408"
      ]
     },
     "execution_count": 98,
     "metadata": {},
     "output_type": "execute_result"
    }
   ],
   "source": [
    "T4=np.arccos((l2**2+l3**2-b**2)/(2*l2*l3))\n",
    "T4=np.degrees(T4)\n",
    "T4"
   ]
  },
  {
   "cell_type": "code",
   "execution_count": 99,
   "id": "b4687154",
   "metadata": {},
   "outputs": [
    {
     "data": {
      "text/plain": [
       "71.0"
      ]
     },
     "execution_count": 99,
     "metadata": {},
     "output_type": "execute_result"
    }
   ],
   "source": [
    "T4=180-T4\n",
    "T4=np.round(T4)\n",
    "T4"
   ]
  },
  {
   "cell_type": "code",
   "execution_count": 100,
   "id": "13e3e84a",
   "metadata": {},
   "outputs": [
    {
     "name": "stdout",
     "output_type": "stream",
     "text": [
      "Pred T1:-74.0, T2:31, T3:19.0 ,T4:71.0\n",
      "True: T1:-74, T2:31, T3:19 ,T4:71\n",
      "Jesu li isti: True\n"
     ]
    }
   ],
   "source": [
    "print(f\"Pred T1:{T1}, T2:{fT2}, T3:{T3} ,T4:{T4}\")\n",
    "print(f\"True: T1:{fT1}, T2:{fT2}, T3:{fT3} ,T4:{fT4}\")\n",
    "print(f\"Jesu li isti: {[T1,fT2,T3,T4]==[fT1,fT2,fT3,fT4]}\")"
   ]
  },
  {
   "cell_type": "markdown",
   "id": "b5090f5a",
   "metadata": {},
   "source": [
    "## Make functons for IK"
   ]
  },
  {
   "cell_type": "code",
   "execution_count": 836,
   "id": "41c58987",
   "metadata": {},
   "outputs": [],
   "source": [
    "def finder(fk, i):\n",
    "    dx,dy,dz=fk\n",
    "    eT2=(90-i)\n",
    "    l1=104.\n",
    "    l2=89.\n",
    "    l3=175.\n",
    "    r = np.sqrt(dx**2+dy**2)\n",
    "    r1 = cos(eT2)*l1\n",
    "    r2 = r-r1\n",
    "    t = sin(eT2)*l1\n",
    "    t1=t-(dz-95)\n",
    "    if(t1!=0):        \n",
    "        alpha1=np.arctan(r2/t1)\n",
    "        alpha1=np.degrees(alpha1)\n",
    "    else:\n",
    "        alpha1=0\n",
    "    b=np.sqrt(t1**2+r2**2)\n",
    "    operation1=(l2**2+b**2-l3**2)/(2*l2*b)\n",
    "    operation2=(l2**2+l3**2-b**2)/(2*l2*l3)\n",
    "    if(int(operation1*1000)>1000 or operation1<0):\n",
    "        raise Exception() \n",
    "    if(int(operation1*1000)==1000):\n",
    "        operation1=np.round(operation1)\n",
    "        operation2=np.round(operation2)\n",
    "\n",
    "    alpha2=np.arccos(operation1)\n",
    "    alpha2=np.degrees(alpha2)\n",
    "    if(t1>0):\n",
    "        T3=180-(alpha1+alpha2+i)\n",
    "        T3=np.round(T3)\n",
    "    else:\n",
    "        T3=alpha1+alpha2+i\n",
    "        T3=abs(np.round(T3))\n",
    "    T4=np.arccos(operation2)\n",
    "    T4=np.degrees(T4)\n",
    "    T4=180-T4\n",
    "    T4=np.round(T4)\n",
    "\n",
    "    return T3, T4\n",
    "\n",
    "def find_T2(T1,fk_true):\n",
    "\n",
    "    mae={}\n",
    "    for i in range(91):\n",
    "        try:\n",
    "            T3, T4 = finder(fk_true, i)\n",
    "            fk =forward_kinematics(T1,i,T3,T4)[:3,3]\n",
    "\n",
    "            if (np.array_equal(fk_true,fk)):\n",
    "                return i, T3, T4\n",
    "\n",
    "        except:\n",
    "            pass\n",
    "                \n",
    "def calculate_inverse_kineamtics(fk):\n",
    "    dx,dy,dz=fk\n",
    "    # Find T1\n",
    "    if(dx==0.):\n",
    "        T1=90\n",
    "    else:\n",
    "        T1= np.arctan(dy/dx)\n",
    "        T1=np.degrees(-T1)\n",
    "        T1=np.round(T1)\n",
    "    #Find T3\n",
    "    T2, T3, T4=find_T2(T1,fk)\n",
    "    return T1, T2, T3, T4"
   ]
  },
  {
   "cell_type": "code",
   "execution_count": 837,
   "id": "06fbbf68",
   "metadata": {},
   "outputs": [
    {
     "name": "stdout",
     "output_type": "stream",
     "text": [
      "[ 75. 261. 151.] [-74, 31, 19, 71]\n"
     ]
    }
   ],
   "source": [
    "kT1=-74\n",
    "kT2=31\n",
    "kT3=19\n",
    "kT4=71\n",
    "fk=forward_kinematics(kT1,kT2,kT3,kT4)[:3,3]\n",
    "print(fk, [kT1,kT2,kT3,kT4])"
   ]
  },
  {
   "cell_type": "code",
   "execution_count": 838,
   "id": "99e7efea",
   "metadata": {},
   "outputs": [
    {
     "data": {
      "text/plain": [
       "(-74.0, 8, 81.0, 17.0)"
      ]
     },
     "execution_count": 838,
     "metadata": {},
     "output_type": "execute_result"
    }
   ],
   "source": [
    "result=calculate_inverse_kineamtics(fk)\n",
    "result"
   ]
  },
  {
   "cell_type": "code",
   "execution_count": 839,
   "id": "91b45859",
   "metadata": {},
   "outputs": [
    {
     "data": {
      "text/plain": [
       "(array([ 75., 261., 151.]), array([ 75., 261., 151.]))"
      ]
     },
     "execution_count": 839,
     "metadata": {},
     "output_type": "execute_result"
    }
   ],
   "source": [
    "forward_kinematics(result[0],result[1],result[2],result[3])[:3,3], fk"
   ]
  },
  {
   "cell_type": "code",
   "execution_count": 840,
   "id": "262b1b64",
   "metadata": {},
   "outputs": [],
   "source": [
    "y_true=[]\n",
    "y_pred=[]\n",
    "for i in range(5000):\n",
    "    try:\n",
    "        T1=np.random.randint(-90,91)\n",
    "        T2=np.random.randint(0,91)\n",
    "        T3=np.random.randint(0,91)\n",
    "        T4=np.random.randint(0,91)       \n",
    "        fk=forward_kinematics(T1,T2,T3,T4)[:3,3]\n",
    "        result=calculate_inverse_kineamtics(fk)\n",
    "        y_true.append(fk)\n",
    "        y_pred.append(forward_kinematics(result[0],result[1],result[2],result[3])[:3,3])\n",
    "    except:\n",
    "        pass"
   ]
  },
  {
   "cell_type": "code",
   "execution_count": 841,
   "id": "a7b04706",
   "metadata": {},
   "outputs": [
    {
     "data": {
      "text/plain": [
       "0.0"
      ]
     },
     "execution_count": 841,
     "metadata": {},
     "output_type": "execute_result"
    }
   ],
   "source": [
    "\n",
    "from sklearn.metrics import mean_absolute_error \n",
    "mean_absolute_error(y_true,y_pred)"
   ]
  },
  {
   "cell_type": "code",
   "execution_count": 843,
   "id": "a940b6e0",
   "metadata": {},
   "outputs": [
    {
     "name": "stdout",
     "output_type": "stream",
     "text": [
      "Pred T1:-54.0, T2:73, T3:42.0 ,T4:28.0\n",
      "True: T1:-54, T2:69, T3:64 ,T4:2\n",
      "Jesu li isti: True\n"
     ]
    },
    {
     "data": {
      "text/plain": [
       "(array([168., 231., -52.]), array([168., 231., -52.]))"
      ]
     },
     "execution_count": 843,
     "metadata": {},
     "output_type": "execute_result"
    }
   ],
   "source": [
    "T1=np.random.randint(-90,91)\n",
    "T2=np.random.randint(0,91)\n",
    "T3=np.random.randint(0,91)\n",
    "T4=np.random.randint(0,91)       \n",
    "fk=forward_kinematics(T1,T2,T3,T4)[:3,3]\n",
    "result=calculate_inverse_kineamtics(fk)\n",
    "print(f\"Pred T1:{result[0]}, T2:{result[1]}, T3:{result[2]} ,T4:{result[3]}\")\n",
    "print(f\"True: T1:{T1}, T2:{T2}, T3:{T3} ,T4:{T4}\")\n",
    "fk_pred=forward_kinematics(result[0],result[1],result[2],result[3])[:3,3]\n",
    "print(f\"Jesu li isti: {np.array_equal(fk_pred,fk)}\")\n",
    "fk_pred, fk\n"
   ]
  },
  {
   "cell_type": "code",
   "execution_count": 844,
   "id": "9446c73c",
   "metadata": {},
   "outputs": [
    {
     "name": "stdout",
     "output_type": "stream",
     "text": [
      "0\n"
     ]
    }
   ],
   "source": [
    "k=0\n",
    "for i in range(50000):\n",
    "    try:\n",
    "        T1=np.random.randint(-90,91)\n",
    "        T2=np.random.randint(0,91)\n",
    "        T3=np.random.randint(0,91)\n",
    "        T4=np.random.randint(0,91)       \n",
    "        fk=forward_kinematics(T1,T2,T3,T4)[:3,3]\n",
    "        result=calculate_inverse_kineamtics(fk)\n",
    "        fk_pred=forward_kinematics(result[0],result[1],result[2],result[3])[:3,3]\n",
    "        if(np.array_equal(fk_pred,fk)==False):\n",
    "            #print(\"false\")\n",
    "            k+=1\n",
    "    except:\n",
    "        pass\n",
    "print(k)"
   ]
  },
  {
   "cell_type": "code",
   "execution_count": null,
   "id": "ac2ffe22",
   "metadata": {},
   "outputs": [],
   "source": []
  }
 ],
 "metadata": {
  "kernelspec": {
   "display_name": "Python 3 (ipykernel)",
   "language": "python",
   "name": "python3"
  },
  "language_info": {
   "codemirror_mode": {
    "name": "ipython",
    "version": 3
   },
   "file_extension": ".py",
   "mimetype": "text/x-python",
   "name": "python",
   "nbconvert_exporter": "python",
   "pygments_lexer": "ipython3",
   "version": "3.9.13"
  }
 },
 "nbformat": 4,
 "nbformat_minor": 5
}
