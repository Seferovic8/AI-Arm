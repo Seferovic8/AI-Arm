{
 "cells": [
  {
   "cell_type": "markdown",
   "id": "81d7ebe3",
   "metadata": {},
   "source": [
    "# Math Inverse Kinematics"
   ]
  },
  {
   "cell_type": "code",
   "execution_count": 1,
   "id": "9f8cefac",
   "metadata": {},
   "outputs": [],
   "source": [
    "# Import essential modules\n",
    "import numpy as np\n",
    "from forward_kinematics import forward_kinematics"
   ]
  },
  {
   "cell_type": "markdown",
   "id": "6ef3ad28",
   "metadata": {},
   "source": [
    "## Create task what we'll solve"
   ]
  },
  {
   "cell_type": "code",
   "execution_count": 2,
   "id": "df2003bd",
   "metadata": {},
   "outputs": [
    {
     "data": {
      "text/plain": [
       "156"
      ]
     },
     "execution_count": 2,
     "metadata": {},
     "output_type": "execute_result"
    }
   ],
   "source": [
    "fT1=0\n",
    "fT2=25\n",
    "fT3=82\n",
    "fT4=49\n",
    "fT2+fT3+fT4"
   ]
  },
  {
   "cell_type": "code",
   "execution_count": 3,
   "id": "4ccdff3f",
   "metadata": {},
   "outputs": [],
   "source": [
    "def cos(t):\n",
    "    return np.cos(np.deg2rad(t))\n",
    "def sin(t):\n",
    "    return np.sin(np.deg2rad(t))"
   ]
  },
  {
   "cell_type": "code",
   "execution_count": 4,
   "id": "83b619a5",
   "metadata": {},
   "outputs": [
    {
     "data": {
      "text/plain": [
       "array([200.,  -0.,   3.])"
      ]
     },
     "execution_count": 4,
     "metadata": {},
     "output_type": "execute_result"
    }
   ],
   "source": [
    "fk = forward_kinematics(fT1,fT2,fT3,fT4)[:3,3]\n",
    "fk"
   ]
  },
  {
   "cell_type": "code",
   "execution_count": 5,
   "id": "1d1aa7ca",
   "metadata": {},
   "outputs": [],
   "source": [
    "dx=fk[0]\n",
    "dy=fk[1]\n",
    "dz=fk[2]"
   ]
  },
  {
   "cell_type": "code",
   "execution_count": 6,
   "id": "de12cf3c",
   "metadata": {},
   "outputs": [
    {
     "data": {
      "text/plain": [
       "(200.0, -0.0, 3.0)"
      ]
     },
     "execution_count": 6,
     "metadata": {},
     "output_type": "execute_result"
    }
   ],
   "source": [
    "dx,dy,dz"
   ]
  },
  {
   "cell_type": "markdown",
   "id": "c728e3ba",
   "metadata": {},
   "source": [
    "## Use math to solve IK"
   ]
  },
  {
   "cell_type": "markdown",
   "id": "72705eef",
   "metadata": {},
   "source": [
    "### Theta 1"
   ]
  },
  {
   "cell_type": "code",
   "execution_count": 7,
   "id": "f782ef8f",
   "metadata": {},
   "outputs": [
    {
     "data": {
      "text/plain": [
       "0.0"
      ]
     },
     "execution_count": 7,
     "metadata": {},
     "output_type": "execute_result"
    }
   ],
   "source": [
    "T1= np.arctan(dy/dx)\n",
    "T1=np.round(np.degrees(-T1))\n",
    "T1"
   ]
  },
  {
   "cell_type": "markdown",
   "id": "c674beeb",
   "metadata": {},
   "source": [
    "### Theta 3"
   ]
  },
  {
   "cell_type": "code",
   "execution_count": 7,
   "id": "4c03b3ba",
   "metadata": {},
   "outputs": [],
   "source": [
    "l1=104.\n",
    "l2=89.\n",
    "l3=175.\n",
    "a1=95.\n",
    "fi=fT2+fT3+fT4\n",
    "eT2=(90-fT2)\n",
    "eT3=(90-fT3)+eT2\n",
    "eT4=(90-fT4)+eT3\n",
    "#dz=dz-95"
   ]
  },
  {
   "cell_type": "code",
   "execution_count": 9,
   "id": "9fdcae87",
   "metadata": {},
   "outputs": [
    {
     "data": {
      "text/plain": [
       "(65, 73, 114)"
      ]
     },
     "execution_count": 9,
     "metadata": {},
     "output_type": "execute_result"
    }
   ],
   "source": [
    "eT2,eT3,eT4"
   ]
  },
  {
   "cell_type": "code",
   "execution_count": 10,
   "id": "342bd758",
   "metadata": {},
   "outputs": [
    {
     "data": {
      "text/plain": [
       "200.0"
      ]
     },
     "execution_count": 10,
     "metadata": {},
     "output_type": "execute_result"
    }
   ],
   "source": [
    "# Calculate r\n",
    "r = np.sqrt(dx**2+dy**2)\n",
    "r"
   ]
  },
  {
   "cell_type": "code",
   "execution_count": 11,
   "id": "8c0a9aa4",
   "metadata": {},
   "outputs": [
    {
     "data": {
      "text/plain": [
       "43.95229922103274"
      ]
     },
     "execution_count": 11,
     "metadata": {},
     "output_type": "execute_result"
    }
   ],
   "source": [
    "# Calculate r1 if we know fT2\n",
    "r1 = cos(eT2)*l1\n",
    "r1"
   ]
  },
  {
   "cell_type": "code",
   "execution_count": 12,
   "id": "f7913360",
   "metadata": {},
   "outputs": [
    {
     "data": {
      "text/plain": [
       "156.04770077896725"
      ]
     },
     "execution_count": 12,
     "metadata": {},
     "output_type": "execute_result"
    }
   ],
   "source": [
    "# Calcualte r2\n",
    "r2 = r-r1\n",
    "r2"
   ]
  },
  {
   "cell_type": "code",
   "execution_count": 13,
   "id": "2f8c42cd",
   "metadata": {},
   "outputs": [
    {
     "data": {
      "text/plain": [
       "94.2560098518116"
      ]
     },
     "execution_count": 13,
     "metadata": {},
     "output_type": "execute_result"
    }
   ],
   "source": [
    "# Find t\n",
    "t = sin(eT2)*l1\n",
    "t"
   ]
  },
  {
   "cell_type": "code",
   "execution_count": 14,
   "id": "bafb8064",
   "metadata": {},
   "outputs": [
    {
     "data": {
      "text/plain": [
       "186.2560098518116"
      ]
     },
     "execution_count": 14,
     "metadata": {},
     "output_type": "execute_result"
    }
   ],
   "source": [
    "t1=t-(dz-95)\n",
    "t1"
   ]
  },
  {
   "cell_type": "code",
   "execution_count": 15,
   "id": "73dd82f1",
   "metadata": {},
   "outputs": [
    {
     "data": {
      "text/plain": [
       "39.95671175835587"
      ]
     },
     "execution_count": 15,
     "metadata": {},
     "output_type": "execute_result"
    }
   ],
   "source": [
    "alpha1=np.arctan(r2/t1)\n",
    "alpha1=np.degrees(alpha1)\n",
    "alpha1"
   ]
  },
  {
   "cell_type": "code",
   "execution_count": 16,
   "id": "4964f6ee",
   "metadata": {},
   "outputs": [
    {
     "data": {
      "text/plain": [
       "242.9859792751842"
      ]
     },
     "execution_count": 16,
     "metadata": {},
     "output_type": "execute_result"
    }
   ],
   "source": [
    "b=np.sqrt(t1**2+r2**2)\n",
    "b"
   ]
  },
  {
   "cell_type": "code",
   "execution_count": 17,
   "id": "f20dc9af",
   "metadata": {},
   "outputs": [
    {
     "data": {
      "text/plain": [
       "840.1600523081219"
      ]
     },
     "execution_count": 17,
     "metadata": {},
     "output_type": "execute_result"
    }
   ],
   "source": [
    "operation1=(l2**2+b**2-l3**2)/(2*l2*b)\n",
    "operation1*1000"
   ]
  },
  {
   "cell_type": "code",
   "execution_count": 18,
   "id": "b05ab411",
   "metadata": {},
   "outputs": [
    {
     "data": {
      "text/plain": [
       "32.84297539052342"
      ]
     },
     "execution_count": 18,
     "metadata": {},
     "output_type": "execute_result"
    }
   ],
   "source": [
    "alpha2=np.arccos((l2**2+b**2-l3**2)/(2*l2*b))\n",
    "alpha2=np.degrees(alpha2)\n",
    "alpha2"
   ]
  },
  {
   "cell_type": "code",
   "execution_count": 19,
   "id": "1c27319b",
   "metadata": {},
   "outputs": [
    {
     "data": {
      "text/plain": [
       "82.0"
      ]
     },
     "execution_count": 19,
     "metadata": {},
     "output_type": "execute_result"
    }
   ],
   "source": [
    "T3=180-(alpha1+alpha2+fT2)\n",
    "T3=np.round(T3)\n",
    "T3"
   ]
  },
  {
   "cell_type": "code",
   "execution_count": 20,
   "id": "01052935",
   "metadata": {},
   "outputs": [
    {
     "name": "stdout",
     "output_type": "stream",
     "text": [
      "82.0\n"
     ]
    }
   ],
   "source": [
    "if(t1>0):\n",
    "    T3=180-(alpha1+alpha2+fT2)\n",
    "    T3=np.round(T3)\n",
    "    print(T3)\n",
    "else:\n",
    "    T3=alpha1+alpha2+fT2\n",
    "    T3=abs(np.round(T3))\n",
    "    print(T3)"
   ]
  },
  {
   "cell_type": "markdown",
   "id": "bdb4a7ab",
   "metadata": {},
   "source": [
    "### Theta 4"
   ]
  },
  {
   "cell_type": "code",
   "execution_count": 21,
   "id": "bd2f6f25",
   "metadata": {},
   "outputs": [
    {
     "data": {
      "text/plain": [
       "131.1462640094422"
      ]
     },
     "execution_count": 21,
     "metadata": {},
     "output_type": "execute_result"
    }
   ],
   "source": [
    "T4=np.arccos((l2**2+l3**2-b**2)/(2*l2*l3))\n",
    "T4=np.degrees(T4)\n",
    "T4"
   ]
  },
  {
   "cell_type": "code",
   "execution_count": 22,
   "id": "b4687154",
   "metadata": {},
   "outputs": [
    {
     "data": {
      "text/plain": [
       "49.0"
      ]
     },
     "execution_count": 22,
     "metadata": {},
     "output_type": "execute_result"
    }
   ],
   "source": [
    "T4=180-T4\n",
    "T4=np.round(T4)\n",
    "T4"
   ]
  },
  {
   "cell_type": "code",
   "execution_count": 23,
   "id": "13e3e84a",
   "metadata": {},
   "outputs": [
    {
     "name": "stdout",
     "output_type": "stream",
     "text": [
      "Pred T1:0.0, T2:25, T3:82.0 ,T4:49.0\n",
      "True: T1:0, T2:25, T3:82 ,T4:49\n",
      "Jesu li isti: True\n"
     ]
    }
   ],
   "source": [
    "print(f\"Pred T1:{T1}, T2:{fT2}, T3:{T3} ,T4:{T4}\")\n",
    "print(f\"True: T1:{fT1}, T2:{fT2}, T3:{fT3} ,T4:{fT4}\")\n",
    "print(f\"Jesu li isti: {[T1,fT2,T3,T4]==[fT1,fT2,fT3,fT4]}\")"
   ]
  },
  {
   "cell_type": "markdown",
   "id": "b5090f5a",
   "metadata": {},
   "source": [
    "## Make functons for IK"
   ]
  },
  {
   "cell_type": "code",
   "execution_count": 7,
   "id": "41c58987",
   "metadata": {},
   "outputs": [],
   "source": [
    "from sklearn.metrics import mean_squared_error\n",
    "\n",
    "def finder(fk, i):\n",
    "    dx,dy,dz=fk\n",
    "    eT2=(90-i)\n",
    "    l1=104.\n",
    "    l2=89.\n",
    "    l3=175.\n",
    "    r = np.sqrt(dx**2+dy**2)\n",
    "    r1 = cos(eT2)*l1\n",
    "    r2 = r-r1\n",
    "    t = sin(eT2)*l1\n",
    "    t1=t-(dz-95)\n",
    "    if(t1!=0):        \n",
    "        alpha1=np.arctan(r2/t1)\n",
    "        alpha1=np.degrees(alpha1)\n",
    "    else:\n",
    "        alpha1=0\n",
    "    b=np.sqrt(t1**2+r2**2)\n",
    "    operation1=(l2**2+b**2-l3**2)/(2*l2*b)\n",
    "    operation2=(l2**2+l3**2-b**2)/(2*l2*l3)\n",
    "    if(int(operation1*100)>100 or int(operation1*100)<-100):\n",
    "        raise Exception() \n",
    "    if(int(operation1*100)==100 or int(operation1*100)==-100):\n",
    "        operation1=np.round(operation1)\n",
    "        \n",
    "    if(int(operation2*100)>100 or int(operation2*100)<-100):\n",
    "        raise Exception() \n",
    "    if(int(operation2*100)==100 or int(operation2*100)==-100):\n",
    "        operation2=np.round(operation2)\n",
    "\n",
    "    alpha2=np.arccos(operation1)\n",
    "    alpha2=np.degrees(alpha2)\n",
    "    if(t1>0):\n",
    "        T3=180-(alpha1+alpha2+i)\n",
    "        T3=np.round(T3)\n",
    "    else:\n",
    "        T3=alpha1+alpha2+i\n",
    "        T3=abs(np.round(T3))\n",
    "    T4=np.arccos(operation2)\n",
    "\n",
    "    T4=np.degrees(T4)\n",
    "    T4=180-T4\n",
    "    T4=np.round(T4)\n",
    "\n",
    "    if T3>90 or T4>90:\n",
    "        raise Exception()\n",
    "    return T3, T4\n",
    "\n",
    "def find_T2(T1,fk_true):\n",
    "\n",
    "    mse={}\n",
    "\n",
    "    for i in range(91):\n",
    "        try:\n",
    "            T3, T4 = finder(fk_true, i)\n",
    "            fk =forward_kinematics(T1,i,T3,T4)[:3,3]\n",
    "            if (np.array_equal(fk_true,fk) and np.isclose(180,(i+T3+T4),atol=5)):\n",
    "                return i, T3, T4\n",
    "            mse[i]=[mean_absolute_error(np.append(fk_true,180),np.append(fk,i+T3+T4)),T3,T4]\n",
    "        except:\n",
    "            pass\n",
    "    else:\n",
    "        T2 =min(mse,key=mse.get)\n",
    "        T3, T4 = mse[T2][1:]\n",
    "        return T2,T3,T4\n",
    "def calculate_inverse_kinematics(fk):\n",
    "    dx,dy,dz=fk\n",
    "    #if(np.sqrt(dx**2+dy**2)-dz<64):\n",
    "       # raise Exception(\"It was entered lower value than arm can reach\")\n",
    "    # Find T1\n",
    "    if(dx==0.):\n",
    "        T1=90\n",
    "    else:\n",
    "        T1= np.arctan(dy/dx)\n",
    "        T1=np.degrees(-T1)\n",
    "        T1=np.round(T1)\n",
    "    #Find T3\n",
    "    T2, T3, T4=find_T2(T1,fk)\n",
    "    eT2=(90-T2)\n",
    "    eT3=(90-T3)+eT2\n",
    "    eT4=(90-T4)+eT3\n",
    "   # print(T2+T3+T4)\n",
    "    return float(T1), float(T2), float(T3), float(T4)"
   ]
  },
  {
   "cell_type": "code",
   "execution_count": 67,
   "id": "06fbbf68",
   "metadata": {},
   "outputs": [
    {
     "name": "stdout",
     "output_type": "stream",
     "text": [
      "[ 75. 261. 151.] [-74, 31, 19, 71]\n"
     ]
    }
   ],
   "source": [
    "kT1=-74\n",
    "kT2=31\n",
    "kT3=19\n",
    "kT4=71\n",
    "fk=forward_kinematics(kT1,kT2,kT3,kT4)[:3,3]\n",
    "print(fk, [kT1,kT2,kT3,kT4])"
   ]
  },
  {
   "cell_type": "code",
   "execution_count": 68,
   "id": "99e7efea",
   "metadata": {},
   "outputs": [
    {
     "ename": "ValueError",
     "evalue": "min() arg is an empty sequence",
     "output_type": "error",
     "traceback": [
      "\u001b[1;31m---------------------------------------------------------------------------\u001b[0m",
      "\u001b[1;31mValueError\u001b[0m                                Traceback (most recent call last)",
      "\u001b[1;32m~\\AppData\\Local\\Temp\\ipykernel_8300\\1610293374.py\u001b[0m in \u001b[0;36m<module>\u001b[1;34m\u001b[0m\n\u001b[1;32m----> 1\u001b[1;33m \u001b[0mresult\u001b[0m\u001b[1;33m=\u001b[0m\u001b[0mcalculate_inverse_kineamtics\u001b[0m\u001b[1;33m(\u001b[0m\u001b[1;33m[\u001b[0m\u001b[1;36m200\u001b[0m\u001b[1;33m,\u001b[0m\u001b[1;33m-\u001b[0m\u001b[1;36m50\u001b[0m\u001b[1;33m,\u001b[0m\u001b[1;36m20\u001b[0m\u001b[1;33m]\u001b[0m\u001b[1;33m)\u001b[0m\u001b[1;33m\u001b[0m\u001b[1;33m\u001b[0m\u001b[0m\n\u001b[0m\u001b[0;32m      2\u001b[0m \u001b[0mresult\u001b[0m\u001b[1;33m\u001b[0m\u001b[1;33m\u001b[0m\u001b[0m\n",
      "\u001b[1;32m~\\AppData\\Local\\Temp\\ipykernel_8300\\4273064490.py\u001b[0m in \u001b[0;36mcalculate_inverse_kineamtics\u001b[1;34m(fk)\u001b[0m\n\u001b[0;32m     67\u001b[0m         \u001b[0mT1\u001b[0m\u001b[1;33m=\u001b[0m\u001b[0mnp\u001b[0m\u001b[1;33m.\u001b[0m\u001b[0mround\u001b[0m\u001b[1;33m(\u001b[0m\u001b[0mT1\u001b[0m\u001b[1;33m)\u001b[0m\u001b[1;33m\u001b[0m\u001b[1;33m\u001b[0m\u001b[0m\n\u001b[0;32m     68\u001b[0m     \u001b[1;31m#Find T3\u001b[0m\u001b[1;33m\u001b[0m\u001b[1;33m\u001b[0m\u001b[0m\n\u001b[1;32m---> 69\u001b[1;33m     \u001b[0mT2\u001b[0m\u001b[1;33m,\u001b[0m \u001b[0mT3\u001b[0m\u001b[1;33m,\u001b[0m \u001b[0mT4\u001b[0m\u001b[1;33m=\u001b[0m\u001b[0mfind_T2\u001b[0m\u001b[1;33m(\u001b[0m\u001b[0mT1\u001b[0m\u001b[1;33m,\u001b[0m\u001b[0mfk\u001b[0m\u001b[1;33m)\u001b[0m\u001b[1;33m\u001b[0m\u001b[1;33m\u001b[0m\u001b[0m\n\u001b[0m\u001b[0;32m     70\u001b[0m     \u001b[1;32mreturn\u001b[0m \u001b[0mT1\u001b[0m\u001b[1;33m,\u001b[0m \u001b[0mT2\u001b[0m\u001b[1;33m,\u001b[0m \u001b[0mT3\u001b[0m\u001b[1;33m,\u001b[0m \u001b[0mT4\u001b[0m\u001b[1;33m\u001b[0m\u001b[1;33m\u001b[0m\u001b[0m\n",
      "\u001b[1;32m~\\AppData\\Local\\Temp\\ipykernel_8300\\1881294266.py\u001b[0m in \u001b[0;36mfind_T2\u001b[1;34m(T1, fk_true)\u001b[0m\n\u001b[0;32m     62\u001b[0m             \u001b[1;32mpass\u001b[0m\u001b[1;33m\u001b[0m\u001b[1;33m\u001b[0m\u001b[0m\n\u001b[0;32m     63\u001b[0m     \u001b[1;32melse\u001b[0m\u001b[1;33m:\u001b[0m\u001b[1;33m\u001b[0m\u001b[1;33m\u001b[0m\u001b[0m\n\u001b[1;32m---> 64\u001b[1;33m         \u001b[0mT2\u001b[0m \u001b[1;33m=\u001b[0m\u001b[0mmin\u001b[0m\u001b[1;33m(\u001b[0m\u001b[0mmse\u001b[0m\u001b[1;33m,\u001b[0m\u001b[0mkey\u001b[0m\u001b[1;33m=\u001b[0m\u001b[0mmse\u001b[0m\u001b[1;33m.\u001b[0m\u001b[0mget\u001b[0m\u001b[1;33m)\u001b[0m\u001b[1;33m\u001b[0m\u001b[1;33m\u001b[0m\u001b[0m\n\u001b[0m\u001b[0;32m     65\u001b[0m         \u001b[0mT3\u001b[0m\u001b[1;33m,\u001b[0m \u001b[0mT4\u001b[0m \u001b[1;33m=\u001b[0m \u001b[0mmse\u001b[0m\u001b[1;33m[\u001b[0m\u001b[0mT2\u001b[0m\u001b[1;33m]\u001b[0m\u001b[1;33m[\u001b[0m\u001b[1;36m1\u001b[0m\u001b[1;33m:\u001b[0m\u001b[1;33m]\u001b[0m\u001b[1;33m\u001b[0m\u001b[1;33m\u001b[0m\u001b[0m\n\u001b[0;32m     66\u001b[0m         \u001b[1;32mreturn\u001b[0m \u001b[0mT2\u001b[0m\u001b[1;33m,\u001b[0m\u001b[0mT3\u001b[0m\u001b[1;33m,\u001b[0m\u001b[0mT4\u001b[0m\u001b[1;33m\u001b[0m\u001b[1;33m\u001b[0m\u001b[0m\n",
      "\u001b[1;31mValueError\u001b[0m: min() arg is an empty sequence"
     ]
    }
   ],
   "source": [
    "result=calculate_inverse_kineamtics([200,-50,20])\n",
    "result"
   ]
  },
  {
   "cell_type": "code",
   "execution_count": null,
   "id": "91b45859",
   "metadata": {},
   "outputs": [],
   "source": [
    "forward_kinematics(result[0],result[1],result[2],result[3])[:3,3], fk"
   ]
  },
  {
   "cell_type": "code",
   "execution_count": 28,
   "id": "262b1b64",
   "metadata": {},
   "outputs": [],
   "source": [
    "y_true=[]\n",
    "y_pred=[]\n",
    "for i in range(5000):\n",
    "    try:\n",
    "        T1=np.random.randint(-90,91)\n",
    "        T2=np.random.randint(0,91)\n",
    "        T3=np.random.randint(0,91)\n",
    "        T4=np.random.randint(0,91)       \n",
    "        fk=forward_kinematics(T1,T2,T3,T4)[:3,3]\n",
    "        result=calculate_inverse_kineamtics(fk)\n",
    "        y_true.append(fk)\n",
    "        y_pred.append(forward_kinematics(result[0],result[1],result[2],result[3])[:3,3])\n",
    "    except:\n",
    "        pass"
   ]
  },
  {
   "cell_type": "code",
   "execution_count": 29,
   "id": "a7b04706",
   "metadata": {},
   "outputs": [
    {
     "data": {
      "text/plain": [
       "0.0"
      ]
     },
     "execution_count": 29,
     "metadata": {},
     "output_type": "execute_result"
    }
   ],
   "source": [
    "\n",
    "from sklearn.metrics import mean_absolute_error \n",
    "mean_absolute_error(y_true,y_pred)"
   ]
  },
  {
   "cell_type": "code",
   "execution_count": 30,
   "id": "a940b6e0",
   "metadata": {},
   "outputs": [
    {
     "name": "stdout",
     "output_type": "stream",
     "text": [
      "Pred T1:40.0, T2:26, T3:33.0 ,T4:23.0\n",
      "True: T1:40, T2:23, T3:46 ,T4:9\n",
      "Jesu li isti: True\n"
     ]
    },
    {
     "data": {
      "text/plain": [
       "(array([ 226., -190.,  259.]), array([ 226., -190.,  259.]))"
      ]
     },
     "execution_count": 30,
     "metadata": {},
     "output_type": "execute_result"
    }
   ],
   "source": [
    "T1=np.random.randint(-90,91)\n",
    "T2=np.random.randint(0,91)\n",
    "T3=np.random.randint(0,91)\n",
    "T4=np.random.randint(0,91)       \n",
    "fk=forward_kinematics(T1,T2,T3,T4)[:3,3]\n",
    "result=calculate_inverse_kineamtics(fk)\n",
    "print(f\"Pred T1:{result[0]}, T2:{result[1]}, T3:{result[2]} ,T4:{result[3]}\")\n",
    "print(f\"True: T1:{T1}, T2:{T2}, T3:{T3} ,T4:{T4}\")\n",
    "fk_pred=forward_kinematics(result[0],result[1],result[2],result[3])[:3,3]\n",
    "print(f\"Jesu li isti: {np.array_equal(fk_pred,fk)}\")\n",
    "fk_pred, fk\n"
   ]
  },
  {
   "cell_type": "code",
   "execution_count": null,
   "id": "9446c73c",
   "metadata": {},
   "outputs": [],
   "source": [
    "k=0\n",
    "for i in range(50000):\n",
    "    try:\n",
    "        T1=np.random.randint(-90,91)\n",
    "        T2=np.random.randint(0,91)\n",
    "        T3=np.random.randint(0,91)\n",
    "        T4=np.random.randint(0,91)       \n",
    "        fk=forward_kinematics(T1,T2,T3,T4)[:3,3]\n",
    "        result=calculate_inverse_kineamtics(fk)\n",
    "        fk_pred=forward_kinematics(result[0],result[1],result[2],result[3])[:3,3]\n",
    "        if(np.array_equal(fk_pred,fk)==False):\n",
    "            #print(\"false\")\n",
    "            k+=1\n",
    "    except:\n",
    "        pass\n",
    "print(k)"
   ]
  }
 ],
 "metadata": {
  "kernelspec": {
   "display_name": "Python 3 (ipykernel)",
   "language": "python",
   "name": "python3"
  },
  "language_info": {
   "codemirror_mode": {
    "name": "ipython",
    "version": 3
   },
   "file_extension": ".py",
   "mimetype": "text/x-python",
   "name": "python",
   "nbconvert_exporter": "python",
   "pygments_lexer": "ipython3",
   "version": "3.9.13"
  }
 },
 "nbformat": 4,
 "nbformat_minor": 5
}
