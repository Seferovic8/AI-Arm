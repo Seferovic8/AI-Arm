{
 "cells": [
  {
   "cell_type": "code",
   "execution_count": 4,
   "id": "d01b9c77",
   "metadata": {},
   "outputs": [],
   "source": [
    "from sklearn.linear_model import LinearRegression\n",
    "import numpy as np"
   ]
  },
  {
   "cell_type": "code",
   "execution_count": 54,
   "id": "4c2c372d",
   "metadata": {},
   "outputs": [],
   "source": [
    "data = np.array([[100, 8],\n",
    "                 [150, 10],\n",
    "                 #[180, 14],\n",
    "                 #[200, 17],\n",
    "                 #[220, 20],\n",
    "                 #[250, 25]\n",
    "                ])"
   ]
  },
  {
   "cell_type": "code",
   "execution_count": 55,
   "id": "66534cc8",
   "metadata": {},
   "outputs": [],
   "source": [
    "data2 = np.array([\n",
    "                 [100, 8],\n",
    "                 [130, 8],\n",
    "                 [160, 10],\n",
    "                 [190, 14],\n",
    "                 [220, 20],\n",
    "                 [250, 25]\n",
    "                ])"
   ]
  },
  {
   "cell_type": "code",
   "execution_count": 56,
   "id": "7b331c85",
   "metadata": {},
   "outputs": [],
   "source": [
    "model=LinearRegression()"
   ]
  },
  {
   "cell_type": "code",
   "execution_count": 57,
   "id": "c7ab23da",
   "metadata": {},
   "outputs": [
    {
     "data": {
      "text/plain": [
       "LinearRegression()"
      ]
     },
     "execution_count": 57,
     "metadata": {},
     "output_type": "execute_result"
    }
   ],
   "source": [
    "model.fit(X=data[:,0].reshape(-1,1),y=data[:,1].reshape(-1,1))"
   ]
  },
  {
   "cell_type": "code",
   "execution_count": 61,
   "id": "d6368834",
   "metadata": {},
   "outputs": [
    {
     "data": {
      "text/plain": [
       "array([[9.2]])"
      ]
     },
     "execution_count": 61,
     "metadata": {},
     "output_type": "execute_result"
    }
   ],
   "source": [
    "model.predict([[130]])"
   ]
  },
  {
   "cell_type": "code",
   "execution_count": 63,
   "id": "cbb4acda",
   "metadata": {},
   "outputs": [
    {
     "data": {
      "text/plain": [
       "1.2"
      ]
     },
     "execution_count": 63,
     "metadata": {},
     "output_type": "execute_result"
    }
   ],
   "source": [
    "(2/50)*30"
   ]
  },
  {
   "cell_type": "code",
   "execution_count": 93,
   "id": "d8fce698",
   "metadata": {},
   "outputs": [],
   "source": [
    "def get_z(c):\n",
    "    if(c<130):\n",
    "        return 8\n",
    "    if c<=160:\n",
    "        return 8+(2/30)*(c-130)\n",
    "    if c<=190:\n",
    "        return 10+(4/30)*(c-160)\n",
    "    if c<=220:\n",
    "        return 14+(6/30)*(c-190)\n",
    "    if c<=250:\n",
    "        return 20+(5/30)*(c-220)\n",
    "    if c>=250:\n",
    "        return 25+(7/20)*(c-250)"
   ]
  },
  {
   "cell_type": "code",
   "execution_count": 94,
   "id": "0f49ed9a",
   "metadata": {},
   "outputs": [
    {
     "data": {
      "text/plain": [
       "32.0"
      ]
     },
     "execution_count": 94,
     "metadata": {},
     "output_type": "execute_result"
    }
   ],
   "source": [
    "get_z(270)"
   ]
  },
  {
   "cell_type": "code",
   "execution_count": 77,
   "id": "e37f045f",
   "metadata": {},
   "outputs": [
    {
     "data": {
      "text/plain": [
       "435.0"
      ]
     },
     "execution_count": 77,
     "metadata": {},
     "output_type": "execute_result"
    }
   ],
   "source": []
  },
  {
   "cell_type": "code",
   "execution_count": null,
   "id": "6b963764",
   "metadata": {},
   "outputs": [],
   "source": []
  }
 ],
 "metadata": {
  "kernelspec": {
   "display_name": "Python 3 (ipykernel)",
   "language": "python",
   "name": "python3"
  },
  "language_info": {
   "codemirror_mode": {
    "name": "ipython",
    "version": 3
   },
   "file_extension": ".py",
   "mimetype": "text/x-python",
   "name": "python",
   "nbconvert_exporter": "python",
   "pygments_lexer": "ipython3",
   "version": "3.9.13"
  }
 },
 "nbformat": 4,
 "nbformat_minor": 5
}
